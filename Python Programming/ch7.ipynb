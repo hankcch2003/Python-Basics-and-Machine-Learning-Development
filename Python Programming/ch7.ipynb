{
 "cells": [
  {
   "cell_type": "markdown",
   "metadata": {},
   "source": [
    "# ch7 Python 檔案存取"
   ]
  },
  {
   "cell_type": "code",
   "execution_count": 1,
   "metadata": {},
   "outputs": [],
   "source": [
    "# 以讀取模式(\"r\")開啟位於指定路徑的文字檔案\n",
    "# 路徑使用雙反斜線(\\\\)以避免Python將反斜線視為跳脫字元\n",
    "# 如果檔案不存在，將會拋出FileNotFoundError錯誤\n",
    "# 指定編碼為utf-8，避免中文亂碼\n",
    "fileObject = open(\"E:\\\\Python\\\\Python1-基礎Python程式設計\\\\test.txt\", \"r\", encoding=\"utf-8\")"
   ]
  },
  {
   "cell_type": "code",
   "execution_count": 2,
   "metadata": {},
   "outputs": [],
   "source": [
    "# 在絕對路徑字串前加上r，表示此字串為原始字串(raw string)\n",
    "# 可以避免跳脫字元的問題(例如 \\\\ 表示 \\)，讓路徑更容易閱讀且不易出錯\n",
    "# 指定編碼為utf-8，避免中文亂碼\n",
    "fileObject = open(r\"E:\\Python\\Python1-基礎Python程式設計\\test.txt\", \"r\", encoding=\"utf-8\")"
   ]
  },
  {
   "cell_type": "code",
   "execution_count": 3,
   "metadata": {},
   "outputs": [],
   "source": [
    "# 以寫入模式(\"w\")開啟位於指定路徑的文字檔案\n",
    "# 路徑使用雙反斜線(\\\\)以避免Python將反斜線當作跳脫字元\n",
    "# 如果檔案不存在，會自動建立新檔案\n",
    "# 如果檔案已存在，原有內容將會被清空並覆蓋\n",
    "# 指定編碼為utf-8，避免中文亂碼\n",
    "fileObject = open(\"E:\\\\Python\\\\Python1-基礎Python程式設計\\\\memo.txt\", \"w\", encoding=\"utf-8\")"
   ]
  },
  {
   "cell_type": "code",
   "execution_count": 4,
   "metadata": {},
   "outputs": [
    {
     "data": {
      "text/plain": [
       "6"
      ]
     },
     "execution_count": 4,
     "metadata": {},
     "output_type": "execute_result"
    }
   ],
   "source": [
    "# 以寫入模式(\"w\")開啟位於指定路徑的文字檔案\n",
    "# 路徑使用雙反斜線(\\\\)以避免Python將反斜線當作跳脫字元\n",
    "# 如果檔案不存在，會自動建立新檔案\n",
    "# 如果檔案已存在，原有內容將會被清空並覆蓋\n",
    "# 指定編碼為utf-8，避免中文亂碼\n",
    "fileObject = open(\"E:\\\\Python\\\\Python1-基礎Python程式設計\\\\poem.txt\", \"w\", encoding=\"utf-8\")\n",
    "\n",
    "# 寫入文字到檔案，並傳回寫入的文字個數\n",
    "fileObject.write(\"登金陵鳳凰台\")"
   ]
  },
  {
   "cell_type": "code",
   "execution_count": 5,
   "metadata": {},
   "outputs": [],
   "source": [
    "# 關閉檔案，釋放系統資源，確保所有資料已寫入檔案\n",
    "fileObject.close()"
   ]
  },
  {
   "cell_type": "code",
   "execution_count": 6,
   "metadata": {},
   "outputs": [],
   "source": [
    "# 使用 \"a\" 模式開啟檔案，將資料附加到檔案末尾(不會覆蓋原有內容)，並指定編碼為utf-8，避免中文亂碼\n",
    "fileObject = open(\"E:\\\\Python\\\\Python1-基礎Python程式設計\\\\poem.txt\", \"a\", encoding=\"utf-8\")\n",
    "\n",
    "# 使用write()寫入文字，\\n 表示換行字元，讓每行詩句換行顯示\n",
    "fileObject.write(\"\\n鳳凰臺上鳳凰遊，鳳去臺空江自流。\")\n",
    "fileObject.write(\"\\n吳宮花草埋幽徑，晉代衣冠成古邱。\")\n",
    "fileObject.write(\"\\n三山半落青又外，二水中分白鷺洲。\")\n",
    "fileObject.write(\"\\n總為浮雲能蔽日，長安不見使人愁。\")\n",
    "\n",
    "# 關閉檔案，釋放系統資源，確保所有資料已寫入檔案\n",
    "fileObject.close()"
   ]
  },
  {
   "cell_type": "code",
   "execution_count": 7,
   "metadata": {},
   "outputs": [
    {
     "name": "stdout",
     "output_type": "stream",
     "text": [
      "登金陵鳳凰台\n",
      "鳳凰臺上鳳凰遊，鳳去臺空江自流。\n",
      "吳宮花草埋幽徑，晉代衣冠成古邱。\n",
      "三山半落青又外，二水中分白鷺洲。\n",
      "總為浮雲能蔽日，長安不見使人愁。\n"
     ]
    }
   ],
   "source": [
    "# 以讀取模式(\"r\")開啟指定路徑的文字檔案，並指定編碼為utf-8，避免中文亂碼\n",
    "fileObject = open(\"E:\\\\Python\\\\Python1-基礎Python程式設計\\\\poem.txt\", \"r\", encoding=\"utf-8\")\n",
    "\n",
    "# 讀取檔案全部內容，並存入變數content\n",
    "content = fileObject.read()\n",
    "\n",
    "# 顯示讀取到的檔案內容\n",
    "print(content)"
   ]
  },
  {
   "cell_type": "code",
   "execution_count": 8,
   "metadata": {},
   "outputs": [],
   "source": [
    "# 關閉檔案，釋放系統資源，確保所有資料已寫入檔案\n",
    "fileObject.close()"
   ]
  },
  {
   "cell_type": "code",
   "execution_count": 9,
   "metadata": {},
   "outputs": [
    {
     "name": "stdout",
     "output_type": "stream",
     "text": [
      "登金陵鳳凰台\n"
     ]
    }
   ],
   "source": [
    "# 以讀取模式(\"r\")開啟指定路徑的文字檔案，並指定編碼為utf-8，避免中文亂碼\n",
    "fileObject = open(\"E:\\\\Python\\\\Python1-基礎Python程式設計\\\\poem.txt\", \"r\", encoding=\"utf-8\")\n",
    "\n",
    "# 從檔案指標處讀取6個字元(包含中文文字也算1個字元)\n",
    "str1 = fileObject.read(6)\n",
    "\n",
    "# 顯示讀取到的文字內容\n",
    "print(str1)"
   ]
  },
  {
   "cell_type": "code",
   "execution_count": 10,
   "metadata": {},
   "outputs": [
    {
     "name": "stdout",
     "output_type": "stream",
     "text": [
      "\n",
      "鳳凰臺上鳳凰遊\n"
     ]
    }
   ],
   "source": [
    "# 從檔案指標處讀取8個字元(包含中文文字也算1個字元)\n",
    "str2 = fileObject.read(8)\n",
    "\n",
    "# 顯示讀取到的文字內容\n",
    "print(str2)"
   ]
  },
  {
   "cell_type": "code",
   "execution_count": 11,
   "metadata": {},
   "outputs": [],
   "source": [
    "# 關閉檔案，釋放系統資源，確保所有資料已寫入檔案\n",
    "fileObject.close()"
   ]
  },
  {
   "cell_type": "code",
   "execution_count": 12,
   "metadata": {},
   "outputs": [
    {
     "data": {
      "text/plain": [
       "4"
      ]
     },
     "execution_count": 12,
     "metadata": {},
     "output_type": "execute_result"
    }
   ],
   "source": [
    "# 以讀取模式(\"r\")開啟指定路徑的文字檔案，並指定編碼為utf-8，避免中文亂碼\n",
    "fileObject = open(\"E:\\\\Python\\\\Python1-基礎Python程式設計\\\\poem.txt\", \"r\", encoding=\"utf-8\")\n",
    "\n",
    "# 將檔案指標移動到第5個位元組的位置\n",
    "# 注意：適用於純英文內容；中文請慎用，因為seek()是以「位元組」為單位\n",
    "# 若移動到中文字的中間位元組，可能會導致讀取錯誤或亂碼\n",
    "fileObject.seek(4)"
   ]
  },
  {
   "cell_type": "code",
   "execution_count": 13,
   "metadata": {},
   "outputs": [
    {
     "name": "stdout",
     "output_type": "stream",
     "text": [
      "'陵'\n"
     ]
    }
   ],
   "source": [
    "# 以讀取模式(\"r\")開啟指定路徑的文字檔案，並指定編碼為utf-8，避免中文亂碼\n",
    "fileObject = open(\"E:\\\\Python\\\\Python1-基礎Python程式設計\\\\poem.txt\", \"r\", encoding=\"utf-8\")\n",
    "\n",
    "# 讀取整個檔案內容，存入變數content(字串型態)\n",
    "content = fileObject.read()\n",
    "\n",
    "# 使用repr()顯示字串中第3個字元(索引從0開始)，連同引號一起輸出，以字串格式顯示\n",
    "print(repr(content[2]))"
   ]
  },
  {
   "cell_type": "code",
   "execution_count": 14,
   "metadata": {},
   "outputs": [
    {
     "data": {
      "text/plain": [
       "0"
      ]
     },
     "execution_count": 14,
     "metadata": {},
     "output_type": "execute_result"
    }
   ],
   "source": [
    "# 以讀取模式(\"r\")開啟指定路徑的文字檔案，並指定編碼為utf-8，避免中文亂碼\n",
    "fileObject = open(\"E:\\\\Python\\\\Python1-基礎Python程式設計\\\\poem.txt\", \"r\", encoding=\"utf-8\")\n",
    "\n",
    "# 將檔案指標移動到第5個位元組的位置\n",
    "# 注意：適用於純英文內容；中文請慎用，因為seek()是以「位元組」為單位\n",
    "# 若移動到中文字的中間位元組，可能會導致讀取錯誤或亂碼\n",
    "fileObject.seek(0)"
   ]
  },
  {
   "cell_type": "code",
   "execution_count": 15,
   "metadata": {},
   "outputs": [
    {
     "name": "stdout",
     "output_type": "stream",
     "text": [
      "'登'\n"
     ]
    }
   ],
   "source": [
    "# 以讀取模式(\"r\")開啟指定路徑的文字檔案，並指定編碼為utf-8，避免中文亂碼\n",
    "fileObject = open(\"E:\\\\Python\\\\Python1-基礎Python程式設計\\\\poem.txt\", \"r\", encoding=\"utf-8\")\n",
    "\n",
    "# 讀取整個檔案內容，存入變數content(字串型態)\n",
    "content = fileObject.read()\n",
    "\n",
    "# 使用repr()顯示字串中第1個字元(索引從0開始)，連同引號一起輸出，以字串格式顯示\n",
    "print(repr(content[0]))"
   ]
  },
  {
   "cell_type": "code",
   "execution_count": 16,
   "metadata": {},
   "outputs": [],
   "source": [
    "# 關閉檔案，釋放系統資源，確保所有資料已寫入檔案\n",
    "fileObject.close()"
   ]
  },
  {
   "cell_type": "code",
   "execution_count": 17,
   "metadata": {},
   "outputs": [
    {
     "name": "stdout",
     "output_type": "stream",
     "text": [
      "單字出現次數統計:\n",
      "{'i': 4, 'have': 4, 'a': 3, 'pen': 8, 'an': 1, 'apple': 4, 'pineapple': 4}\n"
     ]
    }
   ],
   "source": [
    "# 這個函式用來將字串中的特殊字元取代成空白\n",
    "def replaceSymbols(string):\n",
    "    # 使用for迴圈逐一檢查字串中的每個字元\n",
    "    for char in string:\n",
    "        # 如果字元是特殊符號，則將其替換為空白\n",
    "        if char in \"~!@#$%^&()[]{},+-*|/?<>'.;:\\\"\":\n",
    "            # 使用replace()方法替換特殊符號為空白\n",
    "            string = string.replace(char, ' ')\n",
    "    return string\n",
    "\n",
    "# 這個函式用來計算字串中每個單字的出現次數\n",
    "def counts(string):\n",
    "    # 使用split()方法將字串根據空白字符(空格、換行符、Tab鍵等)分隔成單字列表\n",
    "    wordlist = string.split()\n",
    "    # 使用for迴圈計算串列中每個單字的出現次數\n",
    "    for word in wordlist:\n",
    "        # 如果單字已經在result字典中，則將其出現次數加1\n",
    "        if word in result:\n",
    "            result[word] = result[word] + 1\n",
    "        else:\n",
    "            # 如果是第一次出現，則將其出現次數設為1\n",
    "            result[word] = 1\n",
    "\n",
    "# 以讀取模式(\"r\")開啟指定路徑的PPAP.txt檔案，並指定編碼為utf-8，避免中文亂碼\n",
    "fileObject = open(\"E:\\\\Python\\\\Python1-基礎Python程式設計\\\\PPAP.txt\", \"r\", encoding=\"utf-8\")\n",
    "\n",
    "# 讀取檔案全部內容\n",
    "song = fileObject.read()\n",
    "\n",
    "# 關閉檔案，釋放系統資源，確保所有資料已寫入檔案\n",
    "fileObject.close()\n",
    "\n",
    "# 這個空字典用來儲存每個單字的出現次數\n",
    "result = {}\n",
    "\n",
    "# 將歌詞轉換成小寫，並將所有特殊字元替換成空白\n",
    "tmp = replaceSymbols(song.lower())\n",
    "\n",
    "# 呼叫counts()函式計算每個單字的出現次數\n",
    "counts(tmp)\n",
    "\n",
    "# 輸出計算結果，即每個單字的出現次數\n",
    "print(\"單字出現次數統計:\")\n",
    "print(result)"
   ]
  },
  {
   "cell_type": "code",
   "execution_count": 18,
   "metadata": {},
   "outputs": [
    {
     "name": "stdout",
     "output_type": "stream",
     "text": [
      "您輸入歌詞的檔名為: PPAP.txt \n",
      "\n",
      "I have a pen, I have an apple, Apple pen\n",
      "I have a pen, I have a pineapple, Pineapple pen\n",
      "Apple pen, Pineapple pen, Pen Pineapple Apple Pen \n",
      "\n",
      "單字出現次數統計:\n",
      "{'i': 4, 'have': 4, 'a': 3, 'pen': 8, 'an': 1, 'apple': 4, 'pineapple': 4}\n"
     ]
    }
   ],
   "source": [
    "# 這個函式用來讀取使用者指定的歌詞檔案內容\n",
    "def readfile():\n",
    "    # 使用者輸入歌詞檔名(不含路徑)\n",
    "    fileName = input(\"請輸入歌詞的檔名：\")\n",
    "\n",
    "    # 輸出使用者輸入的歌詞檔名，方便確認輸入正確\n",
    "    print(\"您輸入歌詞的檔名為:\", fileName, \"\\n\")\n",
    "\n",
    "    # 以讀取模式(\"r\")開啟指定路徑的檔案，並指定編碼為utf-8，避免中文亂碼\n",
    "    fileobject = open(\"E:\\\\Python\\\\Python1-基礎Python程式設計\\\\\" + fileName, \"r\", encoding=\"utf-8\")\n",
    "\n",
    "    # 讀取整個檔案內容\n",
    "    song = fileobject.read()\n",
    "\n",
    "    # 關閉檔案，釋放系統資源\n",
    "    fileobject.close()\n",
    "\n",
    "    # 回傳檔案內容(字串型態)\n",
    "    return song\n",
    "\n",
    "# 這個函式用來將字串中的特殊字元取代成空白\n",
    "def replaceSymbols(string):\n",
    "    # 使用for迴圈逐一檢查字串中的每個字元\n",
    "    for char in string:\n",
    "        # 如果字元是特殊符號，則將其替換為空白\n",
    "        if char in \",.~!@#$%^&()[]{}\\\"\":\n",
    "            # 使用replace()方法替換特殊符號為空白\n",
    "            string = string.replace(char, ' ')\n",
    "    return string\n",
    "\n",
    "# 這個函式用來計算字串中每個單字的出現次數\n",
    "def counts(string):\n",
    "    # 使用split()方法將字串根據空白字符分隔成單字列表\n",
    "    wordlist = string.split()\n",
    "\n",
    "    # 使用for迴圈計算每個單字的出現次數\n",
    "    for word in wordlist:\n",
    "        # 如果單字已經在result字典中，則將其出現次數加1\n",
    "        if word in result:\n",
    "            result[word] = result[word] + 1\n",
    "        else:\n",
    "            # 如果是第一次出現，則將其出現次數設為1\n",
    "            result[word] = 1\n",
    "\n",
    "# 這個空字典用來儲存每個單字的出現次數\n",
    "result = {}\n",
    "\n",
    "# 呼叫readfile()函式讀取歌詞檔案內容\n",
    "song = readfile()\n",
    "\n",
    "# 顯示讀取到的歌詞內容\n",
    "print(song, \"\\n\")\n",
    "\n",
    "# 將歌詞轉換成小寫，並將所有特殊字元替換成空白\n",
    "tmp = replaceSymbols(song.lower())\n",
    "\n",
    "# 呼叫counts()函式計算每個單字的出現次數\n",
    "counts(tmp)\n",
    "\n",
    "# 輸出計算結果，即每個單字的出現次數\n",
    "print(\"單字出現次數統計:\")\n",
    "print(result)"
   ]
  },
  {
   "cell_type": "code",
   "execution_count": 19,
   "metadata": {},
   "outputs": [
    {
     "name": "stdout",
     "output_type": "stream",
     "text": [
      "您輸入歌詞的檔名為: mayday.txt \n",
      "\n",
      "會不會 有一天 時間真的能倒退\n",
      "退回 你的我的 回不去的 悠悠的歲月\n",
      "也許會 有一天 世界真的有終點\n",
      "也要和你舉起回憶釀的甜\n",
      "和你再乾一杯\n",
      "\n",
      "如果說 要我選出 代表青春 那個畫面\n",
      "浮現了 那滴眼淚 那片藍天 那年畢業\n",
      "那一張 邊哭邊笑 還要擁抱 是你的臉\n",
      "想起來 可愛可憐 可歌可泣 可是多懷念\n",
      "\n",
      "懷念總是 突然懷念 不談條件\n",
      "當回憶 衝破考卷 衝出歲月 在我眼前\n",
      "我和你 留著汗水 喝著汽水 在操場邊\n",
      "說好了 無論如何 一起走到 未來的世界\n",
      "\n",
      "現在就是 那個未來 那個世界\n",
      "為什麼 你的身邊 我的身邊 不是同一邊\n",
      "友情曾像 諾亞方舟 堅強誓言\n",
      "只是我 望著海面 等著永遠 模糊了視線\n",
      "\n",
      "會不會 有一天 時間真的能倒退\n",
      "退回 你的我的 回不去的 悠悠的歲月\n",
      "也許會 有一天 世界真的有終點\n",
      "也要和你舉起回憶釀的甜\n",
      "和你再乾一杯\n",
      "\n",
      "這些年 買了四輪 買了手錶 買了單眼\n",
      "卻發現 追不到的 停不了的 還是那些\n",
      "人生是 只有認命 只能宿命 只好宿醉\n",
      "只剩下 高的笑點 低的哭點 卻沒成熟點\n",
      "\n",
      "成熟就是 幻想幻滅 一場磨鍊\n",
      "為什麼 只有夢想 越磨越小 小到不見\n",
      "有時候 好想流淚 好想流淚 卻沒眼淚\n",
      "期待會 你會不會 他會不會 開個同學會\n",
      "\n",
      "他在等你 你在等我 我在等誰\n",
      "又是誰 孩子沒睡 電話沒電 心情沒準備\n",
      "天空不斷 黑了又亮 亮了又黑\n",
      "那光陰 滄海桑田 遠走高飛 再沒力氣追\n",
      "\n",
      "會不會 有一天 時間真的能倒退\n",
      "退回 你的我的 回不去的 悠悠的歲月\n",
      "也許會 有一天 世界真的有終點\n",
      "也要和你舉起回憶釀的甜\n",
      "和你再乾一杯\n",
      "\n",
      "會不會 有一天 時間真的能倒退\n",
      "退回 你的我的 回不去的 悠悠的歲月\n",
      "也許會 有一天 世界真的有終點\n",
      "也要和你舉起回憶釀的甜\n",
      "和你再乾一杯\n",
      "\n",
      "終究會 有一天 我們都變成昨天\n",
      "是你 陪我走過 一生一回\n",
      "匆匆的人間\n",
      "\n",
      "有一天就是今天\n",
      "今天就是有一天\n",
      "說出一直沒說 對你的感謝\n",
      "和你再乾一杯\n",
      "再乾一杯永遠\n",
      "喝了就能萬歲\n",
      "歲歲和年年\n",
      "\n",
      "時間都停了 他們都回來了\n",
      "懷念的人啊 等你的來到\n",
      "時間都停了 他們都回來了\n",
      "懷念的人啊 等你的來到 \n",
      "\n",
      "單字出現次數統計:\n",
      "{'會不會': 4, '有一天': 9, '時間真的能倒退': 4, '退回': 4, '你的我的': 4, '回不去的': 4, '悠悠的歲月': 4, '也許會': 4, '世界真的有終點': 4, '也要和你舉起回憶釀的甜': 4, '和你再乾一杯': 5, '如果說': 1, '要我選出': 1, '代表青春': 1, '那個畫面': 1, '浮現了': 1, '那滴眼淚': 1, '那片藍天': 1, '那年畢業': 1, '那一張': 1, '邊哭邊笑': 1, '還要擁抱': 1, '是你的臉': 1, '想起來': 1, '可愛可憐': 1, '可歌可泣': 1, '可是多懷念': 1, '懷念總是': 1, '突然懷念': 1, '不談條件': 1, '當回憶': 1, '衝破考卷': 1, '衝出歲月': 1, '在我眼前': 1, '我和你': 1, '留著汗水': 1, '喝著汽水': 1, '在操場邊': 1, '說好了': 1, '無論如何': 1, '一起走到': 1, '未來的世界': 1, '現在就是': 1, '那個未來': 1, '那個世界': 1, '為什麼': 2, '你的身邊': 1, '我的身邊': 1, '不是同一邊': 1, '友情曾像': 1, '諾亞方舟': 1, '堅強誓言': 1, '只是我': 1, '望著海面': 1, '等著永遠': 1, '模糊了視線': 1, '這些年': 1, '買了四輪': 1, '買了手錶': 1, '買了單眼': 1, '卻發現': 1, '追不到的': 1, '停不了的': 1, '還是那些': 1, '人生是': 1, '只有認命': 1, '只能宿命': 1, '只好宿醉': 1, '只剩下': 1, '高的笑點': 1, '低的哭點': 1, '卻沒成熟點': 1, '成熟就是': 1, '幻想幻滅': 1, '一場磨鍊': 1, '只有夢想': 1, '越磨越小': 1, '小到不見': 1, '有時候': 1, '好想流淚': 2, '卻沒眼淚': 1, '期待會': 1, '你會不會': 1, '他會不會': 1, '開個同學會': 1, '他在等你': 1, '你在等我': 1, '我在等誰': 1, '又是誰': 1, '孩子沒睡': 1, '電話沒電': 1, '心情沒準備': 1, '天空不斷': 1, '黑了又亮': 1, '亮了又黑': 1, '那光陰': 1, '滄海桑田': 1, '遠走高飛': 1, '再沒力氣追': 1, '終究會': 1, '我們都變成昨天': 1, '是你': 1, '陪我走過': 1, '一生一回': 1, '匆匆的人間': 1, '有一天就是今天': 1, '今天就是有一天': 1, '說出一直沒說': 1, '對你的感謝': 1, '再乾一杯永遠': 1, '喝了就能萬歲': 1, '歲歲和年年': 1, '時間都停了': 2, '他們都回來了': 2, '懷念的人啊': 2, '等你的來到': 2}\n"
     ]
    }
   ],
   "source": [
    "# 這個函式用來讀取使用者指定的歌詞檔案內容\n",
    "def readfile():\n",
    "    # 使用者輸入歌詞檔名(不含路徑)\n",
    "    fileName = input(\"請輸入歌詞的檔名：\")\n",
    "\n",
    "    # 輸出使用者輸入的歌詞檔名，方便確認輸入正確\n",
    "    print(\"您輸入歌詞的檔名為:\", fileName, \"\\n\")\n",
    "\n",
    "    # 以讀取模式(\"r\")開啟指定路徑的檔案，並指定編碼為utf-8，避免中文亂碼\n",
    "    fileobject = open(\"E:\\\\Python\\\\Python1-基礎Python程式設計\\\\\" + fileName, \"r\", encoding=\"utf-8\")\n",
    "\n",
    "    # 讀取整個檔案內容\n",
    "    song = fileobject.read()\n",
    "\n",
    "    # 關閉檔案，釋放系統資源\n",
    "    fileobject.close()\n",
    "\n",
    "    # 回傳檔案內容(字串型態)\n",
    "    return song\n",
    "\n",
    "# 這個函式用來將字串中的特殊字元取代成空白\n",
    "def replaceSymbols(string):\n",
    "    # 使用for迴圈逐一檢查字串中的每個字元\n",
    "    for char in string:\n",
    "        # 如果字元是特殊符號，則將其替換為空白\n",
    "        if char in \",.~!@#$%^&()[]{}\\\"\":\n",
    "            # 使用replace()方法替換特殊符號為空白\n",
    "            string = string.replace(char, ' ')\n",
    "    return string\n",
    "\n",
    "# 這個函式用來移除字串中的特定標點符號\n",
    "def replaceSymbols(text):\n",
    "    # 使用for迴圈逐一檢查字串中的每個指定符號\n",
    "    for ch in \",.?\":\n",
    "        # 使用replace()方法，將該符號替換成空字串\n",
    "        text = text.replace(ch, \"\")\n",
    "    return text\n",
    "\n",
    "# 這個函式用來計算字串中每個單字的出現次數\n",
    "def counts(string):\n",
    "    # 使用split()方法將字串根據空白字符分隔成單字列表\n",
    "    wordlist = string.split()\n",
    "\n",
    "    # 使用for迴圈計算每個單字的出現次數\n",
    "    for word in wordlist:\n",
    "        # 如果單字已經在result字典中，則將其出現次數加1\n",
    "        if word in result:\n",
    "            result[word] = result[word] + 1\n",
    "        else:\n",
    "            # 如果是第一次出現，則將其出現次數設為1\n",
    "            result[word] = 1\n",
    "\n",
    "# 這個空字典用來儲存每個單字的出現次數\n",
    "result = {}\n",
    "\n",
    "# 呼叫readfile()函式讀取歌詞檔案內容\n",
    "song = readfile()\n",
    "\n",
    "# 顯示讀取到的歌詞內容\n",
    "print(song, \"\\n\")\n",
    "\n",
    "# 將歌詞轉換成小寫，並將所有特殊字元替換成空白\n",
    "tmp = replaceSymbols(song.lower())\n",
    "\n",
    "# 呼叫counts()函式計算每個單字的出現次數\n",
    "counts(tmp)\n",
    "\n",
    "# 輸出計算結果，即每個單字的出現次數\n",
    "print(\"單字出現次數統計:\")\n",
    "print(result)"
   ]
  },
  {
   "cell_type": "code",
   "execution_count": 20,
   "metadata": {},
   "outputs": [
    {
     "name": "stdout",
     "output_type": "stream",
     "text": [
      "登金陵鳳凰台\n",
      "\n",
      "鳳凰臺上鳳凰遊，鳳去臺空江自流。\n",
      "\n",
      "吳宮花草埋幽徑，晉代衣冠成古邱。\n",
      "\n",
      "三山半落青又外，二水中分白鷺洲。\n",
      "\n",
      "總為浮雲能蔽日，長安不見使人愁。\n"
     ]
    }
   ],
   "source": [
    "# 以讀取模式(\"r\")開啟指定路徑的文字檔案，並指定編碼為utf-8，避免中文亂碼\n",
    "fileObject = open(\"E:\\\\Python\\\\Python1-基礎Python程式設計\\\\poem.txt\", \"r\", encoding=\"utf-8\")\n",
    "\n",
    "# 讀取檔案的第一行，並存入變數line(字串型態)\n",
    "line = fileObject.readline()\n",
    "\n",
    "# 使用while迴圈判斷line是否為空字串，只要不是空字串就印出該行\n",
    "while line != '':\n",
    "    print(line)\n",
    "    # 讀取下一行，準備下一次迴圈判斷\n",
    "    line = fileObject.readline()"
   ]
  },
  {
   "cell_type": "code",
   "execution_count": 21,
   "metadata": {},
   "outputs": [],
   "source": [
    "# 讀取結束後，關閉檔案以釋放系統資源\n",
    "fileObject.close()"
   ]
  },
  {
   "cell_type": "code",
   "execution_count": 22,
   "metadata": {},
   "outputs": [
    {
     "name": "stdout",
     "output_type": "stream",
     "text": [
      "登金陵鳳凰台\n",
      "\n",
      "鳳凰臺上鳳凰遊，鳳去臺空江自流。\n",
      "\n",
      "吳宮花草埋幽徑，晉代衣冠成古邱。\n",
      "\n",
      "三山半落青又外，二水中分白鷺洲。\n",
      "\n",
      "總為浮雲能蔽日，長安不見使人愁。\n"
     ]
    }
   ],
   "source": [
    "# 以讀取模式(\"r\")開啟指定路徑的文字檔案，並指定編碼為utf-8，避免中文亂碼\n",
    "fileObject = open(\"E:\\\\Python\\\\Python1-基礎Python程式設計\\\\poem.txt\", \"r\", encoding=\"utf-8\")\n",
    "\n",
    "# 使用for迴圈逐行讀取檔案\n",
    "for line in fileObject:\n",
    "    # 印出每一行的內容\n",
    "    print(line)"
   ]
  },
  {
   "cell_type": "code",
   "execution_count": 23,
   "metadata": {},
   "outputs": [],
   "source": [
    "# 讀取結束後，關閉檔案以釋放系統資源\n",
    "fileObject.close()"
   ]
  },
  {
   "cell_type": "code",
   "execution_count": 24,
   "metadata": {},
   "outputs": [
    {
     "name": "stdout",
     "output_type": "stream",
     "text": [
      "['登金陵鳳凰台\\n', '鳳凰臺上鳳凰遊，鳳去臺空江自流。\\n', '吳宮花草埋幽徑，晉代衣冠成古邱。\\n', '三山半落青又外，二水中分白鷺洲。\\n', '總為浮雲能蔽日，長安不見使人愁。']\n"
     ]
    }
   ],
   "source": [
    "# 以讀取模式(\"r\")開啟指定路徑的文字檔案，並指定編碼為utf-8，避免中文亂碼\n",
    "fileObject = open(\"E:\\\\Python\\\\Python1-基礎Python程式設計\\\\poem.txt\", \"r\", encoding=\"utf-8\")\n",
    "\n",
    "# 讀取檔案的所有行，並存入變數content(每行會包含換行符號)\n",
    "content = fileObject.readlines()\n",
    "\n",
    "# 印出變數content的內容\n",
    "print(content)"
   ]
  },
  {
   "cell_type": "code",
   "execution_count": 25,
   "metadata": {},
   "outputs": [
    {
     "name": "stdout",
     "output_type": "stream",
     "text": [
      "登金陵鳳凰台\n",
      "\n",
      "鳳凰臺上鳳凰遊，鳳去臺空江自流。\n",
      "\n",
      "吳宮花草埋幽徑，晉代衣冠成古邱。\n",
      "\n",
      "三山半落青又外，二水中分白鷺洲。\n",
      "\n",
      "總為浮雲能蔽日，長安不見使人愁。\n"
     ]
    }
   ],
   "source": [
    "# 提取最後五行content的內容\n",
    "last_five_lines = content[-5:]\n",
    "\n",
    "# 使用for迴圈逐行印出最後五行content的內容，並去除每行的換行符\n",
    "for i, line in enumerate(last_five_lines):\n",
    "    # 使用strip()移除行尾的換行符\n",
    "    print(line.strip())\n",
    "    \n",
    "    # 在每兩行之間加入空行(排除第一行和最後一行之間不插入空行)\n",
    "    # 用if判斷如果當前行不是最後一行，則插入一個空行\n",
    "    if i < len(last_five_lines) - 1:\n",
    "        print()"
   ]
  },
  {
   "cell_type": "code",
   "execution_count": 26,
   "metadata": {},
   "outputs": [],
   "source": [
    "# 讀取結束後，關閉檔案以釋放系統資源\n",
    "fileObject.close()"
   ]
  },
  {
   "cell_type": "code",
   "execution_count": 27,
   "metadata": {},
   "outputs": [
    {
     "name": "stdout",
     "output_type": "stream",
     "text": [
      "登金陵鳳凰台\n",
      "鳳凰臺上鳳凰遊，鳳去臺空江自流。\n",
      "吳宮花草埋幽徑，晉代衣冠成古邱。\n",
      "三山半落青又外，二水中分白鷺洲。\n",
      "總為浮雲能蔽日，長安不見使人愁。\n"
     ]
    }
   ],
   "source": [
    "# 使用with語句開啟檔案，這樣可以確保檔案使用後自動關閉\n",
    "# 以讀取模式(\"r\")開啟指定路徑的文字檔案，並指定編碼為utf-8，避免中文亂碼\n",
    "with open(\"E:\\\\Python\\\\Python1-基礎Python程式設計\\\\poem.txt\", \"r\", encoding=\"utf-8\") as fileObject:\n",
    "    # 使用read()讀取整個檔案的內容，並將其存入變數content\n",
    "    content = fileObject.read()\n",
    "    \n",
    "    # 印出檔案內容，這樣可以在終端中顯示檔案的全部文字\n",
    "    print(content)"
   ]
  },
  {
   "cell_type": "code",
   "execution_count": 28,
   "metadata": {},
   "outputs": [
    {
     "data": {
      "text/plain": [
       "True"
      ]
     },
     "execution_count": 28,
     "metadata": {},
     "output_type": "execute_result"
    }
   ],
   "source": [
    "import os               # 匯入os模組\n",
    "os.path.exists(\"C:\\\\\")  # 檢查C:\\這個路徑是否存在"
   ]
  },
  {
   "cell_type": "code",
   "execution_count": 29,
   "metadata": {},
   "outputs": [
    {
     "data": {
      "text/plain": [
       "False"
      ]
     },
     "execution_count": 29,
     "metadata": {},
     "output_type": "execute_result"
    }
   ],
   "source": [
    "os.path.exists(\"C:\\\\f1.txt\")  # 檢查C:\\f1.txt檔案是否存在"
   ]
  },
  {
   "cell_type": "code",
   "execution_count": 30,
   "metadata": {},
   "outputs": [
    {
     "data": {
      "text/plain": [
       "True"
      ]
     },
     "execution_count": 30,
     "metadata": {},
     "output_type": "execute_result"
    }
   ],
   "source": [
    "os.path.isdir(\"C:\\\\\")  # 檢查C:\\是否為資料夾"
   ]
  },
  {
   "cell_type": "code",
   "execution_count": 31,
   "metadata": {},
   "outputs": [
    {
     "data": {
      "text/plain": [
       "False"
      ]
     },
     "execution_count": 31,
     "metadata": {},
     "output_type": "execute_result"
    }
   ],
   "source": [
    "os.path.isfile(\"C:\\\\\")  # 檢查C:\\是否為檔案"
   ]
  },
  {
   "cell_type": "code",
   "execution_count": 32,
   "metadata": {},
   "outputs": [
    {
     "data": {
      "text/plain": [
       "False"
      ]
     },
     "execution_count": 32,
     "metadata": {},
     "output_type": "execute_result"
    }
   ],
   "source": [
    "os.path.isdir(\"poem.txt\")  # 檢查poem.txt是否為資料夾"
   ]
  },
  {
   "cell_type": "code",
   "execution_count": 33,
   "metadata": {},
   "outputs": [
    {
     "data": {
      "text/plain": [
       "True"
      ]
     },
     "execution_count": 33,
     "metadata": {},
     "output_type": "execute_result"
    }
   ],
   "source": [
    "os.path.isfile(\"poem.txt\")  # 檢查poem.txt是否為檔案"
   ]
  },
  {
   "cell_type": "code",
   "execution_count": 34,
   "metadata": {},
   "outputs": [
    {
     "name": "stdout",
     "output_type": "stream",
     "text": [
      "登金陵鳳凰台\n",
      "\n",
      "鳳凰臺上鳳凰遊，鳳去臺空江自流。\n",
      "\n",
      "吳宮花草埋幽徑，晉代衣冠成古邱。\n",
      "\n",
      "三山半落青又外，二水中分白鷺洲。\n",
      "\n",
      "總為浮雲能蔽日，長安不見使人愁。\n"
     ]
    }
   ],
   "source": [
    "# 導入os.path模組，提供檢查檔案或目錄的功能\n",
    "import os.path\n",
    "\n",
    "# 使用os.path.isfile()檢查指定的檔案poem.txt是否存在並且是檔案\n",
    "if os.path.isfile(\"poem.txt\"):\n",
    "    # 如果檔案存在，則以讀取模式(\"r\")開啟指定路徑的文字檔案，並指定編碼為utf-8，避免中文亂碼\n",
    "    fileObject = open(\"E:\\\\Python\\\\Python1-基礎Python程式設計\\\\poem.txt\", \"r\", encoding=\"utf-8\")\n",
    "\n",
    "    # 使用for迴圈逐行讀取檔案，並將每一行內容印出\n",
    "    for line in fileObject:\n",
    "        # 印出每一行\n",
    "        print(line)\n",
    "\n",
    "    # 讀取結束後，關閉檔案以釋放系統資源\n",
    "    fileObject.close()\n",
    "else:\n",
    "    # 如果檔案不存在，顯示\"此檔案不存在\"的提示\n",
    "    print(\"此檔案不存在\")"
   ]
  },
  {
   "cell_type": "code",
   "execution_count": 35,
   "metadata": {},
   "outputs": [
    {
     "data": {
      "text/plain": [
       "'e:\\\\Python\\\\Python1-基礎Python程式設計\\\\poem.txt'"
      ]
     },
     "execution_count": 35,
     "metadata": {},
     "output_type": "execute_result"
    }
   ],
   "source": [
    "os.path.abspath(\"poem.txt\")  # 取得poem.txt檔案的完整路徑"
   ]
  },
  {
   "cell_type": "code",
   "execution_count": 36,
   "metadata": {},
   "outputs": [
    {
     "data": {
      "text/plain": [
       "218"
      ]
     },
     "execution_count": 36,
     "metadata": {},
     "output_type": "execute_result"
    }
   ],
   "source": [
    "os.path.getsize(\"poem.txt\")  # 取得poem.txt檔案的大小"
   ]
  },
  {
   "cell_type": "code",
   "execution_count": 37,
   "metadata": {},
   "outputs": [
    {
     "name": "stdout",
     "output_type": "stream",
     "text": [
      "您輸入的來源檔案名稱是: poem.txt\n",
      "您輸入的目的檔案名稱是: poetry.txt\n",
      "檔案複製完畢！\n"
     ]
    }
   ],
   "source": [
    "# 引入os.path模組，用來處理檔案和路徑相關的操作\n",
    "import os.path\n",
    "\n",
    "# 引入sys模組，用來處理系統相關的操作，例如退出程式\n",
    "import sys\n",
    "\n",
    "# 使用者輸入來源檔案名稱\n",
    "sourcefile = input(\"請輸入來源檔案名稱(*.txt)：\")\n",
    "\n",
    "# 使用者輸入目的檔案名稱\n",
    "targetfile = input(\"請輸入目的檔案名稱(*.txt)：\")\n",
    "\n",
    "# 顯示使用者輸入的來源與目的檔案名稱\n",
    "print(\"您輸入的來源檔案名稱是:\", sourcefile)\n",
    "print(\"您輸入的目的檔案名稱是:\", targetfile)\n",
    "\n",
    "# 檢查目標檔案是否已經存在，若目標檔案已經存在，則取消複製檔案並結束程式，避免覆蓋現有檔案\n",
    "if os.path.isfile(targetfile):\n",
    "    print(\"目的檔案已經存在，取消複製檔案！\")\n",
    "    sys.exit()\n",
    "\n",
    "# 開啟來源檔案進行讀取\n",
    "fileObject1 = open(sourcefile, \"r\")\n",
    "\n",
    "# 開啟目標檔案進行寫入，如果檔案不存在會自動建立\n",
    "fileObject2 = open(targetfile, \"w\")\n",
    "\n",
    "# 讀取來源檔案的所有內容\n",
    "content = fileObject1.read()\n",
    "\n",
    "# 將所有內容寫入到目標檔案\n",
    "fileObject2.write(content)\n",
    "\n",
    "# 讀取結束後，關閉檔案以釋放系統資源\n",
    "fileObject1.close()\n",
    "fileObject2.close()\n",
    "\n",
    "# 輸出訊息告訴使用者檔案複製已完成\n",
    "print(\"檔案複製完畢！\")"
   ]
  },
  {
   "cell_type": "code",
   "execution_count": 38,
   "metadata": {},
   "outputs": [
    {
     "name": "stdout",
     "output_type": "stream",
     "text": [
      "E:\\Python\\Python1-基礎Python程式設計\\memo.txt 檔案已刪除\n"
     ]
    }
   ],
   "source": [
    "# 引入os模組，用於處理檔案和路徑相關的操作\n",
    "import os\n",
    "\n",
    "# 指定刪除檔案的完整路徑\n",
    "file = \"E:\\\\Python\\\\Python1-基礎Python程式設計\\\\memo.txt\"\n",
    "\n",
    "# 檢查指定路徑的檔案是否存在，如果檔案存在，刪除該檔案，並顯示檔案已刪除的訊息\n",
    "if os.path.exists(file):\n",
    "    os.remove(file)  \n",
    "    print(file, \"檔案已刪除\")\n",
    "\n",
    "# 如果檔案不存在，則顯示此檔案不存在的訊息\n",
    "else:\n",
    "    print(\"此檔案不存在\")"
   ]
  },
  {
   "cell_type": "code",
   "execution_count": 39,
   "metadata": {},
   "outputs": [
    {
     "name": "stdout",
     "output_type": "stream",
     "text": [
      "E:\\Python\\Python1-基礎Python程式設計\\photo 資料夾已建立\n"
     ]
    }
   ],
   "source": [
    "# 引入os模組，用於處理檔案和路徑相關的操作\n",
    "import os\n",
    "\n",
    "# 指定建立資料夾的完整路徑\n",
    "dir = \"E:\\\\Python\\\\Python1-基礎Python程式設計\\\\photo\"\n",
    "\n",
    "# 檢查資料夾是否存在，如果資料夾不存在，則建立此資料夾，並顯示資料夾已建立的訊息\n",
    "if not os.path.exists(dir):\n",
    "    os.mkdir(dir)\n",
    "    print(dir, \"資料夾已建立\")\n",
    "\n",
    "# 如果資料夾已經存在，則顯示此資料夾已經存在的訊息\n",
    "else:\n",
    "    print(\"此資料夾已經存在\")"
   ]
  },
  {
   "cell_type": "code",
   "execution_count": 40,
   "metadata": {},
   "outputs": [
    {
     "name": "stdout",
     "output_type": "stream",
     "text": [
      "E:\\Python\\Python1-基礎Python程式設計\\photo 資料夾已刪除\n"
     ]
    }
   ],
   "source": [
    "# 引入os模組，用於處理檔案和路徑相關的操作\n",
    "import os\n",
    "\n",
    "# 指定刪除資料夾的完整路徑\n",
    "dir = \"E:\\\\Python\\\\Python1-基礎Python程式設計\\\\photo\"\n",
    "\n",
    "# 檢查指定路徑的資料夾是否存在，如果資料夾存在，刪除該資料夾，並顯示資料夾已刪除的訊息\n",
    "if os.path.exists(dir):\n",
    "    os.rmdir(dir)\n",
    "    print(dir, \"資料夾已刪除\")\n",
    "\n",
    "# 如果資料夾不存在，則顯示此資料夾不存在的訊息\n",
    "else:\n",
    "    print(\"此資料夾不存在\")"
   ]
  },
  {
   "cell_type": "code",
   "execution_count": 41,
   "metadata": {},
   "outputs": [
    {
     "name": "stdout",
     "output_type": "stream",
     "text": [
      "poem.txt 檔案已複製到 dir 資料夾，並保持檔案名稱不變\n"
     ]
    }
   ],
   "source": [
    "# 引入shutil模組，用於執行高階檔案操作，如檔案複製\n",
    "import shutil\n",
    "\n",
    "# 將poem.txt檔案複製到指定的目標資料夾，保持檔案名稱不變\n",
    "shutil.copy(\"poem.txt\", \"E:\\\\Python\\\\Python1-基礎Python程式設計\\\\dir\\\\poem.txt\")\n",
    "\n",
    "# 輸出檔案複製成功的訊息\n",
    "print(\"poem.txt 檔案已複製到 dir 資料夾，並保持檔案名稱不變\")"
   ]
  },
  {
   "cell_type": "code",
   "execution_count": 42,
   "metadata": {},
   "outputs": [
    {
     "name": "stdout",
     "output_type": "stream",
     "text": [
      "poem.txt 檔案已複製到 dir 資料夾，並將檔案重新命名為 p2.txt\n"
     ]
    }
   ],
   "source": [
    "# 將poem.txt檔案複製到指定的目標資料夾，並重新命名為p2.txt\n",
    "shutil.copy(\"poem.txt\", \"E:\\\\Python\\\\Python1-基礎Python程式設計\\\\dir\\\\p2.txt\")\n",
    "\n",
    "# 輸出檔案複製成功的訊息\n",
    "print(\"poem.txt 檔案已複製到 dir 資料夾，並將檔案重新命名為 p2.txt\")"
   ]
  },
  {
   "cell_type": "code",
   "execution_count": 43,
   "metadata": {},
   "outputs": [
    {
     "name": "stdout",
     "output_type": "stream",
     "text": [
      "dir 資料夾已複製到 dir2 資料夾\n"
     ]
    }
   ],
   "source": [
    "# 引入shutil模組，用於執行高階檔案操作，如檔案複製\n",
    "import shutil\n",
    "\n",
    "# 將資料夾dir複製到指定的目標資料夾，並重新命名為dir2\n",
    "shutil.copytree(\"E:\\\\Python\\\\Python1-基礎Python程式設計\\\\dir\", \"E:\\\\Python\\\\Python1-基礎Python程式設計\\\\dir2\")\n",
    "\n",
    "# 輸出資料夾複製成功的訊息\n",
    "print(\"dir 資料夾已複製到 dir2 資料夾\")"
   ]
  },
  {
   "cell_type": "code",
   "execution_count": 44,
   "metadata": {},
   "outputs": [
    {
     "name": "stdout",
     "output_type": "stream",
     "text": [
      "dir 資料夾已複製到 dir3\\dir4 資料夾\n"
     ]
    }
   ],
   "source": [
    "# 檢查目標資料夾dir3\\\\dir4是否存在，如果不存在則創建\n",
    "target_dir = \"E:\\\\Python\\\\Python1-基礎Python程式設計\\\\dir3\\\\dir4\"\n",
    "if not os.path.exists(target_dir):\n",
    "    os.makedirs(target_dir)\n",
    "\n",
    "# 將dir資料夾複製到dir3\\\\dir4 資料夾\n",
    "# 使用dirs_exist_ok = True以便在目標資料夾已存在時覆蓋\n",
    "shutil.copytree(\"E:\\\\Python\\\\Python1-基礎Python程式設計\\\\dir\", target_dir, dirs_exist_ok = True)\n",
    "\n",
    "# 輸出資料夾複製成功的訊息\n",
    "print(\"dir 資料夾已複製到 dir3\\\\dir4 資料夾\")"
   ]
  },
  {
   "cell_type": "code",
   "execution_count": 45,
   "metadata": {},
   "outputs": [
    {
     "name": "stdout",
     "output_type": "stream",
     "text": [
      "a.txt 檔案已移動到 dir 資料夾，並將檔案重新命名為 b.txt\n"
     ]
    }
   ],
   "source": [
    "# 引入shutil模組，用於執行高階檔案操作，如檔案移動\n",
    "import shutil\n",
    "\n",
    "# 將檔案a.txt移動到dir資料夾，並重新命名為b.txt\n",
    "shutil.move(\"E:\\\\Python\\\\Python1-基礎Python程式設計\\\\a.txt\", \"E:\\\\Python\\\\Python1-基礎Python程式設計\\\\dir\\\\b.txt\")\n",
    "\n",
    "# 輸出檔案移動成功的訊息\n",
    "print(\"a.txt 檔案已移動到 dir 資料夾，並將檔案重新命名為 b.txt\")"
   ]
  },
  {
   "cell_type": "code",
   "execution_count": 46,
   "metadata": {},
   "outputs": [
    {
     "name": "stdout",
     "output_type": "stream",
     "text": [
      "c.txt 檔案已移動到 dir 資料夾中\n"
     ]
    }
   ],
   "source": [
    "# 將檔案c.txt移動到dir資料夾內\n",
    "shutil.move(\"E:\\\\Python\\\\Python1-基礎Python程式設計\\\\c.txt\", \"E:\\\\Python\\\\Python1-基礎Python程式設計\\\\dir\")\n",
    "\n",
    "# 輸出檔案移動成功的訊息\n",
    "print(\"c.txt 檔案已移動到 dir 資料夾中\")"
   ]
  },
  {
   "cell_type": "code",
   "execution_count": 47,
   "metadata": {},
   "outputs": [
    {
     "name": "stdout",
     "output_type": "stream",
     "text": [
      "dir 資料夾已移動到 dir2 資料夾中\n"
     ]
    }
   ],
   "source": [
    "# 將資料夾 dir 移動到 dir2 資料夾中\n",
    "shutil.move(\"E:\\\\Python\\\\Python1-基礎Python程式設計\\\\dir\", \"E:\\\\Python\\\\Python1-基礎Python程式設計\\\\dir2\")\n",
    "\n",
    "# 輸出資料夾移動成功的訊息\n",
    "print(\"dir 資料夾已移動到 dir2 資料夾中\")"
   ]
  },
  {
   "cell_type": "code",
   "execution_count": 48,
   "metadata": {},
   "outputs": [
    {
     "name": "stdout",
     "output_type": "stream",
     "text": [
      "dir2 資料夾已移動到 dir3\\dir4 資料夾中\n"
     ]
    }
   ],
   "source": [
    "# 檢查目標資料夾dir3\\\\dir4是否存在，如果不存在則創建\n",
    "target_dir = \"E:\\\\Python\\\\Python1-基礎Python程式設計\\\\dir3\\\\dir4\"\n",
    "if not os.path.exists(target_dir):\n",
    "    os.makedirs(target_dir)\n",
    "\n",
    "# 將資料夾dir2移動到dir3\\\\dir4資料夾中\n",
    "shutil.move(\"E:\\\\Python\\\\Python1-基礎Python程式設計\\\\dir2\", target_dir)\n",
    "\n",
    "# 輸出資料夾移動成功的訊息\n",
    "print(\"dir2 資料夾已移動到 dir3\\\\dir4 資料夾中\")"
   ]
  },
  {
   "cell_type": "code",
   "execution_count": 49,
   "metadata": {},
   "outputs": [
    {
     "name": "stdout",
     "output_type": "stream",
     "text": [
      "找到以下所有.txt 檔案: ['E:\\\\Python\\\\Python1-基礎Python程式設計\\\\dir3\\\\dir4\\\\dir2\\\\dir\\\\poem.txt', 'E:\\\\Python\\\\Python1-基礎Python程式設計\\\\dir3\\\\dir4\\\\dir2\\\\dir\\\\p2.txt', 'E:\\\\Python\\\\Python1-基礎Python程式設計\\\\dir3\\\\dir4\\\\dir2\\\\dir\\\\b.txt', 'E:\\\\Python\\\\Python1-基礎Python程式設計\\\\dir3\\\\dir4\\\\dir2\\\\dir\\\\c.txt']\n"
     ]
    }
   ],
   "source": [
    "# 引入glob模組，用於檔案路徑匹配\n",
    "import glob\n",
    "\n",
    "# 搜尋指定資料夾dir3\\\\dir4\\\\dir2\\\\dir中所有副檔名為.txt的檔案，使用*.txt來搜尋檔案\n",
    "txt_files = glob.glob(\"E:\\\\Python\\\\Python1-基礎Python程式設計\\\\dir3\\\\dir4\\\\dir2\\\\dir\\\\*.txt\")\n",
    "\n",
    "# 輸出找到的所有.txt檔案的完整路徑\n",
    "print(\"找到以下所有.txt 檔案:\", txt_files)"
   ]
  },
  {
   "cell_type": "code",
   "execution_count": 50,
   "metadata": {},
   "outputs": [
    {
     "name": "stdout",
     "output_type": "stream",
     "text": [
      "找到以下所有以 p 開頭的.txt 檔案: ['E:\\\\Python\\\\Python1-基礎Python程式設計\\\\dir3\\\\dir4\\\\dir2\\\\dir\\\\poem.txt', 'E:\\\\Python\\\\Python1-基礎Python程式設計\\\\dir3\\\\dir4\\\\dir2\\\\dir\\\\p2.txt']\n"
     ]
    }
   ],
   "source": [
    "# 搜尋指定資料夾dir3\\\\dir4\\\\dir2\\\\dir中所有以p開頭的.txt檔案，使用p*來搜尋檔案\n",
    "txt_files = glob.glob(\"E:\\\\Python\\\\Python1-基礎Python程式設計\\\\dir3\\\\dir4\\\\dir2\\\\dir\\\\p*.txt\")\n",
    "\n",
    "# 輸出找到的所有以p開頭的.txt檔案的完整路徑\n",
    "print(\"找到以下所有以 p 開頭的.txt 檔案:\", txt_files)"
   ]
  },
  {
   "cell_type": "code",
   "execution_count": 51,
   "metadata": {},
   "outputs": [
    {
     "name": "stdout",
     "output_type": "stream",
     "text": [
      "找到以下所有以 a-c 開頭的.txt 檔案: ['E:\\\\Python\\\\Python1-基礎Python程式設計\\\\dir3\\\\dir4\\\\dir2\\\\dir\\\\b.txt', 'E:\\\\Python\\\\Python1-基礎Python程式設計\\\\dir3\\\\dir4\\\\dir2\\\\dir\\\\c.txt']\n"
     ]
    }
   ],
   "source": [
    "# 搜尋指定資料夾dir3\\\\dir4\\\\dir2\\\\dir中所有以a-c開頭的.txt檔案，使用[a-c]*.txt來搜尋檔案\n",
    "txt_files = glob.glob(\"E:\\\\Python\\\\Python1-基礎Python程式設計\\\\dir3\\\\dir4\\\\dir2\\\\dir\\\\[a-c]*.txt\")\n",
    "\n",
    "# 輸出找到的所有以a-c開頭的.txt檔案的完整路徑\n",
    "print(\"找到以下所有以 a-c 開頭的.txt 檔案:\", txt_files)"
   ]
  },
  {
   "cell_type": "code",
   "execution_count": 52,
   "metadata": {},
   "outputs": [
    {
     "name": "stdout",
     "output_type": "stream",
     "text": [
      "錦瑟\n",
      "錦瑟無端五十弦，一弦一柱思華年。\n",
      "莊生曉夢迷蝴蝶，望帝春心托杜鵑。\n",
      "滄海月明珠有淚，藍田日暖玉生煙。\n",
      "此情可待成追憶，只是當時已惘然。 \n",
      "\n",
      "sample1.txt 已經複製到 sample2.txt！\n"
     ]
    }
   ],
   "source": [
    "# 引入shutil模組，用於檔案複製\n",
    "import shutil\n",
    "\n",
    "# 複製sample1.txt檔案到新的sample2.txt檔案\n",
    "shutil.copy(\"E:\\\\Python\\\\Python1-基礎Python程式設計\\\\sample1.txt\", \"E:\\\\Python\\\\Python1-基礎Python程式設計\\\\sample2.txt\")\n",
    "\n",
    "# 使用with語句開啟檔案，確保檔案使用後自動關閉，並以Big5編碼開啟sample2.txt，避免中文亂碼\n",
    "with open(\"E:\\\\Python\\\\Python1-基礎Python程式設計\\\\sample2.txt\", \"r\", encoding=\"Big5\") as file:\n",
    "    # 讀取檔案中的所有內容\n",
    "    content = file.read()\n",
    "    \n",
    "    # 顯示檔案內容並換行\n",
    "    print(content, \"\\n\")\n",
    "\n",
    "# 輸出檔案複製成功的訊息\n",
    "print(\"sample1.txt 已經複製到 sample2.txt！\")"
   ]
  },
  {
   "cell_type": "code",
   "execution_count": 53,
   "metadata": {},
   "outputs": [
    {
     "name": "stdout",
     "output_type": "stream",
     "text": [
      "sample1.txt 檔案有 5 行 70 個字\n"
     ]
    }
   ],
   "source": [
    "# 使用with語句開啟檔案，確保檔案在使用後自動關閉，並指定編碼為Big5，避免中文亂碼\n",
    "with open(\"E:\\\\Python\\\\Python1-基礎Python程式設計\\\\sample1.txt\", \"r\", encoding=\"Big5\") as file:\n",
    "    # 讀取檔案中的所有內容\n",
    "    content = file.read()\n",
    "\n",
    "    # 分割檔案為行，去除最後的換行字元\n",
    "    lines = content.splitlines()\n",
    "\n",
    "    # 計算檔案中有多少行\n",
    "    line_count = len(lines)\n",
    "\n",
    "    # 計算檔案中所有字元的總數(包含換行字元)\n",
    "    char_count = len(content)\n",
    "\n",
    "# 顯示檔案的行數與字數\n",
    "print(f\"sample1.txt 檔案有 {line_count} 行 {char_count} 個字\")"
   ]
  }
 ],
 "metadata": {
  "kernelspec": {
   "display_name": "base",
   "language": "python",
   "name": "python3"
  },
  "language_info": {
   "codemirror_mode": {
    "name": "ipython",
    "version": 3
   },
   "file_extension": ".py",
   "mimetype": "text/x-python",
   "name": "python",
   "nbconvert_exporter": "python",
   "pygments_lexer": "ipython3",
   "version": "3.12.7"
  }
 },
 "nbformat": 4,
 "nbformat_minor": 2
}
