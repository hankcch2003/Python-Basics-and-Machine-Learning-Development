{
 "cells": [
  {
   "cell_type": "markdown",
   "metadata": {},
   "source": [
    "# ch2 Python 型別、變數與運算子"
   ]
  },
  {
   "cell_type": "code",
   "execution_count": 1,
   "metadata": {},
   "outputs": [
    {
     "data": {
      "text/plain": [
       "65"
      ]
     },
     "execution_count": 1,
     "metadata": {},
     "output_type": "execute_result"
    }
   ],
   "source": [
    "# 八進位整數0o101轉換成十進位整數65\n",
    "# 八進位整數0o101 = 1×8² + 0×8¹ + 1×8⁰ = 1×64 + 0×8 + 1×1 = 64 + 0 + 1 = 十進位整數65\n",
    "0o101"
   ]
  },
  {
   "cell_type": "code",
   "execution_count": 2,
   "metadata": {},
   "outputs": [
    {
     "data": {
      "text/plain": [
       "65"
      ]
     },
     "execution_count": 2,
     "metadata": {},
     "output_type": "execute_result"
    }
   ],
   "source": [
    "# 十六進位整數0x41轉換成十進位整數65\n",
    "# 十六進位整數0x41 = 4×16¹ + 1×16⁰ = 4×16 + 1×1 = 64 + 1 = 十進位整數65\n",
    "0x41"
   ]
  },
  {
   "cell_type": "code",
   "execution_count": 3,
   "metadata": {},
   "outputs": [
    {
     "data": {
      "text/plain": [
       "-65"
      ]
     },
     "execution_count": 3,
     "metadata": {},
     "output_type": "execute_result"
    }
   ],
   "source": [
    "# 十六進位整數-0x41轉換成十進位整數-65\n",
    "# 十六進位整數-0x41 = -(4×16¹ + 1×16⁰) = -(4×16 + 1×1) = -(64 + 1) = 十進位整數-65\n",
    "-0x41"
   ]
  },
  {
   "cell_type": "code",
   "execution_count": 4,
   "metadata": {},
   "outputs": [
    {
     "data": {
      "text/plain": [
       "True"
      ]
     },
     "execution_count": 4,
     "metadata": {},
     "output_type": "execute_result"
    }
   ],
   "source": [
    "1 < 2  # 判斷1是否小於2"
   ]
  },
  {
   "cell_type": "code",
   "execution_count": 5,
   "metadata": {},
   "outputs": [
    {
     "data": {
      "text/plain": [
       "False"
      ]
     },
     "execution_count": 5,
     "metadata": {},
     "output_type": "execute_result"
    }
   ],
   "source": [
    "1 > 2  # 判斷1是否大於2"
   ]
  },
  {
   "cell_type": "code",
   "execution_count": 6,
   "metadata": {},
   "outputs": [
    {
     "data": {
      "text/plain": [
       "sys.float_info(max=1.7976931348623157e+308, max_exp=1024, max_10_exp=308, min=2.2250738585072014e-308, min_exp=-1021, min_10_exp=-307, dig=15, mant_dig=53, epsilon=2.220446049250313e-16, radix=2, rounds=1)"
      ]
     },
     "execution_count": 6,
     "metadata": {},
     "output_type": "execute_result"
    }
   ],
   "source": [
    "# 匯入Python內建的sys(系統)模組\n",
    "import sys\n",
    "\n",
    "# 顯示浮點數的資訊(依據IEEE 754標準，通常是64-bit雙精度浮點數)\n",
    "# 內容包括：最大值、最小值、精度、有效位數、誤差等\n",
    "sys.float_info"
   ]
  },
  {
   "cell_type": "code",
   "execution_count": 7,
   "metadata": {},
   "outputs": [
    {
     "name": "stdout",
     "output_type": "stream",
     "text": [
      "星期一\n",
      "星期二\n",
      "星期三\n"
     ]
    }
   ],
   "source": [
    "# 使用三重引號(\"\"\" 或 ''')可建立多行字串\n",
    "# 每一行都會依照原樣換行輸出，不需使用\\n\n",
    "\n",
    "print(\"\"\"星期一\n",
    "星期二\n",
    "星期三\"\"\")"
   ]
  },
  {
   "cell_type": "code",
   "execution_count": 8,
   "metadata": {},
   "outputs": [
    {
     "data": {
      "text/plain": [
       "int"
      ]
     },
     "execution_count": 8,
     "metadata": {},
     "output_type": "execute_result"
    }
   ],
   "source": [
    "# 使用type()函數來檢查資料的型別(1000為int整數型別)\n",
    "type(1000)"
   ]
  },
  {
   "cell_type": "code",
   "execution_count": 9,
   "metadata": {},
   "outputs": [
    {
     "data": {
      "text/plain": [
       "float"
      ]
     },
     "execution_count": 9,
     "metadata": {},
     "output_type": "execute_result"
    }
   ],
   "source": [
    "# 使用type()函數來檢查資料的型別(-12.53為float浮點數型別)\n",
    "type(-12.53)"
   ]
  },
  {
   "cell_type": "code",
   "execution_count": 10,
   "metadata": {},
   "outputs": [
    {
     "data": {
      "text/plain": [
       "complex"
      ]
     },
     "execution_count": 10,
     "metadata": {},
     "output_type": "execute_result"
    }
   ],
   "source": [
    "# 使用type()函數來檢查資料的型別(2 + 1j為complex複數型別)\n",
    "type(2 + 1j)"
   ]
  },
  {
   "cell_type": "code",
   "execution_count": 11,
   "metadata": {},
   "outputs": [
    {
     "data": {
      "text/plain": [
       "bool"
      ]
     },
     "execution_count": 11,
     "metadata": {},
     "output_type": "execute_result"
    }
   ],
   "source": [
    "# 使用type()函數來檢查資料的型別(True為bool布林型別)\n",
    "type(True)"
   ]
  },
  {
   "cell_type": "code",
   "execution_count": 12,
   "metadata": {},
   "outputs": [
    {
     "data": {
      "text/plain": [
       "bool"
      ]
     },
     "execution_count": 12,
     "metadata": {},
     "output_type": "execute_result"
    }
   ],
   "source": [
    "# 使用type()函數來檢查資料的型別(False為bool布林型別)\n",
    "type(False)"
   ]
  },
  {
   "cell_type": "code",
   "execution_count": 13,
   "metadata": {},
   "outputs": [
    {
     "data": {
      "text/plain": [
       "str"
      ]
     },
     "execution_count": 13,
     "metadata": {},
     "output_type": "execute_result"
    }
   ],
   "source": [
    "# 使用type()函數來檢查資料的型別(\"Python程式設計\"為str字串型別)\n",
    "type(\"Python程式設計\")"
   ]
  },
  {
   "cell_type": "code",
   "execution_count": 14,
   "metadata": {},
   "outputs": [
    {
     "data": {
      "text/plain": [
       "str"
      ]
     },
     "execution_count": 14,
     "metadata": {},
     "output_type": "execute_result"
    }
   ],
   "source": [
    "# 使用type()函數來檢查資料的型別('P'為str字串型別)\n",
    "type('P')"
   ]
  },
  {
   "cell_type": "code",
   "execution_count": 15,
   "metadata": {},
   "outputs": [
    {
     "data": {
      "text/plain": [
       "[1, 'Taipei', 2, 'Tokyo']"
      ]
     },
     "execution_count": 15,
     "metadata": {},
     "output_type": "execute_result"
    }
   ],
   "source": [
    "[1, \"Taipei\", 2, \"Tokyo\"]  # 一個包含4個元素的串列，元素包含整數與字串"
   ]
  },
  {
   "cell_type": "code",
   "execution_count": 16,
   "metadata": {},
   "outputs": [
    {
     "data": {
      "text/plain": [
       "[2, 'Tokyo', 1, 'Taipei']"
      ]
     },
     "execution_count": 16,
     "metadata": {},
     "output_type": "execute_result"
    }
   ],
   "source": [
    "[2, \"Tokyo\", 1, \"Taipei\"]  # 元素相同但順序不同，表示不同串列"
   ]
  },
  {
   "cell_type": "code",
   "execution_count": 17,
   "metadata": {},
   "outputs": [
    {
     "data": {
      "text/plain": [
       "(1, 'Taipei', 2, 'Tokyo')"
      ]
     },
     "execution_count": 17,
     "metadata": {},
     "output_type": "execute_result"
    }
   ],
   "source": [
    "(1, \"Taipei\", 2, \"Tokyo\")  # 一個包含4個元素的序對，元素包含整數與字串"
   ]
  },
  {
   "cell_type": "code",
   "execution_count": 18,
   "metadata": {},
   "outputs": [
    {
     "data": {
      "text/plain": [
       "(2, 'Tokyo', 1, 'Taipei')"
      ]
     },
     "execution_count": 18,
     "metadata": {},
     "output_type": "execute_result"
    }
   ],
   "source": [
    "(2, \"Tokyo\", 1, \"Taipei\")  # 元素相同但順序不同，表示不同序對"
   ]
  },
  {
   "cell_type": "code",
   "execution_count": 19,
   "metadata": {},
   "outputs": [
    {
     "data": {
      "text/plain": [
       "{1, 2, 'Taipei', 'Tokyo'}"
      ]
     },
     "execution_count": 19,
     "metadata": {},
     "output_type": "execute_result"
    }
   ],
   "source": [
    "{1, \"Taipei\", 2, \"Tokyo\"}  # 一個包含4個元素的集合，元素包含整數與字串"
   ]
  },
  {
   "cell_type": "code",
   "execution_count": 20,
   "metadata": {},
   "outputs": [
    {
     "data": {
      "text/plain": [
       "{1, 2, 'Taipei', 'Tokyo'}"
      ]
     },
     "execution_count": 20,
     "metadata": {},
     "output_type": "execute_result"
    }
   ],
   "source": [
    "{2, \"Tokyo\", 1, \"Taipei\"}  # 元素相同但順序不同，仍是相同集合"
   ]
  },
  {
   "cell_type": "code",
   "execution_count": 21,
   "metadata": {},
   "outputs": [
    {
     "data": {
      "text/plain": [
       "{'ID': 'N1', 'name': '小美'}"
      ]
     },
     "execution_count": 21,
     "metadata": {},
     "output_type": "execute_result"
    }
   ],
   "source": [
    "{\"ID\": \"N1\", \"name\": \"小美\"}  # 建立一個字典，包含兩個鍵值對:\"ID\", \"N1\", \"name\"和對應的值"
   ]
  },
  {
   "cell_type": "code",
   "execution_count": 22,
   "metadata": {},
   "outputs": [
    {
     "data": {
      "text/plain": [
       "{'name': '小美', 'ID': 'N1'}"
      ]
     },
     "execution_count": 22,
     "metadata": {},
     "output_type": "execute_result"
    }
   ],
   "source": [
    "{\"name\": \"小美\", \"ID\": \"N1\"}  # 鍵:值對相同但順序不同，仍是相同字典"
   ]
  },
  {
   "cell_type": "code",
   "execution_count": 23,
   "metadata": {},
   "outputs": [
    {
     "name": "stdout",
     "output_type": "stream",
     "text": [
      "<class 'str'>\n"
     ]
    }
   ],
   "source": [
    "userName = \"小丸子\"     # userName是一個字串(str)，內容是「小丸子」\n",
    "\n",
    "# 使用type()函數來檢查變數userName的資料型別(此變數目前為str字串型別)\n",
    "print(type(userName))  # 輸出userName的型別，結果會是<class 'str'>"
   ]
  },
  {
   "cell_type": "code",
   "execution_count": 24,
   "metadata": {},
   "outputs": [
    {
     "name": "stdout",
     "output_type": "stream",
     "text": [
      "<class 'int'>\n"
     ]
    }
   ],
   "source": [
    "userName = 123     # userName是一個整數(int)，內容是數字 123\n",
    "\n",
    "# 使用type()函數來檢查變數userName的資料型別(此變數目前為int整數型別)\n",
    "print(type(userName))  # 輸出userName的型別，結果會是<class 'int'>"
   ]
  },
  {
   "cell_type": "code",
   "execution_count": 25,
   "metadata": {},
   "outputs": [
    {
     "data": {
      "text/plain": [
       "2"
      ]
     },
     "execution_count": 25,
     "metadata": {},
     "output_type": "execute_result"
    }
   ],
   "source": [
    "X = 1      # 指定X的初始值為1\n",
    "X = X + 1  # 將X的值加1，現在X的值變成2\n",
    "X          # 輸出X的值"
   ]
  },
  {
   "cell_type": "code",
   "execution_count": 26,
   "metadata": {},
   "outputs": [
    {
     "name": "stdout",
     "output_type": "stream",
     "text": [
      "100 100 100\n"
     ]
    }
   ],
   "source": [
    "X = Y = Z = 100  # 將100同時指定給X、Y、Z\n",
    "print(X, Y, Z)   # 輸出X、Y、Z的結果，結果為100 100 100"
   ]
  },
  {
   "cell_type": "code",
   "execution_count": 27,
   "metadata": {},
   "outputs": [
    {
     "name": "stdout",
     "output_type": "stream",
     "text": [
      "100 3.14159 Hello, World!\n"
     ]
    }
   ],
   "source": [
    "X, Y, Z = 100, 3.14159, \"Hello, World!\"  # 多重賦值：X = 100, Y = 3.14159, Z = \"Hello, World!\"\n",
    "print(X, Y, Z)                           # 輸出X、Y、Z的結果，結果為100 3.14159 Hello, World!"
   ]
  },
  {
   "cell_type": "code",
   "execution_count": 28,
   "metadata": {},
   "outputs": [
    {
     "name": "stdout",
     "output_type": "stream",
     "text": [
      "<class 'str'>\n"
     ]
    }
   ],
   "source": [
    "A = 1           # A是一個整數(int)\n",
    "A = \"happy\"     # A被重新指派為字串(str)\n",
    "\n",
    "# 使用type()函數來檢查資料的型別(重新指派的字串\"happy\"為str字串型別)\n",
    "print(type(A))  # 輸出A的型別，結果會是<class 'str'>"
   ]
  },
  {
   "cell_type": "code",
   "execution_count": 29,
   "metadata": {},
   "outputs": [
    {
     "name": "stdout",
     "output_type": "stream",
     "text": [
      "23.333333333333332\n"
     ]
    }
   ],
   "source": [
    "A, B, C = 10, 20, 40    # 將10指派給A，20指派給B，40指派給C\n",
    "print((A + B + C) / 3)  # 計算A、B、C的平均值並輸出，結果是23.333333333333332"
   ]
  },
  {
   "cell_type": "code",
   "execution_count": 30,
   "metadata": {},
   "outputs": [
    {
     "name": "stdout",
     "output_type": "stream",
     "text": [
      "105 100 100\n"
     ]
    }
   ],
   "source": [
    "X = Y = Z = 100  # 將100同時指定給X、Y、Z\n",
    "X = X + 5        # 將X的值加5，現在X變成105\n",
    "print(X, Y, Z)   # 輸出X、Y、Z的值，結果為：105 100 100"
   ]
  },
  {
   "cell_type": "code",
   "execution_count": 31,
   "metadata": {},
   "outputs": [
    {
     "name": "stdout",
     "output_type": "stream",
     "text": [
      "314.159\n"
     ]
    }
   ],
   "source": [
    "# 將圓周率PI定義為常數\n",
    "PI = 3.14159\n",
    "\n",
    "# 將半徑設定為10\n",
    "radius = 10\n",
    "\n",
    "# 計算並輸出圓的面積(圓面積公式：PI × 半徑的平方)\n",
    "print(PI * radius * radius)  # 輸出結果為314.159"
   ]
  },
  {
   "cell_type": "code",
   "execution_count": 32,
   "metadata": {},
   "outputs": [
    {
     "name": "stdout",
     "output_type": "stream",
     "text": [
      "15\n"
     ]
    }
   ],
   "source": [
    "# 使用 + 運算子計算12加上3的結果\n",
    "print(12 + 3)  # 輸出結果為15"
   ]
  },
  {
   "cell_type": "code",
   "execution_count": 33,
   "metadata": {},
   "outputs": [
    {
     "name": "stdout",
     "output_type": "stream",
     "text": [
      "6.912\n"
     ]
    }
   ],
   "source": [
    "# 使用 + 運算子計算1.234加上5.678的結果\n",
    "print(1.234 + 5.678)  # 輸出結果為6.912"
   ]
  },
  {
   "cell_type": "code",
   "execution_count": 34,
   "metadata": {},
   "outputs": [
    {
     "name": "stdout",
     "output_type": "stream",
     "text": [
      "9\n"
     ]
    }
   ],
   "source": [
    "# 使用 - 運算子計算12減3的結果\n",
    "print(12 - 3)  # 輸出結果為9"
   ]
  },
  {
   "cell_type": "code",
   "execution_count": 35,
   "metadata": {},
   "outputs": [
    {
     "name": "stdout",
     "output_type": "stream",
     "text": [
      "-4.0\n"
     ]
    }
   ],
   "source": [
    "# 使用 - 運算子計算1.456減5.456的結果\n",
    "print(1.456 - 5.456)  # 輸出結果為-4.0"
   ]
  },
  {
   "cell_type": "code",
   "execution_count": 36,
   "metadata": {},
   "outputs": [
    {
     "name": "stdout",
     "output_type": "stream",
     "text": [
      "36\n"
     ]
    }
   ],
   "source": [
    "# 使用 * 運算子計算12乘以3的結果\n",
    "print(12 * 3)  # 輸出結果為36"
   ]
  },
  {
   "cell_type": "code",
   "execution_count": 37,
   "metadata": {},
   "outputs": [
    {
     "name": "stdout",
     "output_type": "stream",
     "text": [
      "5.0\n"
     ]
    }
   ],
   "source": [
    "# 使用 * 運算子計算10乘以0.5的結果\n",
    "print(10 * 0.5)  # 輸出結果為5.0"
   ]
  },
  {
   "cell_type": "code",
   "execution_count": 38,
   "metadata": {},
   "outputs": [
    {
     "name": "stdout",
     "output_type": "stream",
     "text": [
      "4.0\n"
     ]
    }
   ],
   "source": [
    "# 使用 / 運算子計算12除以3的結果(浮點數除法)\n",
    "print(12 / 3)  # 輸出結果為4.0"
   ]
  },
  {
   "cell_type": "code",
   "execution_count": 39,
   "metadata": {},
   "outputs": [
    {
     "name": "stdout",
     "output_type": "stream",
     "text": [
      "0.3333333333333333\n"
     ]
    }
   ],
   "source": [
    "# 使用 / 運算子計算1除以3的結果(浮點數除法)\n",
    "print(1 / 3)  # 輸出結果為0.3333333333333333"
   ]
  },
  {
   "cell_type": "code",
   "execution_count": 40,
   "metadata": {},
   "outputs": [
    {
     "name": "stdout",
     "output_type": "stream",
     "text": [
      "4\n"
     ]
    }
   ],
   "source": [
    "# 使用 // 運算子計算12除以3的整數結果(地板除法)\n",
    "print(12 // 3)  # 輸出結果為4"
   ]
  },
  {
   "cell_type": "code",
   "execution_count": 41,
   "metadata": {},
   "outputs": [
    {
     "name": "stdout",
     "output_type": "stream",
     "text": [
      "2\n"
     ]
    }
   ],
   "source": [
    "# 使用 // 運算子計算8除以3的整數結果(地板除法)\n",
    "print(8 // 3)  # 輸出結果為2"
   ]
  },
  {
   "cell_type": "code",
   "execution_count": 42,
   "metadata": {},
   "outputs": [
    {
     "name": "stdout",
     "output_type": "stream",
     "text": [
      "2\n"
     ]
    }
   ],
   "source": [
    "# 使用 % 運算子計算12除以5的餘數(支援浮點數)\n",
    "print(12 % 5)  # 輸出結果為2"
   ]
  },
  {
   "cell_type": "code",
   "execution_count": 43,
   "metadata": {},
   "outputs": [
    {
     "name": "stdout",
     "output_type": "stream",
     "text": [
      "2.5\n"
     ]
    }
   ],
   "source": [
    "# 使用 % 運算子計算12.5除以5的餘數(支援浮點數)\n",
    "print(12.5 % 5)  # 輸出結果為2.5"
   ]
  },
  {
   "cell_type": "code",
   "execution_count": 44,
   "metadata": {},
   "outputs": [
    {
     "name": "stdout",
     "output_type": "stream",
     "text": [
      "81\n"
     ]
    }
   ],
   "source": [
    "# 使用 ** 運算子計算9的平方(9的2次方)\n",
    "print(9 ** 2)  # 輸出結果為81"
   ]
  },
  {
   "cell_type": "code",
   "execution_count": 45,
   "metadata": {},
   "outputs": [
    {
     "name": "stdout",
     "output_type": "stream",
     "text": [
      "3.0\n"
     ]
    }
   ],
   "source": [
    "# 使用 ** 運算子計算9的平方根(9的0.5次方)\n",
    "print(9 ** 0.5)  # 輸出結果為3.0"
   ]
  },
  {
   "cell_type": "code",
   "execution_count": 46,
   "metadata": {},
   "outputs": [
    {
     "name": "stdout",
     "output_type": "stream",
     "text": [
      "12\n"
     ]
    }
   ],
   "source": [
    "# 使用 << 運算子將整數a左移b位元\n",
    "a = 3            # 將整數3指派給變數a，3的二進位表示為0b11\n",
    "b = 2            # 將整數2指派給變數b，表示左移的位數\n",
    "\n",
    "result = a << b  # 將a的二進位值左移b位元，相當於乘以2的b次方\n",
    "                 # 0b11左移2位變成0b1100，十進位為12\n",
    "\n",
    "print(result)    # 輸出result的值，結果為12"
   ]
  },
  {
   "cell_type": "code",
   "execution_count": 47,
   "metadata": {},
   "outputs": [
    {
     "name": "stdout",
     "output_type": "stream",
     "text": [
      "3\n"
     ]
    }
   ],
   "source": [
    "# 使用 >> 運算子將整數a右移b位元\n",
    "a = 12           # 將整數12指派給變數a，二進位表示為0b1100\n",
    "b = 2            # 將整數2指派給變數b，表示右移的位數\n",
    "result = a >> b  # 將a的二進位值右移b位元，相當於整除2的b次方\n",
    "                 # 0b1100右移2位變成0b11，十進位為3\n",
    "print(result)    # 輸出result的值，結果為3"
   ]
  },
  {
   "cell_type": "code",
   "execution_count": 48,
   "metadata": {},
   "outputs": [
    {
     "name": "stdout",
     "output_type": "stream",
     "text": [
      "-6\n"
     ]
    }
   ],
   "source": [
    "# 使用 ~ 運算子對整數a進行位元NOT反轉\n",
    "a = 5          # 十進位5，二進位表示為0b0101\n",
    "result = ~a    # 位元反轉後變成0b...11111010(十進位為-6)\n",
    "print(result)  # 輸出結果為-6"
   ]
  },
  {
   "cell_type": "code",
   "execution_count": 49,
   "metadata": {},
   "outputs": [
    {
     "name": "stdout",
     "output_type": "stream",
     "text": [
      "2\n"
     ]
    }
   ],
   "source": [
    "# 使用 & 運算子對a和b進行位元AND運算\n",
    "a = 6           # 二進位表示為0b0110\n",
    "b = 3           # 二進位表示為0b0011\n",
    "result = a & b  # 執行位元AND：0b0110 & 0b0011 = 0b0010(十進位為2)\n",
    "print(result)   # 輸出結果為2"
   ]
  },
  {
   "cell_type": "code",
   "execution_count": 50,
   "metadata": {},
   "outputs": [
    {
     "name": "stdout",
     "output_type": "stream",
     "text": [
      "7\n"
     ]
    }
   ],
   "source": [
    "# 使用 | 運算子對a和b進行位元OR運算\n",
    "a = 6           # 二進位表示為0b0110\n",
    "b = 3           # 二進位表示為0b0011\n",
    "result = a | b  # 執行位元OR：0b0110 | 0b0011 = 0b0111(十進位為7)\n",
    "print(result)   # 輸出結果為7"
   ]
  },
  {
   "cell_type": "code",
   "execution_count": 51,
   "metadata": {},
   "outputs": [
    {
     "name": "stdout",
     "output_type": "stream",
     "text": [
      "5\n"
     ]
    }
   ],
   "source": [
    "# 使用 ^ 運算子對a和b進行位元XOR(互斥或)運算\n",
    "a = 6               # 二進位表示為0b0110\n",
    "b = 3               # 二進位表示為0b0011\n",
    "result = a ^ b      # 執行XOR運算：0b0110 ^ 0b0011 = 0b0101(十進位為5)\n",
    "print(result)       # 輸出結果為5"
   ]
  },
  {
   "cell_type": "code",
   "execution_count": 52,
   "metadata": {},
   "outputs": [
    {
     "name": "stdout",
     "output_type": "stream",
     "text": [
      "False\n"
     ]
    }
   ],
   "source": [
    "# 使用 == 運算子比較整數123與字串\"123\"是否相等\n",
    "print(123 == \"123\")  # 輸出結果為False"
   ]
  },
  {
   "cell_type": "code",
   "execution_count": 53,
   "metadata": {},
   "outputs": [
    {
     "name": "stdout",
     "output_type": "stream",
     "text": [
      "False\n"
     ]
    }
   ],
   "source": [
    "# 使用 == 運算子比較字串\"ABC\"與\"abc\"是否相等\n",
    "print(\"ABC\" == \"abc\")  # 輸出結果為False"
   ]
  },
  {
   "cell_type": "code",
   "execution_count": 54,
   "metadata": {},
   "outputs": [
    {
     "name": "stdout",
     "output_type": "stream",
     "text": [
      "True\n"
     ]
    }
   ],
   "source": [
    "# 使用 == 運算子比較布林值True與整數1是否相等\n",
    "print(True == 1)  # 輸出結果為True"
   ]
  },
  {
   "cell_type": "code",
   "execution_count": 55,
   "metadata": {},
   "outputs": [
    {
     "name": "stdout",
     "output_type": "stream",
     "text": [
      "True\n"
     ]
    }
   ],
   "source": [
    "# 使用 == 運算子比較布林值False與整數0是否相等\n",
    "print(False == 0)  # 輸出結果為True"
   ]
  },
  {
   "cell_type": "code",
   "execution_count": 56,
   "metadata": {},
   "outputs": [
    {
     "name": "stdout",
     "output_type": "stream",
     "text": [
      "50\n"
     ]
    }
   ],
   "source": [
    "# 將5、10、15同時指定給變數a、b、c\n",
    "a, b, c = 5, 10, 15\n",
    "\n",
    "# 將a乘以b，結果再賦值給a(等同於a = a * b)\n",
    "a *= b  \n",
    "\n",
    "# 輸出a的結果，結果為50\n",
    "print(a)"
   ]
  },
  {
   "cell_type": "code",
   "execution_count": 57,
   "metadata": {},
   "outputs": [
    {
     "name": "stdout",
     "output_type": "stream",
     "text": [
      "50\n"
     ]
    }
   ],
   "source": [
    "# 將5、10、15同時指定給變數a、b、c\n",
    "a, b, c = 5, 10, 15\n",
    "\n",
    "# 將a乘以b，結果再賦值給a\n",
    "a = a * b  \n",
    "\n",
    "# 輸出a的結果，結果為50\n",
    "print(a)"
   ]
  },
  {
   "cell_type": "code",
   "execution_count": 58,
   "metadata": {},
   "outputs": [
    {
     "name": "stdout",
     "output_type": "stream",
     "text": [
      "3\n"
     ]
    }
   ],
   "source": [
    "# 將5、10、15同時指定給變數a、b、c\n",
    "a, b, c = 5, 10, 15\n",
    "\n",
    "# 對c取餘數運算，將c除以4後的餘數賦值回c(等同於c = c % 4)\n",
    "c %= 4\n",
    "\n",
    "# 輸出c的結果，結果為3\n",
    "print(c)"
   ]
  },
  {
   "cell_type": "code",
   "execution_count": 59,
   "metadata": {},
   "outputs": [
    {
     "name": "stdout",
     "output_type": "stream",
     "text": [
      "3\n"
     ]
    }
   ],
   "source": [
    "# 將5、10、15同時指定給變數a、b、c\n",
    "a, b, c = 5, 10, 15\n",
    "\n",
    "# 對c取餘數運算，將c除以4後的餘數賦值回c\n",
    "c = c % 4\n",
    "\n",
    "# 輸出c的結果，結果為3\n",
    "print(c)"
   ]
  },
  {
   "cell_type": "code",
   "execution_count": 60,
   "metadata": {},
   "outputs": [
    {
     "name": "stdout",
     "output_type": "stream",
     "text": [
      "True\n"
     ]
    }
   ],
   "source": [
    "# 使用and運算子結合兩個條件：\n",
    "# 第1個條件：5 > 4 為 True\n",
    "# 第2個條件：3 > 2 為 True\n",
    "# and代表「兩個條件都為True，整體結果才是True」，否則為False\n",
    "\n",
    "print(5 > 4 and 3 > 2)  # 輸出結果為True"
   ]
  },
  {
   "cell_type": "code",
   "execution_count": 61,
   "metadata": {},
   "outputs": [
    {
     "name": "stdout",
     "output_type": "stream",
     "text": [
      "False\n"
     ]
    }
   ],
   "source": [
    "# 使用and運算子結合兩個條件：\n",
    "# 第1個條件：5 > 4 為 True\n",
    "# 第2個條件：3 < 2 為 False\n",
    "# and代表「兩個條件都要是True，整體結果才是True」，否則為False\n",
    "\n",
    "print(5 > 4 and 3 < 2)  # 輸出結果為False"
   ]
  },
  {
   "cell_type": "code",
   "execution_count": 62,
   "metadata": {},
   "outputs": [
    {
     "name": "stdout",
     "output_type": "stream",
     "text": [
      "False\n"
     ]
    }
   ],
   "source": [
    "# 使用and運算子結合兩個條件：\n",
    "# 第1個條件：5 < 4 為 False\n",
    "# 第2個條件：3 > 2 為 True\n",
    "# and代表「兩個條件都要是True，整體結果才是True」，否則為False\n",
    "\n",
    "print(5 < 4 and 3 > 2)  # 輸出結果為False"
   ]
  },
  {
   "cell_type": "code",
   "execution_count": 63,
   "metadata": {},
   "outputs": [
    {
     "name": "stdout",
     "output_type": "stream",
     "text": [
      "True\n"
     ]
    }
   ],
   "source": [
    "# 使用or運算子結合兩個條件：\n",
    "# 第1個條件：5 > 4 為 True\n",
    "# 第2個條件：3 < 2 為 False\n",
    "# or表示「只要任一條件為True，整體結果就為True」，否則為False\n",
    "\n",
    "print(5 > 4 or 3 < 2)  # 輸出結果為True"
   ]
  },
  {
   "cell_type": "code",
   "execution_count": 64,
   "metadata": {},
   "outputs": [
    {
     "name": "stdout",
     "output_type": "stream",
     "text": [
      "True\n"
     ]
    }
   ],
   "source": [
    "# 使用or運算子結合兩個條件：\n",
    "# 第1個條件：5 < 4 為 False\n",
    "# 第2個條件：3 > 2 為 True\n",
    "# or表示「只要任一條件為True，整體結果就為True」，否則為False\n",
    "\n",
    "print(5 < 4 or 3 > 2)  # 輸出結果為True"
   ]
  },
  {
   "cell_type": "code",
   "execution_count": 65,
   "metadata": {},
   "outputs": [
    {
     "name": "stdout",
     "output_type": "stream",
     "text": [
      "False\n"
     ]
    }
   ],
   "source": [
    "# 使用or運算子結合兩個條件：\n",
    "# 第1個條件：5 < 4 為 False\n",
    "# 第2個條件：3 < 2 為 False\n",
    "# or表示「只要任一條件為True，整體結果就為True」，否則為False\n",
    "\n",
    "print(5 < 4 or 3 < 2)  # 輸出結果為False"
   ]
  },
  {
   "cell_type": "code",
   "execution_count": 66,
   "metadata": {},
   "outputs": [
    {
     "name": "stdout",
     "output_type": "stream",
     "text": [
      "False\n"
     ]
    }
   ],
   "source": [
    "# 使用not運算子反轉條件5 > 4的布林結果(True會變成False，False會變成True)\n",
    "# 5 > 4為True，但前面加上not，結果會變成False\n",
    "\n",
    "print(not 5 > 4)  # 輸出結果為False"
   ]
  },
  {
   "cell_type": "code",
   "execution_count": 67,
   "metadata": {},
   "outputs": [
    {
     "name": "stdout",
     "output_type": "stream",
     "text": [
      "True\n"
     ]
    }
   ],
   "source": [
    "# 使用not運算子反轉條件5 < 4的布林結果(True會變成False，False會變成True)\n",
    "# 5 < 4為False，但前面加上not，結果會變成True\n",
    "print(not 5 < 4)  # 輸出結果為True"
   ]
  },
  {
   "cell_type": "code",
   "execution_count": 68,
   "metadata": {},
   "outputs": [
    {
     "name": "stdout",
     "output_type": "stream",
     "text": [
      "J\n",
      "e\n"
     ]
    }
   ],
   "source": [
    "# 將字串\"Jean\"指定給變數name\n",
    "name = \"Jean\"\n",
    "\n",
    "# 使用索引取得字串中的第1個字元(索引從0開始)\n",
    "print(name[0])  # 輸出結果為J\n",
    "\n",
    "# 使用索引取得字串中的第2個字元\n",
    "print(name[1])  # 輸出結果為e"
   ]
  },
  {
   "cell_type": "code",
   "execution_count": 69,
   "metadata": {},
   "outputs": [
    {
     "name": "stdout",
     "output_type": "stream",
     "text": [
      "3.141592653589793\n"
     ]
    }
   ],
   "source": [
    "# 匯入math模組，才能使用數學相關的常數與函式\n",
    "import math\n",
    "\n",
    "# 取得math模組中的圓周率常數pi(近似值為3.14159)\n",
    "print(math.pi)  # 輸出結果為3.141592653589793"
   ]
  },
  {
   "cell_type": "code",
   "execution_count": 70,
   "metadata": {},
   "outputs": [
    {
     "name": "stdout",
     "output_type": "stream",
     "text": [
      "10\n",
      "20\n"
     ]
    }
   ],
   "source": [
    "# 將數值10指定給變數r1，數值20指定給變數r2(使用分號分隔兩個敘述)\n",
    "r1 = 10; r2 = 20\n",
    "\n",
    "# 輸出r1的值\n",
    "print(r1)  # 輸出結果為10\n",
    "\n",
    "# 輸出r2的值\n",
    "print(r2)  # 輸出結果為20"
   ]
  },
  {
   "cell_type": "code",
   "execution_count": 71,
   "metadata": {},
   "outputs": [
    {
     "name": "stdout",
     "output_type": "stream",
     "text": [
      "0.6666666666666666\n"
     ]
    }
   ],
   "source": [
    "# 使用 / 運算子計算2除以3.0的結果(浮點數除法)\n",
    "# 因為其中一個數是浮點數(3.0)，所以結果會是浮點數\n",
    "print(2 / 3.0)  # 輸出結果為0.6666666666666666"
   ]
  },
  {
   "cell_type": "code",
   "execution_count": 72,
   "metadata": {},
   "outputs": [
    {
     "name": "stdout",
     "output_type": "stream",
     "text": [
      "3.0\n"
     ]
    }
   ],
   "source": [
    "# 先計算12.3乘以10，結果為123.0\n",
    "# 接著使用 % 運算子取123.0除以5的餘數(支援浮點數)\n",
    "print(12.3 * 10 % 5)  # 輸出結果為3.0"
   ]
  },
  {
   "cell_type": "code",
   "execution_count": 73,
   "metadata": {},
   "outputs": [
    {
     "name": "stdout",
     "output_type": "stream",
     "text": [
      "24\n"
     ]
    }
   ],
   "source": [
    "# 使用 // 運算子計算123除以5的整數商(地板除法)\n",
    "# 地板除法會捨去小數部分，只保留整數部分\n",
    "print(123 // 5)  # 輸出結果為24"
   ]
  },
  {
   "cell_type": "code",
   "execution_count": 74,
   "metadata": {},
   "outputs": [
    {
     "name": "stdout",
     "output_type": "stream",
     "text": [
      "False\n"
     ]
    }
   ],
   "source": [
    "# 使用 == 運算子比較字串 \"A\" 與 \"a\" 是否相等\n",
    "# 英文大小寫不同會被視為不同字元，因此不相等\n",
    "print(\"A\" == \"a\")  # 輸出結果為False"
   ]
  },
  {
   "cell_type": "code",
   "execution_count": 75,
   "metadata": {},
   "outputs": [
    {
     "name": "stdout",
     "output_type": "stream",
     "text": [
      "True\n"
     ]
    }
   ],
   "source": [
    "# 使用or運算子結合兩個條件：\n",
    "# 第1個條件：5 > 3 為 True\n",
    "# 第2個條件：4 < 2 為 False\n",
    "# or表示「只要任一條件為True，整體結果就為True」\n",
    "\n",
    "print((5 > 3) or (4 < 2))  # 輸出結果為True"
   ]
  },
  {
   "cell_type": "code",
   "execution_count": 76,
   "metadata": {},
   "outputs": [
    {
     "name": "stdout",
     "output_type": "stream",
     "text": [
      "True\n"
     ]
    }
   ],
   "source": [
    "# 使用and運算子結合兩個條件：\n",
    "# 第1個條件：5 <= 9 為 True\n",
    "# 第2個條件：not(3 > 7)，3 > 7 為 False，但前面加上not，結果會變成True\n",
    "# and表示「兩個條件都為True，整體結果才是True」\n",
    "\n",
    "print((5 <= 9) and (not(3 > 7)))  # 輸出結果為True"
   ]
  },
  {
   "cell_type": "code",
   "execution_count": 77,
   "metadata": {},
   "outputs": [
    {
     "name": "stdout",
     "output_type": "stream",
     "text": [
      "False\n"
     ]
    }
   ],
   "source": [
    "# 計算10乘以2，結果為整數20\n",
    "# 將整數20與字串\"20\"進行比較\n",
    "# 因為資料型別不同(int / str)，所以比較結果為False\n",
    "\n",
    "print(10 * 2 == \"20\")  # 輸出結果為False"
   ]
  },
  {
   "cell_type": "code",
   "execution_count": 78,
   "metadata": {},
   "outputs": [
    {
     "name": "stdout",
     "output_type": "stream",
     "text": [
      "WowWowWowWow\n"
     ]
    }
   ],
   "source": [
    "# 使用 * 運算子將字串\"Wow\"重複4次\n",
    "# Python支援字串 × 整數的運算方式，會將字串重複多次後合併成一個新字串\n",
    "print(\"Wow\" * 4)  # 輸出結果為WowWowWowWow"
   ]
  },
  {
   "cell_type": "code",
   "execution_count": 79,
   "metadata": {},
   "outputs": [
    {
     "name": "stdout",
     "output_type": "stream",
     "text": [
      "True\n"
     ]
    }
   ],
   "source": [
    "# 使用or運算子結合兩個條件：\n",
    "# 第1個條件：\"abc\" != \"ABC\" 為 True(字串大小寫不同，不相等)\n",
    "# 第2個條件：3 > 5 為 False\n",
    "# or 表示「只要任一條件為True，整體結果就為True」\n",
    "\n",
    "print((\"abc\" != \"ABC\") or (3 > 5))  # 輸出結果為True"
   ]
  },
  {
   "cell_type": "code",
   "execution_count": 80,
   "metadata": {},
   "outputs": [
    {
     "name": "stdout",
     "output_type": "stream",
     "text": [
      "8Happy\n"
     ]
    }
   ],
   "source": [
    "# 使用 + 運算子將字串 \"8\" 和字串 \"Happy\" 連接起來\n",
    "print(\"8\" + \"Happy\")  # 輸出結果為8Happy"
   ]
  },
  {
   "cell_type": "code",
   "execution_count": 81,
   "metadata": {},
   "outputs": [
    {
     "name": "stdout",
     "output_type": "stream",
     "text": [
      "-16\n"
     ]
    }
   ],
   "source": [
    "# 使用 >> 運算子將整數-128右移3位元\n",
    "# 右移3位相當於除以2的3次方(8)，但對負數是算術右移，保留符號位\n",
    "result = -128 >> 3\n",
    "\n",
    "print(result)  # 輸出結果為-16"
   ]
  },
  {
   "cell_type": "code",
   "execution_count": 82,
   "metadata": {},
   "outputs": [
    {
     "name": "stdout",
     "output_type": "stream",
     "text": [
      "2048\n"
     ]
    }
   ],
   "source": [
    "# 使用 << 運算子將整數2左移10位元\n",
    "# 左移 10 位相當於乘以2的10次方(1024)\n",
    "result = 2 << 10\n",
    "\n",
    "print(result)  # 輸出結果為2048"
   ]
  },
  {
   "cell_type": "code",
   "execution_count": 83,
   "metadata": {},
   "outputs": [
    {
     "name": "stdout",
     "output_type": "stream",
     "text": [
      "2\n"
     ]
    }
   ],
   "source": [
    "# 使用 & 運算子將整數2與10做位元AND運算\n",
    "# 位元AND運算是將兩個數字的二進位位元逐位比較，只有兩個位元都為1時，結果才是1\n",
    "result = 2 & 10\n",
    "\n",
    "print(result)  # 輸出結果為2"
   ]
  },
  {
   "cell_type": "code",
   "execution_count": 84,
   "metadata": {},
   "outputs": [
    {
     "name": "stdout",
     "output_type": "stream",
     "text": [
      "10\n"
     ]
    }
   ],
   "source": [
    "# 使用 | 運算子將整數2與10做位元OR運算\n",
    "# 位元OR運算是將兩個數字的二進位位元逐位比較，任一位元為1，結果就為1\n",
    "result = 2 | 10\n",
    "\n",
    "print(result)  # 輸出結果為10"
   ]
  },
  {
   "cell_type": "code",
   "execution_count": 85,
   "metadata": {},
   "outputs": [
    {
     "name": "stdout",
     "output_type": "stream",
     "text": [
      "我 是 嵐\n"
     ]
    }
   ],
   "source": [
    "# 使用print()函數輸出多個字串，字串之間用逗號分隔\n",
    "# 逗號會自動在字串間加入空格\n",
    "print(\"我\", \"是\", \"嵐\")  # 輸出結果為：我 是 嵐"
   ]
  },
  {
   "cell_type": "code",
   "execution_count": 86,
   "metadata": {},
   "outputs": [
    {
     "name": "stdout",
     "output_type": "stream",
     "text": [
      "我@是@嵐\n"
     ]
    }
   ],
   "source": [
    "# 使用print()函數輸出多個字串，並指定參數sep為\"@\"\n",
    "# sep參數用來設定字串間的分隔符號，預設是空格\n",
    "print(\"我\", \"是\", \"嵐\", sep=\"@\")  # 輸出結果為：我@是@嵐"
   ]
  },
  {
   "cell_type": "code",
   "execution_count": 87,
   "metadata": {},
   "outputs": [
    {
     "name": "stdout",
     "output_type": "stream",
     "text": [
      "我 是 嵐~~~"
     ]
    }
   ],
   "source": [
    "# 使用print()函數輸出多個字串，並指定參數end為\"~~~\"\n",
    "# end參數用來設定列印結尾的字元，預設是換行符號\\n\n",
    "print(\"我\", \"是\", \"嵐\", end=\"~~~\")  # 輸出結果為 我 是 嵐~~~(不會換行)"
   ]
  },
  {
   "cell_type": "code",
   "execution_count": 88,
   "metadata": {},
   "outputs": [
    {
     "name": "stdout",
     "output_type": "stream",
     "text": [
      "我 是 嵐\n"
     ]
    }
   ],
   "source": [
    "# 指定變數name的值為\"嵐\"\n",
    "name = \"嵐\"\n",
    "\n",
    "# 使用print()函數輸出多個字串與變數，逗號分隔會自動加入空格\n",
    "print(\"我\", \"是\", name)  # 輸出結果為 我 是 嵐"
   ]
  },
  {
   "cell_type": "code",
   "execution_count": 89,
   "metadata": {},
   "outputs": [
    {
     "name": "stdout",
     "output_type": "stream",
     "text": [
      "小丸子\n"
     ]
    }
   ],
   "source": [
    "# 使用input()函數提示使用者輸入姓名，並將輸入的內容儲存在變數userName中\n",
    "userName = input(\"請輸入姓名:\")\n",
    "\n",
    "# 輸出變數userName的內容\n",
    "print(userName)  # 輸出使用者輸入的姓名"
   ]
  },
  {
   "cell_type": "code",
   "execution_count": 90,
   "metadata": {},
   "outputs": [
    {
     "name": "stdout",
     "output_type": "stream",
     "text": [
      "123\n"
     ]
    }
   ],
   "source": [
    "# 使用eval()函數將字串\"123\"當作Python表達式來執行\n",
    "# eval(\"123\")等同於直接執行數字123，因此會回傳整數123\n",
    "print(eval(\"123\"))  # 輸出結果為123"
   ]
  },
  {
   "cell_type": "code",
   "execution_count": 91,
   "metadata": {},
   "outputs": [
    {
     "name": "stdout",
     "output_type": "stream",
     "text": [
      "-1.5\n"
     ]
    }
   ],
   "source": [
    "# 使用eval()函數將字串\"-1.5\"當作Python表達式來執行\n",
    "# eval(\"-1.5\")會回傳浮點數-1.5\n",
    "print(eval(\"-1.5\"))  # 輸出結果為-1.5"
   ]
  },
  {
   "cell_type": "code",
   "execution_count": 92,
   "metadata": {},
   "outputs": [
    {
     "name": "stdout",
     "output_type": "stream",
     "text": [
      "3\n"
     ]
    }
   ],
   "source": [
    "# 使用eval()函數將字串\"1 + 2\"當作Python表達式來執行\n",
    "# eval(\"1 + 2\")會計算字串中的加法運算，結果為整數3\n",
    "print(eval(\"1 + 2\"))  # 輸出結果為3"
   ]
  },
  {
   "cell_type": "code",
   "execution_count": 93,
   "metadata": {},
   "outputs": [
    {
     "name": "stdout",
     "output_type": "stream",
     "text": [
      "15\n"
     ]
    }
   ],
   "source": [
    "# 使用eval()函數將字串\"(1 + 2)* 5\"當作Python表達式來執行\n",
    "# eval(\"(1 + 2)* 5\")會先計算括號內的1 + 2，再乘以5，結果為整數15\n",
    "print(eval(\"(1 + 2)* 5\"))  # 輸出結果為15"
   ]
  },
  {
   "cell_type": "code",
   "execution_count": 94,
   "metadata": {},
   "outputs": [
    {
     "name": "stdout",
     "output_type": "stream",
     "text": [
      "半徑為 5 的圓面積為 78.53975\n"
     ]
    }
   ],
   "source": [
    "# 將圓周率PI定義為常數\n",
    "PI = 3.14159\n",
    "\n",
    "# 取得使用者輸入的圓半徑並用eval()將字串轉換成數值\n",
    "radius = eval(input(\"請輸入圓半徑：\"))\n",
    "\n",
    "# 輸出圓面積(圓面積公式：PI × 半徑的平方)\n",
    "print(\"半徑為\", radius, \"的圓面積為\", PI * radius * radius)"
   ]
  },
  {
   "cell_type": "code",
   "execution_count": 95,
   "metadata": {},
   "outputs": [
    {
     "name": "stdout",
     "output_type": "stream",
     "text": [
      "總成績為 240\n"
     ]
    }
   ],
   "source": [
    "# 使用eval()取得使用者輸入的國文、英文、數學分數\n",
    "score1 = eval(input(\"請輸入國文分數：\"))\n",
    "score2 = eval(input(\"請輸入英文分數：\"))\n",
    "score3 = eval(input(\"請輸入數學分數：\"))\n",
    "\n",
    "# 計算總成績\n",
    "total = score1 + score2 + score3\n",
    "\n",
    "# 輸出總成績\n",
    "print(\"總成績為\", total)"
   ]
  },
  {
   "cell_type": "code",
   "execution_count": 96,
   "metadata": {},
   "outputs": [
    {
     "name": "stdout",
     "output_type": "stream",
     "text": [
      "梯形面積為 75.0\n"
     ]
    }
   ],
   "source": [
    "# 使用eval()取得使用者輸入的梯形上底、下底和高\n",
    "top = eval(input(\"請輸入上底：\"))\n",
    "bottom = eval(input(\"請輸入下底：\"))\n",
    "height = eval(input(\"請輸入高：\"))\n",
    "\n",
    "# 計算梯形面積(梯形面積公式：(上底 + 下底) × 高 ÷ 2)\n",
    "area = (top + bottom) * height / 2\n",
    "\n",
    "# 輸出梯形面積\n",
    "print(\"梯形面積為\", area)"
   ]
  },
  {
   "cell_type": "code",
   "execution_count": 97,
   "metadata": {},
   "outputs": [
    {
     "name": "stdout",
     "output_type": "stream",
     "text": [
      "兩點距離為 1.4142135623730951\n"
     ]
    }
   ],
   "source": [
    "# 使用eval()取得使用者輸入的第一個點和第二個點的座標(格式為(x, y))\n",
    "x1, y1 = eval(input(\"請輸入第一個點的座標：\"))\n",
    "x2, y2 = eval(input(\"請輸入第二個點的座標：\"))\n",
    "\n",
    "# 計算兩點距離，公式為 √((x2 - x1)² + (y2 - y1)²)\n",
    "distance = ((x2 - x1) ** 2 + (y2 - y1) ** 2) ** 0.5\n",
    "\n",
    "# 輸出兩點距離\n",
    "print(\"兩點距離為\", distance)"
   ]
  },
  {
   "cell_type": "code",
   "execution_count": 98,
   "metadata": {},
   "outputs": [
    {
     "name": "stdout",
     "output_type": "stream",
     "text": [
      "False\n"
     ]
    }
   ],
   "source": [
    "# 使用 == 運算子比較字串\"HAPPY\"與\"Happy\"是否相等(區分大小寫)\n",
    "print(\"HAPPY\" == \"Happy\")  # 輸出結果為False"
   ]
  },
  {
   "cell_type": "code",
   "execution_count": 99,
   "metadata": {},
   "outputs": [
    {
     "name": "stdout",
     "output_type": "stream",
     "text": [
      "1.3333333333333333\n"
     ]
    }
   ],
   "source": [
    "# 使用 / 運算子計算4除以3的結果(浮點數除法)\n",
    "print(4 / 3)  # 輸出結果為1.3333333333333333"
   ]
  },
  {
   "cell_type": "code",
   "execution_count": 100,
   "metadata": {},
   "outputs": [
    {
     "name": "stdout",
     "output_type": "stream",
     "text": [
      "1\n"
     ]
    }
   ],
   "source": [
    "# 使用 // 運算子計算4除以3的整數商(地板除法)\n",
    "print(4 // 3)  # 輸出結果為1"
   ]
  },
  {
   "cell_type": "code",
   "execution_count": 101,
   "metadata": {},
   "outputs": [
    {
     "name": "stdout",
     "output_type": "stream",
     "text": [
      "512\n"
     ]
    }
   ],
   "source": [
    "# 計算2的(3的2次方)次方，也就是2 ** (3 ** 2)\n",
    "# 指數運算符 ** 右結合，先算3 ** 2 = 9，再算2 ** 9 = 512\n",
    "print(2 ** 3 ** 2)  # 輸出結果為512"
   ]
  },
  {
   "cell_type": "code",
   "execution_count": 102,
   "metadata": {},
   "outputs": [
    {
     "name": "stdout",
     "output_type": "stream",
     "text": [
      "3.0\n"
     ]
    }
   ],
   "source": [
    "# 使用 * 和 % 運算子計算12.3乘以10後再除以5的餘數\n",
    "# 先計算12.3 * 10 = 123.0，再計算123.0 % 5，結果為3.0\n",
    "print(12.3 * 10 % 5)  # 輸出結果為3.0"
   ]
  },
  {
   "cell_type": "code",
   "execution_count": 103,
   "metadata": {},
   "outputs": [
    {
     "name": "stdout",
     "output_type": "stream",
     "text": [
      "True\n"
     ]
    }
   ],
   "source": [
    "# 使用 > 運算子比較字元'a'和'Z'的大小(根據ASCII碼)\n",
    "# 'a'的ASCII碼為97，'Z'的ASCII碼為90，因此結果為True\n",
    "print('a' > 'Z')  # 輸出結果為True"
   ]
  },
  {
   "cell_type": "code",
   "execution_count": 104,
   "metadata": {},
   "outputs": [
    {
     "name": "stdout",
     "output_type": "stream",
     "text": [
      "False\n"
     ]
    }
   ],
   "source": [
    "# 使用 == 運算子比較整數123與字串\"123\"是否相等(型別不同)\n",
    "print(123 == \"123\")  # 輸出結果為False"
   ]
  },
  {
   "cell_type": "code",
   "execution_count": 105,
   "metadata": {},
   "outputs": [
    {
     "name": "stdout",
     "output_type": "stream",
     "text": [
      "True\n"
     ]
    }
   ],
   "source": [
    "# 使用and運算子結合兩個條件：\n",
    "# 第一個條件：5 + 3 * 8 < 30，先算乘法3 * 8 = 24，再加5等於29，29 < 30 為True\n",
    "# 第二個條件：3 ** 2 == 9，3的平方等於9，為True\n",
    "# and表示兩個條件都為True，整體結果才是True\n",
    "\n",
    "print((5 + 3 * 8 < 30) and (3 ** 2 == 9))  # 輸出結果為True"
   ]
  },
  {
   "cell_type": "code",
   "execution_count": 106,
   "metadata": {},
   "outputs": [
    {
     "name": "stdout",
     "output_type": "stream",
     "text": [
      "Happy New Year!!!"
     ]
    }
   ],
   "source": [
    "# 使用print()函數輸出多個字串，並設定結尾字串為\"!!!\"(取代預設換行)\n",
    "print(\"Happy\", \"New\", \"Year\", end=\"!!!\")  # 輸出結果為Happy New Year!!!"
   ]
  },
  {
   "cell_type": "code",
   "execution_count": 107,
   "metadata": {},
   "outputs": [
    {
     "name": "stdout",
     "output_type": "stream",
     "text": [
      "210\n"
     ]
    }
   ],
   "source": [
    "# 使用eval()計算字串中包含的數學表達式\n",
    "# 計算456 - 123 * 2，先算乘法123 * 2 = 246，再算456 - 246 = 210\n",
    "result = eval(\"456 - 123 * 2\")\n",
    "\n",
    "print(result)  # 輸出結果為210"
   ]
  },
  {
   "cell_type": "code",
   "execution_count": 108,
   "metadata": {},
   "outputs": [
    {
     "name": "stdout",
     "output_type": "stream",
     "text": [
      "<class 'bool'>\n"
     ]
    }
   ],
   "source": [
    "# 使用type()函數檢查布林值False的資料型別\n",
    "print(type(False))  # 輸出結果為<class 'bool'>"
   ]
  },
  {
   "cell_type": "code",
   "execution_count": 109,
   "metadata": {},
   "outputs": [
    {
     "name": "stdout",
     "output_type": "stream",
     "text": [
      "<class 'str'>\n"
     ]
    }
   ],
   "source": [
    "# 使用type()函數檢查字串'a'的資料型別\n",
    "print(type('a'))  # 輸出結果為<class 'str'>"
   ]
  },
  {
   "cell_type": "code",
   "execution_count": 110,
   "metadata": {},
   "outputs": [
    {
     "name": "stdout",
     "output_type": "stream",
     "text": [
      "<class 'float'>\n"
     ]
    }
   ],
   "source": [
    "# 使用type()函數檢查科學記號數字123.E-5的資料型別\n",
    "print(type(123.E-5))  # 輸出結果為<class 'float'>"
   ]
  },
  {
   "cell_type": "code",
   "execution_count": 111,
   "metadata": {},
   "outputs": [
    {
     "name": "stdout",
     "output_type": "stream",
     "text": [
      "<class 'complex'>\n"
     ]
    }
   ],
   "source": [
    "# 使用type()函數檢查複數1+2j的資料型別\n",
    "print(type(1+2j))  # 輸出結果為<class 'complex'>"
   ]
  },
  {
   "cell_type": "code",
   "execution_count": 112,
   "metadata": {},
   "outputs": [
    {
     "name": "stdout",
     "output_type": "stream",
     "text": [
      "<class 'list'>\n"
     ]
    }
   ],
   "source": [
    "# 使用type()函數檢查串列[1, 2, 3, 4, 5]的資料型別\n",
    "print(type([1, 2, 3, 4, 5]))  # 輸出結果為<class 'list'>"
   ]
  },
  {
   "cell_type": "code",
   "execution_count": 113,
   "metadata": {},
   "outputs": [
    {
     "name": "stdout",
     "output_type": "stream",
     "text": [
      "若每秒跳動 1 下，80 年心臟總共跳動：約 2,524,608,000 下\n"
     ]
    }
   ],
   "source": [
    "# 每秒跳動1下的心臟跳動次數計算\n",
    "\n",
    "# 壽命與時間單位換算\n",
    "years = 80                                # 壽命：80年\n",
    "seconds_per_year = 365.25 * 24 * 60 * 60  # 一年約有多少秒(包含閏年天數)\n",
    "\n",
    "# 每秒跳1下的心臟總跳動次數\n",
    "heartbeats = years * seconds_per_year\n",
    "\n",
    "# 輸出結果，使用千分位格式並四捨五入顯示整數\n",
    "print(f\"若每秒跳動 1 下，80 年心臟總共跳動：約 {heartbeats:,.0f} 下\")"
   ]
  },
  {
   "cell_type": "code",
   "execution_count": 114,
   "metadata": {},
   "outputs": [
    {
     "name": "stdout",
     "output_type": "stream",
     "text": [
      "若每分鐘跳動 72 下，80 年心臟總共跳動：約 3,029,529,600 下\n"
     ]
    }
   ],
   "source": [
    "# 每分鐘跳動72下的心臟跳動次數計算\n",
    "\n",
    "# 壽命與時間單位換算\n",
    "years = 80                           # 壽命：80年\n",
    "beats_per_minute = 72                # 每分鐘跳動72下\n",
    "minutes_per_year = 365.25 * 24 * 60  # 一年約有多少分鐘(包含閏年天數)\n",
    "\n",
    "# 每分鐘跳72下的心臟總跳動次數\n",
    "heartbeats_72 = years * minutes_per_year * beats_per_minute\n",
    "\n",
    "# 輸出結果，使用千分位格式並四捨五入顯示整數\n",
    "print(f\"若每分鐘跳動 72 下，80 年心臟總共跳動：約 {heartbeats_72:,.0f} 下\")"
   ]
  },
  {
   "cell_type": "code",
   "execution_count": 115,
   "metadata": {},
   "outputs": [
    {
     "name": "stdout",
     "output_type": "stream",
     "text": [
      "華氏溫度為     100.00\n",
      "攝氏溫度為      37.78\n"
     ]
    }
   ],
   "source": [
    "# 取得使用者輸入的華氏溫度，並使用eval()轉換成數值\n",
    "F = eval(input(\"請輸入華氏溫度：\"))\n",
    "\n",
    "# 華氏轉攝氏公式：(F - 32) × 5 / 9\n",
    "C = (F - 32) * 5 / 9\n",
    "\n",
    "# 格式化輸出華氏溫度，寬度10，保留2位小數\n",
    "print(\"華氏溫度為\", format(F, \"10.2f\"))\n",
    "\n",
    "# 格式化輸出攝氏溫度，寬度10，保留2位小數\n",
    "print(\"攝氏溫度為\", format(C, \"10.2f\"))"
   ]
  },
  {
   "cell_type": "code",
   "execution_count": 116,
   "metadata": {},
   "outputs": [
    {
     "name": "stdout",
     "output_type": "stream",
     "text": [
      "攝氏溫度為      40.00\n",
      "華氏溫度為     104.00\n"
     ]
    }
   ],
   "source": [
    "# 取得使用者輸入的攝氏溫度，並使用eval()轉換成數值\n",
    "C = eval(input(\"請輸入攝氏溫度：\"))\n",
    "\n",
    "# 攝氏轉華氏公式：C × 9 / 5 + 32\n",
    "F = C * 9 / 5 + 32\n",
    "\n",
    "# 格式化輸出攝氏溫度，寬度10，保留2位小數\n",
    "print(\"攝氏溫度為\", format(C, \"10.2f\"))\n",
    "\n",
    "# 格式化輸出華氏溫度，寬度10，保留2位小數\n",
    "print(\"華氏溫度為\", format(F, \"10.2f\"))"
   ]
  },
  {
   "cell_type": "code",
   "execution_count": 117,
   "metadata": {},
   "outputs": [
    {
     "name": "stdout",
     "output_type": "stream",
     "text": [
      "房屋坪數為： 5.00 坪\n",
      "換算成平方公尺為： 16.53 平方公尺\n"
     ]
    }
   ],
   "source": [
    "# 取得使用者輸入的房屋坪數，並轉換成浮點數\n",
    "ping = float(input(\"請輸入房屋坪數：\"))\n",
    "\n",
    "# 坪轉平方公尺，1坪 = 3.3058平方公尺\n",
    "square_meter = ping * 3.3058\n",
    "\n",
    "# 顯示輸入坪數，格式化為小數點後2位\n",
    "print(\"房屋坪數為：\", format(ping, \".2f\"), \"坪\")\n",
    "\n",
    "# 顯示換算後的平方公尺，格式化為小數點後2位\n",
    "print(\"換算成平方公尺為：\", format(square_meter, \".2f\"), \"平方公尺\")"
   ]
  },
  {
   "cell_type": "code",
   "execution_count": 118,
   "metadata": {},
   "outputs": [
    {
     "name": "stdout",
     "output_type": "stream",
     "text": [
      "您的 BMI 為： 23.42\n"
     ]
    }
   ],
   "source": [
    "# 取得使用者輸入的身高(公分)，轉換成浮點數\n",
    "height_cm = float(input(\"請輸入身高（公分）：\"))\n",
    "\n",
    "# 取得使用者輸入的體重(公斤)，轉換成浮點數\n",
    "weight_kg = float(input(\"請輸入體重（公斤）：\"))\n",
    "\n",
    "# 將身高由公分轉成公尺\n",
    "height_m = height_cm / 100\n",
    "\n",
    "# 計算BMI，公式：體重(公斤)除以身高(公尺)的平方\n",
    "bmi = weight_kg / (height_m ** 2)\n",
    "\n",
    "# 格式化輸出BMI，保留小數點後兩位\n",
    "print(\"您的 BMI 為：\", format(bmi, \".2f\"))"
   ]
  },
  {
   "cell_type": "code",
   "execution_count": 119,
   "metadata": {},
   "outputs": [
    {
     "name": "stdout",
     "output_type": "stream",
     "text": [
      "計算結果為：x = -0.5\n"
     ]
    }
   ],
   "source": [
    "# 計算一元二次方程式(求正根解)，公式為 -b + √(b² - 4ac) / 2a\n",
    "import math\n",
    "\n",
    "# 一元二次方程式的係數a, b, c(對應 ax² + bx + c = 0)\n",
    "a = 2\n",
    "b = 5\n",
    "c = 2\n",
    "\n",
    "# 計算判別式(b² - 4ac)\n",
    "discriminant = b ** 2 - 4 * a * c\n",
    "\n",
    "# 判別式大於或等於0，表示有實數解\n",
    "if discriminant >= 0:\n",
    "    # 計算正根解，使用math.sqrt計算平方根\n",
    "    x = (-b + math.sqrt(discriminant)) / (2 * a)\n",
    "    print(f\"計算結果為：x = {x}\")\n",
    "else:\n",
    "    # 判別式小於0，表示無實數解\n",
    "    print(\"無實數解\")"
   ]
  },
  {
   "cell_type": "code",
   "execution_count": 120,
   "metadata": {},
   "outputs": [
    {
     "name": "stdout",
     "output_type": "stream",
     "text": [
      "計算結果為：50.0\n"
     ]
    }
   ],
   "source": [
    "# 計算兩數的平方差除以兩數之和，公式為 (a² - b²) / (a + b)\n",
    "a = 100\n",
    "b = 50\n",
    "\n",
    "# 避免除以零的情況，先判斷a + b是否為0\n",
    "if a + b != 0:\n",
    "    # 計算結果\n",
    "    result = (a ** 2 - b ** 2) / (a + b)\n",
    "    print(f\"計算結果為：{result}\")\n",
    "else:\n",
    "    # 當分母為零時，提示錯誤訊息\n",
    "    print(\"除數不能為零\")"
   ]
  }
 ],
 "metadata": {
  "kernelspec": {
   "display_name": "base",
   "language": "python",
   "name": "python3"
  },
  "language_info": {
   "codemirror_mode": {
    "name": "ipython",
    "version": 3
   },
   "file_extension": ".py",
   "mimetype": "text/x-python",
   "name": "python",
   "nbconvert_exporter": "python",
   "pygments_lexer": "ipython3",
   "version": "3.12.7"
  }
 },
 "nbformat": 4,
 "nbformat_minor": 2
}
