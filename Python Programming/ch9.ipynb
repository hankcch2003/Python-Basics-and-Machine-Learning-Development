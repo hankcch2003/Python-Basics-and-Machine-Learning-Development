{
 "cells": [
  {
   "cell_type": "markdown",
   "metadata": {},
   "source": [
    "# ch9 Python 物件導向程式設計"
   ]
  },
  {
   "cell_type": "code",
   "execution_count": 1,
   "metadata": {},
   "outputs": [],
   "source": [
    "# 定義一個名為Circle的類別\n",
    "class Circle:\n",
    "    # 定義圓周率PI的值為3.14\n",
    "    PI = 3.14\n",
    "    # 定義半徑為1\n",
    "    radius = 1\n",
    "\n",
    "    # 定義一個成員方法，用來計算圓的面積\n",
    "    def getArea(self):\n",
    "        # 使用圓面積公式 PI * r^2 計算圓面積並回傳結果\n",
    "        return self.PI * self.radius * self.radius"
   ]
  },
  {
   "cell_type": "code",
   "execution_count": 2,
   "metadata": {},
   "outputs": [],
   "source": [
    "# 建立一個Circle類別的物件，並將它指派給變數C1，讓變數C1參照這個Circle物件\n",
    "C1 = Circle()"
   ]
  },
  {
   "cell_type": "code",
   "execution_count": 3,
   "metadata": {},
   "outputs": [],
   "source": [
    "# 讓變數C2參照變數C1所參照的Circle物件，也就是讓兩個變數指向同一個物件\n",
    "C2 = C1"
   ]
  },
  {
   "cell_type": "code",
   "execution_count": 4,
   "metadata": {},
   "outputs": [
    {
     "name": "stdout",
     "output_type": "stream",
     "text": [
      "1\n"
     ]
    }
   ],
   "source": [
    "# 輸出C1這個物件的radius屬性值\n",
    "print(C1.radius)"
   ]
  },
  {
   "cell_type": "code",
   "execution_count": 5,
   "metadata": {},
   "outputs": [],
   "source": [
    "# 將變數C2所參照物件的radius屬性設定為10\n",
    "# 由於C2和C1參照同一個物件，因此C1.radius也會變成10\n",
    "C2.radius = 10"
   ]
  },
  {
   "cell_type": "code",
   "execution_count": 6,
   "metadata": {},
   "outputs": [
    {
     "data": {
      "text/plain": [
       "314.0"
      ]
     },
     "execution_count": 6,
     "metadata": {},
     "output_type": "execute_result"
    }
   ],
   "source": [
    "# 呼叫變數C1所參照物件的getArea()方法，傳回半徑為10的圓面積(3.14 * 10 * 10 = 314.0)\n",
    "C1.getArea()"
   ]
  },
  {
   "cell_type": "code",
   "execution_count": 7,
   "metadata": {},
   "outputs": [
    {
     "name": "stdout",
     "output_type": "stream",
     "text": [
      "半徑為 1 的圓面積為 3.14\n",
      "半徑為 10 的圓面積為 314.0\n"
     ]
    }
   ],
   "source": [
    "# 定義一個名為Circle的類別\n",
    "class Circle:\n",
    "    # 定義圓周率PI的值為3.14\n",
    "    PI = 3.14\n",
    "    # 定義半徑為1\n",
    "    radius = 1\n",
    "\n",
    "    # 定義一個成員方法，用來計算圓的面積\n",
    "    def getArea(self):\n",
    "        # 使用圓面積公式 PI * r^2 計算圓面積並回傳結果\n",
    "        return self.PI * self.radius * self.radius\n",
    "\n",
    "# 建立一個Circle類別的物件，並將它指派給變數C1，讓變數C1參照這個Circle物件\n",
    "C1 = Circle()\n",
    "\n",
    "# 輸出變數C1參照物件的半徑與計算出的圓面積\n",
    "print(\"半徑為\", C1.radius, \"的圓面積為\", C1.getArea())\n",
    "\n",
    "# 讓變數C2參照變數C1所參照的Circle物件，也就是讓兩個變數指向同一個物件\n",
    "C2 = C1\n",
    "\n",
    "# 將變數C2所參照物件的radius屬性設定為10\n",
    "# 由於C2和C1參照同一個物件，因此C1.radius也會變成10\n",
    "C2.radius = 10\n",
    "\n",
    "# 輸出變數 C1 參照物件的半徑與計算出的圓面積\n",
    "print(\"半徑為\", C1.radius, \"的圓面積為\", C1.getArea())"
   ]
  },
  {
   "cell_type": "code",
   "execution_count": 8,
   "metadata": {},
   "outputs": [
    {
     "name": "stdout",
     "output_type": "stream",
     "text": [
      "半徑為 1 的圓面積為 3.14\n",
      "半徑為 10 的圓面積為 314.0\n"
     ]
    }
   ],
   "source": [
    "# 定義一個名為Circle的類別\n",
    "class Circle:\n",
    "    # 定義圓周率PI的值為3.14\n",
    "    PI = 3.14\n",
    "    \n",
    "    # 定義建構子，可接收半徑參數r，若未指定則預設為1\n",
    "    def __init__(self, r = 1):\n",
    "        # 將接收到的半徑r指派給物件的radius屬性\n",
    "        self.radius = r\n",
    "\n",
    "    # 定義一個成員方法，用來計算圓的面積\n",
    "    def getArea(self):\n",
    "        # 使用圓面積公式PI * r^2計算圓面積並回傳結果\n",
    "        return self.PI * self.radius * self.radius\n",
    "\n",
    "# 建立一個Circle物件C1，使用預設半徑1\n",
    "C1 = Circle()\n",
    "\n",
    "# 輸出C1物件的半徑值與其圓面積\n",
    "print(\"半徑為\", C1.radius, \"的圓面積為\", C1.getArea())\n",
    "\n",
    "# 建立另一個Circle物件C2，指定半徑為10\n",
    "C2 = Circle(10)\n",
    "\n",
    "# 輸出C2物件的半徑值與其圓面積\n",
    "print(\"半徑為\", C2.radius, \"的圓面積為\", C2.getArea())"
   ]
  },
  {
   "cell_type": "code",
   "execution_count": 9,
   "metadata": {},
   "outputs": [
    {
     "name": "stdout",
     "output_type": "stream",
     "text": [
      "半徑為 1 的圓面積為 3.14\n",
      "半徑為 10 的圓面積為 314.0\n"
     ]
    }
   ],
   "source": [
    "# 定義一個名為Circle的類別\n",
    "class Circle:\n",
    "    # 定義圓周率PI的值為3.14\n",
    "    PI = 3.14\n",
    "\n",
    "    # 定義建構子，可接收半徑參數r，若未指定則預設為1\n",
    "    def __init__(self, r = 1):\n",
    "        # 將接收到的半徑r指派給物件的radius屬性\n",
    "        self.radius = r    \n",
    "\n",
    "    # 定義一個成員方法，用來計算圓的面積\n",
    "    def getArea(self):\n",
    "        # 使用圓面積公式PI * r^2計算圓面積並回傳結果\n",
    "        return self.PI * self.radius * self.radius\n",
    "\n",
    "# 建立一個Circle物件，使用預設半徑1，並輸出其半徑與圓面積\n",
    "print(\"半徑為\", Circle().radius, \"的圓面積為\", Circle().getArea())\n",
    "\n",
    "# 建立一個Circle物件，指定半徑為10，並輸出其半徑與圓面積\n",
    "print(\"半徑為\", Circle(10).radius, \"的圓面積為\", Circle(10).getArea())"
   ]
  },
  {
   "cell_type": "code",
   "execution_count": 10,
   "metadata": {},
   "outputs": [
    {
     "name": "stdout",
     "output_type": "stream",
     "text": [
      "C1的半徑為 10\n",
      "C1的圓面積為 314.0\n"
     ]
    }
   ],
   "source": [
    "# 定義一個名為Circle的類別\n",
    "class Circle:\n",
    "    # 定義圓周率PI的值為3.14\n",
    "    PI = 3.14\n",
    "    \n",
    "    # 定義建構子，可接收半徑參數r，若未指定則預設為1\n",
    "    def __init__(self, r = 1):\n",
    "        # 將傳入的半徑r設為私有屬性__radius\n",
    "        self.__radius = r\n",
    "\n",
    "    # 定義公有方法，用來取得半徑\n",
    "    def getRadius(self):\n",
    "        return self.__radius\n",
    "\n",
    "    # 定義公有方法，用來計算圓的面積\n",
    "    def getArea(self):\n",
    "        return self.PI * self.__radius * self.__radius\n",
    "\n",
    "# 建立一個Circle物件C1，指定半徑為10\n",
    "C1 = Circle(10)\n",
    "\n",
    "# 輸出C1的半徑(呼叫getRadius()方法)\n",
    "print(\"C1的半徑為\", C1.getRadius())\n",
    "\n",
    "# 輸出C1的圓面積(呼叫getArea()方法)\n",
    "print(\"C1的圓面積為\", C1.getArea())"
   ]
  },
  {
   "cell_type": "code",
   "execution_count": 11,
   "metadata": {},
   "outputs": [
    {
     "name": "stdout",
     "output_type": "stream",
     "text": [
      "員工 陳小明 的薪水為 28000\n",
      "員工 王大同 的薪水為 29500\n"
     ]
    }
   ],
   "source": [
    "# 定義一個名為Employee的類別\n",
    "class Employee:\n",
    "    # 定義建構子，接收員工姓名，並將姓名設為私有屬性__name\n",
    "    def __init__(self, name):\n",
    "        self.__name = name\n",
    "    \n",
    "    # 定義公有方法，回傳員工姓名\n",
    "    def getName(self):\n",
    "        return self.__name\n",
    "    \n",
    "    # 定義公有方法，設定薪水(基本薪資basic與獎金bonus(預設為0))\n",
    "    def setSalary(self, basic, bonus = 0):\n",
    "        self.__salary = basic + bonus\n",
    "    \n",
    "    # 定義公有方法，回傳薪水\n",
    "    def getSalary(self):\n",
    "        return self.__salary\n",
    "\n",
    "# 建立一個Employee物件E1，姓名為\"陳小明\"\n",
    "E1 = Employee(\"陳小明\")\n",
    "\n",
    "# 建立一個Employee物件E2，姓名為\"王大同\"\n",
    "E2 = Employee(\"王大同\")\n",
    "\n",
    "# 設定員工E1的薪水，基本薪資為28000，無獎金\n",
    "E1.setSalary(28000)\n",
    "\n",
    "# 設定員工E2的薪水，基本薪資為28000，獎金為1500\n",
    "E2.setSalary(28000, 1500)\n",
    "\n",
    "# 輸出員工E1的姓名與薪水\n",
    "print(\"員工\", E1.getName(), \"的薪水為\", E1.getSalary())\n",
    "\n",
    "# 輸出員工E2的姓名與薪水\n",
    "print(\"員工\", E2.getName(), \"的薪水為\", E2.getSalary())"
   ]
  },
  {
   "cell_type": "code",
   "execution_count": 12,
   "metadata": {},
   "outputs": [
    {
     "name": "stdout",
     "output_type": "stream",
     "text": [
      "R物件的寬度為 10，高度為 5\n"
     ]
    }
   ],
   "source": [
    "# 程式有一個錯誤：\n",
    "# 建構子__init__(self, w, h)有兩個參數，但在建立物件R = Rectangle()時未傳入任何參數，會造成錯誤。\n",
    "\n",
    "# 修正程式如下：\n",
    "\n",
    "# 定義一個名為Rectangle的類別\n",
    "class Rectangle:\n",
    "    # 定義建構子，接收寬度w與高度h，並預設為1\n",
    "    def __init__(self, w = 1, h = 1):\n",
    "        # 將參數w指派給物件的width屬性\n",
    "        self.width = w\n",
    "        # 將參數h指派給物件的height屬性\n",
    "        self.height = h\n",
    "\n",
    "# 建立一個Rectangle物件R，指定寬度為10，高度為5\n",
    "R = Rectangle(10, 5)\n",
    "\n",
    "# 輸出R物件的寬度與高度\n",
    "print(f\"R物件的寬度為 {R.width}，高度為 {R.height}\")"
   ]
  },
  {
   "cell_type": "code",
   "execution_count": 13,
   "metadata": {},
   "outputs": [],
   "source": [
    "# 定義類別A\n",
    "class A:\n",
    "    # 定義一個私有屬性__x，僅限類別A內部使用\n",
    "    __x = \"我是屬性__x\"\n",
    "\n",
    "    # 定義一個公有屬性y，可以被外部或子類別存取\n",
    "    y = \"我是屬性y\"\n",
    "    \n",
    "    # 定義一個私有方法__M1()，僅限類別A內部呼叫\n",
    "    def __M1(self):\n",
    "        print(\"我是方法M1()\")\n",
    "\n",
    "    # 定義一個公有方法M2()，可以被外部或子類別呼叫\n",
    "    def M2(self):\n",
    "        print(\"我是方法M2()\")\n",
    "\n",
    "# 定義一個名為B的類別，繼承自A類別\n",
    "class B(A):\n",
    "    # 定義一個公有屬性z，可以被外部存取\n",
    "    z = \"我是屬性z\"\n",
    "    \n",
    "    # 定義一個公有方法M3()，可以被外部呼叫\n",
    "    def M3(self):\n",
    "        print(\"我是方法M3()\")"
   ]
  },
  {
   "cell_type": "code",
   "execution_count": 14,
   "metadata": {},
   "outputs": [
    {
     "name": "stdout",
     "output_type": "stream",
     "text": [
      "x屬性的值為 1\n",
      "y屬性的值為 2\n",
      "z屬性的值為 3\n"
     ]
    }
   ],
   "source": [
    "# 定義類別A，包含一個類別屬性x\n",
    "class A:\n",
    "    x = 1\n",
    "\n",
    "# 定義類別B，繼承自類別A，並新增一個類別屬性y\n",
    "class B(A):\n",
    "    y = 2\n",
    "\n",
    "# 定義類別C，繼承自類別B，並新增一個類別屬性z\n",
    "class C(B):\n",
    "    z = 3\n",
    "\n",
    "# 建立類別C的物件obj\n",
    "obj = C()\n",
    "\n",
    "# 輸出物件obj繼承自類別A的屬性x的值\n",
    "print(\"x屬性的值為\", obj.x)\n",
    "\n",
    "# 輸出物件obj繼承自類別B的屬性y的值\n",
    "print(\"y屬性的值為\", obj.y)\n",
    "\n",
    "# 輸出物件obj自身所屬類別C的屬性z的值\n",
    "print(\"z屬性的值為\", obj.z)"
   ]
  },
  {
   "cell_type": "code",
   "execution_count": 15,
   "metadata": {},
   "outputs": [
    {
     "name": "stdout",
     "output_type": "stream",
     "text": [
      "x屬性的值為 1\n",
      "y屬性的值為 2\n",
      "z屬性的值為 3\n"
     ]
    }
   ],
   "source": [
    "# 定義類別A，包含一個類別屬性x\n",
    "class A:\n",
    "    x = 1\n",
    "\n",
    "# 定義類別B，包含一個類別屬性y\n",
    "class B:\n",
    "    y = 2\n",
    "\n",
    "# 定義類別C，繼承自類別A與類別B(多重繼承)，並新增屬性z\n",
    "class C(A, B):\n",
    "    z = 3\n",
    "\n",
    "# 建立類別C的物件obj\n",
    "obj = C()\n",
    "\n",
    "# 輸出obj物件繼承自類別A的屬性x的值\n",
    "print(\"x屬性的值為\", obj.x)\n",
    "\n",
    "# 輸出obj物件繼承自類別B的屬性y的值\n",
    "print(\"y屬性的值為\", obj.y)\n",
    "\n",
    "# 輸出obj物件自身所屬類別C的屬性z的值\n",
    "print(\"z屬性的值為\", obj.z)"
   ]
  },
  {
   "cell_type": "code",
   "execution_count": 16,
   "metadata": {},
   "outputs": [
    {
     "name": "stdout",
     "output_type": "stream",
     "text": [
      "員工 小丸子 的本月薪水為 18000\n",
      "銷售人員 小紅豆 的本月薪水為 21000\n"
     ]
    }
   ],
   "source": [
    "# 定義一個名為Employee的類別\n",
    "class Employee:\n",
    "    # 定義建構子，用來設定員工的姓名\n",
    "    def __init__(self, name):\n",
    "        self.__name = name\n",
    "\n",
    "    # 定義公有方法，回傳員工姓名\n",
    "    def getName(self):\n",
    "        return self.__name\n",
    "\n",
    "    # 定義公有方法，計算並回傳員工的本月薪水(工時 × 時薪)\n",
    "    def getSalary(self, hours, payrate):\n",
    "        return hours * payrate\n",
    "\n",
    "# 定義一個名為SalesPerson的類別，繼承自Employee類別\n",
    "class SalesPerson(Employee):\n",
    "    # 覆寫父類別的getSalary方法，加入業績獎金參數bonus\n",
    "    # 傳回銷售人員的本月薪水(工時 × 時薪 + 獎金)\n",
    "    def getSalary(self, hours, payrate, bonus):\n",
    "        return hours * payrate + bonus\n",
    "\n",
    "# 建立Employee類別的物件E1，姓名為\"小丸子\"\n",
    "E1 = Employee(\"小丸子\")\n",
    "\n",
    "# 建立SalesPerson類別的物件E2，姓名為\"小紅豆\"\n",
    "E2 = SalesPerson(\"小紅豆\")\n",
    "\n",
    "# 輸出員工E1的姓名與本月薪水\n",
    "print(\"員工\", E1.getName(), \"的本月薪水為\", E1.getSalary(120, 150))\n",
    "\n",
    "# 輸出員工E2的姓名與本月薪水\n",
    "print(\"銷售人員\", E2.getName(), \"的本月薪水為\", E2.getSalary(120, 150, 3000))"
   ]
  },
  {
   "cell_type": "code",
   "execution_count": 17,
   "metadata": {},
   "outputs": [],
   "source": [
    "# 第一個getSalary方法，直接計算工時乘時薪再加上獎金，回傳總薪水\n",
    "def getSalary(self, hours, payrate, bonus):\n",
    "    return hours * payrate + bonus\n",
    "\n",
    "# 第二個getSalary方法，使用super()呼叫父類別的getSalary計算基本薪水(工時 × 時薪)，再加上獎金，最後回傳總薪水\n",
    "def getSalary(self, hours, payrate, bonus):\n",
    "    return super().getSalary(hours, payrate) + bonus"
   ]
  },
  {
   "cell_type": "code",
   "execution_count": 18,
   "metadata": {},
   "outputs": [
    {
     "name": "stdout",
     "output_type": "stream",
     "text": [
      "員工 小丸子 的本月薪水為 18000\n",
      "銷售人員 小紅豆 的本月薪水為 21000\n"
     ]
    }
   ],
   "source": [
    "# 定義一個名為Employee的類別\n",
    "class Employee:\n",
    "    # 定義初始化方法，用來設定員工的姓名(私有屬性__name)\n",
    "    def __init__(self, name):\n",
    "        self.__name = name\n",
    "\n",
    "    # 定義公有方法，回傳員工姓名\n",
    "    def getName(self):\n",
    "        return self.__name\n",
    "\n",
    "    # 定義公有方法，計算並回傳員工的本月薪水(工時 × 時薪)\n",
    "    def getSalary(self, hours, payrate):\n",
    "        return hours * payrate\n",
    "\n",
    "# 定義一個名為SalesPerson的類別，繼承自Employee類別\n",
    "class SalesPerson(Employee):\n",
    "    # 定義初始化方法，除了員工姓名外，還接收業績獎金bonus\n",
    "    def __init__(self, name, bonus):\n",
    "\n",
    "        # 使用super()呼叫父類別的初始化方法，設定姓名\n",
    "        super().__init__(name)\n",
    "\n",
    "        # 將業績獎金設定為私有屬性__bonus\n",
    "        self.__bonus = bonus\n",
    "\n",
    "    # 覆寫父類別的getSalary方法，計算薪水時加上業績獎金\n",
    "    def getSalary(self, hours, payrate):\n",
    "        # 呼叫父類別的getSalary計算基本薪水，再加上業績獎金\n",
    "        return super().getSalary(hours, payrate) + self.__bonus\n",
    "\n",
    "# 建立Employee類別的物件E1，姓名為\"小丸子\"\n",
    "E1 = Employee(\"小丸子\")\n",
    "\n",
    "# 建立SalesPerson類別的物件E2，姓名為\"小紅豆\"，業績獎金為3000\n",
    "E2 = SalesPerson(\"小紅豆\", 3000)\n",
    "\n",
    "# 輸出員工E1的姓名與本月薪水\n",
    "print(\"員工\", E1.getName(), \"的本月薪水為\", E1.getSalary(120, 150))\n",
    "\n",
    "# 輸出銷售人員E2的姓名與本月薪水\n",
    "print(\"銷售人員\", E2.getName(), \"的本月薪水為\", E2.getSalary(120, 150))"
   ]
  },
  {
   "cell_type": "code",
   "execution_count": 19,
   "metadata": {},
   "outputs": [
    {
     "data": {
      "text/plain": [
       "True"
      ]
     },
     "execution_count": 19,
     "metadata": {},
     "output_type": "execute_result"
    }
   ],
   "source": [
    "isinstance(100, int)  # 判斷100是否為int(整數)類別的物件"
   ]
  },
  {
   "cell_type": "code",
   "execution_count": 20,
   "metadata": {},
   "outputs": [
    {
     "data": {
      "text/plain": [
       "True"
      ]
     },
     "execution_count": 20,
     "metadata": {},
     "output_type": "execute_result"
    }
   ],
   "source": [
    "isinstance(True, int)  # 判斷True是否為int(整數)類別的物件(在Python中布林值是int的子類別)"
   ]
  },
  {
   "cell_type": "code",
   "execution_count": 21,
   "metadata": {},
   "outputs": [],
   "source": [
    "# 定義一個名為A的類別\n",
    "class A:\n",
    "    # 定義一個類別屬性x，初始值為1\n",
    "    x = 1"
   ]
  },
  {
   "cell_type": "code",
   "execution_count": 22,
   "metadata": {},
   "outputs": [],
   "source": [
    "# 定義一個名為B的類別，繼承自類別A\n",
    "class B(A):\n",
    "    # 定義一個類別屬性y，初始值為2\n",
    "    y = 2"
   ]
  },
  {
   "cell_type": "code",
   "execution_count": 23,
   "metadata": {},
   "outputs": [
    {
     "data": {
      "text/plain": [
       "True"
      ]
     },
     "execution_count": 23,
     "metadata": {},
     "output_type": "execute_result"
    }
   ],
   "source": [
    "# 建立類別A的物件obj1\n",
    "obj1 = A()\n",
    "\n",
    "# 建立類別B的物件obj2\n",
    "obj2 = B()\n",
    "\n",
    "# 判斷obj1是否為類別A的物件或其子類別的物件\n",
    "isinstance(obj1, A)"
   ]
  },
  {
   "cell_type": "code",
   "execution_count": 24,
   "metadata": {},
   "outputs": [
    {
     "data": {
      "text/plain": [
       "True"
      ]
     },
     "execution_count": 24,
     "metadata": {},
     "output_type": "execute_result"
    }
   ],
   "source": [
    "# 判斷obj2是否為類別A的物件或其子類別的物件\n",
    "isinstance(obj2, A)"
   ]
  },
  {
   "cell_type": "code",
   "execution_count": 25,
   "metadata": {},
   "outputs": [
    {
     "data": {
      "text/plain": [
       "True"
      ]
     },
     "execution_count": 25,
     "metadata": {},
     "output_type": "execute_result"
    }
   ],
   "source": [
    "# 判斷類別B是否為類別A的子類別\n",
    "issubclass(B, A)"
   ]
  },
  {
   "cell_type": "code",
   "execution_count": 26,
   "metadata": {},
   "outputs": [
    {
     "name": "stdout",
     "output_type": "stream",
     "text": [
      "小丸子 的購物車裡面有 ['巧克力', '馬卡龍', '草莓果醬', '手工餅乾']\n"
     ]
    }
   ],
   "source": [
    "# 定義一個名為ShoppingCar的類別\n",
    "class ShoppingCar():\n",
    "    # 定義建構子，接收購物車擁有者名稱owner\n",
    "    def __init__(self, owner):\n",
    "\n",
    "        # 設定私有屬性__owner為購物車擁有者\n",
    "        self.__owner = owner\n",
    "        \n",
    "        # 設定私有屬性__product為一個空的產品清單\n",
    "        self.__product = []\n",
    "        \n",
    "    # 定義公有方法，回傳購物車擁有者名稱\n",
    "    def getOwner(self):\n",
    "        return self.__owner\n",
    "\n",
    "    # 定義公有方法，將商品加入購物車\n",
    "    def addProduct(self, product):\n",
    "        self.__product.append(product)\n",
    "\n",
    "    # 定義公有方法，將指定商品從購物車移除\n",
    "    def removeProduct(self, product):\n",
    "        self.__product.remove(product)\n",
    "    \n",
    "    # 定義公有方法，回傳購物車內的所有商品\n",
    "    def getProduct(self):\n",
    "        return self.__product\n",
    "\n",
    "# 建立ShoppingCar類別的物件obj，擁有者為\"小丸子\"\n",
    "obj = ShoppingCar(\"小丸子\")\n",
    "\n",
    "# 將商品加入購物車\n",
    "obj.addProduct(\"巧克力\")\n",
    "obj.addProduct(\"咖啡豆\")\n",
    "obj.addProduct(\"馬卡龍\")\n",
    "obj.addProduct(\"草莓果醬\")\n",
    "obj.addProduct(\"手工餅乾\")\n",
    "\n",
    "# 從購物車中移除商品\"咖啡豆\"\n",
    "obj.removeProduct(\"咖啡豆\")\n",
    "\n",
    "# 輸出購物車擁有者與購物車中的所有商品\n",
    "print(obj.getOwner(), \"的購物車裡面有\", obj.getProduct())"
   ]
  },
  {
   "cell_type": "code",
   "execution_count": 27,
   "metadata": {},
   "outputs": [
    {
     "name": "stdout",
     "output_type": "stream",
     "text": [
      "這個交通工具的車主、CC數: 小明 125\n",
      "在此寫上發動摩托車的敘述\n",
      "在此寫上停止摩托車的敘述\n",
      "\n",
      "這個交通工具的車主、CC數: 大偉 2000\n",
      "在此寫上發動汽車的敘述\n",
      "在此寫上停止汽車的敘述\n"
     ]
    }
   ],
   "source": [
    "# 定義一個名為Transport的父類別，用來表示交通工具\n",
    "class Transport:\n",
    "    # 定義初始化方法，接收交通工具的擁有者(owner)與CC數\n",
    "    def __init__(self, owner, CC):\n",
    "        # 設定私有屬性__owner為擁有者\n",
    "        self.__owner = owner\n",
    "        # 設定私有屬性__CC為CC數\n",
    "        self.__CC = CC\n",
    "        \n",
    "    # 定義公有方法，回傳擁有者\n",
    "    def getOwner(self):\n",
    "        return self.__owner\n",
    "    \n",
    "    # 定義公有方法，回傳CC數\n",
    "    def getCC(self):\n",
    "        return self.__CC\n",
    "        \n",
    "    # 定義公有方法，模擬發動交通工具(可被子類別覆寫)\n",
    "    def launch(self):\n",
    "        print(\"在此寫上發動交通工具的敘述\")\n",
    "\n",
    "    # 定義公有方法，模擬停止交通工具(可被子類別覆寫)\n",
    "    def park(self):\n",
    "        print(\"在此寫上停止交通工具的敘述\")\n",
    "\n",
    "# 定義Motorcycle類別，繼承自Transport，表示摩托車\n",
    "class Motorcycle(Transport):\n",
    "    # 覆寫launch方法，模擬發動摩托車\n",
    "    def launch(self):\n",
    "        print(\"在此寫上發動摩托車的敘述\")\n",
    "        \n",
    "    # 覆寫park方法，模擬停止摩托車\n",
    "    def park(self):\n",
    "        print(\"在此寫上停止摩托車的敘述\\n\")\n",
    "\n",
    "# 定義Car類別，繼承自Transport，表示汽車\n",
    "class Car(Transport):\n",
    "    # 覆寫launch方法，模擬發動汽車\n",
    "    def launch(self):\n",
    "        print(\"在此寫上發動汽車的敘述\")\n",
    "        \n",
    "    # 覆寫park方法，模擬停止汽車\n",
    "    def park(self):\n",
    "        print(\"在此寫上停止汽車的敘述\")        \n",
    "\n",
    "# 建立Motorcycle物件obj1，車主為\"小明\"，CC數為125\n",
    "obj1 = Motorcycle(\"小明\", 125)\n",
    "\n",
    "# 輸出obj1的車主與CC數\n",
    "print(\"這個交通工具的車主、CC數:\", obj1.getOwner(), obj1.getCC())\n",
    "\n",
    "# 呼叫obj1的launch方法(顯示摩托車的發動敘述)\n",
    "obj1.launch()\n",
    "\n",
    "# 呼叫obj1的park方法(顯示摩托車的停止敘述)\n",
    "obj1.park()\n",
    "\n",
    "# 建立Car物件obj2，車主為\"大偉\"，CC數為2000\n",
    "obj2 = Car(\"大偉\", 2000)\n",
    "\n",
    "# 輸出obj2的車主與CC數\n",
    "print(\"這個交通工具的車主、CC數:\", obj2.getOwner(), obj2.getCC())\n",
    "\n",
    "# 呼叫obj2的launch方法(顯示汽車的發動敘述)\n",
    "obj2.launch()\n",
    "\n",
    "# 呼叫obj2的park方法(顯示汽車的停止敘述)\n",
    "obj2.park()"
   ]
  },
  {
   "cell_type": "code",
   "execution_count": 28,
   "metadata": {},
   "outputs": [
    {
     "name": "stdout",
     "output_type": "stream",
     "text": [
      "半徑為 10 的圓面積為 314.0\n"
     ]
    }
   ],
   "source": [
    "# 程式有兩個錯誤：\n",
    "# 1.方法getArea()少了self參數，導致無法正確呼叫。\n",
    "# 2.PI和radius是類別屬性，在方法中必須透過類別名稱或self存取，例如self.PI和self.radius。\n",
    "\n",
    "# 修正程式如下：\n",
    "\n",
    "# 定義一個名為Circle的類別\n",
    "class Circle:\n",
    "    # 定義類別屬性PI，表示圓周率\n",
    "    PI = 3.14\n",
    "\n",
    "    # 定義初始化方法，設定圓的半徑(radius)，使用預設半徑10\n",
    "    def __init__(self, radius = 10):\n",
    "        # 設定物件的半徑屬性\n",
    "        self.radius = radius\n",
    "\n",
    "    # 定義公有方法，計算並回傳圓面積(PI × 半徑 × 半徑)\n",
    "    def getArea(self):\n",
    "        # 使用類別屬性PI計算圓面積\n",
    "        return Circle.PI * self.radius * self.radius\n",
    "\n",
    "# 建立Circle類別的物件C1，使用預設半徑10\n",
    "C1 = Circle()\n",
    "\n",
    "# 呼叫C1物件的getArea()方法，並輸出圓面積\n",
    "print(\"半徑為 10 的圓面積為\", C1.getArea())"
   ]
  },
  {
   "cell_type": "code",
   "execution_count": 29,
   "metadata": {},
   "outputs": [
    {
     "name": "stdout",
     "output_type": "stream",
     "text": [
      "Animal: Dog, sound: 汪汪汪, food: 骨頭\n",
      "Animal: Cat, sound: 喵喵喵, food: 魚\n"
     ]
    }
   ],
   "source": [
    "# 定義一個名為Animal的父類別 \n",
    "class Animal:\n",
    "    # 定義公有方法sound()，代表動物的叫聲\n",
    "    def sound(self):\n",
    "        return \"動物會發出聲音\"\n",
    "\n",
    "    # 定義公有方法food()，代表動物愛吃的食物\n",
    "    def food(self):\n",
    "        return \"動物會吃食物\"\n",
    "\n",
    "# 定義名為Dog的子類別，繼承自Animal類別\n",
    "class Dog(Animal):\n",
    "    # 覆寫父類別的sound()方法，改為狗的叫聲\n",
    "    def sound(self):\n",
    "        return \"汪汪汪\"\n",
    "\n",
    "    # 覆寫父類別的food()方法，改為狗愛吃的食物\n",
    "    def food(self):\n",
    "        return \"骨頭\"\n",
    "\n",
    "# 定義名為Cat的子類別，繼承自Animal類別\n",
    "class Cat(Animal):\n",
    "    # 覆寫父類別的sound()方法，改為貓的叫聲\n",
    "    def sound(self):\n",
    "        return \"喵喵喵\"\n",
    "\n",
    "    # 覆寫父類別的food()方法，改為貓愛吃的食物\n",
    "    def food(self):\n",
    "        return \"魚\"\n",
    "\n",
    "# 建立Dog類別的物件d1\n",
    "d1 = Dog()\n",
    "\n",
    "# 建立Cat類別的物件c1\n",
    "c1 = Cat()\n",
    "\n",
    "# 輸出動物的名稱、叫聲以及牠們愛吃的食物\n",
    "# 使用f-string格式，對Dog物件(d1)和Cat物件(c1)呼叫sound()與food()方法，並輸出結果\n",
    "\n",
    "# 輸出Dog的叫聲和食物，顯示類別名稱\n",
    "print(f\"Animal: {type(d1).__name__}, sound: {d1.sound()}, food: {d1.food()}\")\n",
    "\n",
    "# 輸出Cat的叫聲和食物，顯示類別名稱\n",
    "print(f\"Animal: {type(c1).__name__}, sound: {c1.sound()}, food: {c1.food()}\")"
   ]
  },
  {
   "cell_type": "code",
   "execution_count": 30,
   "metadata": {},
   "outputs": [
    {
     "name": "stdout",
     "output_type": "stream",
     "text": [
      "城市名稱： 台北市\n",
      "城市人口： 2600000 人\n",
      "估算面積： 1733.33 km²\n"
     ]
    }
   ],
   "source": [
    "# __init__()方法的用途是在建立物件時自動執行，用來初始化物件的屬性，使物件一建立就擁有預設或指定的初始值。\n",
    "# 以下以City類別為例，展示如何使用__init__()方法來初始化物件屬性。\n",
    "\n",
    "# 定義一個名為City的類別\n",
    "class City:\n",
    "    # 定義類別屬性，表示平均人口密度(人/km²)\n",
    "    average_density = 1500\n",
    "\n",
    "    # 定義建構子，可接收城市名稱name與人口數population，若未指定則提供預設值\n",
    "    def __init__(self, name=\"未知\", population = 0):\n",
    "\n",
    "        # 將傳入的城市名稱設為私有屬性__name\n",
    "        self.__name = name\n",
    "\n",
    "        # 將傳入的人口數設為私有屬性__population\n",
    "        self.__population = population\n",
    "\n",
    "    # 定義公有方法，用來取得城市名稱\n",
    "    def getName(self):\n",
    "        return self.__name\n",
    "\n",
    "    # 定義公有方法，用來取得城市人口\n",
    "    def getPopulation(self):\n",
    "        return self.__population\n",
    "\n",
    "    # 定義公有方法，用來估算城市面積(人口 ÷ 平均密度)\n",
    "    def getEstimatedArea(self):\n",
    "        return self.__population / City.average_density\n",
    "\n",
    "# 建立一個City物件city1，指定城市名稱為台北市，人口為2600000\n",
    "city1 = City(\"台北市\", 2600000)\n",
    "\n",
    "# 輸出city1的城市名稱(呼叫getName()方法)\n",
    "print(\"城市名稱：\", city1.getName())\n",
    "\n",
    "# 輸出city1的人口數(呼叫getPopulation()方法)\n",
    "print(\"城市人口：\", city1.getPopulation(), \"人\")\n",
    "\n",
    "# 輸出city1的估算面積(呼叫getEstimatedArea()方法，並四捨五入取到小數點後2位)\n",
    "print(\"估算面積：\", round(city1.getEstimatedArea(), 2), \"km²\")"
   ]
  },
  {
   "cell_type": "code",
   "execution_count": 31,
   "metadata": {},
   "outputs": [
    {
     "name": "stdout",
     "output_type": "stream",
     "text": [
      "交通工具在移動\n",
      "汽車在行駛\n",
      "電動汽車在安靜行駛\n"
     ]
    }
   ],
   "source": [
    "# 鏈狀繼承指的是類別A繼承類別B，類別B繼承類別C，形成一條繼承鏈。物件可以繼承整個繼承鏈上的屬性與方法。\n",
    "# 鏈狀繼承範例：三種交通工具的繼承關係\n",
    "\n",
    "# 定義類別Vehicle(交通工具)\n",
    "class Vehicle:\n",
    "    def move(self):\n",
    "        return \"交通工具在移動\"\n",
    "\n",
    "# 定義類別Car，繼承自Vehicle\n",
    "class Car(Vehicle):\n",
    "    def move(self):\n",
    "        return \"汽車在行駛\"\n",
    "\n",
    "# 定義類別ElectricCar，繼承自Car\n",
    "class ElectricCar(Car):\n",
    "    def move(self):\n",
    "        return \"電動汽車在安靜行駛\"\n",
    "\n",
    "# 建立Vehicle物件v\n",
    "v = Vehicle()\n",
    "\n",
    "# 建立Car物件c\n",
    "c = Car()\n",
    "\n",
    "# 建立ElectricCar物件ev\n",
    "ev = ElectricCar()\n",
    "\n",
    "# 輸出Vehicle的move()方法結果\n",
    "print(v.move())\n",
    "\n",
    "# 輸出Car的move()方法結果\n",
    "print(c.move())\n",
    "\n",
    "# 輸出ElectricCar的move()方法結果\n",
    "print(ev.move())"
   ]
  },
  {
   "cell_type": "code",
   "execution_count": 32,
   "metadata": {},
   "outputs": [
    {
     "name": "stdout",
     "output_type": "stream",
     "text": [
      "我正在跑步\n",
      "我正在唱歌\n",
      "我正在跑步\n",
      "我正在唱歌\n"
     ]
    }
   ],
   "source": [
    "# 多重繼承是指一個類別同時繼承多個父類別的屬性與方法。物件可以同時擁有多個父類別的功能。\n",
    "# 多重繼承範例：人類同時擁有運動與音樂技能\n",
    "\n",
    "# 定義類別Runner，表示會跑步的人\n",
    "class Runner:\n",
    "    def run(self):\n",
    "        return \"我正在跑步\"\n",
    "\n",
    "# 定義類別Singer，表示會唱歌的人\n",
    "class Singer:\n",
    "    def sing(self):\n",
    "        return \"我正在唱歌\"\n",
    "\n",
    "# 定義類別AthleteSinger，同時繼承Runner與Singer\n",
    "class AthleteSinger(Runner, Singer):\n",
    "    # 直接繼承兩個類別的功能，不需額外寫內容時可使用pass\n",
    "    pass\n",
    "\n",
    "# 建立Runner物件runner\n",
    "runner = Runner()\n",
    "\n",
    "# 建立Singer物件singer\n",
    "singer = Singer()\n",
    "\n",
    "# 建立AthleteSinger物件athlete_singer\n",
    "athlete_singer = AthleteSinger()\n",
    "\n",
    "# 輸出runner物件的run方法結果\n",
    "print(runner.run())\n",
    "\n",
    "# 輸出singer物件的sing方法結果\n",
    "print(singer.sing())\n",
    "\n",
    "# 輸出athlete_singer物件的run與sing方法結果\n",
    "print(athlete_singer.run())\n",
    "print(athlete_singer.sing())"
   ]
  },
  {
   "cell_type": "code",
   "execution_count": 33,
   "metadata": {},
   "outputs": [
    {
     "name": "stdout",
     "output_type": "stream",
     "text": [
      "15 3\n"
     ]
    }
   ],
   "source": [
    "# 定義類別A\n",
    "class A:\n",
    "    # 初始化方法，設定屬性x\n",
    "    def __init__(self, x):\n",
    "        self.x = x\n",
    "\n",
    "    # 定義方法M1，將x加1\n",
    "    def M1(self):\n",
    "        self.x += 1\n",
    "\n",
    "# 定義類別B，繼承自類別A\n",
    "class B(A):\n",
    "    # 初始化方法，接收參數y\n",
    "    def __init__(self, y):\n",
    "\n",
    "        # 呼叫父類別A的初始化方法，將x設為10\n",
    "        super().__init__(10)\n",
    "\n",
    "        # 設定屬性y\n",
    "        self.y = y\n",
    "\n",
    "    # 覆寫方法M1，將x加5\n",
    "    def M1(self):\n",
    "        self.x += 5\n",
    "\n",
    "# 建立類別B的物件obj，並傳入y參數3\n",
    "obj = B(3)\n",
    "\n",
    "# 呼叫obj的M1方法(執行覆寫後的版本，x會加5)\n",
    "obj.M1()\n",
    "\n",
    "# 輸出obj的x與y屬性值\n",
    "print(obj.x, obj.y)"
   ]
  },
  {
   "cell_type": "code",
   "execution_count": 34,
   "metadata": {},
   "outputs": [
    {
     "name": "stdout",
     "output_type": "stream",
     "text": [
      "100\n"
     ]
    }
   ],
   "source": [
    "# 程式有一個錯誤：\n",
    "# 私有屬性__x經過名稱改寫變成_A__x，無法直接用obj.__x存取，需透過公有方法讀取。\n",
    "\n",
    "# 修正程式如下：\n",
    "\n",
    "# 定義類別A\n",
    "class A:\n",
    "    # 初始化方法，接收參數x，預設值為0\n",
    "    def __init__(self, x = 0):\n",
    "        # 將參數x設為私有屬性__x\n",
    "        self.__x = x\n",
    "\n",
    "    # 定義公有方法，回傳私有屬性__x的值\n",
    "    def getX(self):\n",
    "        return self.__x\n",
    "\n",
    "# 建立類別A的物件obj，並傳入參數100\n",
    "obj = A(100)\n",
    "\n",
    "# 使用公有方法getX()取得私有屬性__x的值並輸出\n",
    "print(obj.getX())"
   ]
  }
 ],
 "metadata": {
  "kernelspec": {
   "display_name": "base",
   "language": "python",
   "name": "python3"
  },
  "language_info": {
   "codemirror_mode": {
    "name": "ipython",
    "version": 3
   },
   "file_extension": ".py",
   "mimetype": "text/x-python",
   "name": "python",
   "nbconvert_exporter": "python",
   "pygments_lexer": "ipython3",
   "version": "3.12.7"
  }
 },
 "nbformat": 4,
 "nbformat_minor": 2
}
