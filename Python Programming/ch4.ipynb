{
 "cells": [
  {
   "cell_type": "markdown",
   "metadata": {},
   "source": [
    "# ch4 Python 流程控制(if、for、while、break、continue)"
   ]
  },
  {
   "cell_type": "code",
   "execution_count": 1,
   "metadata": {},
   "outputs": [
    {
     "name": "stdout",
     "output_type": "stream",
     "text": [
      "x比y大 5\n"
     ]
    }
   ],
   "source": [
    "x = 15\n",
    "y = 10\n",
    "\n",
    "# 用if敘述判斷如果x大於y，則計算x減去y的值並輸出結果\n",
    "if x > y:\n",
    "    z = x - y\n",
    "    print(\"x比y大\", z)"
   ]
  },
  {
   "cell_type": "code",
   "execution_count": 2,
   "metadata": {},
   "outputs": [
    {
     "name": "stdout",
     "output_type": "stream",
     "text": [
      "數學分數: 87\n",
      "及格！\n"
     ]
    }
   ],
   "source": [
    "# 使用者輸入數學分數(0~100)，並輸出結果\n",
    "score = eval(input(\"請輸入數學分數(0~100):\"))\n",
    "print(\"數學分數:\", score)\n",
    "\n",
    "# 用if敘述判斷數學分數是否及格，如果分數大於或等於60則輸出\"及格\"，否則輸出\"不及格\"\n",
    "if score >= 60:   \n",
    "    print(\"及格！\")\n",
    "else:\n",
    "    print(\"不及格！\")"
   ]
  },
  {
   "cell_type": "code",
   "execution_count": 3,
   "metadata": {},
   "outputs": [
    {
     "name": "stdout",
     "output_type": "stream",
     "text": [
      "數學分數: 56\n",
      "不及格！\n"
     ]
    }
   ],
   "source": [
    "# 使用者輸入數學分數(0~100)，並輸出結果\n",
    "score = eval(input(\"請輸入數學分數(0~100):\"))\n",
    "print(\"數學分數:\", score)\n",
    "\n",
    "# 用if敘述判斷數學分數是否及格，如果分數大於或等於60則輸出\"及格\"，否則輸出\"不及格\"\n",
    "if score >= 60:   \n",
    "    print(\"及格！\")\n",
    "else:\n",
    "    print(\"不及格！\")"
   ]
  },
  {
   "cell_type": "code",
   "execution_count": 4,
   "metadata": {},
   "outputs": [
    {
     "name": "stdout",
     "output_type": "stream",
     "text": [
      "您輸入的整數是: 54\n",
      "這是偶數\n"
     ]
    }
   ],
   "source": [
    "# 使用者輸入一個整數，並輸出結果\n",
    "num = eval(input(\"請輸入一個整數：\"))\n",
    "print(\"您輸入的整數是:\", num)\n",
    "\n",
    "# 用if敘述判斷該整數是否為偶數，如果是則輸出\"這是偶數\"，否則輸出\"這是奇數\"\n",
    "if num % 2 == 0:\n",
    "    print(\"這是偶數\")\n",
    "else:\n",
    "    print(\"這是奇數\")"
   ]
  },
  {
   "cell_type": "code",
   "execution_count": 5,
   "metadata": {},
   "outputs": [
    {
     "name": "stdout",
     "output_type": "stream",
     "text": [
      "您輸入的整數是: 91\n",
      "這是奇數\n"
     ]
    }
   ],
   "source": [
    "# 使用者輸入一個整數，並輸出結果\n",
    "num = eval(input(\"請輸入一個整數：\"))\n",
    "print(\"您輸入的整數是:\", num)\n",
    "\n",
    "# 用if敘述判斷該整數是否為偶數，如果是則輸出\"這是偶數\"，否則輸出\"這是奇數\"\n",
    "if num % 2 == 0:\n",
    "    print(\"這是偶數\")\n",
    "else:\n",
    "    print(\"這是奇數\")"
   ]
  },
  {
   "cell_type": "code",
   "execution_count": 6,
   "metadata": {},
   "outputs": [
    {
     "name": "stdout",
     "output_type": "stream",
     "text": [
      "圓半徑: 5\n",
      "半徑為 5 的圓面積為 78.53975\n"
     ]
    }
   ],
   "source": [
    "# 使用者輸入圓的半徑，並輸出結果\n",
    "PI = 3.14159\n",
    "radius = eval(input(\"請輸入圓半徑：\"))\n",
    "print(\"圓半徑:\", radius)\n",
    "\n",
    "# 用if敘述檢查圓半徑是否為負數，如果是則輸出\"圓半徑不能是負數\"，否則計算並輸出圓的面積\n",
    "if radius < 0:\n",
    "    print(\"圓半徑不能是負數\")\n",
    "else:\n",
    "    print(\"半徑為\", radius, \"的圓面積為\", PI * radius * radius)"
   ]
  },
  {
   "cell_type": "code",
   "execution_count": 7,
   "metadata": {},
   "outputs": [
    {
     "name": "stdout",
     "output_type": "stream",
     "text": [
      "圓半徑: -5\n",
      "圓半徑不能是負數\n"
     ]
    }
   ],
   "source": [
    "# 使用者輸入圓的半徑，並輸出結果\n",
    "PI = 3.14159\n",
    "radius = eval(input(\"請輸入圓半徑：\"))\n",
    "print(\"圓半徑:\", radius)\n",
    "\n",
    "# 用if敘述檢查圓半徑是否為負數，如果是則輸出\"圓半徑不能是負數\"，否則計算並輸出圓的面積\n",
    "if radius < 0:\n",
    "    print(\"圓半徑不能是負數\")\n",
    "else:\n",
    "    print(\"半徑為\", radius, \"的圓面積為\", PI * radius * radius)"
   ]
  },
  {
   "cell_type": "code",
   "execution_count": 8,
   "metadata": {},
   "outputs": [
    {
     "name": "stdout",
     "output_type": "stream",
     "text": [
      "數學分數: 92\n",
      "優等\n"
     ]
    }
   ],
   "source": [
    "# 使用者輸入數學分數(0~100)，並輸出結果\n",
    "score = eval(input(\"請輸入數學分數(0~100)：\"))\n",
    "print(\"數學分數:\", score)\n",
    "\n",
    "# 用if敘述判斷分數等級，如果分數大於或等於90則輸出\"優等\"，80~89則輸出\"甲等\"，70~79則輸出\"乙等\"，\n",
    "# 60~69則輸出\"丙等\"，否則輸出\"不及格\"\n",
    "\n",
    "if score >= 90:\n",
    "    print(\"優等\")\n",
    "elif score < 90 and score >= 80:\n",
    "    print(\"甲等\")\n",
    "elif score < 80 and score >= 70:\n",
    "    print(\"乙等\")\n",
    "elif score < 70 and score >= 60:\n",
    "    print(\"丙等\")\n",
    "else:\n",
    "    print(\"不及格\")"
   ]
  },
  {
   "cell_type": "code",
   "execution_count": 9,
   "metadata": {},
   "outputs": [
    {
     "name": "stdout",
     "output_type": "stream",
     "text": [
      "數學分數: 88\n",
      "甲等\n"
     ]
    }
   ],
   "source": [
    "# 使用者輸入數學分數(0~100)，並輸出結果\n",
    "score = eval(input(\"請輸入數學分數(0~100)：\"))\n",
    "print(\"數學分數:\", score)\n",
    "\n",
    "# 用if敘述判斷分數等級，如果分數大於或等於90則輸出\"優等\"，80~89則輸出\"甲等\"，70~79則輸出\"乙等\"，\n",
    "# 60~69則輸出\"丙等\"，否則輸出\"不及格\"\n",
    "\n",
    "if score >= 90:\n",
    "    print(\"優等\")\n",
    "elif score < 90 and score >= 80:\n",
    "    print(\"甲等\")\n",
    "elif score < 80 and score >= 70:\n",
    "    print(\"乙等\")\n",
    "elif score < 70 and score >= 60:\n",
    "    print(\"丙等\")\n",
    "else:\n",
    "    print(\"不及格\")"
   ]
  },
  {
   "cell_type": "code",
   "execution_count": 10,
   "metadata": {},
   "outputs": [
    {
     "name": "stdout",
     "output_type": "stream",
     "text": [
      "數學分數: 74\n",
      "乙等\n"
     ]
    }
   ],
   "source": [
    "# 使用者輸入數學分數(0~100)，並輸出結果\n",
    "score = eval(input(\"請輸入數學分數(0~100)：\"))\n",
    "print(\"數學分數:\", score)\n",
    "\n",
    "# 用if敘述判斷分數等級，如果分數大於或等於90則輸出\"優等\"，80~89則輸出\"甲等\"，70~79則輸出\"乙等\"，\n",
    "# 60~69則輸出\"丙等\"，否則輸出\"不及格\"\n",
    "\n",
    "if score >= 90:\n",
    "    print(\"優等\")\n",
    "elif score < 90 and score >= 80:\n",
    "    print(\"甲等\")\n",
    "elif score < 80 and score >= 70:\n",
    "    print(\"乙等\")\n",
    "elif score < 70 and score >= 60:\n",
    "    print(\"丙等\")\n",
    "else:\n",
    "    print(\"不及格\")"
   ]
  },
  {
   "cell_type": "code",
   "execution_count": 11,
   "metadata": {},
   "outputs": [
    {
     "name": "stdout",
     "output_type": "stream",
     "text": [
      "數學分數: 63\n",
      "丙等\n"
     ]
    }
   ],
   "source": [
    "# 使用者輸入數學分數(0~100)，並輸出結果\n",
    "score = eval(input(\"請輸入數學分數(0~100)：\"))\n",
    "print(\"數學分數:\", score)\n",
    "\n",
    "# 用if敘述判斷分數等級，如果分數大於或等於90則輸出\"優等\"，80~89則輸出\"甲等\"，70~79則輸出\"乙等\"，\n",
    "# 60~69則輸出\"丙等\"，否則輸出\"不及格\"\n",
    "\n",
    "if score >= 90:\n",
    "    print(\"優等\")\n",
    "elif score < 90 and score >= 80:\n",
    "    print(\"甲等\")\n",
    "elif score < 80 and score >= 70:\n",
    "    print(\"乙等\")\n",
    "elif score < 70 and score >= 60:\n",
    "    print(\"丙等\")\n",
    "else:\n",
    "    print(\"不及格\")"
   ]
  },
  {
   "cell_type": "code",
   "execution_count": 12,
   "metadata": {},
   "outputs": [
    {
     "name": "stdout",
     "output_type": "stream",
     "text": [
      "數學分數: 50\n",
      "不及格\n"
     ]
    }
   ],
   "source": [
    "# 使用者輸入數學分數(0~100)，並輸出結果\n",
    "score = eval(input(\"請輸入數學分數(0~100)：\"))\n",
    "print(\"數學分數:\", score)\n",
    "\n",
    "# 用if敘述判斷分數等級，如果分數大於或等於90則輸出\"優等\"，80~89則輸出\"甲等\"，70~79則輸出\"乙等\"，\n",
    "# 60~69則輸出\"丙等\"，否則輸出\"不及格\"\n",
    "\n",
    "if score >= 90:\n",
    "    print(\"優等\")\n",
    "elif score < 90 and score >= 80:\n",
    "    print(\"甲等\")\n",
    "elif score < 80 and score >= 70:\n",
    "    print(\"乙等\")\n",
    "elif score < 70 and score >= 60:\n",
    "    print(\"丙等\")\n",
    "else:\n",
    "    print(\"不及格\")"
   ]
  },
  {
   "cell_type": "code",
   "execution_count": 13,
   "metadata": {},
   "outputs": [
    {
     "name": "stdout",
     "output_type": "stream",
     "text": [
      "您輸入的整數是: 1\n",
      "ONE\n"
     ]
    }
   ],
   "source": [
    "# 使用者輸入1~5的整數，並輸出結果\n",
    "num = eval(input(\"請輸入1~5的整數：\"))\n",
    "print(\"您輸入的整數是:\", num)\n",
    "\n",
    "# 判斷輸入的整數並輸出對應的文字，如果輸入的整數是1則輸出\"ONE\"，2則輸出\"TWO\"，3則輸出\"THREE\"，4則輸出\"FOUR\"，\n",
    "# 5則輸出\"FIVE\"，超過範圍則輸出\"您輸入的資料超過範圍！\"\n",
    "\n",
    "if num == 1:   \n",
    "    print(\"ONE\")\n",
    "elif num == 2:\n",
    "    print(\"TWO\")\n",
    "elif num == 3:\n",
    "    print(\"THREE\")\n",
    "elif num == 4:\n",
    "    print(\"FOUR\")\n",
    "elif num == 5:\n",
    "    print(\"FIVE\")\n",
    "else:\n",
    "    print(\"您輸入的資料超過範圍！\")"
   ]
  },
  {
   "cell_type": "code",
   "execution_count": 14,
   "metadata": {},
   "outputs": [
    {
     "name": "stdout",
     "output_type": "stream",
     "text": [
      "您輸入的整數是: 2\n",
      "TWO\n"
     ]
    }
   ],
   "source": [
    "# 使用者輸入1~5的整數，並輸出結果\n",
    "num = eval(input(\"請輸入1~5的整數：\"))\n",
    "print(\"您輸入的整數是:\", num)\n",
    "\n",
    "# 判斷輸入的整數並輸出對應的文字，如果輸入的整數是1則輸出\"ONE\"，2則輸出\"TWO\"，3則輸出\"THREE\"，4則輸出\"FOUR\"，\n",
    "# 5則輸出\"FIVE\"，超過範圍則輸出\"您輸入的資料超過範圍！\"\n",
    "\n",
    "if num == 1:   \n",
    "    print(\"ONE\")\n",
    "elif num == 2:\n",
    "    print(\"TWO\")\n",
    "elif num == 3:\n",
    "    print(\"THREE\")\n",
    "elif num == 4:\n",
    "    print(\"FOUR\")\n",
    "elif num == 5:\n",
    "    print(\"FIVE\")\n",
    "else:\n",
    "    print(\"您輸入的資料超過範圍！\")"
   ]
  },
  {
   "cell_type": "code",
   "execution_count": 15,
   "metadata": {},
   "outputs": [
    {
     "name": "stdout",
     "output_type": "stream",
     "text": [
      "您輸入的整數是: 3\n",
      "THREE\n"
     ]
    }
   ],
   "source": [
    "# 使用者輸入1~5的整數，並輸出結果\n",
    "num = eval(input(\"請輸入1~5的整數：\"))\n",
    "print(\"您輸入的整數是:\", num)\n",
    "\n",
    "# 判斷輸入的整數並輸出對應的文字，如果輸入的整數是1則輸出\"ONE\"，2則輸出\"TWO\"，3則輸出\"THREE\"，4則輸出\"FOUR\"，\n",
    "# 5則輸出\"FIVE\"，超過範圍則輸出\"您輸入的資料超過範圍！\"\n",
    "\n",
    "if num == 1:   \n",
    "    print(\"ONE\")\n",
    "elif num == 2:\n",
    "    print(\"TWO\")\n",
    "elif num == 3:\n",
    "    print(\"THREE\")\n",
    "elif num == 4:\n",
    "    print(\"FOUR\")\n",
    "elif num == 5:\n",
    "    print(\"FIVE\")\n",
    "else:\n",
    "    print(\"您輸入的資料超過範圍！\")"
   ]
  },
  {
   "cell_type": "code",
   "execution_count": 16,
   "metadata": {},
   "outputs": [
    {
     "name": "stdout",
     "output_type": "stream",
     "text": [
      "您輸入的整數是: 4\n",
      "FOUR\n"
     ]
    }
   ],
   "source": [
    "# 使用者輸入1~5的整數，並輸出結果\n",
    "num = eval(input(\"請輸入1~5的整數：\"))\n",
    "print(\"您輸入的整數是:\", num)\n",
    "\n",
    "# 判斷輸入的整數並輸出對應的文字，如果輸入的整數是1則輸出\"ONE\"，2則輸出\"TWO\"，3則輸出\"THREE\"，4則輸出\"FOUR\"，\n",
    "# 5則輸出\"FIVE\"，超過範圍則輸出\"您輸入的資料超過範圍！\"\n",
    "\n",
    "if num == 1:   \n",
    "    print(\"ONE\")\n",
    "elif num == 2:\n",
    "    print(\"TWO\")\n",
    "elif num == 3:\n",
    "    print(\"THREE\")\n",
    "elif num == 4:\n",
    "    print(\"FOUR\")\n",
    "elif num == 5:\n",
    "    print(\"FIVE\")\n",
    "else:\n",
    "    print(\"您輸入的資料超過範圍！\")"
   ]
  },
  {
   "cell_type": "code",
   "execution_count": 17,
   "metadata": {},
   "outputs": [
    {
     "name": "stdout",
     "output_type": "stream",
     "text": [
      "您輸入的整數是: 5\n",
      "FIVE\n"
     ]
    }
   ],
   "source": [
    "# 使用者輸入1~5的整數，並輸出結果\n",
    "num = eval(input(\"請輸入1~5的整數：\"))\n",
    "print(\"您輸入的整數是:\", num)\n",
    "\n",
    "# 判斷輸入的整數並輸出對應的文字，如果輸入的整數是1則輸出\"ONE\"，2則輸出\"TWO\"，3則輸出\"THREE\"，4則輸出\"FOUR\"，\n",
    "# 5則輸出\"FIVE\"，超過範圍則輸出\"您輸入的資料超過範圍！\"\n",
    "\n",
    "if num == 1:   \n",
    "    print(\"ONE\")\n",
    "elif num == 2:\n",
    "    print(\"TWO\")\n",
    "elif num == 3:\n",
    "    print(\"THREE\")\n",
    "elif num == 4:\n",
    "    print(\"FOUR\")\n",
    "elif num == 5:\n",
    "    print(\"FIVE\")\n",
    "else:\n",
    "    print(\"您輸入的資料超過範圍！\")"
   ]
  },
  {
   "cell_type": "code",
   "execution_count": 18,
   "metadata": {},
   "outputs": [
    {
     "name": "stdout",
     "output_type": "stream",
     "text": [
      "您輸入的整數是: 6\n",
      "您輸入的資料超過範圍！\n"
     ]
    }
   ],
   "source": [
    "# 使用者輸入1~5的整數，並輸出結果\n",
    "num = eval(input(\"請輸入1~5的整數：\"))\n",
    "print(\"您輸入的整數是:\", num)\n",
    "\n",
    "# 判斷輸入的整數並輸出對應的文字，如果輸入的整數是1則輸出\"ONE\"，2則輸出\"TWO\"，3則輸出\"THREE\"，4則輸出\"FOUR\"，\n",
    "# 5則輸出\"FIVE\"，超過範圍則輸出\"您輸入的資料超過範圍！\"\n",
    "\n",
    "if num == 1:   \n",
    "    print(\"ONE\")\n",
    "elif num == 2:\n",
    "    print(\"TWO\")\n",
    "elif num == 3:\n",
    "    print(\"THREE\")\n",
    "elif num == 4:\n",
    "    print(\"FOUR\")\n",
    "elif num == 5:\n",
    "    print(\"FIVE\")\n",
    "else:\n",
    "    print(\"您輸入的資料超過範圍！\")"
   ]
  },
  {
   "cell_type": "code",
   "execution_count": 19,
   "metadata": {},
   "outputs": [
    {
     "name": "stdout",
     "output_type": "stream",
     "text": [
      "數學分數: 92\n",
      "優等\n"
     ]
    }
   ],
   "source": [
    "# 使用者輸入數學分數(0~100)，並輸出結果\n",
    "score = eval(input(\"請輸入數學分數(0~100)：\"))\n",
    "print(\"數學分數:\", score)\n",
    "\n",
    "# 用if敘述判斷分數等級，如果分數大於或等於90則輸出\"優等\"，80~89則輸出\"甲等\"，70~79則輸出\"乙等\"，\n",
    "# 60~69則輸出\"丙等\"，否則輸出\"不及格\"\n",
    "\n",
    "if score >= 90:   \n",
    "    print(\"優等\")\n",
    "else:\n",
    "    if score >= 80:\n",
    "        print(\"甲等\")\n",
    "    else:\n",
    "        if score >= 70:\n",
    "            print(\"乙等\")\n",
    "        else:\n",
    "            if score >= 60:\n",
    "                print(\"丙等\")\n",
    "            else:\n",
    "                print(\"不及格\")"
   ]
  },
  {
   "cell_type": "code",
   "execution_count": 20,
   "metadata": {},
   "outputs": [
    {
     "name": "stdout",
     "output_type": "stream",
     "text": [
      "數學分數: 82\n",
      "甲等\n"
     ]
    }
   ],
   "source": [
    "# 使用者輸入數學分數(0~100)，並輸出結果\n",
    "score = eval(input(\"請輸入數學分數(0~100)：\"))\n",
    "print(\"數學分數:\", score)\n",
    "\n",
    "# 用if敘述判斷分數等級，如果分數大於或等於90則輸出\"優等\"，80~89則輸出\"甲等\"，70~79則輸出\"乙等\"，\n",
    "# 60~69則輸出\"丙等\"，否則輸出\"不及格\"\n",
    "\n",
    "if score >= 90:   \n",
    "    print(\"優等\")\n",
    "else:\n",
    "    if score >= 80:\n",
    "        print(\"甲等\")\n",
    "    else:\n",
    "        if score >= 70:\n",
    "            print(\"乙等\")\n",
    "        else:\n",
    "            if score >= 60:\n",
    "                print(\"丙等\")\n",
    "            else:\n",
    "                print(\"不及格\")"
   ]
  },
  {
   "cell_type": "code",
   "execution_count": 21,
   "metadata": {},
   "outputs": [
    {
     "name": "stdout",
     "output_type": "stream",
     "text": [
      "數學分數: 76\n",
      "乙等\n"
     ]
    }
   ],
   "source": [
    "# 使用者輸入數學分數(0~100)，並輸出結果\n",
    "score = eval(input(\"請輸入數學分數(0~100)：\"))\n",
    "print(\"數學分數:\", score)\n",
    "\n",
    "# 用if敘述判斷分數等級，如果分數大於或等於90則輸出\"優等\"，80~89則輸出\"甲等\"，70~79則輸出\"乙等\"，\n",
    "# 60~69則輸出\"丙等\"，否則輸出\"不及格\"\n",
    "\n",
    "if score >= 90:   \n",
    "    print(\"優等\")\n",
    "else:\n",
    "    if score >= 80:\n",
    "        print(\"甲等\")\n",
    "    else:\n",
    "        if score >= 70:\n",
    "            print(\"乙等\")\n",
    "        else:\n",
    "            if score >= 60:\n",
    "                print(\"丙等\")\n",
    "            else:\n",
    "                print(\"不及格\")"
   ]
  },
  {
   "cell_type": "code",
   "execution_count": 22,
   "metadata": {},
   "outputs": [
    {
     "name": "stdout",
     "output_type": "stream",
     "text": [
      "數學分數: 64\n",
      "丙等\n"
     ]
    }
   ],
   "source": [
    "# 使用者輸入數學分數(0~100)，並輸出結果\n",
    "score = eval(input(\"請輸入數學分數(0~100)：\"))\n",
    "print(\"數學分數:\", score)\n",
    "\n",
    "# 用if敘述判斷分數等級，如果分數大於或等於90則輸出\"優等\"，80~89則輸出\"甲等\"，70~79則輸出\"乙等\"，\n",
    "# 60~69則輸出\"丙等\"，否則輸出\"不及格\"\n",
    "\n",
    "if score >= 90:   \n",
    "    print(\"優等\")\n",
    "else:\n",
    "    if score >= 80:\n",
    "        print(\"甲等\")\n",
    "    else:\n",
    "        if score >= 70:\n",
    "            print(\"乙等\")\n",
    "        else:\n",
    "            if score >= 60:\n",
    "                print(\"丙等\")\n",
    "            else:\n",
    "                print(\"不及格\")"
   ]
  },
  {
   "cell_type": "code",
   "execution_count": 23,
   "metadata": {},
   "outputs": [
    {
     "name": "stdout",
     "output_type": "stream",
     "text": [
      "數學分數: 51\n",
      "不及格\n"
     ]
    }
   ],
   "source": [
    "# 使用者輸入數學分數(0~100)，並輸出結果\n",
    "score = eval(input(\"請輸入數學分數(0~100)：\"))\n",
    "print(\"數學分數:\", score)\n",
    "\n",
    "# 用if敘述判斷分數等級，如果分數大於或等於90則輸出\"優等\"，80~89則輸出\"甲等\"，70~79則輸出\"乙等\"，\n",
    "# 60~69則輸出\"丙等\"，否則輸出\"不及格\"\n",
    "\n",
    "if score >= 90:   \n",
    "    print(\"優等\")\n",
    "else:\n",
    "    if score >= 80:\n",
    "        print(\"甲等\")\n",
    "    else:\n",
    "        if score >= 70:\n",
    "            print(\"乙等\")\n",
    "        else:\n",
    "            if score >= 60:\n",
    "                print(\"丙等\")\n",
    "            else:\n",
    "                print(\"不及格\")"
   ]
  },
  {
   "cell_type": "code",
   "execution_count": 24,
   "metadata": {},
   "outputs": [
    {
     "name": "stdout",
     "output_type": "stream",
     "text": [
      "您輸入的整數是: 1\n",
      "ONE\n"
     ]
    }
   ],
   "source": [
    "# 使用者輸入1~5的整數，並輸出結果\n",
    "num = eval(input(\"請輸入1~5的整數：\"))\n",
    "print(\"您輸入的整數是:\", num)\n",
    "\n",
    "# 判斷輸入的整數並輸出對應的文字，如果輸入的整數是1則輸出\"ONE\"，2則輸出\"TWO\"，3則輸出\"THREE\"，4則輸出\"FOUR\"，\n",
    "# 5則輸出\"FIVE\"，超過範圍則輸出\"您輸入的資料超過範圍！\"\n",
    "\n",
    "if num == 1:   \n",
    "    print(\"ONE\")\n",
    "else:\n",
    "    if num == 2:\n",
    "        print(\"TWO\")\n",
    "    else:\n",
    "        if num == 3:\n",
    "            print(\"THREE\")\n",
    "        else:\n",
    "            if num == 4:\n",
    "                print(\"FOUR\")\n",
    "            else:\n",
    "                if num == 5:\n",
    "                    print(\"FIVE\")\n",
    "                else:\n",
    "                    print(\"您輸入的資料超過範圍！\")"
   ]
  },
  {
   "cell_type": "code",
   "execution_count": 25,
   "metadata": {},
   "outputs": [
    {
     "name": "stdout",
     "output_type": "stream",
     "text": [
      "您輸入的整數是: 2\n",
      "TWO\n"
     ]
    }
   ],
   "source": [
    "# 使用者輸入1~5的整數，並輸出結果\n",
    "num = eval(input(\"請輸入1~5的整數：\"))\n",
    "print(\"您輸入的整數是:\", num)\n",
    "\n",
    "# 判斷輸入的整數並輸出對應的文字，如果輸入的整數是1則輸出\"ONE\"，2則輸出\"TWO\"，3則輸出\"THREE\"，4則輸出\"FOUR\"，\n",
    "# 5則輸出\"FIVE\"，超過範圍則輸出\"您輸入的資料超過範圍！\"\n",
    "\n",
    "if num == 1:   \n",
    "    print(\"ONE\")\n",
    "else:\n",
    "    if num == 2:\n",
    "        print(\"TWO\")\n",
    "    else:\n",
    "        if num == 3:\n",
    "            print(\"THREE\")\n",
    "        else:\n",
    "            if num == 4:\n",
    "                print(\"FOUR\")\n",
    "            else:\n",
    "                if num == 5:\n",
    "                    print(\"FIVE\")\n",
    "                else:\n",
    "                    print(\"您輸入的資料超過範圍！\")"
   ]
  },
  {
   "cell_type": "code",
   "execution_count": 26,
   "metadata": {},
   "outputs": [
    {
     "name": "stdout",
     "output_type": "stream",
     "text": [
      "您輸入的整數是: 3\n",
      "THREE\n"
     ]
    }
   ],
   "source": [
    "# 使用者輸入1~5的整數，並輸出結果\n",
    "num = eval(input(\"請輸入1~5的整數：\"))\n",
    "print(\"您輸入的整數是:\", num)\n",
    "\n",
    "# 判斷輸入的整數並輸出對應的文字，如果輸入的整數是1則輸出\"ONE\"，2則輸出\"TWO\"，3則輸出\"THREE\"，4則輸出\"FOUR\"，\n",
    "# 5則輸出\"FIVE\"，超過範圍則輸出\"您輸入的資料超過範圍！\"\n",
    "\n",
    "if num == 1:   \n",
    "    print(\"ONE\")\n",
    "else:\n",
    "    if num == 2:\n",
    "        print(\"TWO\")\n",
    "    else:\n",
    "        if num == 3:\n",
    "            print(\"THREE\")\n",
    "        else:\n",
    "            if num == 4:\n",
    "                print(\"FOUR\")\n",
    "            else:\n",
    "                if num == 5:\n",
    "                    print(\"FIVE\")\n",
    "                else:\n",
    "                    print(\"您輸入的資料超過範圍！\")"
   ]
  },
  {
   "cell_type": "code",
   "execution_count": 27,
   "metadata": {},
   "outputs": [
    {
     "name": "stdout",
     "output_type": "stream",
     "text": [
      "您輸入的整數是: 4\n",
      "FOUR\n"
     ]
    }
   ],
   "source": [
    "# 使用者輸入1~5的整數，並輸出結果\n",
    "num = eval(input(\"請輸入1~5的整數：\"))\n",
    "print(\"您輸入的整數是:\", num)\n",
    "\n",
    "# 判斷輸入的整數並輸出對應的文字，如果輸入的整數是1則輸出\"ONE\"，2則輸出\"TWO\"，3則輸出\"THREE\"，4則輸出\"FOUR\"，\n",
    "# 5則輸出\"FIVE\"，超過範圍則輸出\"您輸入的資料超過範圍！\"\n",
    "\n",
    "if num == 1:   \n",
    "    print(\"ONE\")\n",
    "else:\n",
    "    if num == 2:\n",
    "        print(\"TWO\")\n",
    "    else:\n",
    "        if num == 3:\n",
    "            print(\"THREE\")\n",
    "        else:\n",
    "            if num == 4:\n",
    "                print(\"FOUR\")\n",
    "            else:\n",
    "                if num == 5:\n",
    "                    print(\"FIVE\")\n",
    "                else:\n",
    "                    print(\"您輸入的資料超過範圍！\")"
   ]
  },
  {
   "cell_type": "code",
   "execution_count": 28,
   "metadata": {},
   "outputs": [
    {
     "name": "stdout",
     "output_type": "stream",
     "text": [
      "您輸入的整數是: 5\n",
      "FIVE\n"
     ]
    }
   ],
   "source": [
    "# 使用者輸入1~5的整數，並輸出結果\n",
    "num = eval(input(\"請輸入1~5的整數：\"))\n",
    "print(\"您輸入的整數是:\", num)\n",
    "\n",
    "# 判斷輸入的整數並輸出對應的文字，如果輸入的整數是1則輸出\"ONE\"，2則輸出\"TWO\"，3則輸出\"THREE\"，4則輸出\"FOUR\"，\n",
    "# 5則輸出\"FIVE\"，超過範圍則輸出\"您輸入的資料超過範圍！\"\n",
    "\n",
    "if num == 1:   \n",
    "    print(\"ONE\")\n",
    "else:\n",
    "    if num == 2:\n",
    "        print(\"TWO\")\n",
    "    else:\n",
    "        if num == 3:\n",
    "            print(\"THREE\")\n",
    "        else:\n",
    "            if num == 4:\n",
    "                print(\"FOUR\")\n",
    "            else:\n",
    "                if num == 5:\n",
    "                    print(\"FIVE\")\n",
    "                else:\n",
    "                    print(\"您輸入的資料超過範圍！\")"
   ]
  },
  {
   "cell_type": "code",
   "execution_count": 29,
   "metadata": {},
   "outputs": [
    {
     "name": "stdout",
     "output_type": "stream",
     "text": [
      "您輸入的整數是: 6\n",
      "您輸入的資料超過範圍！\n"
     ]
    }
   ],
   "source": [
    "# 使用者輸入1~5的整數，並輸出結果\n",
    "num = eval(input(\"請輸入1~5的整數：\"))\n",
    "print(\"您輸入的整數是:\", num)\n",
    "\n",
    "# 判斷輸入的整數並輸出對應的文字，如果輸入的整數是1則輸出\"ONE\"，2則輸出\"TWO\"，3則輸出\"THREE\"，4則輸出\"FOUR\"，\n",
    "# 5則輸出\"FIVE\"，超過範圍則輸出\"您輸入的資料超過範圍！\"\n",
    "\n",
    "if num == 1:   \n",
    "    print(\"ONE\")\n",
    "else:\n",
    "    if num == 2:\n",
    "        print(\"TWO\")\n",
    "    else:\n",
    "        if num == 3:\n",
    "            print(\"THREE\")\n",
    "        else:\n",
    "            if num == 4:\n",
    "                print(\"FOUR\")\n",
    "            else:\n",
    "                if num == 5:\n",
    "                    print(\"FIVE\")\n",
    "                else:\n",
    "                    print(\"您輸入的資料超過範圍！\")"
   ]
  },
  {
   "cell_type": "code",
   "execution_count": 30,
   "metadata": {},
   "outputs": [
    {
     "name": "stdout",
     "output_type": "stream",
     "text": [
      "您輸入的選項是: 1\n",
      "華氏溫度為     100.00\n",
      "攝氏溫度為      37.78\n"
     ]
    }
   ],
   "source": [
    "# 使用者輸入華氏轉攝氏(1.)或攝氏轉華氏(2.)溫度轉換，並輸出結果\n",
    "f = int(input(\"溫度轉換\\n1.華氏轉攝氏\\n2.攝氏轉華氏\\n\"))\n",
    "print(\"您輸入的選項是:\", f)\n",
    "\n",
    "# 使用 if 敘述判斷使用者輸入的選項，如果是 1，則要求輸入華氏溫度並計算對應的攝氏溫度，\n",
    "# 如果是 2，則要求輸入攝氏溫度並計算對應的華氏溫度，否則，輸出「輸入錯誤」\n",
    "\n",
    "if f == 1:\n",
    "    ff = float(input(\"請輸入華氏溫度:\"))\n",
    "    c = 5/9 * (ff - 32)\n",
    "    print(\"華氏溫度為\", format(ff, \"10.2f\"))\n",
    "    print(\"攝氏溫度為\", format(c, \"10.2f\"))\n",
    "elif f == 2:\n",
    "    ff = float(input(\"請輸入攝氏溫度:\"))\n",
    "    c = 9 * ff / 5 + 32\n",
    "    print(\"攝氏溫度為\", format(ff, \"10.2f\"))\n",
    "    print(\"華氏溫度為\", format(c, \"10.2f\"))\n",
    "else:\n",
    "    print(\"輸入錯誤\")"
   ]
  },
  {
   "cell_type": "code",
   "execution_count": 31,
   "metadata": {},
   "outputs": [
    {
     "name": "stdout",
     "output_type": "stream",
     "text": [
      "您輸入的選項是: 2\n",
      "攝氏溫度為      40.00\n",
      "華氏溫度為     104.00\n"
     ]
    }
   ],
   "source": [
    "# 使用者輸入華氏轉攝氏(1.)或攝氏轉華氏(2.)溫度轉換，並輸出結果\n",
    "f = int(input(\"溫度轉換\\n1.華氏轉攝氏\\n2.攝氏轉華氏\\n\"))\n",
    "print(\"您輸入的選項是:\", f)\n",
    "\n",
    "# 使用 if 敘述判斷使用者輸入的選項，如果是 1，則要求輸入華氏溫度並計算對應的攝氏溫度，\n",
    "# 如果是 2，則要求輸入攝氏溫度並計算對應的華氏溫度，否則，輸出「輸入錯誤」\n",
    "\n",
    "if f == 1:\n",
    "    ff = float(input(\"請輸入華氏溫度:\"))\n",
    "    c = 5/9 * (ff - 32)\n",
    "    print(\"華氏溫度為\", format(ff, \"10.2f\"))\n",
    "    print(\"攝氏溫度為\", format(c, \"10.2f\"))\n",
    "elif f == 2:\n",
    "    ff = float(input(\"請輸入攝氏溫度:\"))\n",
    "    c = 9 * ff / 5 + 32\n",
    "    print(\"攝氏溫度為\", format(ff, \"10.2f\"))\n",
    "    print(\"華氏溫度為\", format(c, \"10.2f\"))\n",
    "else:\n",
    "    print(\"輸入錯誤\")"
   ]
  },
  {
   "cell_type": "code",
   "execution_count": 32,
   "metadata": {},
   "outputs": [
    {
     "name": "stdout",
     "output_type": "stream",
     "text": [
      "您輸入的選項是: 3\n",
      "輸入錯誤\n"
     ]
    }
   ],
   "source": [
    "# 使用者輸入華氏轉攝氏(1.)或攝氏轉華氏(2.)溫度轉換，並輸出結果\n",
    "f = int(input(\"溫度轉換\\n1.華氏轉攝氏\\n2.攝氏轉華氏\\n\"))\n",
    "print(\"您輸入的選項是:\", f)\n",
    "\n",
    "# 使用 if 敘述判斷使用者輸入的選項，如果是 1，則要求輸入華氏溫度並計算對應的攝氏溫度，\n",
    "# 如果是 2，則要求輸入攝氏溫度並計算對應的華氏溫度，否則，輸出「輸入錯誤」\n",
    "\n",
    "if f == 1:\n",
    "    ff = float(input(\"請輸入華氏溫度:\"))\n",
    "    c = 5/9 * (ff - 32)\n",
    "    print(\"華氏溫度為\", format(ff, \"10.2f\"))\n",
    "    print(\"攝氏溫度為\", format(c, \"10.2f\"))\n",
    "elif f == 2:\n",
    "    ff = float(input(\"請輸入攝氏溫度:\"))\n",
    "    c = 9 * ff / 5 + 32\n",
    "    print(\"攝氏溫度為\", format(ff, \"10.2f\"))\n",
    "    print(\"華氏溫度為\", format(c, \"10.2f\"))\n",
    "else:\n",
    "    print(\"輸入錯誤\")"
   ]
  },
  {
   "cell_type": "code",
   "execution_count": 33,
   "metadata": {},
   "outputs": [
    {
     "name": "stdout",
     "output_type": "stream",
     "text": [
      "綜合所得淨額: 500000\n",
      "個人綜合所得稅是 25000.0 元\n"
     ]
    }
   ],
   "source": [
    "# 使用者輸入綜合所得淨額，並輸出結果\n",
    "money = eval(input(\"請輸入綜合所得淨額：\"))\n",
    "print(\"綜合所得淨額:\", money)\n",
    "\n",
    "# 使用if敘述計算個人綜合所得稅，如果綜合所得淨額在0~520000之間，稅率為5%，\n",
    "# 綜合所得淨額在520001~1170000之間，稅率為12%，綜合所得淨額在1170001~2350000之間，稅率為20%，\n",
    "# 綜合所得淨額在2350001~4400000之間，稅率為30%，綜合所得淨額大於4400000，稅率為40%\n",
    "\n",
    "if (money >= 0 and money <= 520000):\n",
    "    tax = money * 0.05\n",
    "elif (money >= 520001 and money <= 1170000):\n",
    "    tax = money * 0.12\n",
    "elif (money >= 1170001 and money <= 2350000):\n",
    "    tax = money * 0.2\n",
    "elif (money >= 2350001 and money <= 4400000):\n",
    "    tax = money * 0.3\n",
    "elif (money > 4400000):\n",
    "    tax = money * 0.4\n",
    "\n",
    "print(\"個人綜合所得稅是\", tax, \"元\")"
   ]
  },
  {
   "cell_type": "code",
   "execution_count": 34,
   "metadata": {},
   "outputs": [
    {
     "name": "stdout",
     "output_type": "stream",
     "text": [
      "綜合所得淨額: 1000000\n",
      "個人綜合所得稅是 120000.0 元\n"
     ]
    }
   ],
   "source": [
    "# 使用者輸入綜合所得淨額，並輸出結果\n",
    "money = eval(input(\"請輸入綜合所得淨額：\"))\n",
    "print(\"綜合所得淨額:\", money)\n",
    "\n",
    "# 使用if敘述計算個人綜合所得稅，如果綜合所得淨額在0~520000之間，稅率為5%，\n",
    "# 綜合所得淨額在520001~1170000之間，稅率為12%，綜合所得淨額在1170001~2350000之間，稅率為20%，\n",
    "# 綜合所得淨額在2350001~4400000之間，稅率為30%，綜合所得淨額大於4400000，稅率為40%\n",
    "\n",
    "if (money >= 0 and money <= 520000):\n",
    "    tax = money * 0.05\n",
    "elif (money >= 520001 and money <= 1170000):\n",
    "    tax = money * 0.12\n",
    "elif (money >= 1170001 and money <= 2350000):\n",
    "    tax = money * 0.2\n",
    "elif (money >= 2350001 and money <= 4400000):\n",
    "    tax = money * 0.3\n",
    "elif (money > 4400000):\n",
    "    tax = money * 0.4\n",
    "\n",
    "print(\"個人綜合所得稅是\", tax, \"元\")"
   ]
  },
  {
   "cell_type": "code",
   "execution_count": 35,
   "metadata": {},
   "outputs": [
    {
     "name": "stdout",
     "output_type": "stream",
     "text": [
      "綜合所得淨額: 2350000\n",
      "個人綜合所得稅是 470000.0 元\n"
     ]
    }
   ],
   "source": [
    "# 使用者輸入綜合所得淨額，並輸出結果\n",
    "money = eval(input(\"請輸入綜合所得淨額：\"))\n",
    "print(\"綜合所得淨額:\", money)\n",
    "\n",
    "# 使用if敘述計算個人綜合所得稅，如果綜合所得淨額在0~520000之間，稅率為5%，\n",
    "# 綜合所得淨額在520001~1170000之間，稅率為12%，綜合所得淨額在1170001~2350000之間，稅率為20%，\n",
    "# 綜合所得淨額在2350001~4400000之間，稅率為30%，綜合所得淨額大於4400000，稅率為40%\n",
    "\n",
    "if (money >= 0 and money <= 520000):\n",
    "    tax = money * 0.05\n",
    "elif (money >= 520001 and money <= 1170000):\n",
    "    tax = money * 0.12\n",
    "elif (money >= 1170001 and money <= 2350000):\n",
    "    tax = money * 0.2\n",
    "elif (money >= 2350001 and money <= 4400000):\n",
    "    tax = money * 0.3\n",
    "elif (money > 4400000):\n",
    "    tax = money * 0.4\n",
    "\n",
    "print(\"個人綜合所得稅是\", tax, \"元\")"
   ]
  },
  {
   "cell_type": "code",
   "execution_count": 36,
   "metadata": {},
   "outputs": [
    {
     "name": "stdout",
     "output_type": "stream",
     "text": [
      "綜合所得淨額: 4000000\n",
      "個人綜合所得稅是 1200000.0 元\n"
     ]
    }
   ],
   "source": [
    "# 使用者輸入綜合所得淨額，並輸出結果\n",
    "money = eval(input(\"請輸入綜合所得淨額：\"))\n",
    "print(\"綜合所得淨額:\", money)\n",
    "\n",
    "# 使用if敘述計算個人綜合所得稅，如果綜合所得淨額在0~520000之間，稅率為5%，\n",
    "# 綜合所得淨額在520001~1170000之間，稅率為12%，綜合所得淨額在1170001~2350000之間，稅率為20%，\n",
    "# 綜合所得淨額在2350001~4400000之間，稅率為30%，綜合所得淨額大於4400000，稅率為40%\n",
    "\n",
    "if (money >= 0 and money <= 520000):\n",
    "    tax = money * 0.05\n",
    "elif (money >= 520001 and money <= 1170000):\n",
    "    tax = money * 0.12\n",
    "elif (money >= 1170001 and money <= 2350000):\n",
    "    tax = money * 0.2\n",
    "elif (money >= 2350001 and money <= 4400000):\n",
    "    tax = money * 0.3\n",
    "elif (money > 4400000):\n",
    "    tax = money * 0.4\n",
    "\n",
    "print(\"個人綜合所得稅是\", tax, \"元\")"
   ]
  },
  {
   "cell_type": "code",
   "execution_count": 37,
   "metadata": {},
   "outputs": [
    {
     "name": "stdout",
     "output_type": "stream",
     "text": [
      "綜合所得淨額: 5000000\n",
      "個人綜合所得稅是 2000000.0 元\n"
     ]
    }
   ],
   "source": [
    "# 使用者輸入綜合所得淨額，並輸出結果\n",
    "money = eval(input(\"請輸入綜合所得淨額：\"))\n",
    "print(\"綜合所得淨額:\", money)\n",
    "\n",
    "# 使用if敘述計算個人綜合所得稅，如果綜合所得淨額在0~520000之間，稅率為5%，\n",
    "# 綜合所得淨額在520001~1170000之間，稅率為12%，綜合所得淨額在1170001~2350000之間，稅率為20%，\n",
    "# 綜合所得淨額在2350001~4400000之間，稅率為30%，綜合所得淨額大於4400000，稅率為40%\n",
    "\n",
    "if (money >= 0 and money <= 520000):\n",
    "    tax = money * 0.05\n",
    "elif (money >= 520001 and money <= 1170000):\n",
    "    tax = money * 0.12\n",
    "elif (money >= 1170001 and money <= 2350000):\n",
    "    tax = money * 0.2\n",
    "elif (money >= 2350001 and money <= 4400000):\n",
    "    tax = money * 0.3\n",
    "elif (money > 4400000):\n",
    "    tax = money * 0.4\n",
    "\n",
    "print(\"個人綜合所得稅是\", tax, \"元\")"
   ]
  },
  {
   "cell_type": "code",
   "execution_count": 38,
   "metadata": {},
   "outputs": [
    {
     "data": {
      "text/plain": [
       "[0, 1, 2, 3, 4]"
      ]
     },
     "execution_count": 38,
     "metadata": {},
     "output_type": "execute_result"
    }
   ],
   "source": [
    "# 起始值為0，終止值為5(不含5)，間隔值為1的整數序列\n",
    "list(range(5))"
   ]
  },
  {
   "cell_type": "code",
   "execution_count": 39,
   "metadata": {},
   "outputs": [
    {
     "data": {
      "text/plain": [
       "[1, 3, 5, 7, 9]"
      ]
     },
     "execution_count": 39,
     "metadata": {},
     "output_type": "execute_result"
    }
   ],
   "source": [
    "# 起始值為1，終止值為10(不含10)，間隔值為2的整數序列\n",
    "list(range(1, 10, 2))"
   ]
  },
  {
   "cell_type": "code",
   "execution_count": 40,
   "metadata": {},
   "outputs": [
    {
     "data": {
      "text/plain": [
       "[10, 8, 6, 4, 2, 0, -2, -4, -6, -8]"
      ]
     },
     "execution_count": 40,
     "metadata": {},
     "output_type": "execute_result"
    }
   ],
   "source": [
    "# 起始值為10，終止值為-10(不含-10)，間隔值為-2的整數序列\n",
    "list(range(10, -10, -2))"
   ]
  },
  {
   "cell_type": "code",
   "execution_count": 41,
   "metadata": {},
   "outputs": [
    {
     "name": "stdout",
     "output_type": "stream",
     "text": [
      "0\n",
      "1\n",
      "2\n",
      "3\n",
      "4\n"
     ]
    }
   ],
   "source": [
    "# 當i大於或等於終止值5時，就印出i；當i等於終止值5時，就跳出for迴圈\n",
    "for i in range(5):\n",
    "    print(i)"
   ]
  },
  {
   "cell_type": "code",
   "execution_count": 42,
   "metadata": {},
   "outputs": [
    {
     "name": "stdout",
     "output_type": "stream",
     "text": [
      "總和等於 21\n"
     ]
    }
   ],
   "source": [
    "sum = 0  # 初始化總和為0\n",
    "for i in range(1, 7):  # 當i小於終止值7時，執行for迴圈(將i累加到sum中)\n",
    "    sum = sum + i\n",
    "else:                  # 當i等於終止值7時，執行else區塊，然後跳出for迴圈\n",
    "    print(\"總和等於\", sum)"
   ]
  },
  {
   "cell_type": "code",
   "execution_count": 43,
   "metadata": {},
   "outputs": [
    {
     "name": "stdout",
     "output_type": "stream",
     "text": [
      "總和等於 83\n"
     ]
    }
   ],
   "source": [
    "# 將變數list1設定為包含5個元素的串列\n",
    "list1 = [15, 20, 33, 7, 8]\n",
    "\n",
    "# 將變數sum的初始值設定為0，用來存放總和\n",
    "sum = 0\n",
    "\n",
    "# 使用for迴圈逐一將串列的每個元素累加到變數sum\n",
    "for i in list1:\n",
    "    sum = sum + i\n",
    "\n",
    "# 當for迴圈結束後，印出總和\n",
    "print(\"總和等於\", sum)"
   ]
  },
  {
   "cell_type": "code",
   "execution_count": 44,
   "metadata": {},
   "outputs": [
    {
     "name": "stdout",
     "output_type": "stream",
     "text": [
      "H -e -l -l -o -, -  -W -o -r -l -d -! -"
     ]
    }
   ],
   "source": [
    "str1 = \"Hello, World!\"\n",
    "# 使用for迴圈逐一印出字串的每個字元和 '-' 字元\n",
    "for i in str1:\n",
    "    # 將選擇性參數end設定為 ''，表示每次印出 '-' 字元就加上空字串\n",
    "    print(i, '-', end = '')"
   ]
  },
  {
   "cell_type": "code",
   "execution_count": 45,
   "metadata": {},
   "outputs": [
    {
     "name": "stdout",
     "output_type": "stream",
     "text": [
      "1\n",
      "10\n",
      "19\n",
      "28\n",
      "37\n",
      "46\n",
      "55\n",
      "64\n",
      "73\n",
      "82\n",
      "91\n"
     ]
    }
   ],
   "source": [
    "# 使用for迴圈從1開始到100(不含100)，每次增加9，印出每個數字\n",
    "for i in range(1, 100, 9):\n",
    "    print(i)"
   ]
  },
  {
   "cell_type": "code",
   "execution_count": 46,
   "metadata": {},
   "outputs": [
    {
     "name": "stdout",
     "output_type": "stream",
     "text": [
      "您輸入的正整數是: 5\n",
      "5階乘為120\n"
     ]
    }
   ],
   "source": [
    "# 使用者輸入1~10的正整數，並輸出結果\n",
    "num = eval(input(\"請輸入1~10的正整數：\"))\n",
    "print(\"您輸入的正整數是:\", num)\n",
    "\n",
    "# 使用for迴圈計算輸入的正整數的階乘，並輸出結果\n",
    "result = 1\n",
    "for i in range(1, num + 1):\n",
    "    result = result * i\n",
    "print(\"{0}階乘為{1}\".format(num, result))"
   ]
  },
  {
   "cell_type": "code",
   "execution_count": 47,
   "metadata": {},
   "outputs": [
    {
     "name": "stdout",
     "output_type": "stream",
     "text": [
      "1*1=1\t1*2=2\t1*3=3\t1*4=4\t1*5=5\t1*6=6\t1*7=7\t1*8=8\t1*9=9\t\n",
      "2*1=2\t2*2=4\t2*3=6\t2*4=8\t2*5=10\t2*6=12\t2*7=14\t2*8=16\t2*9=18\t\n",
      "3*1=3\t3*2=6\t3*3=9\t3*4=12\t3*5=15\t3*6=18\t3*7=21\t3*8=24\t3*9=27\t\n",
      "4*1=4\t4*2=8\t4*3=12\t4*4=16\t4*5=20\t4*6=24\t4*7=28\t4*8=32\t4*9=36\t\n",
      "5*1=5\t5*2=10\t5*3=15\t5*4=20\t5*5=25\t5*6=30\t5*7=35\t5*8=40\t5*9=45\t\n",
      "6*1=6\t6*2=12\t6*3=18\t6*4=24\t6*5=30\t6*6=36\t6*7=42\t6*8=48\t6*9=54\t\n",
      "7*1=7\t7*2=14\t7*3=21\t7*4=28\t7*5=35\t7*6=42\t7*7=49\t7*8=56\t7*9=63\t\n",
      "8*1=8\t8*2=16\t8*3=24\t8*4=32\t8*5=40\t8*6=48\t8*7=56\t8*8=64\t8*9=72\t\n",
      "9*1=9\t9*2=18\t9*3=27\t9*4=36\t9*5=45\t9*6=54\t9*7=63\t9*8=72\t9*9=81\t\n",
      "\n"
     ]
    }
   ],
   "source": [
    "result1, result2 = '', ''  # 將兩個變數設定為空字串\n",
    "\n",
    "# 使用雙層for迴圈計算九九乘法表，將結果存入result2\n",
    "for i in range(1, 10):\n",
    "    result1 = ''           # 將result1設定為空字串\n",
    "    for j in range(1, 10):\n",
    "        result1 = result1 + str(i) + '*' + str(j) + '=' + str(i * j) + '\\t'\n",
    "    result2 = result2 + result1 + '\\n'\n",
    "\n",
    "print(result2)"
   ]
  },
  {
   "cell_type": "code",
   "execution_count": 48,
   "metadata": {},
   "outputs": [
    {
     "name": "stdout",
     "output_type": "stream",
     "text": [
      "2550\n"
     ]
    }
   ],
   "source": [
    "sum = 0  # 初始化總和為0\n",
    "for i in range(2, 101, 2):  # 當sum小於終止值101時，執行for迴圈(將偶數累加到sum中)\n",
    "    sum = sum + i           # 將i累加到sum中，當i等於終止值101時，跳出for迴圈\n",
    "print(sum)"
   ]
  },
  {
   "cell_type": "code",
   "execution_count": 49,
   "metadata": {},
   "outputs": [
    {
     "name": "stdout",
     "output_type": "stream",
     "text": [
      "您輸入的高度是: 10\n",
      "          *\n",
      "         ***\n",
      "        *****\n",
      "       *******\n",
      "      *********\n",
      "     ***********\n",
      "    *************\n",
      "   ***************\n",
      "  *****************\n",
      " *******************\n"
     ]
    }
   ],
   "source": [
    "# 使用者輸入金字塔的高度(1~30)，並輸出結果\n",
    "n = eval(input(\"請輸入金字塔的高度(1~30)：\"))\n",
    "print(\"您輸入的高度是:\", n)\n",
    "\n",
    "# 使用for迴圈印出金字塔的形狀，並輸出結果\n",
    "for i in range(1, n + 1):\n",
    "    print(\" \" * (n - i) , \"*\" * (2 * i - 1))"
   ]
  },
  {
   "cell_type": "code",
   "execution_count": 50,
   "metadata": {},
   "outputs": [
    {
     "name": "stdout",
     "output_type": "stream",
     "text": [
      "您輸入的數字是: 7\n",
      "您輸入的符號文字是: A\n",
      "A\n",
      "AA\n",
      "AAA\n",
      "AAAA\n",
      "AAAAA\n",
      "AAAAAA\n",
      "AAAAAAA\n"
     ]
    }
   ],
   "source": [
    "# 使用者輸入數字和符號文字，並輸出結果\n",
    "num = eval(input(\"請輸入數字：\"))\n",
    "print(\"您輸入的數字是:\", num)\n",
    "ch = input(\"請輸入符號文字：\")\n",
    "print(\"您輸入的符號文字是:\", ch)\n",
    "\n",
    "sum = 0  # 初始化總和為0\n",
    "for i in range(0, num):      # 當i小於終止值num時，執行for迴圈(將符號文字累加到sum中)\n",
    "    for j in range(0, num):  # 當j小於終止值num時，執行for迴圈(將符號文字累加到sum中)\n",
    "        if (j <= i):         # 如果j小於或等於i，則印出符號文字\n",
    "            print(ch, end=\"\")\n",
    "            sum += 1         # 將符號文字的數量加1\n",
    "    print()                  # 輸出換行符號"
   ]
  },
  {
   "cell_type": "code",
   "execution_count": 51,
   "metadata": {},
   "outputs": [
    {
     "name": "stdout",
     "output_type": "stream",
     "text": [
      "您輸入的數字是: 9\n",
      "您輸入的符號文字是: X\n",
      "XXXXXXXXX\n",
      "X       X       \n",
      "X       X       \n",
      "X       X       \n",
      "X       X       \n",
      "X       X       \n",
      "X       X       \n",
      "X       X       \n",
      "XXXXXXXXX\n"
     ]
    }
   ],
   "source": [
    "# 使用者輸入數字和符號文字，並輸出結果\n",
    "num = eval(input(\"請輸入數字：\"))\n",
    "print(\"您輸入的數字是:\", num)\n",
    "ch = input(\"請輸入符號文字：\")\n",
    "print(\"您輸入的符號文字是:\", ch)\n",
    "\n",
    "for i in range(0, num):                       # 當i小於終止值num時，執行for迴圈(將符號文字累加到sum中)\n",
    "    for j in range(0, num):                   # 當j小於終止值num時，執行for迴圈(將符號文字累加到sum中)\n",
    "        if (i == 0 or i == num - 1):          # 如果i等於0或i等於終止值num-1，則印出符號文字\n",
    "            print(ch, end=\"\")\n",
    "            continue                          # 跳過當前迴圈的剩餘部分\n",
    "        if (j == 0 or j == num - 1):          # 如果j等於0或j等於終止值num-1，則印出符號文字\n",
    "            print(ch, end=\"\")\n",
    "            print(\" \" * (num - 2), end = \"\")  # 印出空格\n",
    "    print()                                   # 輸出換行符號"
   ]
  },
  {
   "cell_type": "code",
   "execution_count": 52,
   "metadata": {},
   "outputs": [
    {
     "name": "stdout",
     "output_type": "stream",
     "text": [
      "5! = 120\n"
     ]
    }
   ],
   "source": [
    "result = 1               # 初始化結果為1\n",
    "for i in range(1, 6):    # 當i小於終止值6時，執行for迴圈(將i累加到result中)\n",
    "    result = result * i  # 將i累加到result中，當i等於終止值6時，跳出for迴圈\n",
    "print(\"5! =\", result)    # 印出5!結果"
   ]
  },
  {
   "cell_type": "code",
   "execution_count": 53,
   "metadata": {},
   "outputs": [
    {
     "name": "stdout",
     "output_type": "stream",
     "text": [
      "0\n",
      "1\n",
      "2\n",
      "3\n",
      "4\n"
     ]
    }
   ],
   "source": [
    "i = 0          # 將變數i的初始值設定為0\n",
    "while i < 5:   # 當i小於5時執行while迴圈，大於或等於5時就跳出迴圈\n",
    "    print(i)   # 印出i的值\n",
    "    i = i + 1  # 將i的值增加1"
   ]
  },
  {
   "cell_type": "code",
   "execution_count": 54,
   "metadata": {},
   "outputs": [
    {
     "name": "stdout",
     "output_type": "stream",
     "text": [
      "您輸入的資料是: happo\n",
      "答錯了，請重新輸入「快樂」的英文： happr\n",
      "答錯了，請重新輸入「快樂」的英文： happy\n",
      "答對了！\n"
     ]
    }
   ],
   "source": [
    "answer = input(\"請輸入「快樂」的英文：\")                    # 將使用者輸入的資料存放在變數answer\n",
    "print(\"您輸入的資料是:\", answer)                            # 印出使用者輸入的資料\n",
    "\n",
    "# 使用while迴圈檢查使用者輸入的資料是否正確，如果輸入的資料不是\"HAPPY\"，則要求重新輸入，直到輸入正確為止\n",
    "while answer.upper() != \"HAPPY\":                           # 使用upper()函式將字串轉換成大寫\n",
    "    answer = input(\"答錯了，請重新輸入「快樂」的英文：\")\n",
    "    print(\"答錯了，請重新輸入「快樂」的英文：\", answer)      # 當使用者輸入錯誤的資料時，印出提示訊息(重新輸入的資料)                   \n",
    "else:\n",
    "    print(\"答對了！\")  # 當使用者輸入正確的資料時，印出答對了的訊息"
   ]
  },
  {
   "cell_type": "code",
   "execution_count": 55,
   "metadata": {},
   "outputs": [
    {
     "name": "stdout",
     "output_type": "stream",
     "text": [
      "您輸入的正整數是: 5\n",
      "5階乘為120\n"
     ]
    }
   ],
   "source": [
    "# 使用者輸入1~10的正整數，並輸出結果\n",
    "num = eval(input(\"請輸入1~10的正整數：\"))\n",
    "print(\"您輸入的正整數是:\", num)\n",
    "\n",
    "# 將變數result的初始值設定為1，用來存放階乘\n",
    "result = 1\n",
    "\n",
    "# 將變數i的初始值設定為1，用來做為計數器\n",
    "i = 1\n",
    "\n",
    "# 使用while迴圈計算輸入的正整數的階乘，當i小於或等於num時，就將i累乘到result，並將i增加1\n",
    "while i <= num:\n",
    "    result = result * i\n",
    "    i = i + 1\n",
    "\n",
    "# 當while迴圈結束後，印出階乘的結果\n",
    "print(\"{0}階乘為{1}\".format(num, result))"
   ]
  },
  {
   "cell_type": "code",
   "execution_count": 56,
   "metadata": {},
   "outputs": [
    {
     "name": "stdout",
     "output_type": "stream",
     "text": [
      "請猜數字1-10： 6\n",
      "太小了！\n",
      "請猜數字1-10： 8\n",
      "太大了！\n",
      "請猜數字1-10： 3\n",
      "太小了！\n",
      "請猜數字1-10： 10\n",
      "太大了！\n",
      "請猜數字1-10： 9\n",
      "太大了！\n",
      "請猜數字1-10： 7\n",
      "猜對了！隨機產生的數字是: 7\n"
     ]
    }
   ],
   "source": [
    "import random\t\t\t\t\t\t\t\t # 匯入random模組\n",
    "num = random.randint(1, 10)\t\t             # 隨機產生一個範圍介於1~10的數字\n",
    "answer = -1\t\t\t\t\t\t\t         # 變數answer的初始值設定為-1，表示尚未輸入\n",
    "\n",
    "# 使用while迴圈判斷使用者輸入的數字是否等於隨機產生的數字num，當answer不等於num時，繼續執行迴圈；當answer等於num時，跳出迴圈\n",
    "while answer != num:                         \n",
    "    answer = eval(input(\"請猜數字1-10：\"))   # 使用者輸入一個數字，並印出提示訊息：\"請猜數字1-10：\" 和輸入的數字answer\n",
    "    print(\"請猜數字1-10：\", answer)\n",
    "    if answer > num:                         # 如果使用者輸入的數字大於隨機產生的數字num，則印出\"太大了！\"\n",
    "        print(\"太大了！\") \n",
    "    elif answer < num:                       # 如果使用者輸入的數字小於隨機產生的數字num，則印出\"太小了！\"\n",
    "        print(\"太小了！\")\n",
    "    else:\n",
    "        # 如果使用者輸入的數字等於隨機產生的數字num，則印出\"猜對了！\"，並顯示隨機產生的數字\n",
    "        print(\"猜對了！隨機產生的數字是:\", answer)"
   ]
  },
  {
   "cell_type": "code",
   "execution_count": 57,
   "metadata": {},
   "outputs": [
    {
     "name": "stdout",
     "output_type": "stream",
     "text": [
      "請輸入查詢年份: 2000\n",
      "2000是閏年\n",
      "請輸入查詢年份: 2500\n",
      "2500不是閏年\n",
      "請輸入查詢年份: 1000\n",
      "1000不是閏年\n",
      "請輸入查詢年份: 4000\n",
      "4000是閏年\n",
      "請輸入查詢年份: -1\n"
     ]
    }
   ],
   "source": [
    "y = 0                                 # 變數y的初始值設定為0\n",
    "# 使用while迴圈判斷使用者輸入的年份是否為閏年，當y不等於-1時，繼續執行迴圈；當y等於-1時，跳出迴圈\n",
    "while y != -1:\n",
    "  y = eval(input(\"請輸入查詢年份:\"))  # 使用者輸入查詢年份\n",
    "  print(\"請輸入查詢年份:\", y)         # 印出使用者輸入的查詢年份\n",
    "  if y != -1:                        # 如果使用者輸入的年份不等於-1，則進行閏年判斷\n",
    "    # 判斷是否為閏年：如果年份能被4整除且不能被100整除，或能被400整除，則為閏年\n",
    "    if y % 4 == 0 and y % 100 != 0:\n",
    "      print(y, \"是閏年\")\n",
    "    elif y % 400 == 0:\n",
    "      print(f\"{y}是閏年\")\n",
    "    else:                           # 如果都不符合閏年的條件，則不是閏年\n",
    "      print(f\"{y}不是閏年\")"
   ]
  },
  {
   "cell_type": "code",
   "execution_count": 58,
   "metadata": {},
   "outputs": [
    {
     "name": "stdout",
     "output_type": "stream",
     "text": [
      "您輸入的資料是: happo\n",
      "答錯了，請重新輸入「快樂」的英文： happr\n",
      "答錯了，請重新輸入「快樂」的英文： happy\n",
      "答對了！\n"
     ]
    }
   ],
   "source": [
    "answer = input(\"請輸入「快樂」的英文：\")        # 將使用者輸入的資料存放在變數answer\n",
    "print(\"您輸入的資料是:\", answer)                # 印出使用者輸入的資料\n",
    "\n",
    "# 使用while迴圈檢查使用者輸入的資料是否正確，如果輸入的資料不是\"HAPPY\"，則要求重新輸入，直到輸入正確為止\n",
    "while answer.upper() != \"HAPPY\":               # upper() 函式可以將字串轉換成大寫\n",
    "    if answer.upper() == \"QUIT\":               # 如果使用者輸入的是\"QUIT\"，則直接跳出迴圈，並且印出\"我不玩了！\"\n",
    "        print(\"我不玩了！\")\n",
    "        break\n",
    "    answer = input(\"答錯了，請重新輸入「快樂」的英文：\")   # 當使用者輸入錯誤的資料時，要求重新輸入\n",
    "    print(\"答錯了，請重新輸入「快樂」的英文：\", answer)    # 當使用者輸入錯誤的資料時，印出提示訊息(重新輸入的資料)\n",
    "else:\n",
    "    print(\"答對了！\")                                     # 當使用者輸入正確的資料時，印出答對了的訊息"
   ]
  },
  {
   "cell_type": "code",
   "execution_count": 59,
   "metadata": {},
   "outputs": [
    {
     "name": "stdout",
     "output_type": "stream",
     "text": [
      "您輸入的資料是: happo\n",
      "答錯了，請重新輸入「快樂」的英文： happr\n",
      "答錯了，請重新輸入「快樂」的英文： happs\n",
      "答錯了，請重新輸入「快樂」的英文： quit\n",
      "我不玩了！\n"
     ]
    }
   ],
   "source": [
    "answer = input(\"請輸入「快樂」的英文：\")        # 將使用者輸入的資料存放在變數answer\n",
    "print(\"您輸入的資料是:\", answer)                # 印出使用者輸入的資料\n",
    "\n",
    "# 使用while迴圈檢查使用者輸入的資料是否正確，如果輸入的資料不是\"HAPPY\"，則要求重新輸入，直到輸入正確為止\n",
    "while answer.upper() != \"HAPPY\":               # upper() 函式可以將字串轉換成大寫\n",
    "    if answer.upper() == \"QUIT\":               # 如果使用者輸入的是\"QUIT\"，則直接跳出迴圈，並且印出\"我不玩了！\"\n",
    "        print(\"我不玩了！\")\n",
    "        break\n",
    "    answer = input(\"答錯了，請重新輸入「快樂」的英文：\")   # 當使用者輸入錯誤的資料時，要求重新輸入\n",
    "    print(\"答錯了，請重新輸入「快樂」的英文：\", answer)    # 當使用者輸入錯誤的資料時，印出提示訊息(重新輸入的資料)\n",
    "else:\n",
    "    print(\"答對了！\")                                     # 當使用者輸入正確的資料時，印出答對了的訊息"
   ]
  },
  {
   "cell_type": "code",
   "execution_count": 60,
   "metadata": {},
   "outputs": [
    {
     "name": "stdout",
     "output_type": "stream",
     "text": [
      "3\n",
      "6\n",
      "9\n"
     ]
    }
   ],
   "source": [
    "i = 0               # 將變數i的初始值設定為0\n",
    "# 使用while迴圈判斷1~10之間有哪些是3的倍數(能被3整除的數字)\n",
    "while i < 10:       # 當i小於10時執行while迴圈敘述，大於或等於10時就跳出迴圈\n",
    "    i = i + 1       # 將i的值增加1\n",
    "    if i % 3 != 0:  # 如果i不能被3整除，則跳過這次迴圈；若能被3整除，則印出i的值\n",
    "        continue\n",
    "    print(i)        # 印出i的值"
   ]
  },
  {
   "cell_type": "code",
   "execution_count": 61,
   "metadata": {},
   "outputs": [
    {
     "name": "stdout",
     "output_type": "stream",
     "text": [
      "您輸入的身高是: 170\n",
      "您輸入的體重是: 50\n",
      "身高170公分、體重50公斤的BMI為17.301038062283737\n",
      "過輕\n"
     ]
    }
   ],
   "source": [
    "height = eval(input(\"請輸入身高 (公分)：\"))     # 使用者輸入身高，並將其轉換為浮點數\n",
    "print(\"您輸入的身高是:\", height)                # 印出使用者輸入的身高\n",
    "weight = eval(input(\"請輸入體重 (公斤)：\"))     # 使用者輸入體重，並將其轉換為浮點數\n",
    "print(\"您輸入的體重是:\", weight)                # 印出使用者輸入的體重\n",
    "\n",
    "# 計算BMI值(BMI = 體重(kg) / (身高(m) ** 2))\n",
    "BMI = weight / (height / 100) ** 2\n",
    "print(\"身高{0}公分、體重{1}公斤的BMI為{2}\".format(height, weight, BMI))  # 印出BMI值(format格式化字串)\n",
    "\n",
    "# 使用if敘述判斷BMI值的範圍，並輸出對應的體重分類\n",
    "if BMI < 18.5:                                 # 如果BMI小於18.5，則印出\"過輕\"\n",
    "    print(\"過輕\")\n",
    "elif BMI >= 18.5 and BMI <= 24:                # 如果BMI在18.5到24之間，則印出\"正常\"\n",
    "    print(\"正常\")\n",
    "elif BMI > 24 and BMI <= 27:                   # 如果BMI在24到27之間，則印出\"過重\"\n",
    "    print(\"過重\")\n",
    "elif BMI > 27 and BMI <= 35:                   # 如果BMI在27到35之間，則印出\"肥胖\"\n",
    "    print(\"肥胖\")\n",
    "elif BMI > 35:                                 # 如果BMI大於35，則印出\"極肥胖\"\n",
    "    print(\"極肥胖\")"
   ]
  },
  {
   "cell_type": "code",
   "execution_count": 62,
   "metadata": {},
   "outputs": [
    {
     "name": "stdout",
     "output_type": "stream",
     "text": [
      "您輸入的身高是: 165\n",
      "您輸入的體重是: 60\n",
      "身高165公分、體重60公斤的BMI為22.03856749311295\n",
      "正常\n"
     ]
    }
   ],
   "source": [
    "height = eval(input(\"請輸入身高 (公分)：\"))     # 使用者輸入身高，並將其轉換為浮點數\n",
    "print(\"您輸入的身高是:\", height)                # 印出使用者輸入的身高\n",
    "weight = eval(input(\"請輸入體重 (公斤)：\"))     # 使用者輸入體重，並將其轉換為浮點數\n",
    "print(\"您輸入的體重是:\", weight)                # 印出使用者輸入的體重\n",
    "\n",
    "# 計算BMI值(BMI = 體重(kg) / (身高(m) ** 2))\n",
    "BMI = weight / (height / 100) ** 2\n",
    "print(\"身高{0}公分、體重{1}公斤的BMI為{2}\".format(height, weight, BMI))  # 印出BMI值(format格式化字串)\n",
    "\n",
    "# 使用if敘述判斷BMI值的範圍，並輸出對應的體重分類\n",
    "if BMI < 18.5:                                 # 如果BMI小於18.5，則印出\"過輕\"\n",
    "    print(\"過輕\")\n",
    "elif BMI >= 18.5 and BMI <= 24:                # 如果BMI在18.5到24之間，則印出\"正常\"\n",
    "    print(\"正常\")\n",
    "elif BMI > 24 and BMI <= 27:                   # 如果BMI在24到27之間，則印出\"過重\"\n",
    "    print(\"過重\")\n",
    "elif BMI > 27 and BMI <= 35:                   # 如果BMI在27到35之間，則印出\"肥胖\"\n",
    "    print(\"肥胖\")\n",
    "elif BMI > 35:                                 # 如果BMI大於35，則印出\"極肥胖\"\n",
    "    print(\"極肥胖\")"
   ]
  },
  {
   "cell_type": "code",
   "execution_count": 63,
   "metadata": {},
   "outputs": [
    {
     "name": "stdout",
     "output_type": "stream",
     "text": [
      "您輸入的身高是: 155\n",
      "您輸入的體重是: 60\n",
      "身高155公分、體重60公斤的BMI為24.97398543184183\n",
      "過重\n"
     ]
    }
   ],
   "source": [
    "height = eval(input(\"請輸入身高 (公分)：\"))     # 使用者輸入身高，並將其轉換為浮點數\n",
    "print(\"您輸入的身高是:\", height)                # 印出使用者輸入的身高\n",
    "weight = eval(input(\"請輸入體重 (公斤)：\"))     # 使用者輸入體重，並將其轉換為浮點數\n",
    "print(\"您輸入的體重是:\", weight)                # 印出使用者輸入的體重\n",
    "\n",
    "# 計算BMI值(BMI = 體重(kg) / (身高(m) ** 2))\n",
    "BMI = weight / (height / 100) ** 2\n",
    "print(\"身高{0}公分、體重{1}公斤的BMI為{2}\".format(height, weight, BMI))  # 印出BMI值(format格式化字串)\n",
    "\n",
    "# 使用if敘述判斷BMI值的範圍，並輸出對應的體重分類\n",
    "if BMI < 18.5:                                 # 如果BMI小於18.5，則印出\"過輕\"\n",
    "    print(\"過輕\")\n",
    "elif BMI >= 18.5 and BMI <= 24:                # 如果BMI在18.5到24之間，則印出\"正常\"\n",
    "    print(\"正常\")\n",
    "elif BMI > 24 and BMI <= 27:                   # 如果BMI在24到27之間，則印出\"過重\"\n",
    "    print(\"過重\")\n",
    "elif BMI > 27 and BMI <= 35:                   # 如果BMI在27到35之間，則印出\"肥胖\"\n",
    "    print(\"肥胖\")\n",
    "elif BMI > 35:                                 # 如果BMI大於35，則印出\"極肥胖\"\n",
    "    print(\"極肥胖\")"
   ]
  },
  {
   "cell_type": "code",
   "execution_count": 64,
   "metadata": {},
   "outputs": [
    {
     "name": "stdout",
     "output_type": "stream",
     "text": [
      "您輸入的身高是: 180\n",
      "您輸入的體重是: 100\n",
      "身高180公分、體重100公斤的BMI為30.864197530864196\n",
      "肥胖\n"
     ]
    }
   ],
   "source": [
    "height = eval(input(\"請輸入身高 (公分)：\"))     # 使用者輸入身高，並將其轉換為浮點數\n",
    "print(\"您輸入的身高是:\", height)                # 印出使用者輸入的身高\n",
    "weight = eval(input(\"請輸入體重 (公斤)：\"))     # 使用者輸入體重，並將其轉換為浮點數\n",
    "print(\"您輸入的體重是:\", weight)                # 印出使用者輸入的體重\n",
    "\n",
    "# 計算BMI值(BMI = 體重(kg) / (身高(m) ** 2))\n",
    "BMI = weight / (height / 100) ** 2\n",
    "print(\"身高{0}公分、體重{1}公斤的BMI為{2}\".format(height, weight, BMI))  # 印出BMI值(format格式化字串)\n",
    "\n",
    "# 使用if敘述判斷BMI值的範圍，並輸出對應的體重分類\n",
    "if BMI < 18.5:                                 # 如果BMI小於18.5，則印出\"過輕\"\n",
    "    print(\"過輕\")\n",
    "elif BMI >= 18.5 and BMI <= 24:                # 如果BMI在18.5到24之間，則印出\"正常\"\n",
    "    print(\"正常\")\n",
    "elif BMI > 24 and BMI <= 27:                   # 如果BMI在24到27之間，則印出\"過重\"\n",
    "    print(\"過重\")\n",
    "elif BMI > 27 and BMI <= 35:                   # 如果BMI在27到35之間，則印出\"肥胖\"\n",
    "    print(\"肥胖\")\n",
    "elif BMI > 35:                                 # 如果BMI大於35，則印出\"極肥胖\"\n",
    "    print(\"極肥胖\")"
   ]
  },
  {
   "cell_type": "code",
   "execution_count": 65,
   "metadata": {},
   "outputs": [
    {
     "name": "stdout",
     "output_type": "stream",
     "text": [
      "您輸入的身高是: 150\n",
      "您輸入的體重是: 90\n",
      "身高150公分、體重90公斤的BMI為40.0\n",
      "極肥胖\n"
     ]
    }
   ],
   "source": [
    "height = eval(input(\"請輸入身高 (公分)：\"))     # 使用者輸入身高，並將其轉換為浮點數\n",
    "print(\"您輸入的身高是:\", height)                # 印出使用者輸入的身高\n",
    "weight = eval(input(\"請輸入體重 (公斤)：\"))     # 使用者輸入體重，並將其轉換為浮點數\n",
    "print(\"您輸入的體重是:\", weight)                # 印出使用者輸入的體重\n",
    "\n",
    "# 計算BMI值(BMI = 體重(kg) / (身高(m) ** 2))\n",
    "BMI = weight / (height / 100) ** 2\n",
    "print(\"身高{0}公分、體重{1}公斤的BMI為{2}\".format(height, weight, BMI))  # 印出BMI值(format格式化字串)\n",
    "\n",
    "# 使用if敘述判斷BMI值的範圍，並輸出對應的體重分類\n",
    "if BMI < 18.5:                                 # 如果BMI小於18.5，則印出\"過輕\"\n",
    "    print(\"過輕\")\n",
    "elif BMI >= 18.5 and BMI <= 24:                # 如果BMI在18.5到24之間，則印出\"正常\"\n",
    "    print(\"正常\")\n",
    "elif BMI > 24 and BMI <= 27:                   # 如果BMI在24到27之間，則印出\"過重\"\n",
    "    print(\"過重\")\n",
    "elif BMI > 27 and BMI <= 35:                   # 如果BMI在27到35之間，則印出\"肥胖\"\n",
    "    print(\"肥胖\")\n",
    "elif BMI > 35:                                 # 如果BMI大於35，則印出\"極肥胖\"\n",
    "    print(\"極肥胖\")"
   ]
  },
  {
   "cell_type": "code",
   "execution_count": 66,
   "metadata": {},
   "outputs": [
    {
     "name": "stdout",
     "output_type": "stream",
     "text": [
      "2\t3\t5\t7\t11\t13\t17\t19\t23\t29\t31\t37\t41\t43\t47\t53\t59\t61\t67\t71\t73\t79\t83\t89\t97\t"
     ]
    }
   ],
   "source": [
    "# 使用for迴圈尋找並列印2到100之間的所有質數\n",
    "for i in range(2, 100):       # 檢查2到100的每個數字i是否為質數\n",
    "    for j in range(2, i):     # 檢查從2到i-1的每個數字j\n",
    "        if i % j == 0:        # 如果i可以被j整除，則i不是質數，反之就是質數\n",
    "            break\n",
    "    else:\n",
    "        print(i, end = '\\t')  # 最後判斷是質數的數字全部印出（使用tab分隔）"
   ]
  },
  {
   "cell_type": "code",
   "execution_count": 67,
   "metadata": {},
   "outputs": [
    {
     "name": "stdout",
     "output_type": "stream",
     "text": [
      "該細胞在經過 20 分鐘後，總數會超過一百萬個\n"
     ]
    }
   ],
   "source": [
    "number = 1                 # 初始細胞數量為1\n",
    "minutes = 0                # 初始化分鐘數為0\n",
    "\n",
    "# 使用while迴圈計算細胞數量在每分鐘翻倍的情況下，何時會超過一百萬個\n",
    "while number < 1000000:    # 當細胞數量小於一百萬時繼續執行迴圈敘述，如果細胞數量大於或等於一百萬，則跳出迴圈\n",
    "    number = number * 2    # 每分鐘細胞數量翻倍\n",
    "    minutes = minutes + 1  # 每次細胞翻倍時，分鐘數也加1\n",
    "\n",
    "# 輸出結果，顯示細胞數量在經過多少分鐘後會超過一百萬個\n",
    "print(\"該細胞在經過\", minutes, \"分鐘後，總數會超過一百萬個\")"
   ]
  },
  {
   "cell_type": "code",
   "execution_count": 68,
   "metadata": {},
   "outputs": [
    {
     "name": "stdout",
     "output_type": "stream",
     "text": [
      "13\n",
      "26\n",
      "39\n",
      "52\n",
      "65\n",
      "78\n",
      "91\n"
     ]
    }
   ],
   "source": [
    "for number in range(1, 100):  # 使用for迴圈找出1~100之間可以被13整除的數字\n",
    "    if number % 13 == 0:      # 如果數字能被13整除，則印出該數字，如果不能被13整除，則不印出任何東西\n",
    "        print(number)         # 印出可以被13整除的數字"
   ]
  },
  {
   "cell_type": "code",
   "execution_count": 69,
   "metadata": {},
   "outputs": [
    {
     "name": "stdout",
     "output_type": "stream",
     "text": [
      "總和為: 0.99609375\n"
     ]
    }
   ],
   "source": [
    "total = 0                 # 初始化總和為0\n",
    "for n in range(1, 9):     # 使用for迴圈計算從1到8的每個數字的1/2的n次方的總和\n",
    "    term = (1/2) ** n     # 計算1/2的n次方\n",
    "    total = total + term  # 將每個項目(term)累加到總和(total)中\n",
    "print(\"總和為:\", total)   # 印出總和的結果(total)"
   ]
  },
  {
   "cell_type": "code",
   "execution_count": 70,
   "metadata": {},
   "outputs": [
    {
     "name": "stdout",
     "output_type": "stream",
     "text": [
      "總和為: 2.9289682539682538\n"
     ]
    }
   ],
   "source": [
    "total = 0                # 初始化總和為0\n",
    "for n in range(1, 11):   # 使用for迴圈計算從1到10的每個數字的1/n的總和\n",
    "    total += 1 / n       # 將每個項目(1/n)累加到總和(total)中\n",
    "print(\"總和為:\", total)  # 印出總和的結果(total)"
   ]
  },
  {
   "cell_type": "code",
   "execution_count": 71,
   "metadata": {},
   "outputs": [
    {
     "name": "stdout",
     "output_type": "stream",
     "text": [
      "您輸入的綜合所得淨額為: 500000\n",
      "應繳所得稅為: 25000 元\n"
     ]
    }
   ],
   "source": [
    "income = int(input(\"請輸入您的綜合所得淨額: \"))  # 使用者輸入綜合所得淨額\n",
    "print(\"您輸入的綜合所得淨額為:\", income)         # 印出使用者輸入的綜合所得淨額\n",
    "tax = 0                    # 初始化稅額為0\n",
    "\n",
    "if income <= 520000:       # 如果綜合所得淨額小於或等於520000，則應繳所得稅為5%的綜合所得淨額\n",
    "    tax = income * 0.05\n",
    "elif income <= 1170000:    # 如果綜合所得淨額在520000到1170000之間，則前520000以5%計算，超過的部分以12%計算\n",
    "    tax = 520000 * 0.05 + (income - 520000) * 0.12\n",
    "elif income <= 2350000:    # 如果綜合所得淨額在1170000到2350000之間，則前520000以5%計算，1170000到520000以12%計算，超過的部分以20%計算\n",
    "    tax = 520000 * 0.05 + (1170000 - 520000) * 0.12 + (income - 1170000) * 0.20\n",
    "elif income <= 4400000:    # 如果綜合所得淨額在2350000到4400000之間，則前520000以5%計算，1170000到520000以12%計算，2350000到1170000以20%計算，超過的部分以30%計算\n",
    "    tax = 520000 * 0.05 + (1170000 - 520000) * 0.12 + (2350000 - 1170000) * 0.20 + (income - 2350000) * 0.30\n",
    "elif income > 4400000:    # 如果綜合所得淨額大於4400000，則前520000以5%計算，1170000到520000以12%計算，2350000到1170000以20%計算，4400000到2350000以30%計算，超過的部分以40%計算\n",
    "    tax = 520000 * 0.05 + (1170000 - 520000) * 0.12 + (2350000 - 1170000) * 0.20 + (4400000 - 2350000) * 0.30 + (income - 4400000) * 0.40\n",
    "\n",
    "print(\"應繳所得稅為:\", int(tax), \"元\")   # 印出應繳所得稅的金額，並將其轉換為整數型別"
   ]
  },
  {
   "cell_type": "code",
   "execution_count": 72,
   "metadata": {},
   "outputs": [
    {
     "name": "stdout",
     "output_type": "stream",
     "text": [
      "您輸入的綜合所得淨額為: 1000000\n",
      "應繳所得稅為: 83600 元\n"
     ]
    }
   ],
   "source": [
    "income = int(input(\"請輸入您的綜合所得淨額: \"))  # 使用者輸入綜合所得淨額\n",
    "print(\"您輸入的綜合所得淨額為:\", income)         # 印出使用者輸入的綜合所得淨額\n",
    "tax = 0                    # 初始化稅額為0\n",
    "\n",
    "if income <= 520000:       # 如果綜合所得淨額小於或等於520000，則應繳所得稅為5%的綜合所得淨額\n",
    "    tax = income * 0.05\n",
    "elif income <= 1170000:    # 如果綜合所得淨額在520000到1170000之間，則前520000以5%計算，超過的部分以12%計算\n",
    "    tax = 520000 * 0.05 + (income - 520000) * 0.12\n",
    "elif income <= 2350000:    # 如果綜合所得淨額在1170000到2350000之間，則前520000以5%計算，1170000到520000以12%計算，超過的部分以20%計算\n",
    "    tax = 520000 * 0.05 + (1170000 - 520000) * 0.12 + (income - 1170000) * 0.20\n",
    "elif income <= 4400000:    # 如果綜合所得淨額在2350000到4400000之間，則前520000以5%計算，1170000到520000以12%計算，2350000到1170000以20%計算，超過的部分以30%計算\n",
    "    tax = 520000 * 0.05 + (1170000 - 520000) * 0.12 + (2350000 - 1170000) * 0.20 + (income - 2350000) * 0.30\n",
    "elif income > 4400000:    # 如果綜合所得淨額大於4400000，則前520000以5%計算，1170000到520000以12%計算，2350000到1170000以20%計算，4400000到2350000以30%計算，超過的部分以40%計算\n",
    "    tax = 520000 * 0.05 + (1170000 - 520000) * 0.12 + (2350000 - 1170000) * 0.20 + (4400000 - 2350000) * 0.30 + (income - 4400000) * 0.40\n",
    "\n",
    "print(\"應繳所得稅為:\", int(tax), \"元\")   # 印出應繳所得稅的金額，並將其轉換為整數型別"
   ]
  },
  {
   "cell_type": "code",
   "execution_count": 73,
   "metadata": {},
   "outputs": [
    {
     "name": "stdout",
     "output_type": "stream",
     "text": [
      "您輸入的綜合所得淨額為: 2000000\n",
      "應繳所得稅為: 270000 元\n"
     ]
    }
   ],
   "source": [
    "income = int(input(\"請輸入您的綜合所得淨額: \"))  # 使用者輸入綜合所得淨額\n",
    "print(\"您輸入的綜合所得淨額為:\", income)         # 印出使用者輸入的綜合所得淨額\n",
    "tax = 0                    # 初始化稅額為0\n",
    "\n",
    "if income <= 520000:       # 如果綜合所得淨額小於或等於520000，則應繳所得稅為5%的綜合所得淨額\n",
    "    tax = income * 0.05\n",
    "elif income <= 1170000:    # 如果綜合所得淨額在520000到1170000之間，則前520000以5%計算，超過的部分以12%計算\n",
    "    tax = 520000 * 0.05 + (income - 520000) * 0.12\n",
    "elif income <= 2350000:    # 如果綜合所得淨額在1170000到2350000之間，則前520000以5%計算，1170000到520000以12%計算，超過的部分以20%計算\n",
    "    tax = 520000 * 0.05 + (1170000 - 520000) * 0.12 + (income - 1170000) * 0.20\n",
    "elif income <= 4400000:    # 如果綜合所得淨額在2350000到4400000之間，則前520000以5%計算，1170000到520000以12%計算，2350000到1170000以20%計算，超過的部分以30%計算\n",
    "    tax = 520000 * 0.05 + (1170000 - 520000) * 0.12 + (2350000 - 1170000) * 0.20 + (income - 2350000) * 0.30\n",
    "elif income > 4400000:    # 如果綜合所得淨額大於4400000，則前520000以5%計算，1170000到520000以12%計算，2350000到1170000以20%計算，4400000到2350000以30%計算，超過的部分以40%計算\n",
    "    tax = 520000 * 0.05 + (1170000 - 520000) * 0.12 + (2350000 - 1170000) * 0.20 + (4400000 - 2350000) * 0.30 + (income - 4400000) * 0.40\n",
    "\n",
    "print(\"應繳所得稅為:\", int(tax), \"元\")   # 印出應繳所得稅的金額，並將其轉換為整數型別"
   ]
  },
  {
   "cell_type": "code",
   "execution_count": 74,
   "metadata": {},
   "outputs": [
    {
     "name": "stdout",
     "output_type": "stream",
     "text": [
      "您輸入的綜合所得淨額為: 4000000\n",
      "應繳所得稅為: 835000 元\n"
     ]
    }
   ],
   "source": [
    "income = int(input(\"請輸入您的綜合所得淨額: \"))  # 使用者輸入綜合所得淨額\n",
    "print(\"您輸入的綜合所得淨額為:\", income)         # 印出使用者輸入的綜合所得淨額\n",
    "tax = 0                    # 初始化稅額為0\n",
    "\n",
    "if income <= 520000:       # 如果綜合所得淨額小於或等於520000，則應繳所得稅為5%的綜合所得淨額\n",
    "    tax = income * 0.05\n",
    "elif income <= 1170000:    # 如果綜合所得淨額在520000到1170000之間，則前520000以5%計算，超過的部分以12%計算\n",
    "    tax = 520000 * 0.05 + (income - 520000) * 0.12\n",
    "elif income <= 2350000:    # 如果綜合所得淨額在1170000到2350000之間，則前520000以5%計算，1170000到520000以12%計算，超過的部分以20%計算\n",
    "    tax = 520000 * 0.05 + (1170000 - 520000) * 0.12 + (income - 1170000) * 0.20\n",
    "elif income <= 4400000:    # 如果綜合所得淨額在2350000到4400000之間，則前520000以5%計算，1170000到520000以12%計算，2350000到1170000以20%計算，超過的部分以30%計算\n",
    "    tax = 520000 * 0.05 + (1170000 - 520000) * 0.12 + (2350000 - 1170000) * 0.20 + (income - 2350000) * 0.30\n",
    "elif income > 4400000:    # 如果綜合所得淨額大於4400000，則前520000以5%計算，1170000到520000以12%計算，2350000到1170000以20%計算，4400000到2350000以30%計算，超過的部分以40%計算\n",
    "    tax = 520000 * 0.05 + (1170000 - 520000) * 0.12 + (2350000 - 1170000) * 0.20 + (4400000 - 2350000) * 0.30 + (income - 4400000) * 0.40\n",
    "\n",
    "print(\"應繳所得稅為:\", int(tax), \"元\")   # 印出應繳所得稅的金額，並將其轉換為整數型別"
   ]
  },
  {
   "cell_type": "code",
   "execution_count": 75,
   "metadata": {},
   "outputs": [
    {
     "name": "stdout",
     "output_type": "stream",
     "text": [
      "您輸入的綜合所得淨額為: 5000000\n",
      "應繳所得稅為: 1195000 元\n"
     ]
    }
   ],
   "source": [
    "income = int(input(\"請輸入您的綜合所得淨額: \"))  # 使用者輸入綜合所得淨額\n",
    "print(\"您輸入的綜合所得淨額為:\", income)         # 印出使用者輸入的綜合所得淨額\n",
    "tax = 0                    # 初始化稅額為0\n",
    "\n",
    "if income <= 520000:       # 如果綜合所得淨額小於或等於520000，則應繳所得稅為5%的綜合所得淨額\n",
    "    tax = income * 0.05\n",
    "elif income <= 1170000:    # 如果綜合所得淨額在520000到1170000之間，則前520000以5%計算，超過的部分以12%計算\n",
    "    tax = 520000 * 0.05 + (income - 520000) * 0.12\n",
    "elif income <= 2350000:    # 如果綜合所得淨額在1170000到2350000之間，則前520000以5%計算，1170000到520000以12%計算，超過的部分以20%計算\n",
    "    tax = 520000 * 0.05 + (1170000 - 520000) * 0.12 + (income - 1170000) * 0.20\n",
    "elif income <= 4400000:    # 如果綜合所得淨額在2350000到4400000之間，則前520000以5%計算，1170000到520000以12%計算，2350000到1170000以20%計算，超過的部分以30%計算\n",
    "    tax = 520000 * 0.05 + (1170000 - 520000) * 0.12 + (2350000 - 1170000) * 0.20 + (income - 2350000) * 0.30\n",
    "elif income > 4400000:    # 如果綜合所得淨額大於4400000，則前520000以5%計算，1170000到520000以12%計算，2350000到1170000以20%計算，4400000到2350000以30%計算，超過的部分以40%計算\n",
    "    tax = 520000 * 0.05 + (1170000 - 520000) * 0.12 + (2350000 - 1170000) * 0.20 + (4400000 - 2350000) * 0.30 + (income - 4400000) * 0.40\n",
    "\n",
    "print(\"應繳所得稅為:\", int(tax), \"元\")   # 印出應繳所得稅的金額，並將其轉換為整數型別"
   ]
  },
  {
   "cell_type": "code",
   "execution_count": 76,
   "metadata": {},
   "outputs": [
    {
     "name": "stdout",
     "output_type": "stream",
     "text": [
      "經過24年後，小明的月薪會加倍，達到50819.85元\n"
     ]
    }
   ],
   "source": [
    "salary = 25000                    # 小明的月薪初始值為25000元\n",
    "target = salary * 2               # 設定目標月薪為小明月薪的兩倍\n",
    "rate = 0.03                       # 設定月薪增長率為3% (0.03)\n",
    "years = 0                         # 初始化年數為0\n",
    "\n",
    "# 使用while迴圈敘述來計算小明的月薪在每年增長3%的情況下，何時會達到或超過目標月薪\n",
    "while salary < target:            # 當小明的月薪小於目標月薪時繼續執行迴圈敘述，如果月薪大於或等於目標月薪，則跳出迴圈\n",
    "    salary = salary * (1 + rate)  # 每年月薪增長3%，即乘以1.03\n",
    "    years += 1                    # 每次年薪增長時，年數加1\n",
    "\n",
    "print(f\"經過{years}年後，小明的月薪會加倍，達到{salary:.2f}元\")  # 印出小明的月薪在經過多少年後會加倍，並顯示最終月薪(保留兩位小數)"
   ]
  },
  {
   "cell_type": "code",
   "execution_count": 77,
   "metadata": {},
   "outputs": [
    {
     "name": "stdout",
     "output_type": "stream",
     "text": [
      "8\n",
      "9\n",
      "12\n",
      "8\n",
      "12\n",
      "16\n"
     ]
    }
   ],
   "source": [
    "for i in range(1, 5):      # 使用for迴圈列印1到4的乘法表      \n",
    "    for j in range(1, 5):  # 使用for迴圈列印1到4的乘法表\n",
    "        if i * j < 8:      # 如果i乘以j的結果小於8，則跳過這次迴圈，如果i乘以j的結果大於或等於8，則印出i乘以j的結果\n",
    "            continue\n",
    "        print(i * j)       # 印出i乘以j的結果"
   ]
  }
 ],
 "metadata": {
  "kernelspec": {
   "display_name": "base",
   "language": "python",
   "name": "python3"
  },
  "language_info": {
   "codemirror_mode": {
    "name": "ipython",
    "version": 3
   },
   "file_extension": ".py",
   "mimetype": "text/x-python",
   "name": "python",
   "nbconvert_exporter": "python",
   "pygments_lexer": "ipython3",
   "version": "3.12.7"
  }
 },
 "nbformat": 4,
 "nbformat_minor": 2
}
