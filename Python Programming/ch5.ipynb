{
 "cells": [
  {
   "cell_type": "markdown",
   "metadata": {},
   "source": [
    "# ch5 Python 函式"
   ]
  },
  {
   "cell_type": "code",
   "execution_count": 1,
   "metadata": {},
   "outputs": [],
   "source": [
    "# 定義一個名為CtoF1的函式，用來將攝氏溫度轉換為華氏溫度\n",
    "def CtoF1(degreeC):\n",
    "  # 使用攝氏轉華氏的公式：華氏 = 攝氏 * 1.8 + 32\n",
    "  degreeF = degreeC * 1.8 + 32\n",
    "\n",
    "  # 輸出結果，顯示攝氏和對應的華氏溫度\n",
    "  print(\"攝氏\", degreeC, \"度可以轉換成華氏\", degreeF, \"度\")"
   ]
  },
  {
   "cell_type": "code",
   "execution_count": 2,
   "metadata": {},
   "outputs": [],
   "source": [
    "# 定義一個名為CtoF2的函式，用來將攝氏溫度轉換為華氏溫度\n",
    "def CtoF2(degreeC):\n",
    "  # 使用攝氏轉華氏的公式：華氏 = 攝氏 * 1.8 + 32\n",
    "  degreeF = degreeC * 1.8 + 32\n",
    "\n",
    "  # 回傳值為計算後的華氏溫度(數值型態)\n",
    "  return degreeF"
   ]
  },
  {
   "cell_type": "code",
   "execution_count": 3,
   "metadata": {},
   "outputs": [
    {
     "name": "stdout",
     "output_type": "stream",
     "text": [
      "攝氏 40 度可以轉換成華氏 104.0 度\n"
     ]
    }
   ],
   "source": [
    "# 定義一個名為CtoF1的函式，用來將攝氏溫度轉換為華氏溫度並輸出結果\n",
    "def CtoF1(degreeC):\n",
    "    # 使用攝氏轉華氏的公式：華氏 = 攝氏 * 1.8 + 32\n",
    "    degreeF = degreeC * 1.8 + 32\n",
    "\n",
    "    # 輸出結果，顯示攝氏和對應的華氏溫度\n",
    "    print(\"攝氏\", degreeC, \"度可以轉換成華氏\", degreeF, \"度\")\n",
    "\n",
    "# 使用者輸入攝氏溫度\n",
    "temperatureC = eval(input(\"請輸入攝氏溫度：\"))\n",
    "\n",
    "# 呼叫函式並傳遞攝氏溫度作為參數\n",
    "CtoF1(temperatureC)"
   ]
  },
  {
   "cell_type": "code",
   "execution_count": 4,
   "metadata": {},
   "outputs": [
    {
     "name": "stdout",
     "output_type": "stream",
     "text": [
      "攝氏 50 度可以轉換成華氏 122.0 度\n"
     ]
    }
   ],
   "source": [
    "# 定義一個名為CtoF2的函式，用來將攝氏溫度轉換為華氏溫度並回傳結果\n",
    "def CtoF2(degreeC):\n",
    "    # 使用攝氏轉華氏的公式：華氏 = 攝氏 * 1.8 + 32\n",
    "    degreeF = degreeC * 1.8 + 32\n",
    "\n",
    "    # 回傳值為計算後的華氏溫度(數值型態)\n",
    "    return degreeF\n",
    "\n",
    "# 使用者輸入攝氏溫度\n",
    "temperatureC = eval(input(\"請輸入攝氏溫度：\"))\n",
    "\n",
    "# 呼叫函式並傳遞攝氏溫度作為參數，並將回傳值存入變數\n",
    "temperatureF = CtoF2(temperatureC)\n",
    "\n",
    "# 輸出結果，顯示攝氏和對應的華氏溫度\n",
    "print(\"攝氏\", temperatureC, \"度可以轉換成華氏\", temperatureF, \"度\")"
   ]
  },
  {
   "cell_type": "code",
   "execution_count": 5,
   "metadata": {},
   "outputs": [],
   "source": [
    "# 定義一個名為FtoC1的函式，用來將華氏溫度轉換為攝氏溫度\n",
    "def FtoC1(degreeF):\n",
    "    # 使用華氏轉攝氏的公式：攝氏 = (華氏 - 32) / 1.8\n",
    "    degreeC = (degreeF - 32) / 1.8\n",
    "\n",
    "    # 輸出結果，顯示華氏和對應的攝氏溫度\n",
    "    print(\"華氏\", degreeF, \"度可以轉換成攝氏\", degreeC, \"度\")"
   ]
  },
  {
   "cell_type": "code",
   "execution_count": 6,
   "metadata": {},
   "outputs": [],
   "source": [
    "# 定義一個名為FtoC2的函式，用來將華氏溫度轉換為攝氏溫度\n",
    "def FtoC2(degreeF):\n",
    "    # 使用華氏轉攝氏的公式：攝氏 = (華氏 - 32) / 1.8\n",
    "    degreeC = (degreeF - 32) / 1.8\n",
    "\n",
    "    # 回傳計算後的攝氏溫度(數值型態)\n",
    "    return degreeC"
   ]
  },
  {
   "cell_type": "code",
   "execution_count": 7,
   "metadata": {},
   "outputs": [
    {
     "name": "stdout",
     "output_type": "stream",
     "text": [
      "華氏 100.0 度可以轉換成攝氏 37.77777777777778 度\n"
     ]
    }
   ],
   "source": [
    "# 定義一個名為FtoC1的函式，用來將華氏溫度轉換為攝氏溫度並輸出結果\n",
    "def FtoC1(degreeF):\n",
    "    # 使用華氏轉攝氏的公式：攝氏 = (華氏 - 32) / 1.8\n",
    "    degreeC = (degreeF - 32) / 1.8\n",
    "\n",
    "    # 輸出結果，顯示華氏和對應的攝氏溫度\n",
    "    print(\"華氏\", degreeF, \"度可以轉換成攝氏\", degreeC, \"度\")\n",
    "\n",
    "# 使用者輸入華氏溫度\n",
    "temperatureF = float(input(\"請輸入華氏溫度：\"))\n",
    "\n",
    "# 呼叫函式並傳遞華氏溫度作為參數\n",
    "FtoC1(temperatureF)"
   ]
  },
  {
   "cell_type": "code",
   "execution_count": 8,
   "metadata": {},
   "outputs": [
    {
     "name": "stdout",
     "output_type": "stream",
     "text": [
      "華氏 105.0 度可以轉換成攝氏 40.55555555555556 度\n"
     ]
    }
   ],
   "source": [
    "# 定義一個名為FtoC2的函式，用來將華氏溫度轉換為攝氏溫度並回傳結果\n",
    "def FtoC2(degreeF):\n",
    "    # 使用華氏轉攝氏的公式：攝氏 = (華氏 - 32) / 1.8\n",
    "    degreeC = (degreeF - 32) / 1.8\n",
    "\n",
    "    # 回傳值為計算後的攝氏溫度(數值型態)\n",
    "    return degreeC\n",
    "\n",
    "# 使用者輸入華氏溫度\n",
    "temperatureF = float(input(\"請輸入華氏溫度：\"))\n",
    "\n",
    "# 呼叫函式並傳遞華氏溫度作為參數，並將回傳值存入變數\n",
    "temperatureC = FtoC2(temperatureF)\n",
    "\n",
    "# 輸出結果，顯示華氏和對應的攝氏溫度\n",
    "print(\"華氏\", temperatureF, \"度可以轉換成攝氏\", temperatureC, \"度\")"
   ]
  },
  {
   "cell_type": "code",
   "execution_count": 9,
   "metadata": {},
   "outputs": [
    {
     "name": "stdout",
     "output_type": "stream",
     "text": [
      "「溫度轉換器」\n",
      "1.華氏轉攝氏\n",
      "2.攝氏轉華氏\n",
      "您輸入的轉換方式為: 1.華氏轉攝氏\n",
      "輸入的華氏溫度為: 100\n",
      "華氏 100 度可以轉換成攝氏 37.77777777777778 度\n",
      "您輸入的轉換方式為: 2.攝氏轉華氏\n",
      "輸入的攝氏溫度為: 40\n",
      "攝氏 40 度可以轉換成華氏 104.0 度\n",
      "您輸入的轉換方式為: -1\n",
      "輸入錯誤\n"
     ]
    }
   ],
   "source": [
    "print(\"「溫度轉換器」\")\n",
    "print(\"1.華氏轉攝氏\")\n",
    "print(\"2.攝氏轉華氏\")\n",
    "\n",
    "# 變數mod初始值為0，表示尚未選擇轉換方式\n",
    "mod = 0\n",
    "\n",
    "# 用while迴圈持續執行，直到使用者輸入-1結束程式\n",
    "while mod != -1:\n",
    "    # 顯示提示訊息，讓使用者輸入轉換方式，並將輸入值轉成數字\n",
    "    mod = eval(input(\"請輸入轉換方式(請輸入1或2,輸入-1為結束):\"))\n",
    "\n",
    "    # 如果使用者選擇1，則進行華氏轉攝氏的轉換\n",
    "    if mod == 1:\n",
    "        # 顯示使用者選擇的轉換方式\n",
    "        print(\"您輸入的轉換方式為:\", \"1.華氏轉攝氏\")\n",
    "\n",
    "        # 使用者輸入華氏溫度，並轉成數字\n",
    "        tF = eval(input(\"請輸入華氏溫度:\"))\n",
    "\n",
    "        # 顯示輸入的華氏溫度\n",
    "        print(\"輸入的華氏溫度為:\", tF)\n",
    "        \n",
    "        # 呼叫華氏轉攝氏的函式，並傳入華氏溫度作為參數\n",
    "        tC = FtoC2(tF)\n",
    "\n",
    "        # 顯示轉換後的攝氏溫度\n",
    "        print(\"華氏\", tF, \"度可以轉換成攝氏\", tC, \"度\")\n",
    "\n",
    "    # 如果使用者選擇2，則進行攝氏轉華氏的轉換\n",
    "    elif mod == 2:\n",
    "        # 顯示使用者選擇的轉換方式\n",
    "        print(\"您輸入的轉換方式為:\", \"2.攝氏轉華氏\")\n",
    "\n",
    "        # 使用者輸入攝氏溫度，並轉成數字\n",
    "        tC = eval(input(\"請輸入攝氏溫度:\"))\n",
    "\n",
    "        # 顯示輸入的攝氏溫度\n",
    "        print(\"輸入的攝氏溫度為:\", tC)\n",
    "\n",
    "        # 呼叫攝氏轉華氏的函式，並傳入攝氏溫度作為參數\n",
    "        CtoF1(tC)\n",
    "\n",
    "    # 如果使用者輸入的轉換方式不是1或2，則顯示錯誤訊息\n",
    "    else:\n",
    "        print(\"您輸入的轉換方式為:\", mod)\n",
    "        # 顯示輸入錯誤提示訊息\n",
    "        print(\"輸入錯誤\")"
   ]
  },
  {
   "cell_type": "code",
   "execution_count": 10,
   "metadata": {},
   "outputs": [],
   "source": [
    "# 定義一個名為larger的函式，用來比較兩個數字並回傳較大的數字\n",
    "def larger(x, y):\n",
    "    # 如果x大於y，則回傳x，否則回傳y\n",
    "    if x > y:\n",
    "        return x\n",
    "    else:\n",
    "        return y"
   ]
  },
  {
   "cell_type": "code",
   "execution_count": 11,
   "metadata": {},
   "outputs": [
    {
     "data": {
      "text/plain": [
       "-50"
      ]
     },
     "execution_count": 11,
     "metadata": {},
     "output_type": "execute_result"
    }
   ],
   "source": [
    "# 呼叫larger函式，傳入-100和-50作為參數，並輸出結果\n",
    "larger(-100, -50)"
   ]
  },
  {
   "cell_type": "code",
   "execution_count": 12,
   "metadata": {},
   "outputs": [
    {
     "name": "stdout",
     "output_type": "stream",
     "text": [
      "1 2\n",
      "1 2\n"
     ]
    }
   ],
   "source": [
    "# 定義一個名為swap的函式，回傳交換後的兩個變數值\n",
    "def swap(x, y):\n",
    "    # 使用變數temp來交換x和y：先將x存入temp，再將y指定給x，最後將temp指定給y\n",
    "    temp = x\n",
    "    x = y\n",
    "    y = temp\n",
    "\n",
    "# 輸出交換後的結果\n",
    "a, b = 1, 2\n",
    "print(a, b)\n",
    "swap(a, b)\n",
    "print(a, b)"
   ]
  },
  {
   "cell_type": "code",
   "execution_count": 13,
   "metadata": {},
   "outputs": [
    {
     "name": "stdout",
     "output_type": "stream",
     "text": [
      "[1, 2]\n",
      "[2, 1]\n"
     ]
    }
   ],
   "source": [
    "# 定義一個名為swap的函式，回傳交換列表中的兩個元素\n",
    "def swap(x):\n",
    "    # 使用變數temp來交換列表x中的第一個和第二個元素：先將x[0]存入temp，再將x[1]指定給x[0]，最後將temp指定給x[1]\n",
    "    temp = x[0]\n",
    "    x[0] = x[1]\n",
    "    x[1] = temp\n",
    "\n",
    "# 輸出交換後的結果\n",
    "a = [1, 2]\n",
    "print(a)\n",
    "swap(a)\n",
    "print(a)"
   ]
  },
  {
   "cell_type": "code",
   "execution_count": 14,
   "metadata": {},
   "outputs": [
    {
     "name": "stdout",
     "output_type": "stream",
     "text": [
      "這個梯形的面積為 75.0\n",
      "這個梯形的面積為 75.0\n",
      "這個梯形的面積為 75.0\n"
     ]
    }
   ],
   "source": [
    "# 定義一個名為trapezoidArea的函式，用來計算梯形的面積\n",
    "# 函式使用三個參數：上底top、下底bottom和高度height\n",
    "\n",
    "def trapezoidArea(top, bottom, height):\n",
    "    # 計算梯形面積，公式為：(上底 + 下底) * 高度 / 2\n",
    "    area = (top + bottom) * height / 2\n",
    "    # 輸出計算結果\n",
    "    print(\"這個梯形的面積為\", area)\n",
    "\n",
    "# 呼叫trapezoidArea函式，傳入上底10、下底20和高度5\n",
    "trapezoidArea(10, 20, 5)\n",
    "\n",
    "# 使用關鍵字參數方式呼叫函式\n",
    "trapezoidArea(10, height = 5, bottom = 20)\n",
    "trapezoidArea(height = 5, bottom = 20, top = 10)"
   ]
  },
  {
   "cell_type": "code",
   "execution_count": 15,
   "metadata": {},
   "outputs": [
    {
     "name": "stdout",
     "output_type": "stream",
     "text": [
      "我的甜點是 馬卡龍 ，飲料是 咖啡\n",
      "我的甜點是 帕尼尼 ，飲料是 紅茶\n",
      "我的甜點是 三明治 ，飲料是 奶茶\n",
      "我的甜點是 紅豆餅 ，飲料是 綠茶\n"
     ]
    }
   ],
   "source": [
    "# 定義一個名為teaTime的函式，用來顯示甜點和飲料，其中drink參數預設為\"紅茶\"\n",
    "def teaTime(dessert, drink = \"紅茶\"):\n",
    "    # 輸出甜點和飲料的內容\n",
    "    print(\"我的甜點是\", dessert, \"，飲料是\", drink)\n",
    "\n",
    "# 呼叫teaTime函式，傳入甜點和飲料\n",
    "teaTime(\"馬卡龍\", \"咖啡\")\n",
    "\n",
    "# 呼叫teaTime函式，僅傳入甜點，使用預設飲料\n",
    "teaTime(\"帕尼尼\")\n",
    "\n",
    "# 使用關鍵字參數方式呼叫teaTime函式\n",
    "teaTime(drink = \"奶茶\", dessert = \"三明治\")\n",
    "teaTime(\"紅豆餅\", drink = \"綠茶\")"
   ]
  },
  {
   "cell_type": "code",
   "execution_count": 16,
   "metadata": {},
   "outputs": [
    {
     "name": "stdout",
     "output_type": "stream",
     "text": [
      "1\n",
      "3\n",
      "6\n",
      "10\n",
      "15\n"
     ]
    }
   ],
   "source": [
    "# 定義一個名為add的函式，用來計算多個數字的總和\n",
    "# 函式使用可變參數numbers來接收任意數量的數字\n",
    "\n",
    "def add(*numbers):\n",
    "    # 初始化總和變數total為0\n",
    "    total = 0\n",
    "\n",
    "    # 使用for迴圈計算numbers中的每個數字，將其加到total中\n",
    "    for i in numbers:\n",
    "        total = total + i\n",
    "    \n",
    "    # 回傳計算後的總和\n",
    "    return total\n",
    "\n",
    "# 呼叫add函式，傳入不同數量的參數，並輸出結果\n",
    "print(add(1))\n",
    "print(add(1, 2)) \n",
    "print(add(1, 2, 3)) \n",
    "print(add(1, 2, 3, 4))\n",
    "print(add(1, 2, 3, 4, 5))"
   ]
  },
  {
   "cell_type": "code",
   "execution_count": 17,
   "metadata": {},
   "outputs": [
    {
     "name": "stdout",
     "output_type": "stream",
     "text": [
      "這組資料的算術平均數為 5.222222222222222\n",
      "這組資料的幾何平均數為 4.479187323468108\n"
     ]
    }
   ],
   "source": [
    "# 定義一個名為arithmeticMean的函式，用來計算算術平均數\n",
    "def arithmeticMean(*numbers):\n",
    "    # 初始化總和變數sum為0，計數變數n為0\n",
    "    sum = 0\n",
    "    n = 0\n",
    "\n",
    "    # 使用for迴圈逐一將numbers中的數字加到sum中，並同時計算n的數量\n",
    "    for i in numbers:\n",
    "        sum += i\n",
    "        n += 1\n",
    "    \n",
    "    # 計算平均數，將總和除以計數n，並回傳結果\n",
    "    return sum / n\n",
    "\n",
    "# 定義一個名為geometricMean的函式，用來計算幾何平均數\n",
    "def geometricMean(*numbers):\n",
    "    # 初始化乘積變數product為1，計數變數n為0\n",
    "    product = 1\n",
    "    n = 0\n",
    "\n",
    "    # 使用for迴圈逐一將numbers中的數字乘入product，並同時計算n的數量\n",
    "    for i in numbers:\n",
    "        product *= i\n",
    "        n += 1\n",
    "\n",
    "    # 計算幾何平均數，將乘積開n次方，並回傳結果\n",
    "    return product ** (1 / n)\n",
    "\n",
    "# 呼叫arithmeticMean和geometricMean函式，傳入一組數字，並輸出結果\n",
    "print(\"這組資料的算術平均數為\", arithmeticMean(1, 4, 5, 6, 7, 3, 8, 4, 9))\n",
    "print(\"這組資料的幾何平均數為\", geometricMean(1, 4, 5, 6, 7, 3, 8, 4, 9))"
   ]
  },
  {
   "cell_type": "code",
   "execution_count": 18,
   "metadata": {},
   "outputs": [],
   "source": [
    "# 定義一個名為isEven的函式，用來判斷一個整數是否為偶數\n",
    "def isEven(n):\n",
    "    # 如果n能被2整除，表示是偶數，回傳True；如果不能被2整除，表示是奇數，回傳False\n",
    "    if n % 2 == 0:\n",
    "        return True\n",
    "    else:\n",
    "        return False"
   ]
  },
  {
   "cell_type": "code",
   "execution_count": 19,
   "metadata": {},
   "outputs": [
    {
     "name": "stdout",
     "output_type": "stream",
     "text": [
      "您輸入的整數為: 74\n",
      "74 是偶數\n"
     ]
    }
   ],
   "source": [
    "# 使用者輸入一個整數\n",
    "num = eval(input(\"請輸入一個整數:\"))\n",
    "\n",
    "# 輸出使用者輸入的整數\n",
    "print(\"您輸入的整數為:\", num)\n",
    "\n",
    "# 呼叫isEven函式，判斷num是否為偶數，若是則輸出\"num 是偶數\"，否則輸出\"num 是奇數\"\n",
    "if isEven(num):\n",
    "    print(num, \"是偶數\")\n",
    "else:\n",
    "    print(num, \"是奇數\")"
   ]
  },
  {
   "cell_type": "code",
   "execution_count": 20,
   "metadata": {},
   "outputs": [
    {
     "name": "stdout",
     "output_type": "stream",
     "text": [
      "您輸入的整數為: 67\n",
      "67 是奇數\n"
     ]
    }
   ],
   "source": [
    "# 使用者輸入一個整數\n",
    "num = eval(input(\"請輸入一個整數:\"))\n",
    "\n",
    "# 輸出使用者輸入的整數\n",
    "print(\"您輸入的整數為:\", num)\n",
    "\n",
    "# 呼叫isEven函式，判斷num是否為偶數，若是則輸出\"num 是偶數\"，否則輸出\"num 是奇數\"\n",
    "if isEven(num):\n",
    "    print(num, \"是偶數\")\n",
    "else:\n",
    "    print(num, \"是奇數\")"
   ]
  },
  {
   "cell_type": "code",
   "execution_count": 21,
   "metadata": {},
   "outputs": [
    {
     "name": "stdout",
     "output_type": "stream",
     "text": [
      "100除以7的商數為 14 ，餘數為 2\n",
      "200除以13的商數為 15 ，餘數為 5\n"
     ]
    }
   ],
   "source": [
    "# 定義一個名為divmod的函式，用來計算兩個數字的商和餘數\n",
    "def divmod(x, y):\n",
    "    # 使用整數除法(//)取得商數，模運算(%)取得餘數\n",
    "    div = x // y\n",
    "    mod = x % y\n",
    "    # 回傳商和餘數\n",
    "    return div, mod\n",
    "\n",
    "# 呼叫divmod函式，傳入100和7作為參數，並輸出結果\n",
    "a, b = divmod(100, 7)\n",
    "print(\"100除以7的商數為\", a, \"，餘數為\", b)\n",
    "\n",
    "# 呼叫divmod函式，傳入200和13作為參數，並輸出結果\n",
    "c, d = divmod(200, 13)\n",
    "print(\"200除以13的商數為\", c, \"，餘數為\", d)"
   ]
  },
  {
   "cell_type": "code",
   "execution_count": 22,
   "metadata": {},
   "outputs": [
    {
     "name": "stdout",
     "output_type": "stream",
     "text": [
      "您輸入的數學分數為: 83\n",
      "分數為及格！\n"
     ]
    }
   ],
   "source": [
    "# 定義一個名為checkScore的函式，用來檢查分數是否及格\n",
    "def checkScore(score):\n",
    "    # 如果score小於0或大於100，則顯示錯誤訊息並結束函式\n",
    "    if score < 0 or score > 100:\n",
    "        print(\"分數超過範圍！\")\n",
    "        return\n",
    "    \n",
    "    # 如果score大於等於60，則顯示分數為及格訊息，否則顯示分數為不及格訊息\n",
    "    if score >= 60:\n",
    "        print(\"分數為及格！\")\n",
    "    else:\n",
    "        print(\"分數為不及格！\")\n",
    "\n",
    "# 使用者輸入數學分數，並顯示輸入結果(將輸入值轉換為數字)\n",
    "s = eval(input(\"請輸入數學分數(0~100)：\"))\n",
    "print(\"您輸入的數學分數為:\", s)\n",
    "\n",
    "# 呼叫checkScore函式，傳入使用者輸入的分數s\n",
    "checkScore(s)"
   ]
  },
  {
   "cell_type": "code",
   "execution_count": 23,
   "metadata": {},
   "outputs": [
    {
     "name": "stdout",
     "output_type": "stream",
     "text": [
      "您輸入的數學分數為: 56\n",
      "分數為不及格！\n"
     ]
    }
   ],
   "source": [
    "# 定義一個名為checkScore的函式，用來檢查分數是否及格\n",
    "def checkScore(score):\n",
    "    # 如果score小於0或大於100，則顯示錯誤訊息並結束函式\n",
    "    if score < 0 or score > 100:\n",
    "        print(\"分數超過範圍！\")\n",
    "        return\n",
    "    \n",
    "    # 如果score大於等於60，則顯示分數為及格訊息，否則顯示分數為不及格訊息\n",
    "    if score >= 60:\n",
    "        print(\"分數為及格！\")\n",
    "    else:\n",
    "        print(\"分數為不及格！\")\n",
    "\n",
    "# 使用者輸入數學分數，並顯示輸入結果(將輸入值轉換為數字)\n",
    "s = eval(input(\"請輸入數學分數(0~100)：\"))\n",
    "print(\"您輸入的數學分數為:\", s)\n",
    "\n",
    "# 呼叫checkScore函式，傳入使用者輸入的分數s\n",
    "checkScore(s)"
   ]
  },
  {
   "cell_type": "code",
   "execution_count": 24,
   "metadata": {},
   "outputs": [
    {
     "name": "stdout",
     "output_type": "stream",
     "text": [
      "您輸入的數學分數為: 105\n",
      "分數超過範圍！\n"
     ]
    }
   ],
   "source": [
    "# 定義一個名為checkScore的函式，用來檢查分數是否及格\n",
    "def checkScore(score):\n",
    "    # 如果score小於0或大於100，則顯示錯誤訊息並結束函式\n",
    "    if score < 0 or score > 100:\n",
    "        print(\"分數超過範圍！\")\n",
    "        return\n",
    "    \n",
    "    # 如果score大於等於60，則顯示分數為及格訊息，否則顯示分數為不及格訊息\n",
    "    if score >= 60:\n",
    "        print(\"分數為及格！\")\n",
    "    else:\n",
    "        print(\"分數為不及格！\")\n",
    "\n",
    "# 使用者輸入數學分數，並顯示輸入結果(將輸入值轉換為數字)\n",
    "s = eval(input(\"請輸入數學分數(0~100)：\"))\n",
    "print(\"您輸入的數學分數為:\", s)\n",
    "\n",
    "# 呼叫checkScore函式，傳入使用者輸入的分數s\n",
    "checkScore(s)"
   ]
  },
  {
   "cell_type": "code",
   "execution_count": 25,
   "metadata": {},
   "outputs": [
    {
     "name": "stdout",
     "output_type": "stream",
     "text": [
      "您輸入的數學分數為: -5\n",
      "分數超過範圍！\n"
     ]
    }
   ],
   "source": [
    "# 定義一個名為checkScore的函式，用來檢查分數是否及格\n",
    "def checkScore(score):\n",
    "    # 如果score小於0或大於100，則顯示錯誤訊息並結束函式\n",
    "    if score < 0 or score > 100:\n",
    "        print(\"分數超過範圍！\")\n",
    "        return\n",
    "    \n",
    "    # 如果score大於等於60，則顯示分數為及格訊息，否則顯示分數為不及格訊息\n",
    "    if score >= 60:\n",
    "        print(\"分數為及格！\")\n",
    "    else:\n",
    "        print(\"分數為不及格！\")\n",
    "\n",
    "# 使用者輸入數學分數，並顯示輸入結果(將輸入值轉換為數字)\n",
    "s = eval(input(\"請輸入數學分數(0~100)：\"))\n",
    "print(\"您輸入的數學分數為:\", s)\n",
    "\n",
    "# 呼叫checkScore函式，傳入使用者輸入的分數s\n",
    "checkScore(s)"
   ]
  },
  {
   "cell_type": "code",
   "execution_count": 26,
   "metadata": {},
   "outputs": [
    {
     "name": "stdout",
     "output_type": "stream",
     "text": [
      "1\n"
     ]
    }
   ],
   "source": [
    "# 定義一個名為f1的函式，該函式內部有一個變數x\n",
    "def f1():\n",
    "    # 將變數x設為1\n",
    "    x = 1\n",
    "    # 輸出變數x的值\n",
    "    print(x)\n",
    "\n",
    "# 呼叫f1函式，執行函式內的程式碼\n",
    "f1()"
   ]
  },
  {
   "cell_type": "code",
   "execution_count": 27,
   "metadata": {},
   "outputs": [
    {
     "name": "stdout",
     "output_type": "stream",
     "text": [
      "5! = 120\n"
     ]
    }
   ],
   "source": [
    "# 初始化變數result為1，用來儲存階乘的結果\n",
    "result = 1\n",
    "\n",
    "# 使用for迴圈從1到5，計算5的階乘\n",
    "for i in range(1, 6):\n",
    "    # 將目前的result乘上i，並更新result的值\n",
    "    result = result * i\n",
    "\n",
    "# 輸出5的階乘結果\n",
    "print(\"5! =\", result)"
   ]
  },
  {
   "cell_type": "code",
   "execution_count": 28,
   "metadata": {},
   "outputs": [
    {
     "name": "stdout",
     "output_type": "stream",
     "text": [
      "0! = 1\n",
      "5! = 120\n"
     ]
    }
   ],
   "source": [
    "# 定義一個名為F的函式，用來計算階乘\n",
    "def F(n):\n",
    "    # 如果n等於0，則回傳1；如果n大於0，則回傳n乘以F(n-1)；如果n小於0，則回傳-1\n",
    "    if n == 0:\n",
    "        return 1\n",
    "    elif n > 0:\n",
    "        return n * F(n - 1)\n",
    "    else:\n",
    "        return -1\n",
    "\n",
    "# 呼叫F函式，計算0的階乘和5的階乘，並輸出結果\n",
    "print(\"0! =\", F(0)) \n",
    "print(\"5! =\", F(5))"
   ]
  },
  {
   "cell_type": "code",
   "execution_count": 29,
   "metadata": {},
   "outputs": [
    {
     "name": "stdout",
     "output_type": "stream",
     "text": [
      "84 和 1080 的最大公因數為 12\n",
      "105 和 38 的最大公因數為 1\n",
      "105 和 36 的最大公因數為 3\n"
     ]
    }
   ],
   "source": [
    "# 定義一個名為GCD的函式，用來計算兩個整數的最大公因數\n",
    "def GCD(m, n):\n",
    "    # 如果m能被n整除，表示n就是最大公因數，直接回傳n\n",
    "    if m % n == 0:\n",
    "        return n\n",
    "    # 如果m不能被n整除，則遞迴呼叫GCD函式，將n和m除以n的餘數作為新的參數\n",
    "    else:\n",
    "        return GCD(n, m % n)\n",
    "\n",
    "# 呼叫GCD函式，並印出指定兩個整數的最大公因數\n",
    "print(\"84 和 1080 的最大公因數為\", GCD(84, 1080))\n",
    "print(\"105 和 38 的最大公因數為\", GCD(105, 38))\n",
    "print(\"105 和 36 的最大公因數為\", GCD(105, 36))"
   ]
  },
  {
   "cell_type": "code",
   "execution_count": 30,
   "metadata": {},
   "outputs": [
    {
     "name": "stdout",
     "output_type": "stream",
     "text": [
      "84 和 1080 的最小公倍數為 7560\n",
      "105 和 38 的最小公倍數為 3990\n",
      "105 和 36 的最小公倍數為 1260\n"
     ]
    }
   ],
   "source": [
    "# 定義一個名為LCM的函式，用來計算兩個整數的最小公倍數\n",
    "def LCM(a, b):\n",
    "    # 回傳最小公倍數的計算結果，使用公式為：最小公倍數 = (a * b) / 最大公因數GCD(a, b)\n",
    "    return a * b // GCD(a, b)\n",
    "\n",
    "# 呼叫LCM函式，並印出指定兩個整數的最小公倍數\n",
    "print(\"84 和 1080 的最小公倍數為\", LCM(84, 1080))\n",
    "print(\"105 和 38 的最小公倍數為\", LCM(105, 38))\n",
    "print(\"105 和 36 的最小公倍數為\", LCM(105, 36))"
   ]
  },
  {
   "cell_type": "code",
   "execution_count": 31,
   "metadata": {},
   "outputs": [
    {
     "name": "stdout",
     "output_type": "stream",
     "text": [
      "1\t1\t2\t3\t5\t8\t13\t21\t34\t55\t89\t144\t233\t377\t610\t"
     ]
    }
   ],
   "source": [
    "# 定義一個名為fibo的函式，用來計算費氏數列的第n項\n",
    "def fibo(n):\n",
    "    # 如果n是1或2，費氏數列的第1項和第2項都是1，直接回傳1\n",
    "    if n == 1 or n == 2:\n",
    "        return 1\n",
    "    else:\n",
    "        # 如果n大於2，則使用遞迴方式計算第n項，第n項的值是第(n-1)項與第(n-2)項的總和\n",
    "        return fibo(n - 1) + fibo(n - 2)\n",
    "\n",
    "# 使用for迴圈從1到15，計算並印出費氏數列前15項\n",
    "for i in range(1, 16):\n",
    "    # 輸出第i項的費氏數列值，使用tab鍵(\\t)隔開，避免換行\n",
    "    print(fibo(i), end='\\t')"
   ]
  },
  {
   "cell_type": "code",
   "execution_count": 32,
   "metadata": {},
   "outputs": [
    {
     "data": {
      "text/plain": [
       "3"
      ]
     },
     "execution_count": 32,
     "metadata": {},
     "output_type": "execute_result"
    }
   ],
   "source": [
    "# 定義一個匿名函式(lambda)，用來計算並回傳兩個數字的和，並傳入參數1和2\n",
    "(lambda x, y: x + y)(1, 2)"
   ]
  },
  {
   "cell_type": "code",
   "execution_count": 33,
   "metadata": {},
   "outputs": [
    {
     "name": "stdout",
     "output_type": "stream",
     "text": [
      "3\n",
      "abcde\n"
     ]
    }
   ],
   "source": [
    "# 定義一個匿名函式(lambda)，用來接收兩個參數並回傳它們的和(數字相加或字串串接)\n",
    "add = lambda x, y: x + y\n",
    "\n",
    "# 呼叫add函式，傳入1和2作為參數，並輸出結果\n",
    "print(add(1, 2))\n",
    "print(add(\"abc\", \"de\"))"
   ]
  },
  {
   "cell_type": "code",
   "execution_count": 34,
   "metadata": {},
   "outputs": [
    {
     "name": "stdout",
     "output_type": "stream",
     "text": [
      "Mary\n",
      "abc\n"
     ]
    }
   ],
   "source": [
    "# 定義一個變數myname，儲存字串\"Mary\"\n",
    "myname = \"Mary\"\n",
    "\n",
    "# 使用匿名函式(lambda)，接收一個參數title，並立即呼叫該函式，將myname傳入，並輸出title的值\n",
    "(lambda title: print(title))(myname)\n",
    "\n",
    "# 定義一個匿名函式youname，接收一個參數title，並輸出該參數的值\n",
    "youname = lambda title: print(title)\n",
    "\n",
    "# 呼叫youname函式，傳入字串\"abc\"作為參數，並輸出結果\n",
    "youname(\"abc\")"
   ]
  },
  {
   "cell_type": "code",
   "execution_count": 35,
   "metadata": {},
   "outputs": [
    {
     "data": {
      "text/plain": [
       "1754068457.1000786"
      ]
     },
     "execution_count": 35,
     "metadata": {},
     "output_type": "execute_result"
    }
   ],
   "source": [
    "# 匯入time模組，用於處理時間相關的功能\n",
    "import time\n",
    "\n",
    "# 回傳從1970年1月1日00:00:00到目前的UTC時間的秒數\n",
    "time.time()"
   ]
  },
  {
   "cell_type": "code",
   "execution_count": 36,
   "metadata": {},
   "outputs": [
    {
     "data": {
      "text/plain": [
       "time.struct_time(tm_year=2025, tm_mon=8, tm_mday=1, tm_hour=17, tm_min=14, tm_sec=17, tm_wday=4, tm_yday=213, tm_isdst=0)"
      ]
     },
     "execution_count": 36,
     "metadata": {},
     "output_type": "execute_result"
    }
   ],
   "source": [
    "time.gmtime()  # 回傳目前的UTC時間，以time.struct_time結構表示"
   ]
  },
  {
   "cell_type": "code",
   "execution_count": 37,
   "metadata": {},
   "outputs": [
    {
     "data": {
      "text/plain": [
       "time.struct_time(tm_year=2025, tm_mon=8, tm_mday=2, tm_hour=1, tm_min=14, tm_sec=17, tm_wday=5, tm_yday=214, tm_isdst=0)"
      ]
     },
     "execution_count": 37,
     "metadata": {},
     "output_type": "execute_result"
    }
   ],
   "source": [
    "time.localtime()  # 回傳目前的本地時間，以time.struct_time結構表示"
   ]
  },
  {
   "cell_type": "code",
   "execution_count": 38,
   "metadata": {},
   "outputs": [
    {
     "data": {
      "text/plain": [
       "'Sat Aug  2 01:14:17 2025'"
      ]
     },
     "execution_count": 38,
     "metadata": {},
     "output_type": "execute_result"
    }
   ],
   "source": [
    "time.asctime()  # 回傳目前的本地時間，以字串格式表示"
   ]
  },
  {
   "cell_type": "code",
   "execution_count": 39,
   "metadata": {},
   "outputs": [
    {
     "data": {
      "text/plain": [
       "'Mon Feb 14 11:06:21 2022'"
      ]
     },
     "execution_count": 39,
     "metadata": {},
     "output_type": "execute_result"
    }
   ],
   "source": [
    "time.asctime((2022, 2, 14, 11, 6, 21, 0, 45, 0))  # 回傳參數指定的時間，以字串格式表示"
   ]
  },
  {
   "cell_type": "code",
   "execution_count": 40,
   "metadata": {},
   "outputs": [
    {
     "data": {
      "text/plain": [
       "'Wed Aug 15 12:36:08 2018'"
      ]
     },
     "execution_count": 40,
     "metadata": {},
     "output_type": "execute_result"
    }
   ],
   "source": [
    "time.asctime((2018, 8, 15, 12, 36, 8, 2, 227, 0))  # 回傳參數指定的時間，以字串格式表示"
   ]
  },
  {
   "cell_type": "code",
   "execution_count": 41,
   "metadata": {},
   "outputs": [
    {
     "data": {
      "text/plain": [
       "'Sat Aug  2 01:14:17 2025'"
      ]
     },
     "execution_count": 41,
     "metadata": {},
     "output_type": "execute_result"
    }
   ],
   "source": [
    "time.ctime()  # 回傳目前的本地時間，以字串格式表示"
   ]
  },
  {
   "cell_type": "code",
   "execution_count": 42,
   "metadata": {},
   "outputs": [
    {
     "data": {
      "text/plain": [
       "'Mon Feb 14 11:06:21 2022'"
      ]
     },
     "execution_count": 42,
     "metadata": {},
     "output_type": "execute_result"
    }
   ],
   "source": [
    "time.ctime(1644807981.0)  # 回傳參數指定的時間，以字串格式表示"
   ]
  },
  {
   "cell_type": "code",
   "execution_count": 43,
   "metadata": {},
   "outputs": [
    {
     "data": {
      "text/plain": [
       "1644807981.0"
      ]
     },
     "execution_count": 43,
     "metadata": {},
     "output_type": "execute_result"
    }
   ],
   "source": [
    "time.mktime((2022, 2, 14, 11, 6, 21, 0, 45, 0))  # 回傳從1970年1月1日UTC起至指定時間的總秒數"
   ]
  },
  {
   "cell_type": "code",
   "execution_count": 44,
   "metadata": {},
   "outputs": [],
   "source": [
    "time.sleep(3)  # 暫停參數指定的秒數(3秒)"
   ]
  },
  {
   "cell_type": "code",
   "execution_count": 45,
   "metadata": {},
   "outputs": [
    {
     "data": {
      "text/plain": [
       "'2025年08月02日 01:14:20 台北標準時間'"
      ]
     },
     "execution_count": 45,
     "metadata": {},
     "output_type": "execute_result"
    }
   ],
   "source": [
    "time.strftime(\"%Y年%m月%d日 %H:%M:%S %Z\")  # 回傳目前的本地時間，以指定格式的字串表示"
   ]
  },
  {
   "cell_type": "code",
   "execution_count": 46,
   "metadata": {},
   "outputs": [
    {
     "data": {
      "text/plain": [
       "'2025年08月02日'"
      ]
     },
     "execution_count": 46,
     "metadata": {},
     "output_type": "execute_result"
    }
   ],
   "source": [
    "time.strftime(\"%Y年%m月%d日\")  # 回傳參數指定的時間，以指定格式的字串表示"
   ]
  },
  {
   "cell_type": "code",
   "execution_count": 47,
   "metadata": {},
   "outputs": [
    {
     "data": {
      "text/plain": [
       "'01:14:20'"
      ]
     },
     "execution_count": 47,
     "metadata": {},
     "output_type": "execute_result"
    }
   ],
   "source": [
    "time.strftime(\"%H:%M:%S\")  # 回傳參數指定的時間，以指定格式的字串表示"
   ]
  },
  {
   "cell_type": "code",
   "execution_count": 48,
   "metadata": {},
   "outputs": [
    {
     "data": {
      "text/plain": [
       "'Sat, 02 Aug 2025 01:14:20'"
      ]
     },
     "execution_count": 48,
     "metadata": {},
     "output_type": "execute_result"
    }
   ],
   "source": [
    "time.strftime(\"%a, %d %b %Y %H:%M:%S\")  # 回傳參數指定的時間，以指定格式的字串表示"
   ]
  },
  {
   "cell_type": "code",
   "execution_count": 49,
   "metadata": {},
   "outputs": [
    {
     "data": {
      "text/plain": [
       "'Feb 14 2022 11:48:10'"
      ]
     },
     "execution_count": 49,
     "metadata": {},
     "output_type": "execute_result"
    }
   ],
   "source": [
    "t = (2022, 2, 14, 11, 48, 10, 0, 45, 0)  # 定義一個時間元組t，包含年、月、日、時、分、秒等資訊\n",
    "time.strftime(\"%b %d %Y %H:%M:%S\", t)    # 回傳t所代表的時間，以指定格式的字串表示"
   ]
  },
  {
   "cell_type": "code",
   "execution_count": 50,
   "metadata": {},
   "outputs": [
    {
     "data": {
      "text/plain": [
       "time.struct_time(tm_year=2022, tm_mon=2, tm_mday=14, tm_hour=0, tm_min=0, tm_sec=0, tm_wday=0, tm_yday=45, tm_isdst=-1)"
      ]
     },
     "execution_count": 50,
     "metadata": {},
     "output_type": "execute_result"
    }
   ],
   "source": [
    "time.strptime(\"14 Feb 22\", \"%d %b %y\")  # 將日期字串\"14 Feb 22\"根據格式\"%d %b %y\"解析為struct_time時間元組"
   ]
  },
  {
   "cell_type": "code",
   "execution_count": 51,
   "metadata": {},
   "outputs": [
    {
     "data": {
      "text/plain": [
       "0"
      ]
     },
     "execution_count": 51,
     "metadata": {},
     "output_type": "execute_result"
    }
   ],
   "source": [
    "# 匯入calendar模組，用於處理日曆相關的功能\n",
    "import calendar\n",
    "\n",
    "# 回傳目前設定的一週起始日(0 = 星期一，6 = 星期日)\n",
    "calendar.firstweekday()"
   ]
  },
  {
   "cell_type": "code",
   "execution_count": 52,
   "metadata": {},
   "outputs": [
    {
     "data": {
      "text/plain": [
       "1"
      ]
     },
     "execution_count": 52,
     "metadata": {},
     "output_type": "execute_result"
    }
   ],
   "source": [
    "calendar.setfirstweekday(1)  # 設定一週的第一天為星期二(1 = 星期二)\n",
    "calendar.firstweekday()      # 回傳目前設定的一週的第一天(0 = 星期一，6 = 星期日)"
   ]
  },
  {
   "cell_type": "code",
   "execution_count": 53,
   "metadata": {},
   "outputs": [
    {
     "data": {
      "text/plain": [
       "True"
      ]
     },
     "execution_count": 53,
     "metadata": {},
     "output_type": "execute_result"
    }
   ],
   "source": [
    "calendar.isleap(2020)  # 判斷2020年是否為閏年，回傳True或False"
   ]
  },
  {
   "cell_type": "code",
   "execution_count": 54,
   "metadata": {},
   "outputs": [
    {
     "data": {
      "text/plain": [
       "False"
      ]
     },
     "execution_count": 54,
     "metadata": {},
     "output_type": "execute_result"
    }
   ],
   "source": [
    "calendar.isleap(2022)  # 判斷2022年是否為閏年，回傳True或False"
   ]
  },
  {
   "cell_type": "code",
   "execution_count": 55,
   "metadata": {},
   "outputs": [
    {
     "name": "stdout",
     "output_type": "stream",
     "text": [
      "0\n"
     ]
    }
   ],
   "source": [
    "print(calendar.weekday(2022, 2, 14))  # 回傳2022年2月14日是星期幾(0 = 星期一，6 = 星期日)"
   ]
  },
  {
   "cell_type": "code",
   "execution_count": 56,
   "metadata": {},
   "outputs": [
    {
     "name": "stdout",
     "output_type": "stream",
     "text": [
      "(calendar.SATURDAY, 31)\n"
     ]
    }
   ],
   "source": [
    "print(calendar.monthrange(2022, 1))  # 回傳2022年1月的第一天是星期幾(0 = 星期一，6 = 星期日)和該月的天數"
   ]
  },
  {
   "cell_type": "code",
   "execution_count": 57,
   "metadata": {},
   "outputs": [
    {
     "name": "stdout",
     "output_type": "stream",
     "text": [
      "                                  2022\n",
      "\n",
      "      January                   February                   March\n",
      "Tu We Th Fr Sa Su Mo      Tu We Th Fr Sa Su Mo      Tu We Th Fr Sa Su Mo\n",
      "             1  2  3       1  2  3  4  5  6  7       1  2  3  4  5  6  7\n",
      " 4  5  6  7  8  9 10       8  9 10 11 12 13 14       8  9 10 11 12 13 14\n",
      "11 12 13 14 15 16 17      15 16 17 18 19 20 21      15 16 17 18 19 20 21\n",
      "18 19 20 21 22 23 24      22 23 24 25 26 27 28      22 23 24 25 26 27 28\n",
      "25 26 27 28 29 30 31                                29 30 31\n",
      "\n",
      "       April                      May                       June\n",
      "Tu We Th Fr Sa Su Mo      Tu We Th Fr Sa Su Mo      Tu We Th Fr Sa Su Mo\n",
      "          1  2  3  4                      1  2          1  2  3  4  5  6\n",
      " 5  6  7  8  9 10 11       3  4  5  6  7  8  9       7  8  9 10 11 12 13\n",
      "12 13 14 15 16 17 18      10 11 12 13 14 15 16      14 15 16 17 18 19 20\n",
      "19 20 21 22 23 24 25      17 18 19 20 21 22 23      21 22 23 24 25 26 27\n",
      "26 27 28 29 30            24 25 26 27 28 29 30      28 29 30\n",
      "                          31\n",
      "\n",
      "        July                     August                  September\n",
      "Tu We Th Fr Sa Su Mo      Tu We Th Fr Sa Su Mo      Tu We Th Fr Sa Su Mo\n",
      "          1  2  3  4                         1             1  2  3  4  5\n",
      " 5  6  7  8  9 10 11       2  3  4  5  6  7  8       6  7  8  9 10 11 12\n",
      "12 13 14 15 16 17 18       9 10 11 12 13 14 15      13 14 15 16 17 18 19\n",
      "19 20 21 22 23 24 25      16 17 18 19 20 21 22      20 21 22 23 24 25 26\n",
      "26 27 28 29 30 31         23 24 25 26 27 28 29      27 28 29 30\n",
      "                          30 31\n",
      "\n",
      "      October                   November                  December\n",
      "Tu We Th Fr Sa Su Mo      Tu We Th Fr Sa Su Mo      Tu We Th Fr Sa Su Mo\n",
      "             1  2  3       1  2  3  4  5  6  7             1  2  3  4  5\n",
      " 4  5  6  7  8  9 10       8  9 10 11 12 13 14       6  7  8  9 10 11 12\n",
      "11 12 13 14 15 16 17      15 16 17 18 19 20 21      13 14 15 16 17 18 19\n",
      "18 19 20 21 22 23 24      22 23 24 25 26 27 28      20 21 22 23 24 25 26\n",
      "25 26 27 28 29 30 31      29 30                     27 28 29 30 31\n",
      "\n"
     ]
    }
   ],
   "source": [
    "print(calendar.calendar(2022))  # 輸出2022年的整個日曆"
   ]
  },
  {
   "cell_type": "code",
   "execution_count": 58,
   "metadata": {},
   "outputs": [
    {
     "name": "stdout",
     "output_type": "stream",
     "text": [
      "    January 2024\n",
      "Tu We Th Fr Sa Su Mo\n",
      "                   1\n",
      " 2  3  4  5  6  7  8\n",
      " 9 10 11 12 13 14 15\n",
      "16 17 18 19 20 21 22\n",
      "23 24 25 26 27 28 29\n",
      "30 31\n",
      "\n"
     ]
    }
   ],
   "source": [
    "print(calendar.month(2024, 1))  # 輸出2024年1月的整個日曆"
   ]
  },
  {
   "cell_type": "code",
   "execution_count": 59,
   "metadata": {},
   "outputs": [
    {
     "name": "stdout",
     "output_type": "stream",
     "text": [
      "2025-08-02\n"
     ]
    }
   ],
   "source": [
    "from datetime import date  # 從datetime模組匯入date類別\n",
    "print(date.today())  # 輸出今天的日期"
   ]
  },
  {
   "cell_type": "code",
   "execution_count": 60,
   "metadata": {},
   "outputs": [
    {
     "name": "stdout",
     "output_type": "stream",
     "text": [
      "2025-08-02 01:14:20.528291\n"
     ]
    }
   ],
   "source": [
    "from datetime import datetime  # 從datetime模組匯入datetime類別\n",
    "print(datetime.now())  # 輸出目前的日期和時間"
   ]
  },
  {
   "cell_type": "code",
   "execution_count": 61,
   "metadata": {},
   "outputs": [
    {
     "name": "stdout",
     "output_type": "stream",
     "text": [
      "2025年08月02日 01:14:20\n"
     ]
    }
   ],
   "source": [
    "print(datetime.now().strftime(\"%Y年%m月%d日 %H:%M:%S\"))  # 輸出目前的日期和時間，以指定格式的字串表示"
   ]
  },
  {
   "cell_type": "code",
   "execution_count": 62,
   "metadata": {},
   "outputs": [
    {
     "name": "stdout",
     "output_type": "stream",
     "text": [
      "2000 2004 2008 2012 2016 2020 2024 2028 2032 2036 2040 2044 2048 "
     ]
    }
   ],
   "source": [
    "# 定義一個名為isLeapYear的函式，用來判斷某一年是否為閏年\n",
    "def isLeapYear(year):\n",
    "    # 如果年份能被4整除且不能被100整除，或能被400整除，則為閏年；如果都不符合這些條件，則不是閏年\n",
    "    if (year % 4 == 0 and year % 100 != 0) or (year % 400 == 0):\n",
    "        return True   # 若是閏年，回傳True\n",
    "    else:\n",
    "        return False  # 若不是閏年，回傳False\n",
    "\n",
    "# 使用for迴圈從2000年到2050年，檢查每一年是否為閏年\n",
    "for i in range(2000, 2051):\n",
    "    if isLeapYear(i):      # 如果是閏年，則列印出該年份，並且在同一行顯示，用空格分開\n",
    "        print(i, end=' ')  # `end=' '` 會使輸出的年份不換行並用空格分隔"
   ]
  },
  {
   "cell_type": "code",
   "execution_count": 63,
   "metadata": {},
   "outputs": [
    {
     "name": "stdout",
     "output_type": "stream",
     "text": [
      "2000 2004 2008 2012 2016 2020 2024 2028 2032 2036 2040 2044 2048 "
     ]
    }
   ],
   "source": [
    "# 匯入calendar模組，用於處理日曆相關的功能\n",
    "import calendar\n",
    "\n",
    "# 使用for迴圈從2000年到2050年，檢查每一年是否為閏年\n",
    "for i in range(2000, 2051):\n",
    "    if calendar.isleap(i):   # 如果是閏年，則列印出該年份，並且在同一行顯示，用空格分開\n",
    "        print(i, end = ' ')  # `end=' '` 會使輸出的年份不換行並用空格分隔"
   ]
  },
  {
   "cell_type": "code",
   "execution_count": 64,
   "metadata": {},
   "outputs": [
    {
     "name": "stdout",
     "output_type": "stream",
     "text": [
      "倒數 10 秒...\n",
      "倒數 9 秒...\n",
      "倒數 8 秒...\n",
      "倒數 7 秒...\n",
      "倒數 6 秒...\n",
      "倒數 5 秒...\n",
      "倒數 4 秒...\n",
      "倒數 3 秒...\n",
      "倒數 2 秒...\n",
      "倒數 1 秒...\n",
      "時間到！\n"
     ]
    }
   ],
   "source": [
    "# 匯入time模組，用於處理時間相關的功能\n",
    "import time\n",
    "\n",
    "# 使用者輸入倒數的秒數\n",
    "secs = eval(input(\"請輸入要倒數的秒數：\")) \n",
    "\n",
    "# 透過for迴圈從secs開始倒數直到1\n",
    "for i in range(secs, 0, -1):\n",
    "    # 顯示當前倒數秒數\n",
    "    print(\"倒數\", i, \"秒...\")  \n",
    "    # 程式等待1秒鐘，然後繼續倒數\n",
    "    time.sleep(1)\n",
    "\n",
    "# 當倒數結束後顯示時間到\n",
    "print(\"時間到！\")"
   ]
  },
  {
   "cell_type": "code",
   "execution_count": 65,
   "metadata": {},
   "outputs": [
    {
     "name": "stdout",
     "output_type": "stream",
     "text": [
      "100\n"
     ]
    }
   ],
   "source": [
    "# 定義一個名為largest的函式，用來比較多個數字並回傳最大的數字\n",
    "def largest(*number):\n",
    "    # 初始化最大值max為-99999\n",
    "    max = -99999\n",
    "\n",
    "    # 使用for迴圈逐一檢查number中的每個數字\n",
    "    for i in number:\n",
    "        # 如果當前數字i大於max，則更新max為i\n",
    "        if i > max:\n",
    "            max = i\n",
    "    # 回傳最大值max\n",
    "    return max\n",
    "\n",
    "# 呼叫largest函式，傳入10, 50, 100, -10, -5作為參數，並輸出結果\n",
    "print(largest(10, 50, 100, -10, -5))"
   ]
  },
  {
   "cell_type": "code",
   "execution_count": 66,
   "metadata": {},
   "outputs": [
    {
     "name": "stdout",
     "output_type": "stream",
     "text": [
      "目前的本地時間：Sat Aug 02 01:14:32 2025\n",
      "    August 2025\n",
      "Tu We Th Fr Sa Su Mo\n",
      "          1  2  3  4\n",
      " 5  6  7  8  9 10 11\n",
      "12 13 14 15 16 17 18\n",
      "19 20 21 22 23 24 25\n",
      "26 27 28 29 30 31\n",
      "\n"
     ]
    }
   ],
   "source": [
    "# 匯入datetime模組和calendar模組，用於處理日期和時間相關的功能\n",
    "import datetime\n",
    "import calendar\n",
    "\n",
    "# 取得目前的日期和時間，會返回一個datetime物件\n",
    "now = datetime.datetime.now()\n",
    "\n",
    "# 取得目前的月份(1到12)\n",
    "month = now.month\n",
    "\n",
    "# 取得目前的年份\n",
    "year = now.year\n",
    "\n",
    "# 使用calendar模組來顯示當月份的日曆\n",
    "calendar = calendar.month(now.year, now.month)\n",
    "\n",
    "# 使用strftime()來格式化當前時間，轉換成指定格式的字串\n",
    "x = now.strftime(\"%a %b %d %H:%M:%S %Y\")\n",
    "\n",
    "# 顯示目前的本地時間與該月的日曆\n",
    "print(\"目前的本地時間：\" + x)\n",
    "print(calendar)"
   ]
  },
  {
   "cell_type": "code",
   "execution_count": 67,
   "metadata": {},
   "outputs": [
    {
     "name": "stdout",
     "output_type": "stream",
     "text": [
      "您輸入的工作時數為 12\n",
      "您輸入的時薪為 50000\n",
      "您輸入的獎金為 300000\n",
      "您的總薪資是 900000\n"
     ]
    }
   ],
   "source": [
    "# 定義薪資計算函式，使用三個參數：工作時數、時薪、獎金(預設為0)\n",
    "def salary(hours, hourlypay, bonus = 0):\n",
    "    # 計算總薪資 = 總薪資 = 時薪 * 工作時數 + 獎金\n",
    "    total_salary = hourlypay * hours + bonus\n",
    "    # 回傳計算後的總薪資\n",
    "    return total_salary\n",
    "\n",
    "# 使用者輸入工作時數與輸出結果\n",
    "hours = eval(input(\"請輸入工作時數：\"))\n",
    "print(\"您輸入的工作時數為\", hours)\n",
    "\n",
    "# 使用者輸入薪資與輸出結果\n",
    "hourlypay = eval(input(\"請輸入時薪：\"))\n",
    "print(\"您輸入的時薪為\", hourlypay)\n",
    "\n",
    "# 使用者輸入獎金與輸出結果\n",
    "bonus = eval(input(\"請輸入獎金：\"))\n",
    "print(\"您輸入的獎金為\", bonus)\n",
    "\n",
    "# 呼叫salary函式，並輸出計算結果\n",
    "print(f\"您的總薪資是 {salary(hours, hourlypay, bonus)}\")"
   ]
  },
  {
   "cell_type": "code",
   "execution_count": 68,
   "metadata": {},
   "outputs": [
    {
     "name": "stdout",
     "output_type": "stream",
     "text": [
      "2\n",
      "3\n",
      "5\n",
      "7\n",
      "11\n",
      "13\n",
      "17\n",
      "19\n",
      "23\n",
      "29\n",
      "31\n",
      "37\n",
      "41\n",
      "43\n",
      "47\n",
      "53\n",
      "59\n",
      "61\n",
      "67\n",
      "71\n",
      "73\n",
      "79\n",
      "83\n",
      "89\n",
      "97\n"
     ]
    }
   ],
   "source": [
    "# 定義一個名為isPrime的函式，用來判斷一個整數是否為質數\n",
    "def isPrime(n):\n",
    "    # 使用for迴圈從2到n-1，檢查n是否能被整除\n",
    "    for i in range(2, n):\n",
    "        # 如果n能被i整除，代表不是質數，回傳False\n",
    "        if n % i == 0:\n",
    "            return False\n",
    "    else:\n",
    "        # 如果沒有任何i能整除n，代表是質數，回傳True\n",
    "        return True\n",
    "\n",
    "# 使用for迴圈從2到99，檢查每個數字是否為質數\n",
    "for i in range(2, 100):\n",
    "    # 如果i是質數，則輸出i；不是質數就不輸出\n",
    "    if isPrime(i):\n",
    "        print(i)"
   ]
  },
  {
   "cell_type": "code",
   "execution_count": 69,
   "metadata": {},
   "outputs": [
    {
     "name": "stdout",
     "output_type": "stream",
     "text": [
      "您輸入的本金為 1000000 元\n",
      "您輸入的年利率為 0.06\n",
      "您輸入的年數為 3 年\n",
      "單利本利和為 1180000.0 元\n"
     ]
    }
   ],
   "source": [
    "# 定義一個函式為Sum，用來計算單利本利和\n",
    "def Sum(P, r, t):\n",
    "    # 回傳單利本利和的結果，單利本利和公式：S = P * (1 + r * t)\n",
    "    return P * (1 + r * t)\n",
    "\n",
    "# 使用者輸入本金與輸出結果\n",
    "P = eval(input(\"請輸入本金，例如1萬元就輸入10000：\"))\n",
    "print(\"您輸入的本金為\", P, \"元\")\n",
    "\n",
    "# 使用者輸入年利率與輸出結果\n",
    "r = float(input(\"請輸入年利率，例如5%要輸入0.05：\"))\n",
    "print(\"您輸入的年利率為\", r)\n",
    "\n",
    "# 使用者輸入年數與輸出結果\n",
    "t = eval(input(\"請輸入年數，例如3年就輸入3：\"))\n",
    "print(\"您輸入的年數為\", t, \"年\")\n",
    "\n",
    "# 呼叫Sum函式來計算本利和\n",
    "S = Sum(P, r, t)\n",
    "\n",
    "# 顯示計算結果\n",
    "print(\"單利本利和為\", S, \"元\")"
   ]
  },
  {
   "cell_type": "code",
   "execution_count": 70,
   "metadata": {},
   "outputs": [
    {
     "name": "stdout",
     "output_type": "stream",
     "text": [
      "您輸入的本金為 1000000 元\n",
      "您輸入的年利率為 0.06\n",
      "您輸入的年數為 3 年\n",
      "複利本利和為 1191016.0 元\n"
     ]
    }
   ],
   "source": [
    "# 定義一個函式為Sum，用來計算複利本利和\n",
    "def Sum(P, r, t):\n",
    "    # 回傳複利本利和的結果，複利本利和公式：S = P * ((1 + r) ^ t)\n",
    "    return P * pow((1 + r), t)\n",
    "\n",
    "# 使用者輸入本金與輸出結果\n",
    "P = eval(input(\"請輸入本金，例如1萬元就輸入10000：\"))\n",
    "print(\"您輸入的本金為\", P, \"元\")\n",
    "\n",
    "# 使用者輸入年利率與輸出結果\n",
    "r = float(input(\"請輸入年利率，例如5%要輸入0.05：\"))\n",
    "print(\"您輸入的年利率為\", r)\n",
    "\n",
    "# 使用者輸入年數與輸出結果\n",
    "t = eval(input(\"請輸入年數，例如3年就輸入3：\"))\n",
    "print(\"您輸入的年數為\", t, \"年\")\n",
    "\n",
    "# 呼叫Sum函式來計算複利本利和\n",
    "S = Sum(P, r, t)\n",
    "\n",
    "# 顯示計算結果\n",
    "print(\"複利本利和為\", S, \"元\")"
   ]
  }
 ],
 "metadata": {
  "kernelspec": {
   "display_name": "base",
   "language": "python",
   "name": "python3"
  },
  "language_info": {
   "codemirror_mode": {
    "name": "ipython",
    "version": 3
   },
   "file_extension": ".py",
   "mimetype": "text/x-python",
   "name": "python",
   "nbconvert_exporter": "python",
   "pygments_lexer": "ipython3",
   "version": "3.12.7"
  }
 },
 "nbformat": 4,
 "nbformat_minor": 2
}
