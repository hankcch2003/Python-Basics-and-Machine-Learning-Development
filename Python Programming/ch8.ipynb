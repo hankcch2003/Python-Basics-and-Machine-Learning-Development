{
 "cells": [
  {
   "cell_type": "markdown",
   "metadata": {},
   "source": [
    "# ch8 Python 例外處理(try...except)"
   ]
  },
  {
   "cell_type": "code",
   "execution_count": 1,
   "metadata": {},
   "outputs": [
    {
     "name": "stdout",
     "output_type": "stream",
     "text": [
      "您輸入的被除數 X 為 100\n",
      "您輸入的除數 Y 為 10\n",
      "X 除以 Y 的結果等於 10.0\n"
     ]
    }
   ],
   "source": [
    "# 使用者輸入一個數字作為被除數X\n",
    "X = eval(input(\"請輸入被除數 X：\"))\n",
    "\n",
    "# 輸出使用者輸入的被除數X\n",
    "print(\"您輸入的被除數 X 為\", X)\n",
    "\n",
    "# 使用者輸入一個數字作為除數Y\n",
    "Y = eval(input(\"請輸入除數 Y：\"))\n",
    "\n",
    "# 輸出使用者輸入的除數Y\n",
    "print(\"您輸入的除數 Y 為\", Y)\n",
    "\n",
    "# 將X除以Y，並將結果存入變數Z\n",
    "Z = X / Y\n",
    "\n",
    "# 輸出X除以Y的結果\n",
    "print(\"X 除以 Y 的結果等於\", Z)"
   ]
  },
  {
   "cell_type": "code",
   "execution_count": 2,
   "metadata": {},
   "outputs": [
    {
     "name": "stdout",
     "output_type": "stream",
     "text": [
      "您輸入的被除數 X 為 100\n",
      "您輸入的除數 Y 為 10\n",
      "沒有捕捉到例外！X 除以 Y 的結果等於 10.0\n",
      "離開 try...except 區塊\n"
     ]
    }
   ],
   "source": [
    "try:\n",
    "    # 使用者輸入一個數字作為被除數X\n",
    "    X = eval(input(\"請輸入被除數 X：\"))\n",
    "\n",
    "    # 輸出使用者輸入的被除數X\n",
    "    print(\"您輸入的被除數 X 為\", X)\n",
    "    \n",
    "    # 使用者輸入一個數字作為除數Y\n",
    "    Y = eval(input(\"請輸入除數 Y：\"))\n",
    "\n",
    "    # 輸出使用者輸入的除數Y\n",
    "    print(\"您輸入的除數 Y 為\", Y)\n",
    "\n",
    "    # 將X除以Y，並將結果存入變數Z\n",
    "    Z = X / Y\n",
    "\n",
    "# 若發生除數為0的錯誤，顯示錯誤訊息\n",
    "except ZeroDivisionError:\n",
    "    print(\"\\n除數不得為 0\")\n",
    "\n",
    "# 捕捉其他所有類型的例外，並印出錯誤訊息內容\n",
    "except Exception as e1:\n",
    "    print(e1.args)\n",
    "\n",
    "# 若try區塊未發生任何例外，執行此區塊，顯示X除以Y的結果\n",
    "else:\n",
    "    print(\"沒有捕捉到例外！X 除以 Y 的結果等於\", Z)\n",
    "\n",
    "# 無論是否發生例外，最後都會執行finally區塊\n",
    "finally:\n",
    "    print(\"離開 try...except 區塊\")"
   ]
  },
  {
   "cell_type": "code",
   "execution_count": 3,
   "metadata": {},
   "outputs": [
    {
     "name": "stdout",
     "output_type": "stream",
     "text": [
      "您輸入的被除數 X 為 100\n",
      "您輸入的除數 Y 為 0\n",
      "除數不得為 0\n",
      "離開 try...except 區塊\n"
     ]
    }
   ],
   "source": [
    "try:\n",
    "    # 使用者輸入一個數字作為被除數X\n",
    "    X = eval(input(\"請輸入被除數 X：\"))\n",
    "\n",
    "    # 輸出使用者輸入的被除數X\n",
    "    print(\"您輸入的被除數 X 為\", X)\n",
    "    \n",
    "    # 使用者輸入一個數字作為除數Y\n",
    "    Y = eval(input(\"請輸入除數 Y：\"))\n",
    "\n",
    "    # 輸出使用者輸入的除數Y\n",
    "    print(\"您輸入的除數 Y 為\", Y)\n",
    "\n",
    "    # 將X除以Y，並將結果存入變數Z\n",
    "    Z = X / Y\n",
    "\n",
    "# 若發生除數為0的錯誤，顯示錯誤訊息\n",
    "except ZeroDivisionError:\n",
    "    print(\"除數不得為 0\")\n",
    "\n",
    "# 捕捉其他所有類型的例外，並印出錯誤訊息內容\n",
    "except Exception as e1:\n",
    "    print(e1.args)\n",
    "\n",
    "# 若try區塊未發生任何例外，執行此區塊，顯示X除以Y的結果\n",
    "else:\n",
    "    print(\"沒有捕捉到例外！ X 除以 Y 的結果等於\", Z)\n",
    "\n",
    "# 無論是否發生例外，最後都會執行finally區塊\n",
    "finally:\n",
    "    print(\"離開 try...except 區塊\")"
   ]
  },
  {
   "cell_type": "code",
   "execution_count": 4,
   "metadata": {},
   "outputs": [
    {
     "name": "stdout",
     "output_type": "stream",
     "text": [
      "您輸入的被除數 X 為 100\n",
      "(\"name 'a' is not defined\",)\n",
      "離開 try...except 區塊\n"
     ]
    }
   ],
   "source": [
    "try:\n",
    "    # 使用者輸入一個數字作為被除數X\n",
    "    X = eval(input(\"請輸入被除數 X：\"))\n",
    "\n",
    "    # 輸出使用者輸入的被除數X\n",
    "    print(\"您輸入的被除數 X 為\", X)\n",
    "    \n",
    "    # 使用者輸入一個數字作為除數Y\n",
    "    Y = eval(input(\"請輸入除數 Y：\"))\n",
    "\n",
    "    # 輸出使用者輸入的除數Y\n",
    "    print(\"您輸入的除數 Y 為\", Y)\n",
    "\n",
    "    # 將X除以Y，並將結果存入變數Z\n",
    "    Z = X / Y\n",
    "\n",
    "# 若發生除數為0的錯誤，顯示錯誤訊息\n",
    "except ZeroDivisionError:\n",
    "    print(\"除數不得為 0\")\n",
    "\n",
    "# 捕捉其他所有類型的例外，並印出錯誤訊息內容\n",
    "except Exception as e1:\n",
    "    print(e1.args)\n",
    "\n",
    "# 若try區塊未發生任何例外，執行此區塊，顯示X除以Y的結果\n",
    "else:\n",
    "    print(\"沒有捕捉到例外！ X 除以 Y 的結果等於\", Z)\n",
    "\n",
    "# 無論是否發生例外，最後都會執行finally區塊\n",
    "finally:\n",
    "    print(\"離開 try...except 區塊\")"
   ]
  },
  {
   "cell_type": "code",
   "execution_count": 5,
   "metadata": {},
   "outputs": [
    {
     "name": "stdout",
     "output_type": "stream",
     "text": [
      "您輸入的被除數 X 為 (100,)\n",
      "您輸入的除數 Y 為 1\n",
      "(\"unsupported operand type(s) for /: 'tuple' and 'int'\",)\n",
      "離開 try...except 區塊\n"
     ]
    }
   ],
   "source": [
    "try:\n",
    "    # 使用者輸入一個數字作為被除數X\n",
    "    X = eval(input(\"請輸入被除數 X：\"))\n",
    "\n",
    "    # 輸出使用者輸入的被除數X\n",
    "    print(\"您輸入的被除數 X 為\", X)\n",
    "    \n",
    "    # 使用者輸入一個數字作為除數Y\n",
    "    Y = eval(input(\"請輸入除數 Y：\"))\n",
    "\n",
    "    # 輸出使用者輸入的除數Y\n",
    "    print(\"您輸入的除數 Y 為\", Y)\n",
    "\n",
    "    # 將X除以Y，並將結果存入變數Z\n",
    "    Z = X / Y\n",
    "\n",
    "# 若發生除數為0的錯誤，顯示錯誤訊息\n",
    "except ZeroDivisionError:\n",
    "    print(\"除數不得為 0\")\n",
    "\n",
    "# 捕捉其他所有類型的例外，並印出錯誤訊息內容\n",
    "except Exception as e1:\n",
    "    print(e1.args)\n",
    "\n",
    "# 若try區塊未發生任何例外，執行此區塊，顯示X除以Y的結果\n",
    "else:\n",
    "    print(\"沒有捕捉到例外！ X 除以 Y 的結果等於\", Z)\n",
    "\n",
    "# 無論是否發生例外，最後都會執行finally區塊\n",
    "finally:\n",
    "    print(\"離開 try...except 區塊\")"
   ]
  },
  {
   "cell_type": "code",
   "execution_count": 6,
   "metadata": {},
   "outputs": [
    {
     "name": "stdout",
     "output_type": "stream",
     "text": [
      "捕捉到 NameError\n"
     ]
    }
   ],
   "source": [
    "try:\n",
    "    # 主動丟出一個NameError例外，並設定例外訊息為\"HiThere\"\n",
    "    raise NameError(\"HiThere\")\n",
    "\n",
    "# 捕捉NameError例外(當發生變數名稱錯誤或手動raise時會觸發)\n",
    "except NameError:\n",
    "    # 當捕捉到NameError時，輸出錯誤訊息\n",
    "    print(\"捕捉到 NameError\")"
   ]
  },
  {
   "cell_type": "code",
   "execution_count": 7,
   "metadata": {},
   "outputs": [
    {
     "name": "stdout",
     "output_type": "stream",
     "text": [
      "您輸入的檔案名稱為: po.txt\n",
      "找不到檔案！\n",
      "\n",
      "您輸入的檔案名稱為: poem.txt\n",
      "登金陵鳳凰台\n",
      "鳳凰臺上鳳凰遊，鳳去臺空江自流。\n",
      "吳宮花草埋幽徑，晉代衣冠成古邱。\n",
      "三山半落青又外，二水中分白鷺洲。\n",
      "總為浮雲能蔽日，長安不見使人愁。\n"
     ]
    }
   ],
   "source": [
    "while True:\n",
    "    try:\n",
    "        # 使用者輸入檔案名稱\n",
    "        fileName = input(\"請輸入檔案名稱：\")\n",
    "\n",
    "        # 輸出使用者輸入的檔案名稱，方便確認\n",
    "        print(\"您輸入的檔案名稱為:\", fileName)\n",
    "\n",
    "        # 以讀取模式(\"r\")開啟檔案\n",
    "        fileObject = open(fileName, \"r\")\n",
    "\n",
    "        # 如果檔案成功開啟，就跳出while迴圈\n",
    "        break\n",
    "\n",
    "    # 如果檔案不存在，捕捉FileNotFoundError並顯示找不到檔案的訊息\n",
    "    except FileNotFoundError:\n",
    "        print(\"找不到檔案！\\n\")\n",
    "\n",
    "# 讀取整個檔案內容，並儲存在content變數中\n",
    "content = fileObject.read()\n",
    "\n",
    "# 輸出檔案內容\n",
    "print(content)\n",
    "\n",
    "# 關閉檔案，釋放系統資源，確保所有資料已寫入檔案\n",
    "fileObject.close()"
   ]
  },
  {
   "cell_type": "code",
   "execution_count": 8,
   "metadata": {},
   "outputs": [
    {
     "name": "stdout",
     "output_type": "stream",
     "text": [
      "捕捉到 IOError: File not found.\n"
     ]
    }
   ],
   "source": [
    "try:\n",
    "    # 主動丟出一個IOError例外，並設定例外訊息為\"File not found.\"\n",
    "    raise IOError(\"File not found.\")\n",
    "\n",
    "# 捕捉IOError例外(當發生變數名稱錯誤或手動raise時會觸發)\n",
    "except IOError as e:\n",
    "    # 當捕捉到IOError時，輸出錯誤訊息\n",
    "    print(\"捕捉到 IOError:\", e)"
   ]
  }
 ],
 "metadata": {
  "kernelspec": {
   "display_name": "base",
   "language": "python",
   "name": "python3"
  },
  "language_info": {
   "codemirror_mode": {
    "name": "ipython",
    "version": 3
   },
   "file_extension": ".py",
   "mimetype": "text/x-python",
   "name": "python",
   "nbconvert_exporter": "python",
   "pygments_lexer": "ipython3",
   "version": "3.12.7"
  }
 },
 "nbformat": 4,
 "nbformat_minor": 2
}
