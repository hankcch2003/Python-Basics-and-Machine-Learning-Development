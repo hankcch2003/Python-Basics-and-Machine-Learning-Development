{
 "cells": [
  {
   "cell_type": "markdown",
   "metadata": {},
   "source": [
    "# ch3 Python 數值與字串處理"
   ]
  },
  {
   "cell_type": "code",
   "execution_count": 1,
   "metadata": {},
   "outputs": [
    {
     "data": {
      "text/plain": [
       "5"
      ]
     },
     "execution_count": 1,
     "metadata": {},
     "output_type": "execute_result"
    }
   ],
   "source": [
    "# 使用abs()函式傳回數值的絕對值\n",
    "abs(5)  # 傳回5"
   ]
  },
  {
   "cell_type": "code",
   "execution_count": 2,
   "metadata": {},
   "outputs": [
    {
     "data": {
      "text/plain": [
       "1.2"
      ]
     },
     "execution_count": 2,
     "metadata": {},
     "output_type": "execute_result"
    }
   ],
   "source": [
    "# 使用abs()函式傳回數值的絕對值\n",
    "abs(-1.2)  # 傳回1.2"
   ]
  },
  {
   "cell_type": "code",
   "execution_count": 3,
   "metadata": {},
   "outputs": [
    {
     "data": {
      "text/plain": [
       "1"
      ]
     },
     "execution_count": 3,
     "metadata": {},
     "output_type": "execute_result"
    }
   ],
   "source": [
    "# 使用min()函式傳回參數中的最小值\n",
    "min(5, 1)  # 傳回1"
   ]
  },
  {
   "cell_type": "code",
   "execution_count": 4,
   "metadata": {},
   "outputs": [
    {
     "data": {
      "text/plain": [
       "-5"
      ]
     },
     "execution_count": 4,
     "metadata": {},
     "output_type": "execute_result"
    }
   ],
   "source": [
    "# 使用min()函式傳回參數中的最小值\n",
    "min(-1, 3, -5, 8, 9)  # 傳回-5"
   ]
  },
  {
   "cell_type": "code",
   "execution_count": 5,
   "metadata": {},
   "outputs": [
    {
     "data": {
      "text/plain": [
       "5"
      ]
     },
     "execution_count": 5,
     "metadata": {},
     "output_type": "execute_result"
    }
   ],
   "source": [
    "# 使用max()函式傳回參數中的最大值\n",
    "max(5, 1)  # 傳回5"
   ]
  },
  {
   "cell_type": "code",
   "execution_count": 6,
   "metadata": {},
   "outputs": [
    {
     "data": {
      "text/plain": [
       "9"
      ]
     },
     "execution_count": 6,
     "metadata": {},
     "output_type": "execute_result"
    }
   ],
   "source": [
    "# 使用max()函式傳回參數中的最大值\n",
    "max(-1, 3, -5, 8, 9)  # 傳回9"
   ]
  },
  {
   "cell_type": "code",
   "execution_count": 7,
   "metadata": {},
   "outputs": [
    {
     "data": {
      "text/plain": [
       "'0xff'"
      ]
     },
     "execution_count": 7,
     "metadata": {},
     "output_type": "execute_result"
    }
   ],
   "source": [
    "# 使用hex()函式傳回整數的十六進位字串\n",
    "hex(255)  # 傳回'0xff'"
   ]
  },
  {
   "cell_type": "code",
   "execution_count": 8,
   "metadata": {},
   "outputs": [
    {
     "data": {
      "text/plain": [
       "'0x41'"
      ]
     },
     "execution_count": 8,
     "metadata": {},
     "output_type": "execute_result"
    }
   ],
   "source": [
    "# 使用hex()函式傳回整數的十六進位字串\n",
    "hex(65)  # 傳回'0x41'"
   ]
  },
  {
   "cell_type": "code",
   "execution_count": 9,
   "metadata": {},
   "outputs": [
    {
     "data": {
      "text/plain": [
       "'-0x41'"
      ]
     },
     "execution_count": 9,
     "metadata": {},
     "output_type": "execute_result"
    }
   ],
   "source": [
    "# 使用hex()函式傳回整數的十六進位字串\n",
    "hex(-65)  # 傳回'-0x41'"
   ]
  },
  {
   "cell_type": "code",
   "execution_count": 10,
   "metadata": {},
   "outputs": [
    {
     "data": {
      "text/plain": [
       "'0o101'"
      ]
     },
     "execution_count": 10,
     "metadata": {},
     "output_type": "execute_result"
    }
   ],
   "source": [
    "# 使用oct()函式傳回整數的八進位字串\n",
    "oct(65)  # 傳回'0o101'"
   ]
  },
  {
   "cell_type": "code",
   "execution_count": 11,
   "metadata": {},
   "outputs": [
    {
     "data": {
      "text/plain": [
       "'-0o101'"
      ]
     },
     "execution_count": 11,
     "metadata": {},
     "output_type": "execute_result"
    }
   ],
   "source": [
    "# 使用oct()函式傳回整數的八進位字串\n",
    "oct(-65)  # 傳回'-0o101'"
   ]
  },
  {
   "cell_type": "code",
   "execution_count": 12,
   "metadata": {},
   "outputs": [
    {
     "data": {
      "text/plain": [
       "'0b1000001'"
      ]
     },
     "execution_count": 12,
     "metadata": {},
     "output_type": "execute_result"
    }
   ],
   "source": [
    "# 使用bin()函式傳回整數的二進位字串\n",
    "bin(65)  # 傳回'0b1000001'"
   ]
  },
  {
   "cell_type": "code",
   "execution_count": 13,
   "metadata": {},
   "outputs": [
    {
     "data": {
      "text/plain": [
       "'-0b1000001'"
      ]
     },
     "execution_count": 13,
     "metadata": {},
     "output_type": "execute_result"
    }
   ],
   "source": [
    "# 使用bin()函式傳回整數的二進位字串\n",
    "bin(-65)  # 傳回'-0b1000001'"
   ]
  },
  {
   "cell_type": "code",
   "execution_count": 14,
   "metadata": {},
   "outputs": [
    {
     "data": {
      "text/plain": [
       "3"
      ]
     },
     "execution_count": 14,
     "metadata": {},
     "output_type": "execute_result"
    }
   ],
   "source": [
    "# 使用int()函式將浮點數轉為整數(去除小數點部分，向零取整)\n",
    "int(3.6)  # 傳回3"
   ]
  },
  {
   "cell_type": "code",
   "execution_count": 15,
   "metadata": {},
   "outputs": [
    {
     "data": {
      "text/plain": [
       "-3"
      ]
     },
     "execution_count": 15,
     "metadata": {},
     "output_type": "execute_result"
    }
   ],
   "source": [
    "# 使用int()函式將浮點數轉為整數(去除小數點部分，向零取整)\n",
    "int(-3.6)  # 傳回-3"
   ]
  },
  {
   "cell_type": "code",
   "execution_count": 16,
   "metadata": {},
   "outputs": [
    {
     "data": {
      "text/plain": [
       "4"
      ]
     },
     "execution_count": 16,
     "metadata": {},
     "output_type": "execute_result"
    }
   ],
   "source": [
    "# 使用round()函式將數值四捨五入到最接近的整數\n",
    "round(3.6)  # 傳回4"
   ]
  },
  {
   "cell_type": "code",
   "execution_count": 17,
   "metadata": {},
   "outputs": [
    {
     "data": {
      "text/plain": [
       "-4"
      ]
     },
     "execution_count": 17,
     "metadata": {},
     "output_type": "execute_result"
    }
   ],
   "source": [
    "# 使用round()函式將數值四捨五入到最接近的整數\n",
    "round(-3.6)  # 傳回-4"
   ]
  },
  {
   "cell_type": "code",
   "execution_count": 18,
   "metadata": {},
   "outputs": [
    {
     "data": {
      "text/plain": [
       "2.68"
      ]
     },
     "execution_count": 18,
     "metadata": {},
     "output_type": "execute_result"
    }
   ],
   "source": [
    "# round()函式可將數字四捨五入到指定的小數位數，例如到小數點後2位\n",
    "round(2.678, 2)  # 傳回2.68"
   ]
  },
  {
   "cell_type": "code",
   "execution_count": 19,
   "metadata": {},
   "outputs": [
    {
     "data": {
      "text/plain": [
       "1024"
      ]
     },
     "execution_count": 19,
     "metadata": {},
     "output_type": "execute_result"
    }
   ],
   "source": [
    "# 使用pow()函式計算數字的次方\n",
    "pow(2, 10)  # 傳回2的10次方，結果為1024"
   ]
  },
  {
   "cell_type": "code",
   "execution_count": 20,
   "metadata": {},
   "outputs": [
    {
     "data": {
      "text/plain": [
       "1.23"
      ]
     },
     "execution_count": 20,
     "metadata": {},
     "output_type": "execute_result"
    }
   ],
   "source": [
    "# 使用float()函式將字串轉為浮點數\n",
    "float(\"1.23\")  # 傳回1.23"
   ]
  },
  {
   "cell_type": "code",
   "execution_count": 21,
   "metadata": {},
   "outputs": [
    {
     "data": {
      "text/plain": [
       "(1+2j)"
      ]
     },
     "execution_count": 21,
     "metadata": {},
     "output_type": "execute_result"
    }
   ],
   "source": [
    "# 使用complex()函式將字串轉為複數\n",
    "complex(\"1+2j\")  # 傳回(1+2j)"
   ]
  },
  {
   "cell_type": "code",
   "execution_count": 22,
   "metadata": {},
   "outputs": [
    {
     "data": {
      "text/plain": [
       "3.141592653589793"
      ]
     },
     "execution_count": 22,
     "metadata": {},
     "output_type": "execute_result"
    }
   ],
   "source": [
    "# 匯入math模組，以便使用各種數學函式與常數\n",
    "import math\n",
    "\n",
    "# 使用math.pi屬性取得圓周率常數(近似值為3.14159)\n",
    "math.pi  # 傳回3.141592653589793"
   ]
  },
  {
   "cell_type": "code",
   "execution_count": 23,
   "metadata": {},
   "outputs": [
    {
     "data": {
      "text/plain": [
       "2.718281828459045"
      ]
     },
     "execution_count": 23,
     "metadata": {},
     "output_type": "execute_result"
    }
   ],
   "source": [
    "# 使用math.e屬性取得自然對數常數(近似值為2.71828)\n",
    "math.e  # 傳回2.718281828459045"
   ]
  },
  {
   "cell_type": "code",
   "execution_count": 24,
   "metadata": {},
   "outputs": [
    {
     "data": {
      "text/plain": [
       "10"
      ]
     },
     "execution_count": 24,
     "metadata": {},
     "output_type": "execute_result"
    }
   ],
   "source": [
    "# 使用math.ceil()函式將數值無條件進位(取最小的整數 ≥ 該數值)\n",
    "math.ceil(9.999)  # 傳回10"
   ]
  },
  {
   "cell_type": "code",
   "execution_count": 25,
   "metadata": {},
   "outputs": [
    {
     "data": {
      "text/plain": [
       "-9"
      ]
     },
     "execution_count": 25,
     "metadata": {},
     "output_type": "execute_result"
    }
   ],
   "source": [
    "# 使用math.ceil()函式將數值無條件進位(取最小的整數 ≥ 該數值)\n",
    "math.ceil(-9.999)  # 傳回-9"
   ]
  },
  {
   "cell_type": "code",
   "execution_count": 26,
   "metadata": {},
   "outputs": [
    {
     "data": {
      "text/plain": [
       "5.0"
      ]
     },
     "execution_count": 26,
     "metadata": {},
     "output_type": "execute_result"
    }
   ],
   "source": [
    "# 使用math.fabs()函式傳回數值的絕對值(結果為浮點數格式)\n",
    "math.fabs(-5)  # 傳回5.0"
   ]
  },
  {
   "cell_type": "code",
   "execution_count": 27,
   "metadata": {},
   "outputs": [
    {
     "data": {
      "text/plain": [
       "120"
      ]
     },
     "execution_count": 27,
     "metadata": {},
     "output_type": "execute_result"
    }
   ],
   "source": [
    "# 使用math.factorial()函式傳回正整數的階乘值\n",
    "math.factorial(5)  # 傳回120"
   ]
  },
  {
   "cell_type": "code",
   "execution_count": 28,
   "metadata": {},
   "outputs": [
    {
     "data": {
      "text/plain": [
       "4"
      ]
     },
     "execution_count": 28,
     "metadata": {},
     "output_type": "execute_result"
    }
   ],
   "source": [
    "# 使用math.floor()函式將數值向下取整(取最接近且小於等於的整數)\n",
    "math.floor(4.3)  # 傳回4"
   ]
  },
  {
   "cell_type": "code",
   "execution_count": 29,
   "metadata": {},
   "outputs": [
    {
     "data": {
      "text/plain": [
       "-5"
      ]
     },
     "execution_count": 29,
     "metadata": {},
     "output_type": "execute_result"
    }
   ],
   "source": [
    "# 使用math.floor()函式將數值向下取整(取最接近且小於等於的整數)\n",
    "math.floor(-4.3)  # 傳回-5"
   ]
  },
  {
   "cell_type": "code",
   "execution_count": 30,
   "metadata": {},
   "outputs": [
    {
     "data": {
      "text/plain": [
       "5"
      ]
     },
     "execution_count": 30,
     "metadata": {},
     "output_type": "execute_result"
    }
   ],
   "source": [
    "# 使用math.gcd()函式傳回兩個數字的最大公因數\n",
    "math.gcd(25, 155)  # 傳回5"
   ]
  },
  {
   "cell_type": "code",
   "execution_count": 31,
   "metadata": {},
   "outputs": [
    {
     "data": {
      "text/plain": [
       "775"
      ]
     },
     "execution_count": 31,
     "metadata": {},
     "output_type": "execute_result"
    }
   ],
   "source": [
    "# 使用math.lcm()函式傳回兩個數字的最小公倍數\n",
    "math.lcm(25, 155)  # 傳回775"
   ]
  },
  {
   "cell_type": "code",
   "execution_count": 32,
   "metadata": {},
   "outputs": [
    {
     "data": {
      "text/plain": [
       "7.38905609893065"
      ]
     },
     "execution_count": 32,
     "metadata": {},
     "output_type": "execute_result"
    }
   ],
   "source": [
    "# 使用math.exp()函式傳回e的x次方\n",
    "math.exp(2)  # 傳回7.38905609893065"
   ]
  },
  {
   "cell_type": "code",
   "execution_count": 33,
   "metadata": {},
   "outputs": [
    {
     "data": {
      "text/plain": [
       "0.6931471805599453"
      ]
     },
     "execution_count": 33,
     "metadata": {},
     "output_type": "execute_result"
    }
   ],
   "source": [
    "# 使用math.log()函式傳回數值的自然對數(以e為底)\n",
    "math.log(2)  # 傳回0.6931471805599453"
   ]
  },
  {
   "cell_type": "code",
   "execution_count": 34,
   "metadata": {},
   "outputs": [
    {
     "data": {
      "text/plain": [
       "1.0"
      ]
     },
     "execution_count": 34,
     "metadata": {},
     "output_type": "execute_result"
    }
   ],
   "source": [
    "# 使用math.log(x, base)函式傳回x以base為底的對數(例如以2為底)\n",
    "math.log(2, 2)  # 傳回1.0"
   ]
  },
  {
   "cell_type": "code",
   "execution_count": 35,
   "metadata": {},
   "outputs": [
    {
     "data": {
      "text/plain": [
       "1.4142135623730951"
      ]
     },
     "execution_count": 35,
     "metadata": {},
     "output_type": "execute_result"
    }
   ],
   "source": [
    "# 使用math.sqrt()函式傳回數值的平方根\n",
    "math.sqrt(2)  # 傳回1.4142135623730951"
   ]
  },
  {
   "cell_type": "code",
   "execution_count": 36,
   "metadata": {},
   "outputs": [
    {
     "data": {
      "text/plain": [
       "True"
      ]
     },
     "execution_count": 36,
     "metadata": {},
     "output_type": "execute_result"
    }
   ],
   "source": [
    "# 使用math.isfinite()函式判斷數值是否為有限數(非無限大或非NaN)，若是則傳回True，否則傳回False\n",
    "math.isfinite(1000000)  # 傳回True"
   ]
  },
  {
   "cell_type": "code",
   "execution_count": 37,
   "metadata": {},
   "outputs": [
    {
     "data": {
      "text/plain": [
       "True"
      ]
     },
     "execution_count": 37,
     "metadata": {},
     "output_type": "execute_result"
    }
   ],
   "source": [
    "# 使用math.isinf()函式判斷數值是否為正或負無窮大，若是則傳回True，否則傳回False\n",
    "math.isinf(-math.inf)  # 傳回True"
   ]
  },
  {
   "cell_type": "code",
   "execution_count": 38,
   "metadata": {},
   "outputs": [
    {
     "data": {
      "text/plain": [
       "True"
      ]
     },
     "execution_count": 38,
     "metadata": {},
     "output_type": "execute_result"
    }
   ],
   "source": [
    "# 使用math.isnan()函式判斷數值是否為NaN(非數值)，若是則傳回True，否則傳回False\n",
    "math.isnan(math.nan)  # 傳回True"
   ]
  },
  {
   "cell_type": "code",
   "execution_count": 39,
   "metadata": {},
   "outputs": [
    {
     "data": {
      "text/plain": [
       "0.7853981633974483"
      ]
     },
     "execution_count": 39,
     "metadata": {},
     "output_type": "execute_result"
    }
   ],
   "source": [
    "# 使用math.radians()函式將角度轉換為弧度\n",
    "math.radians(45)  # 傳回0.7853981633974483"
   ]
  },
  {
   "cell_type": "code",
   "execution_count": 40,
   "metadata": {},
   "outputs": [
    {
     "data": {
      "text/plain": [
       "45.0"
      ]
     },
     "execution_count": 40,
     "metadata": {},
     "output_type": "execute_result"
    }
   ],
   "source": [
    "# 使用math.degrees()函式將弧度轉換為角度\n",
    "math.degrees(0.7853981633974483)  # 傳回45.0"
   ]
  },
  {
   "cell_type": "code",
   "execution_count": 41,
   "metadata": {},
   "outputs": [
    {
     "data": {
      "text/plain": [
       "0.49999999999999994"
      ]
     },
     "execution_count": 41,
     "metadata": {},
     "output_type": "execute_result"
    }
   ],
   "source": [
    "# 使用math.sin()函式計算弧度的正弦值(將角度轉換為弧度後計算)\n",
    "math.sin(30 * math.pi / 180)  # 傳回0.49999999999999994"
   ]
  },
  {
   "cell_type": "code",
   "execution_count": 42,
   "metadata": {},
   "outputs": [
    {
     "data": {
      "text/plain": [
       "0.49999999999999994"
      ]
     },
     "execution_count": 42,
     "metadata": {},
     "output_type": "execute_result"
    }
   ],
   "source": [
    "# 使用math.radians()函式將角度轉換為弧度，再用math.sin()函式計算該弧度的正弦值\n",
    "math.sin(math.radians(30))  # 先將30度轉為弧度，再計算正弦值，傳回0.49999999999999994"
   ]
  },
  {
   "cell_type": "code",
   "execution_count": 43,
   "metadata": {},
   "outputs": [
    {
     "data": {
      "text/plain": [
       "0.8660254037844387"
      ]
     },
     "execution_count": 43,
     "metadata": {},
     "output_type": "execute_result"
    }
   ],
   "source": [
    "# 使用math.cos()函式計算弧度的餘弦值(將角度轉換為弧度後計算)\n",
    "math.cos(30 * math.pi / 180)  # 傳回0.8660254037844387"
   ]
  },
  {
   "cell_type": "code",
   "execution_count": 44,
   "metadata": {},
   "outputs": [
    {
     "data": {
      "text/plain": [
       "0.8660254037844387"
      ]
     },
     "execution_count": 44,
     "metadata": {},
     "output_type": "execute_result"
    }
   ],
   "source": [
    "# 使用math.radians()函式將角度轉換為弧度，再用math.cos()函式計算該弧度的餘弦值\n",
    "math.cos(math.radians(30))  # 先將30度轉為弧度，再計算餘弦值，傳回0.8660254037844387"
   ]
  },
  {
   "cell_type": "code",
   "execution_count": 45,
   "metadata": {},
   "outputs": [
    {
     "data": {
      "text/plain": [
       "1.5707963267948966"
      ]
     },
     "execution_count": 45,
     "metadata": {},
     "output_type": "execute_result"
    }
   ],
   "source": [
    "# 使用math.radians()函式將角度轉換為弧度\n",
    "math.radians(90)  # 傳回1.5707963267948966"
   ]
  },
  {
   "cell_type": "code",
   "execution_count": 46,
   "metadata": {},
   "outputs": [
    {
     "data": {
      "text/plain": [
       "77"
      ]
     },
     "execution_count": 46,
     "metadata": {},
     "output_type": "execute_result"
    }
   ],
   "source": [
    "# 使用max()函式傳回參數中的最大值\n",
    "max(10, 8, -9, -100, 77, 50, 28)  # 傳回77"
   ]
  },
  {
   "cell_type": "code",
   "execution_count": 47,
   "metadata": {},
   "outputs": [
    {
     "data": {
      "text/plain": [
       "-100"
      ]
     },
     "execution_count": 47,
     "metadata": {},
     "output_type": "execute_result"
    }
   ],
   "source": [
    "# 使用min()函式傳回參數中的最小值\n",
    "min(10, 8, -9, -100, 77, 50, 28)  # 傳回-100"
   ]
  },
  {
   "cell_type": "code",
   "execution_count": 48,
   "metadata": {},
   "outputs": [
    {
     "data": {
      "text/plain": [
       "314.1592653589793"
      ]
     },
     "execution_count": 48,
     "metadata": {},
     "output_type": "execute_result"
    }
   ],
   "source": [
    "# 使用math.pi方法取得圓周率常數(近似值為3.14159)\n",
    "# 圓面積計算公式：半徑的平方 × π(半徑為10)\n",
    "\n",
    "10 * 10 * math.pi  # 傳回半徑為10的圓面積，結果為314.1592653589793"
   ]
  },
  {
   "cell_type": "code",
   "execution_count": 49,
   "metadata": {},
   "outputs": [
    {
     "data": {
      "text/plain": [
       "0.5000000000000001"
      ]
     },
     "execution_count": 49,
     "metadata": {},
     "output_type": "execute_result"
    }
   ],
   "source": [
    "# 使用math.radians()函式將角度轉換為弧度，再用math.cos()函式計算該弧度的餘弦值\n",
    "math.cos(math.radians(60))  # 先將60度轉為弧度，再計算餘弦值，傳回0.5000000000000001"
   ]
  },
  {
   "cell_type": "code",
   "execution_count": 50,
   "metadata": {},
   "outputs": [
    {
     "data": {
      "text/plain": [
       "1.4142135623730951"
      ]
     },
     "execution_count": 50,
     "metadata": {},
     "output_type": "execute_result"
    }
   ],
   "source": [
    "# 使用math.sqrt()函式傳回數值的平方根\n",
    "math.sqrt(2)  # 傳回2.6457513110645907"
   ]
  },
  {
   "cell_type": "code",
   "execution_count": 51,
   "metadata": {},
   "outputs": [
    {
     "data": {
      "text/plain": [
       "11"
      ]
     },
     "execution_count": 51,
     "metadata": {},
     "output_type": "execute_result"
    }
   ],
   "source": [
    "# 使用math.gcd()函式傳回兩個數字的最大公因數\n",
    "math.gcd(616, 1331)  # 傳回11"
   ]
  },
  {
   "cell_type": "code",
   "execution_count": 52,
   "metadata": {},
   "outputs": [
    {
     "data": {
      "text/plain": [
       "125"
      ]
     },
     "execution_count": 52,
     "metadata": {},
     "output_type": "execute_result"
    }
   ],
   "source": [
    "# 使用math.gcd()函式傳回兩個數字的最大公因數\n",
    "math.gcd(375, 625)  # 傳回125"
   ]
  },
  {
   "cell_type": "code",
   "execution_count": 53,
   "metadata": {},
   "outputs": [
    {
     "data": {
      "text/plain": [
       "1875"
      ]
     },
     "execution_count": 53,
     "metadata": {},
     "output_type": "execute_result"
    }
   ],
   "source": [
    "# 使用math.lcm()函式傳回兩個數字的最小公倍數\n",
    "math.lcm(375, 625)  # 傳回1875"
   ]
  },
  {
   "cell_type": "code",
   "execution_count": 54,
   "metadata": {},
   "outputs": [
    {
     "name": "stdout",
     "output_type": "stream",
     "text": [
      "pow(10, 2 * x + 3 * y + 1)的計算結果為 1079.9999999999993\n"
     ]
    }
   ],
   "source": [
    "# 匯入math模組，才能使用數學相關的常數與函式\n",
    "import math\n",
    "\n",
    "# 使用math.log(x, base)函式傳回x以base為底的對數(例如以10為底)\n",
    "x = math.log(2, 10)  # 以10為底，計算2的對數\n",
    "y = math.log(3, 10)  # 以10為底，計算3的對數\n",
    "\n",
    "# 使用pow()函式計算10的(2x + 3y + 1)次方，並將結果儲存在變數result中\n",
    "result = pow(10, 2 * x + 3 * y + 1)\n",
    "\n",
    "# 輸出計算結果\n",
    "print(\"pow(10, 2 * x + 3 * y + 1)的計算結果為\", result)"
   ]
  },
  {
   "cell_type": "code",
   "execution_count": 55,
   "metadata": {},
   "outputs": [
    {
     "data": {
      "text/plain": [
       "1"
      ]
     },
     "execution_count": 55,
     "metadata": {},
     "output_type": "execute_result"
    }
   ],
   "source": [
    "# 匯入random模組，用於產生隨機數、隨機選取、亂數排列等功能\n",
    "import random\n",
    "\n",
    "# 使用random.randint()函式產生指定範圍內的隨機整數\n",
    "random.randint(1, 10)  # 產生1到10(含)之間的隨機整數"
   ]
  },
  {
   "cell_type": "code",
   "execution_count": 56,
   "metadata": {},
   "outputs": [
    {
     "data": {
      "text/plain": [
       "0.0872848928606379"
      ]
     },
     "execution_count": 56,
     "metadata": {},
     "output_type": "execute_result"
    }
   ],
   "source": [
    "# 使用random.random()函式產生0.0到1.0之間的隨機浮點數\n",
    "random.random()"
   ]
  },
  {
   "cell_type": "code",
   "execution_count": 57,
   "metadata": {},
   "outputs": [
    {
     "name": "stdout",
     "output_type": "stream",
     "text": [
      "[3, 2, 5, 4, 1]\n"
     ]
    },
    {
     "data": {
      "text/plain": [
       "4"
      ]
     },
     "execution_count": 57,
     "metadata": {},
     "output_type": "execute_result"
    }
   ],
   "source": [
    "L = [1, 2, 3, 4, 5]  # 建立一個包含數字1到5的串列\n",
    "random.shuffle(L)    # 使用random.shuffle()函式將變數L中的元素隨機重排\n",
    "print(L)             # 輸出變數L隨機重排後的結果\n",
    "random.choice(L)     # 使用random.choice()函式從變數L中隨機選擇一個元素"
   ]
  },
  {
   "cell_type": "code",
   "execution_count": 58,
   "metadata": {},
   "outputs": [
    {
     "name": "stdout",
     "output_type": "stream",
     "text": [
      "2 == 2 is True\n"
     ]
    }
   ],
   "source": [
    "# 匯入random模組，用於產生隨機數、隨機選取、亂數排列等功能\n",
    "import random\n",
    "\n",
    "# 使用random.randint()函式隨機產生一個介於1到3(含)之間的整數，並將結果指派給變數num\n",
    "num = random.randint(1, 3)\n",
    "\n",
    "# 使用eval()函式提示使用者輸入1~3之間的一個數字，並將其轉換為數值後儲存在變數answer中\n",
    "answer = eval(input(\"請猜數字1~3：\"))\n",
    "\n",
    "# 輸出兩者比較的結果，True表示猜中了，False表示猜錯了\n",
    "print(num, \"==\", answer, \"is\", num == answer)"
   ]
  },
  {
   "cell_type": "code",
   "execution_count": 59,
   "metadata": {},
   "outputs": [
    {
     "name": "stdout",
     "output_type": "stream",
     "text": [
      "邊長 1 的正六邊形面積為 2.598076211353316\n"
     ]
    }
   ],
   "source": [
    "# 匯入math模組，才能使用數學相關的常數與函式\n",
    "import math\n",
    "\n",
    "# 使用eval()函式提示使用者輸入正六邊形的邊長，並將其轉換成數值後儲存在變數s中\n",
    "s = eval(input(\"請輸入正六邊形的邊長：\"))\n",
    "\n",
    "# 使用正六邊形面積公式計算面積(正六邊形面積公式：(6 * s²) / (4 * tan(π/6)))，並將結果儲存在變數area中\n",
    "area = 6 * s * s / (4 * math.tan(math.pi / 6))\n",
    "\n",
    "# 輸出計算結果，顯示邊長為s的正六邊形面積\n",
    "print(\"邊長\", s, \"的正六邊形面積為\", area)"
   ]
  },
  {
   "cell_type": "code",
   "execution_count": 60,
   "metadata": {},
   "outputs": [
    {
     "name": "stdout",
     "output_type": "stream",
     "text": [
      "['watermelon', 'apple', 'orange']\n"
     ]
    }
   ],
   "source": [
    "# 建立一個包含水果名稱的串列mylist\n",
    "mylist = [\"apple\", \"orange\", \"watermelon\"]\n",
    "\n",
    "# 使用random.shuffle()函式將串列mylist中的元素隨機重排\n",
    "random.shuffle(mylist)\n",
    "\n",
    "# 輸出串列mylist隨機重排後的結果\n",
    "print(mylist)"
   ]
  },
  {
   "cell_type": "code",
   "execution_count": 61,
   "metadata": {},
   "outputs": [
    {
     "name": "stdout",
     "output_type": "stream",
     "text": [
      "\"Python\"程式設計\n"
     ]
    }
   ],
   "source": [
    "# 使用反斜線(\\)跳脫雙引號，讓字串中能正確顯示雙引號\n",
    "print(\"\\\"Python\\\"程式設計\")  # 輸出\"Python\"程式設計"
   ]
  },
  {
   "cell_type": "code",
   "execution_count": 62,
   "metadata": {},
   "outputs": [
    {
     "name": "stdout",
     "output_type": "stream",
     "text": [
      "A\n"
     ]
    }
   ],
   "source": [
    "# 使用八進位編碼\\101表示字元A(八進位101等於十進位65)\n",
    "print(\"\\101\")  # 輸出A"
   ]
  },
  {
   "cell_type": "code",
   "execution_count": 63,
   "metadata": {},
   "outputs": [
    {
     "name": "stdout",
     "output_type": "stream",
     "text": [
      "A\n"
     ]
    }
   ],
   "source": [
    "# 使用十六進位編碼\\x41表示字元A(十六進位41等於十進位65)\n",
    "print(\"\\x41\")  # 輸出A"
   ]
  },
  {
   "cell_type": "code",
   "execution_count": 64,
   "metadata": {},
   "outputs": [
    {
     "name": "stdout",
     "output_type": "stream",
     "text": [
      "A\n"
     ]
    }
   ],
   "source": [
    "# 使用Unicode編碼\\u0041表示字元A(Unicode編碼0041對應十進位65)\n",
    "print(\"\\u0041\")  # 輸出A"
   ]
  },
  {
   "cell_type": "code",
   "execution_count": 65,
   "metadata": {},
   "outputs": [
    {
     "name": "stdout",
     "output_type": "stream",
     "text": [
      "♠\n"
     ]
    }
   ],
   "source": [
    "# 使用Unicode字元名稱\\N{...}輸出特殊符號\n",
    "print(\"\\N{BLACK SPADE SUIT}\")  # 輸出♠(黑桃符號)"
   ]
  },
  {
   "cell_type": "code",
   "execution_count": 66,
   "metadata": {},
   "outputs": [
    {
     "data": {
      "text/plain": [
       "65"
      ]
     },
     "execution_count": 66,
     "metadata": {},
     "output_type": "execute_result"
    }
   ],
   "source": [
    "# 使用ord()函式傳回字元'A'的Unicode編碼(十進位數字)\n",
    "ord('A')  # 傳回65"
   ]
  },
  {
   "cell_type": "code",
   "execution_count": 67,
   "metadata": {},
   "outputs": [
    {
     "data": {
      "text/plain": [
       "8364"
      ]
     },
     "execution_count": 67,
     "metadata": {},
     "output_type": "execute_result"
    }
   ],
   "source": [
    "# 使用ord()函式傳回字元'€'的Unicode編碼(十進位數字)\n",
    "ord('€')  # 傳回8364"
   ]
  },
  {
   "cell_type": "code",
   "execution_count": 68,
   "metadata": {},
   "outputs": [
    {
     "data": {
      "text/plain": [
       "'A'"
      ]
     },
     "execution_count": 68,
     "metadata": {},
     "output_type": "execute_result"
    }
   ],
   "source": [
    "# 使用chr()函式傳回Unicode編碼65對應的字元\n",
    "chr(65)  # 傳回'A'"
   ]
  },
  {
   "cell_type": "code",
   "execution_count": 69,
   "metadata": {},
   "outputs": [
    {
     "data": {
      "text/plain": [
       "'€'"
      ]
     },
     "execution_count": 69,
     "metadata": {},
     "output_type": "execute_result"
    }
   ],
   "source": [
    "# 使用chr()函式傳回Unicode編碼8364對應的字元(歐元符號)\n",
    "chr(8364)  # 傳回'€'"
   ]
  },
  {
   "cell_type": "code",
   "execution_count": 70,
   "metadata": {},
   "outputs": [
    {
     "data": {
      "text/plain": [
       "10"
      ]
     },
     "execution_count": 70,
     "metadata": {},
     "output_type": "execute_result"
    }
   ],
   "source": [
    "# 使用len()函式傳回字串\"Python程式設計\"的長度(包含英文與中文字元)\n",
    "len(\"Python程式設計\")  # 傳回10"
   ]
  },
  {
   "cell_type": "code",
   "execution_count": 71,
   "metadata": {},
   "outputs": [
    {
     "data": {
      "text/plain": [
       "'y'"
      ]
     },
     "execution_count": 71,
     "metadata": {},
     "output_type": "execute_result"
    }
   ],
   "source": [
    "# 使用max()函式傳回字串\"Python3\"中字元的最大值(依Unicode編碼比較)\n",
    "max(\"Python3\")  # 傳回'y'"
   ]
  },
  {
   "cell_type": "code",
   "execution_count": 72,
   "metadata": {},
   "outputs": [
    {
     "data": {
      "text/plain": [
       "'3'"
      ]
     },
     "execution_count": 72,
     "metadata": {},
     "output_type": "execute_result"
    }
   ],
   "source": [
    "# 使用min()函式傳回字串\"Python3\"中字元的最小值(依Unicode編碼比較)\n",
    "min(\"Python3\")  # 傳回'3'"
   ]
  },
  {
   "cell_type": "code",
   "execution_count": 73,
   "metadata": {},
   "outputs": [
    {
     "data": {
      "text/plain": [
       "'-123.8'"
      ]
     },
     "execution_count": 73,
     "metadata": {},
     "output_type": "execute_result"
    }
   ],
   "source": [
    "# 使用str()函式將數字-123.8轉換成字串\n",
    "str(-123.8)  # 傳回字串'-123.8'"
   ]
  },
  {
   "cell_type": "code",
   "execution_count": 74,
   "metadata": {},
   "outputs": [
    {
     "data": {
      "text/plain": [
       "'HappyBirthdayTo小美'"
      ]
     },
     "execution_count": 74,
     "metadata": {},
     "output_type": "execute_result"
    }
   ],
   "source": [
    "# 使用字串串接(+)將多個字串合併成一個字串\n",
    "\"Happy\" + \"Birthday\" + \"To\" + \"小美\"  # 傳回'HappyBirthdayTo小美'"
   ]
  },
  {
   "cell_type": "code",
   "execution_count": 75,
   "metadata": {},
   "outputs": [
    {
     "data": {
      "text/plain": [
       "'Oh!Oh!Oh!'"
      ]
     },
     "execution_count": 75,
     "metadata": {},
     "output_type": "execute_result"
    }
   ],
   "source": [
    "# 使用字串乘法(*)將字串\"Oh!\"重複三次\n",
    "3 * \"Oh!\"  # 傳回'Oh!Oh!Oh!'"
   ]
  },
  {
   "cell_type": "code",
   "execution_count": 76,
   "metadata": {},
   "outputs": [
    {
     "data": {
      "text/plain": [
       "'Oh!Oh!Oh!'"
      ]
     },
     "execution_count": 76,
     "metadata": {},
     "output_type": "execute_result"
    }
   ],
   "source": [
    "# 使用字串乘法(*)將字串\"Oh!\"重複三次\n",
    "\"Oh!\" * 3  # 傳回'Oh!Oh!Oh!'"
   ]
  },
  {
   "cell_type": "code",
   "execution_count": 77,
   "metadata": {},
   "outputs": [
    {
     "data": {
      "text/plain": [
       "True"
      ]
     },
     "execution_count": 77,
     "metadata": {},
     "output_type": "execute_result"
    }
   ],
   "source": [
    "# 比較字元'我'與'A'的Unicode編碼大小，若是則傳回True，否則傳回False\n",
    "'我' > 'A'  # 傳回True，因為'我'的Unicode編碼比'A'大"
   ]
  },
  {
   "cell_type": "code",
   "execution_count": 78,
   "metadata": {},
   "outputs": [
    {
     "data": {
      "text/plain": [
       "False"
      ]
     },
     "execution_count": 78,
     "metadata": {},
     "output_type": "execute_result"
    }
   ],
   "source": [
    "# 比較字元'1'與'A'的Unicode編碼大小，若是則傳回True，否則傳回False\n",
    "'1' > 'A'  # 傳回False，因為'1'的Unicode編碼比'A'小"
   ]
  },
  {
   "cell_type": "code",
   "execution_count": 79,
   "metadata": {},
   "outputs": [
    {
     "data": {
      "text/plain": [
       "False"
      ]
     },
     "execution_count": 79,
     "metadata": {},
     "output_type": "execute_result"
    }
   ],
   "source": [
    "# 比較字串\"abc\"與\"ABC\"是否相等(區分大小寫)，若是則傳回True，否則傳回False\n",
    "\"abc\" == \"ABC\"  # 傳回False，因為字母大小寫不同"
   ]
  },
  {
   "cell_type": "code",
   "execution_count": 80,
   "metadata": {},
   "outputs": [
    {
     "data": {
      "text/plain": [
       "False"
      ]
     },
     "execution_count": 80,
     "metadata": {},
     "output_type": "execute_result"
    }
   ],
   "source": [
    "# 比較字串\"ABCD\"與\"ABCd\"的大小(依Unicode編碼逐字元比較)，若是則傳回True，否則傳回False\n",
    "\"ABCD\" > \"ABCd\"  # 傳回False，因為'D'的編碼比'd'小"
   ]
  },
  {
   "cell_type": "code",
   "execution_count": 81,
   "metadata": {},
   "outputs": [
    {
     "data": {
      "text/plain": [
       "True"
      ]
     },
     "execution_count": 81,
     "metadata": {},
     "output_type": "execute_result"
    }
   ],
   "source": [
    "# 使用in運算子判斷字串\"or\"是否包含在字串\"forever\"中，若是則傳回True，否則傳回False\n",
    "\"or\" in \"forever\"  # 傳回True，因為\"forever\"包含子字串\"or\""
   ]
  },
  {
   "cell_type": "code",
   "execution_count": 82,
   "metadata": {},
   "outputs": [
    {
     "data": {
      "text/plain": [
       "False"
      ]
     },
     "execution_count": 82,
     "metadata": {},
     "output_type": "execute_result"
    }
   ],
   "source": [
    "# 使用in運算子判斷字串\"over\"是否包含在字串\"forever\"中，若是則傳回True，否則傳回False\n",
    "\"over\" in \"forever\"  # 傳回False，因為\"forever\"不包含子字串\"over\""
   ]
  },
  {
   "cell_type": "code",
   "execution_count": 83,
   "metadata": {},
   "outputs": [
    {
     "data": {
      "text/plain": [
       "False"
      ]
     },
     "execution_count": 83,
     "metadata": {},
     "output_type": "execute_result"
    }
   ],
   "source": [
    "# 使用not in運算子判斷字串\"or\"是否不包含在字串\"forever\"中，若是則傳回True，否則傳回False\n",
    "\"or\" not in \"forever\"  # 傳回False，因為\"forever\"包含子字串\"or\""
   ]
  },
  {
   "cell_type": "code",
   "execution_count": 84,
   "metadata": {},
   "outputs": [
    {
     "data": {
      "text/plain": [
       "True"
      ]
     },
     "execution_count": 84,
     "metadata": {},
     "output_type": "execute_result"
    }
   ],
   "source": [
    "# 使用not in運算子判斷字串\"over\"是否不包含在字串\"forever\"中，若是則傳回True，否則傳回False\n",
    "\"over\" not in \"forever\"  # 傳回True，因為\"forever\"不包含子字串\"over\""
   ]
  },
  {
   "cell_type": "code",
   "execution_count": 85,
   "metadata": {},
   "outputs": [
    {
     "data": {
      "text/plain": [
       "'tho'"
      ]
     },
     "execution_count": 85,
     "metadata": {},
     "output_type": "execute_result"
    }
   ],
   "source": [
    "# 定義字串s，內容包含英文與中文字元\n",
    "s = \"Python程式設計\"\n",
    "\n",
    "# 取得字串s中索引值2到4的字元(包含索引2，但不包含索引5)\n",
    "s[2:5]  # 傳回'tho'"
   ]
  },
  {
   "cell_type": "code",
   "execution_count": 86,
   "metadata": {},
   "outputs": [
    {
     "data": {
      "text/plain": [
       "'hon程'"
      ]
     },
     "execution_count": 86,
     "metadata": {},
     "output_type": "execute_result"
    }
   ],
   "source": [
    "# 取得字串s中索引值3到6的字元(包含索引3，但不包含索引7)\n",
    "s[3:7]  # 傳回'hon程'"
   ]
  },
  {
   "cell_type": "code",
   "execution_count": 87,
   "metadata": {},
   "outputs": [
    {
     "data": {
      "text/plain": [
       "'程式設'"
      ]
     },
     "execution_count": 87,
     "metadata": {},
     "output_type": "execute_result"
    }
   ],
   "source": [
    "# 取得字串s中索引值6到-2的字元(包含索引6，但不包含索引-1)\n",
    "s[6:-1]  # 傳回'式設'"
   ]
  },
  {
   "cell_type": "code",
   "execution_count": 88,
   "metadata": {},
   "outputs": [
    {
     "data": {
      "text/plain": [
       "'Py'"
      ]
     },
     "execution_count": 88,
     "metadata": {},
     "output_type": "execute_result"
    }
   ],
   "source": [
    "# 定義一個字串s，內容包含英文與中文字元\n",
    "s = \"Python程式設計\"\n",
    "\n",
    "# 取得字串s中索引值0到1的字元(包含索引0，但不包含索引2)\n",
    "s[:2]  # 傳回'Py'"
   ]
  },
  {
   "cell_type": "code",
   "execution_count": 89,
   "metadata": {},
   "outputs": [
    {
     "data": {
      "text/plain": [
       "'thon程式設計'"
      ]
     },
     "execution_count": 89,
     "metadata": {},
     "output_type": "execute_result"
    }
   ],
   "source": [
    "# 取得字串s中索引值2到結尾的字元(包含索引2)\n",
    "s[2:]  # 傳回'thon程式設計'"
   ]
  },
  {
   "cell_type": "code",
   "execution_count": 90,
   "metadata": {},
   "outputs": [
    {
     "data": {
      "text/plain": [
       "12"
      ]
     },
     "execution_count": 90,
     "metadata": {},
     "output_type": "execute_result"
    }
   ],
   "source": [
    "# 定義三個字串s1、s2、s3\n",
    "s1 = \"HappyNewYear\"\n",
    "s2 = \"happynewyear\"\n",
    "s3 = \"new\"\n",
    "\n",
    "# 使用len()函式傳回字串s1的長度(共12個英文字元)\n",
    "len(s1)  # 傳回12"
   ]
  },
  {
   "cell_type": "code",
   "execution_count": 91,
   "metadata": {},
   "outputs": [
    {
     "data": {
      "text/plain": [
       "False"
      ]
     },
     "execution_count": 91,
     "metadata": {},
     "output_type": "execute_result"
    }
   ],
   "source": [
    "# 比較字串s1和s2是否相等(區分大小寫)，若是則傳回True，否則傳回False\n",
    "s1 == s2  # 傳回False，因為大小寫不同"
   ]
  },
  {
   "cell_type": "code",
   "execution_count": 92,
   "metadata": {},
   "outputs": [
    {
     "data": {
      "text/plain": [
       "'y'"
      ]
     },
     "execution_count": 92,
     "metadata": {},
     "output_type": "execute_result"
    }
   ],
   "source": [
    "# 使用max()函式取得字串s1中的最大字元(依Unicode編碼比較)\n",
    "max(s1)  # 傳回'y'"
   ]
  },
  {
   "cell_type": "code",
   "execution_count": 93,
   "metadata": {},
   "outputs": [
    {
     "data": {
      "text/plain": [
       "False"
      ]
     },
     "execution_count": 93,
     "metadata": {},
     "output_type": "execute_result"
    }
   ],
   "source": [
    "# 判斷字串s3是否包含在字串s1中，若是則傳回True，否則傳回False\n",
    "s3 in s1  # 傳回True，因為'new'包含子字串'HappyNewYear'"
   ]
  },
  {
   "cell_type": "code",
   "execution_count": 94,
   "metadata": {},
   "outputs": [
    {
     "data": {
      "text/plain": [
       "'yNewY'"
      ]
     },
     "execution_count": 94,
     "metadata": {},
     "output_type": "execute_result"
    }
   ],
   "source": [
    "# 取得字串s1中索引值4到8的字元(包含索引4，但不包含索引9)\n",
    "s1[4:9]  # 傳回'yNewY'"
   ]
  },
  {
   "cell_type": "code",
   "execution_count": 95,
   "metadata": {},
   "outputs": [
    {
     "name": "stdout",
     "output_type": "stream",
     "text": [
      "該Unicode碼表示字元 A\n"
     ]
    }
   ],
   "source": [
    "# 使用eval()函式提示使用者輸入一個Unicode編碼(十進位)，並將結果儲存在變數code中\n",
    "code = eval(input(\"請輸入Unicode碼：\"))\n",
    "\n",
    "# 使用chr()函式將Unicode編碼轉換為對應的字元，並儲存在變數char中\n",
    "char = chr(code)\n",
    "\n",
    "# 輸出對應的字元\n",
    "print(\"該Unicode碼表示字元\", char)"
   ]
  },
  {
   "cell_type": "code",
   "execution_count": 96,
   "metadata": {},
   "outputs": [
    {
     "name": "stdout",
     "output_type": "stream",
     "text": [
      "該字元的 Unicode 碼為 65\n"
     ]
    }
   ],
   "source": [
    "# 使用input()函式提示使用者輸入一個字元，並將結果儲存在變數char中\n",
    "char = input(\"請輸入字元：\")\n",
    "\n",
    "# 使用ord()函式將字元轉換為Unicode編碼(十進位)，並儲存在變數code中\n",
    "code = ord(char)\n",
    "\n",
    "# 輸出該字元的Unicode編碼\n",
    "print(\"該字元的 Unicode 碼為\", code)"
   ]
  },
  {
   "cell_type": "code",
   "execution_count": 97,
   "metadata": {},
   "outputs": [
    {
     "data": {
      "text/plain": [
       "2233181170896"
      ]
     },
     "execution_count": 97,
     "metadata": {},
     "output_type": "execute_result"
    }
   ],
   "source": [
    "# 將字串\"Happy\"指派給變數x\n",
    "x = \"Happy\"\n",
    "\n",
    "# 使用id()函式取得變數x所參照物件的唯一識別碼(id編號)\n",
    "id(x)"
   ]
  },
  {
   "cell_type": "code",
   "execution_count": 98,
   "metadata": {},
   "outputs": [
    {
     "data": {
      "text/plain": [
       "str"
      ]
     },
     "execution_count": 98,
     "metadata": {},
     "output_type": "execute_result"
    }
   ],
   "source": [
    "# 使用type()函式取得變數x所參照物件的型別\n",
    "type(x)"
   ]
  },
  {
   "cell_type": "code",
   "execution_count": 99,
   "metadata": {},
   "outputs": [
    {
     "name": "stdout",
     "output_type": "stream",
     "text": [
      "Happy\n"
     ]
    }
   ],
   "source": [
    "# 輸出變數x所參照物件的值\n",
    "print(x)"
   ]
  },
  {
   "cell_type": "code",
   "execution_count": 100,
   "metadata": {},
   "outputs": [
    {
     "data": {
      "text/plain": [
       "'HELLO, WORLD!'"
      ]
     },
     "execution_count": 100,
     "metadata": {},
     "output_type": "execute_result"
    }
   ],
   "source": [
    "# 將字串\"Hello, World!\"指派給變數x\n",
    "x = \"Hello, World!\"\n",
    "\n",
    "# 使用x.upper()方法將變數x中的所有字元轉為大寫，並傳回新字串\n",
    "x.upper()"
   ]
  },
  {
   "cell_type": "code",
   "execution_count": 101,
   "metadata": {},
   "outputs": [
    {
     "data": {
      "text/plain": [
       "'HELLO, WORLD!'"
      ]
     },
     "execution_count": 101,
     "metadata": {},
     "output_type": "execute_result"
    }
   ],
   "source": [
    "# 使用str.upper(x)方法將變數x中的所有字元轉為大寫，並傳回新字串\n",
    "str.upper(x)"
   ]
  },
  {
   "cell_type": "code",
   "execution_count": 102,
   "metadata": {},
   "outputs": [
    {
     "data": {
      "text/plain": [
       "'hello, world!'"
      ]
     },
     "execution_count": 102,
     "metadata": {},
     "output_type": "execute_result"
    }
   ],
   "source": [
    "# 使用x.lower()方法將變數x中的所有字元轉為小寫，並傳回新字串\n",
    "x.lower()"
   ]
  },
  {
   "cell_type": "code",
   "execution_count": 103,
   "metadata": {},
   "outputs": [
    {
     "data": {
      "text/plain": [
       "'hELLO, wORLD!'"
      ]
     },
     "execution_count": 103,
     "metadata": {},
     "output_type": "execute_result"
    }
   ],
   "source": [
    "# 使用x.swapcase()方法將變數x中的所有大寫字元轉為小寫，小寫字元轉為大寫，並傳回新字串\n",
    "x.swapcase()"
   ]
  },
  {
   "cell_type": "code",
   "execution_count": 104,
   "metadata": {},
   "outputs": [
    {
     "data": {
      "text/plain": [
       "'Hello, Tim!'"
      ]
     },
     "execution_count": 104,
     "metadata": {},
     "output_type": "execute_result"
    }
   ],
   "source": [
    "# 使用x.replace()方法將字串中的\"World\"替換為\"Tim\"，並傳回新字串'Hello, Tim!'\n",
    "x.replace(\"World\", \"Tim\")"
   ]
  },
  {
   "cell_type": "code",
   "execution_count": 105,
   "metadata": {},
   "outputs": [
    {
     "data": {
      "text/plain": [
       "'An egg'"
      ]
     },
     "execution_count": 105,
     "metadata": {},
     "output_type": "execute_result"
    }
   ],
   "source": [
    "# 使用str.capitalize()方法將字串的第一個字元轉為大寫，其餘字元轉為小寫，並傳回新字串\n",
    "str.capitalize(\"an egg\")"
   ]
  },
  {
   "cell_type": "code",
   "execution_count": 106,
   "metadata": {},
   "outputs": [
    {
     "data": {
      "text/plain": [
       "'An Egg'"
      ]
     },
     "execution_count": 106,
     "metadata": {},
     "output_type": "execute_result"
    }
   ],
   "source": [
    "# 使用str.title()方法將字串中每個單字的第一個字元轉為大寫，其餘字元轉為小寫，並傳回新字串\n",
    "str.title(\"an egg\")"
   ]
  },
  {
   "cell_type": "code",
   "execution_count": 107,
   "metadata": {},
   "outputs": [
    {
     "data": {
      "text/plain": [
       "False"
      ]
     },
     "execution_count": 107,
     "metadata": {},
     "output_type": "execute_result"
    }
   ],
   "source": [
    "# 使用str.isalpha()方法判斷字串是否只包含字母，若是則傳回True，否則傳回False\n",
    "str.isalpha(\"5apples\")  # 字串包含數字，不是純字母，傳回False"
   ]
  },
  {
   "cell_type": "code",
   "execution_count": 108,
   "metadata": {},
   "outputs": [
    {
     "data": {
      "text/plain": [
       "True"
      ]
     },
     "execution_count": 108,
     "metadata": {},
     "output_type": "execute_result"
    }
   ],
   "source": [
    "# 使用str.isalpha()方法判斷字串是否只包含字母，若是則傳回True，否則傳回False\n",
    "str.isalpha(\"Happy\")  # 字串只包含字母，傳回True"
   ]
  },
  {
   "cell_type": "code",
   "execution_count": 109,
   "metadata": {},
   "outputs": [
    {
     "data": {
      "text/plain": [
       "True"
      ]
     },
     "execution_count": 109,
     "metadata": {},
     "output_type": "execute_result"
    }
   ],
   "source": [
    "# 使用str.isdigit()方法判斷字串是否只包含數字，若是則傳回True，否則傳回False\n",
    "str.isdigit(\"123\")  # 字串只包含數字，傳回True"
   ]
  },
  {
   "cell_type": "code",
   "execution_count": 110,
   "metadata": {},
   "outputs": [
    {
     "data": {
      "text/plain": [
       "False"
      ]
     },
     "execution_count": 110,
     "metadata": {},
     "output_type": "execute_result"
    }
   ],
   "source": [
    "# 使用str.isdigit()方法判斷字串是否只包含數字，若是則傳回True，否則傳回False\n",
    "str.isdigit(\"5apples\")  # 字串包含字母，不是純數字，傳回False"
   ]
  },
  {
   "cell_type": "code",
   "execution_count": 111,
   "metadata": {},
   "outputs": [
    {
     "data": {
      "text/plain": [
       "False"
      ]
     },
     "execution_count": 111,
     "metadata": {},
     "output_type": "execute_result"
    }
   ],
   "source": [
    "# 使用str.isalnum()方法判斷字串是否只包含字母和數字，若是則傳回True，否則傳回False\n",
    "str.isalnum(\"123.45\")  # 字串包含非字母數字字元(小數點)，傳回False"
   ]
  },
  {
   "cell_type": "code",
   "execution_count": 112,
   "metadata": {},
   "outputs": [
    {
     "data": {
      "text/plain": [
       "True"
      ]
     },
     "execution_count": 112,
     "metadata": {},
     "output_type": "execute_result"
    }
   ],
   "source": [
    "# 使用str.isalnum()方法判斷字串是否只包含字母和數字，若是則傳回True，否則傳回False\n",
    "str.isalnum(\"5apples\")  # 字串只包含字母和數字，傳回True"
   ]
  },
  {
   "cell_type": "code",
   "execution_count": 113,
   "metadata": {},
   "outputs": [
    {
     "data": {
      "text/plain": [
       "False"
      ]
     },
     "execution_count": 113,
     "metadata": {},
     "output_type": "execute_result"
    }
   ],
   "source": [
    "# 使用str.isupper()方法判斷字串是否只包含大寫字母，若是則傳回True，否則傳回False\n",
    "str.isupper(\"Happy\")  # 字串包含大小寫字母，非全大寫，傳回False"
   ]
  },
  {
   "cell_type": "code",
   "execution_count": 114,
   "metadata": {},
   "outputs": [
    {
     "data": {
      "text/plain": [
       "True"
      ]
     },
     "execution_count": 114,
     "metadata": {},
     "output_type": "execute_result"
    }
   ],
   "source": [
    "# 使用str.isupper()方法判斷字串是否只包含大寫字母，若是則傳回True，否則傳回False\n",
    "str.isupper(\"HAPPY\")  # 字串全部是大寫字母，傳回True"
   ]
  },
  {
   "cell_type": "code",
   "execution_count": 115,
   "metadata": {},
   "outputs": [
    {
     "data": {
      "text/plain": [
       "False"
      ]
     },
     "execution_count": 115,
     "metadata": {},
     "output_type": "execute_result"
    }
   ],
   "source": [
    "# 使用str.islower()方法判斷字串是否只包含小寫字母，若是則傳回True，否則傳回False\n",
    "str.islower(\"Happy\")  # 字串包含大寫字母，傳回False"
   ]
  },
  {
   "cell_type": "code",
   "execution_count": 116,
   "metadata": {},
   "outputs": [
    {
     "data": {
      "text/plain": [
       "True"
      ]
     },
     "execution_count": 116,
     "metadata": {},
     "output_type": "execute_result"
    }
   ],
   "source": [
    "# 使用str.islower()方法判斷字串是否只包含小寫字母，若是則傳回True，否則傳回False\n",
    "str.islower(\"happy\")  # 字串全部是小寫字母，傳回True"
   ]
  },
  {
   "cell_type": "code",
   "execution_count": 117,
   "metadata": {},
   "outputs": [
    {
     "data": {
      "text/plain": [
       "True"
      ]
     },
     "execution_count": 117,
     "metadata": {},
     "output_type": "execute_result"
    }
   ],
   "source": [
    "# 使用str.isidentifier()方法判斷字串是否為合法的識別字(變數名稱)，若是則傳回True，否則傳回False\n",
    "str.isidentifier(\"happy\")  # 字串是合法的識別字，傳回True"
   ]
  },
  {
   "cell_type": "code",
   "execution_count": 118,
   "metadata": {},
   "outputs": [
    {
     "data": {
      "text/plain": [
       "False"
      ]
     },
     "execution_count": 118,
     "metadata": {},
     "output_type": "execute_result"
    }
   ],
   "source": [
    "# 使用str.isidentifier()方法判斷字串是否為合法的識別字(變數名稱)，若是則傳回True，否則傳回False\n",
    "str.isidentifier(\"5apples\")  # 字串以數字開頭，不是合法的識別字，傳回False"
   ]
  },
  {
   "cell_type": "code",
   "execution_count": 119,
   "metadata": {},
   "outputs": [
    {
     "data": {
      "text/plain": [
       "True"
      ]
     },
     "execution_count": 119,
     "metadata": {},
     "output_type": "execute_result"
    }
   ],
   "source": [
    "# 使用str.isidentifier()方法判斷字串是否為合法的識別字(變數名稱)，若是則傳回True，否則傳回False\n",
    "str.isidentifier(\"class\")  # 雖然class是Python保留字，但語法上是合法識別字，傳回True"
   ]
  },
  {
   "cell_type": "code",
   "execution_count": 120,
   "metadata": {},
   "outputs": [
    {
     "data": {
      "text/plain": [
       "True"
      ]
     },
     "execution_count": 120,
     "metadata": {},
     "output_type": "execute_result"
    }
   ],
   "source": [
    "# 匯入Python的keyword模組，該模組提供判斷字串是否為保留關鍵字的功能\n",
    "import keyword\n",
    "\n",
    "# 使用keyword.iskeyword()方法測試指定的字串是否為Python的保留關鍵字，若是則傳回True，否則傳回False\n",
    "keyword.iskeyword(\"None\")  # \"None\"是Python的保留關鍵字，傳回True"
   ]
  },
  {
   "cell_type": "code",
   "execution_count": 121,
   "metadata": {},
   "outputs": [
    {
     "data": {
      "text/plain": [
       "True"
      ]
     },
     "execution_count": 121,
     "metadata": {},
     "output_type": "execute_result"
    }
   ],
   "source": [
    "# 使用str.isspace()方法判斷字串是否只包含空白字元(空格、換行、Tab等)，若是則傳回True，否則傳回False\n",
    "str.isspace(\"  \")  # 字串只包含空白字元，傳回True"
   ]
  },
  {
   "cell_type": "code",
   "execution_count": 122,
   "metadata": {},
   "outputs": [
    {
     "data": {
      "text/plain": [
       "True"
      ]
     },
     "execution_count": 122,
     "metadata": {},
     "output_type": "execute_result"
    }
   ],
   "source": [
    "# 使用str.istitle()方法判斷字串是否為標題格式(即每個單字的第一個字母皆為大寫)，若是則傳回True，否則傳回False\n",
    "str.istitle(\"Happy New Year!\")  # 字串每個單字的第一個字母皆為大寫，傳回True"
   ]
  },
  {
   "cell_type": "code",
   "execution_count": 123,
   "metadata": {},
   "outputs": [
    {
     "data": {
      "text/plain": [
       "5"
      ]
     },
     "execution_count": 123,
     "metadata": {},
     "output_type": "execute_result"
    }
   ],
   "source": [
    "# 定義一個字串x，內容為連續出現5次的\"Wow\"\n",
    "x = \"WowWowWowWowWow\"\n",
    "\n",
    "# 使用x.count()方法計算字串中\"Wow\"出現的次數，並傳回結果\n",
    "x.count(\"Wow\")  # 傳回5"
   ]
  },
  {
   "cell_type": "code",
   "execution_count": 124,
   "metadata": {},
   "outputs": [
    {
     "data": {
      "text/plain": [
       "True"
      ]
     },
     "execution_count": 124,
     "metadata": {},
     "output_type": "execute_result"
    }
   ],
   "source": [
    "# 使用x.startswith()方法判斷字串是否以\"Wow\"開頭，若是則傳回True，否則傳回False\n",
    "x.startswith(\"Wow\")  # 字串以\"Wow\"開頭，傳回True"
   ]
  },
  {
   "cell_type": "code",
   "execution_count": 125,
   "metadata": {},
   "outputs": [
    {
     "data": {
      "text/plain": [
       "False"
      ]
     },
     "execution_count": 125,
     "metadata": {},
     "output_type": "execute_result"
    }
   ],
   "source": [
    "# 使用x.startswith()方法判斷字串是否以\"Ha\"開頭，若是則傳回True，否則傳回False\n",
    "x.startswith(\"Ha\")  # 字串不以\"Ha\"開頭，傳回False"
   ]
  },
  {
   "cell_type": "code",
   "execution_count": 126,
   "metadata": {},
   "outputs": [
    {
     "data": {
      "text/plain": [
       "True"
      ]
     },
     "execution_count": 126,
     "metadata": {},
     "output_type": "execute_result"
    }
   ],
   "source": [
    "# 使用x.endswith()方法判斷字串是否以\"Wow\"結尾，若是則傳回True，否則傳回False\n",
    "x.endswith(\"Wow\")  # 字串以\"Wow\"結尾，傳回True"
   ]
  },
  {
   "cell_type": "code",
   "execution_count": 127,
   "metadata": {},
   "outputs": [
    {
     "data": {
      "text/plain": [
       "False"
      ]
     },
     "execution_count": 127,
     "metadata": {},
     "output_type": "execute_result"
    }
   ],
   "source": [
    "# 使用x.endswith()方法判斷字串是否以\"Ha\"結尾，若是則傳回True，否則傳回False\n",
    "x.endswith(\"Ha\")  # 字串不以\"Ha\"結尾，傳回False"
   ]
  },
  {
   "cell_type": "code",
   "execution_count": 128,
   "metadata": {},
   "outputs": [
    {
     "data": {
      "text/plain": [
       "0"
      ]
     },
     "execution_count": 128,
     "metadata": {},
     "output_type": "execute_result"
    }
   ],
   "source": [
    "# 使用x.find()方法找出子字串\"Wow\"在字串中的最小索引位置，若找不到則傳回-1\n",
    "x.find(\"Wow\")  # 傳回0，因為\"Wow\"出現在字串最開始的位置(索引值0)"
   ]
  },
  {
   "cell_type": "code",
   "execution_count": 129,
   "metadata": {},
   "outputs": [
    {
     "data": {
      "text/plain": [
       "12"
      ]
     },
     "execution_count": 129,
     "metadata": {},
     "output_type": "execute_result"
    }
   ],
   "source": [
    "# 使用x.rfind()方法找出子字串\"Wow\"在字串中的最大索引位置，若找不到則傳回-1\n",
    "x.rfind(\"Wow\")  # 傳回12，因為最後一個\"Wow\"出現在索引值為12的位置"
   ]
  },
  {
   "cell_type": "code",
   "execution_count": 130,
   "metadata": {},
   "outputs": [
    {
     "data": {
      "text/plain": [
       "'spacious   '"
      ]
     },
     "execution_count": 130,
     "metadata": {},
     "output_type": "execute_result"
    }
   ],
   "source": [
    "# 使用lstrip()方法刪除字串左側的空白字元，並傳回新字串\n",
    "\"   spacious   \".lstrip()  # 傳回'spacious   '"
   ]
  },
  {
   "cell_type": "code",
   "execution_count": 131,
   "metadata": {},
   "outputs": [
    {
     "data": {
      "text/plain": [
       "'happy.com'"
      ]
     },
     "execution_count": 131,
     "metadata": {},
     "output_type": "execute_result"
    }
   ],
   "source": [
    "# 使用lstrip(\"cmowz.\")方法刪除字串左側連續出現的\"c\"、\"m\"、\"o\"、\"w\"、\"z\"、\".\"中的任一字元，直到遇到不在指定集合中的字元為止，並傳回新字串\n",
    "\"www.happy.com\".lstrip(\"cmowz.\")  # 傳回'happy.com'"
   ]
  },
  {
   "cell_type": "code",
   "execution_count": 132,
   "metadata": {},
   "outputs": [
    {
     "data": {
      "text/plain": [
       "'   spacious'"
      ]
     },
     "execution_count": 132,
     "metadata": {},
     "output_type": "execute_result"
    }
   ],
   "source": [
    "# 使用rstrip()方法刪除字串右側的空白字元，並傳回新字串\n",
    "\"   spacious   \".rstrip()  # 傳回'   spacious'"
   ]
  },
  {
   "cell_type": "code",
   "execution_count": 133,
   "metadata": {},
   "outputs": [
    {
     "data": {
      "text/plain": [
       "'www.happy'"
      ]
     },
     "execution_count": 133,
     "metadata": {},
     "output_type": "execute_result"
    }
   ],
   "source": [
    "# 使用rstrip(\"cmowz.\")方法刪除字串右側連續出現的\"c\"、\"m\"、\"o\"、\"w\"、\"z\"、\".\"中的任一字元，直到遇到不在指定集合中的字元為止，並傳回新字串\n",
    "\"www.happy.com\".rstrip(\"cmowz.\")  # 傳回'www.happy'"
   ]
  },
  {
   "cell_type": "code",
   "execution_count": 134,
   "metadata": {},
   "outputs": [
    {
     "data": {
      "text/plain": [
       "'spacious'"
      ]
     },
     "execution_count": 134,
     "metadata": {},
     "output_type": "execute_result"
    }
   ],
   "source": [
    "# 使用strip()方法刪除字串左右兩側的空白字元，並傳回新字串\n",
    "\"   spacious   \".strip()  # 傳回'spacious'"
   ]
  },
  {
   "cell_type": "code",
   "execution_count": 135,
   "metadata": {},
   "outputs": [
    {
     "data": {
      "text/plain": [
       "'happy'"
      ]
     },
     "execution_count": 135,
     "metadata": {},
     "output_type": "execute_result"
    }
   ],
   "source": [
    "# 使用strip(\"cmowz.\")方法刪除字串左右兩側連續出現的\"c\"、\"m\"、\"o\"、\"w\"、\"z\"、\".\"中的任一字元，直到遇到不在指定集合中的字元為止，並傳回新字串\n",
    "\"www.happy.com\".strip(\"cmowz.\")  # 傳回'happy'"
   ]
  },
  {
   "cell_type": "code",
   "execution_count": 136,
   "metadata": {},
   "outputs": [
    {
     "data": {
      "text/plain": [
       "'abc       '"
      ]
     },
     "execution_count": 136,
     "metadata": {},
     "output_type": "execute_result"
    }
   ],
   "source": [
    "# 使用ljust(10)方法將字串靠左對齊，補足欄位寬度至10個字元(右側補空白)，並傳回新字串\n",
    "\"abc\".ljust(10)  # 傳回'abc       '"
   ]
  },
  {
   "cell_type": "code",
   "execution_count": 137,
   "metadata": {},
   "outputs": [
    {
     "data": {
      "text/plain": [
       "'       abc'"
      ]
     },
     "execution_count": 137,
     "metadata": {},
     "output_type": "execute_result"
    }
   ],
   "source": [
    "# 使用rjust(10)方法將字串靠右對齊，補足欄位寬度至10個字元(左側補空白)，並傳回新字串\n",
    "\"abc\".rjust(10)  # 傳回'       abc'"
   ]
  },
  {
   "cell_type": "code",
   "execution_count": 138,
   "metadata": {},
   "outputs": [
    {
     "data": {
      "text/plain": [
       "'   abc    '"
      ]
     },
     "execution_count": 138,
     "metadata": {},
     "output_type": "execute_result"
    }
   ],
   "source": [
    "# 使用center(10)方法將字串置中對齊，補足欄位寬度至10個字元(左右兩側補空白)，並傳回新字串\n",
    "\"abc\".center(10)  # 傳回'   abc    '"
   ]
  },
  {
   "cell_type": "code",
   "execution_count": 139,
   "metadata": {},
   "outputs": [
    {
     "data": {
      "text/plain": [
       "'-0042'"
      ]
     },
     "execution_count": 139,
     "metadata": {},
     "output_type": "execute_result"
    }
   ],
   "source": [
    "# 使用zfill(5)方法將字串填充至欄位寬度5，左側補0，保留正負號，並傳回新字串\n",
    "\"-42\".zfill(5)  # 傳回'-0042'"
   ]
  },
  {
   "cell_type": "code",
   "execution_count": 140,
   "metadata": {},
   "outputs": [
    {
     "data": {
      "text/plain": [
       "'梯形的上底10cm, 下底20cm, 高5cm'"
      ]
     },
     "execution_count": 140,
     "metadata": {},
     "output_type": "execute_result"
    }
   ],
   "source": [
    "# 定義變數top(上底)、bottom(下底)、height(高度)，並分別設為10、20、5\n",
    "top, bottom, height = 10, 20, 5\n",
    "\n",
    "# 使用format()方法格式化字串，將變數top、bottom、height的值依序填入大括號{0}、{1}、{2}中\n",
    "\"梯形的上底{0}cm, 下底{1}cm, 高{2}cm\".format(top, bottom, height)  # 傳回'梯形的上底10cm, 下底20cm, 高5cm'"
   ]
  },
  {
   "cell_type": "code",
   "execution_count": 141,
   "metadata": {},
   "outputs": [
    {
     "name": "stdout",
     "output_type": "stream",
     "text": [
      "Merry Christmas!\n",
      "\n",
      "Merry Christmas!\n",
      "\n"
     ]
    }
   ],
   "source": [
    "# 定義一個字串s1，內容為\"Merry Christmas!\"，字串前後包含換行符號'\\n'\n",
    "s1 = \"\\nMerry Christmas!\\n\"\n",
    "\n",
    "# 使用s1.strip()方法刪除字串兩側的空白字元(包含換行符號)，並傳回新字串\n",
    "print(s1.strip())  # 傳回'Merry Christmas!'\n",
    "\n",
    "# 輸出原字串s1，包含前後的換行符號，畫面會顯示為三行\n",
    "print(s1)          # 輸出'\\nMerry Christmas!\\n'"
   ]
  },
  {
   "cell_type": "code",
   "execution_count": 142,
   "metadata": {},
   "outputs": [
    {
     "name": "stdout",
     "output_type": "stream",
     "text": [
      "第1.1節文章#3\n"
     ]
    }
   ],
   "source": [
    "# 定義一個字串s2，內容包含#、.和空白字元\n",
    "s2 = \"#....... 第1.1節文章#3 .......\"\n",
    "\n",
    "# 使用s2.strip(\".# \")方法刪除字串兩側出現的點(.)、井字號(#)和空白字元，並傳回新字串\n",
    "s3 = s2.strip(\".# \")  # 傳回'第1.1節文章#3'\n",
    "\n",
    "# 輸出處理後的字串s3\n",
    "print(s3)             # 輸出'第1.1節文章#3'"
   ]
  },
  {
   "cell_type": "code",
   "execution_count": 143,
   "metadata": {},
   "outputs": [
    {
     "data": {
      "text/plain": [
       "'            Monday            '"
      ]
     },
     "execution_count": 143,
     "metadata": {},
     "output_type": "execute_result"
    }
   ],
   "source": [
    "# 定義兩個字串s4和s5，分別為\"Monday\"與\"monday\"\n",
    "s4, s5 = \"Monday\", \"monday\"\n",
    "\n",
    "# 使用s4.center(30)方法將字串s4置中，補足欄位寬度至30個字元(左右兩側補空白)，並傳回新字串\n",
    "s4.center(30)  # 傳回'            Monday            '"
   ]
  },
  {
   "cell_type": "code",
   "execution_count": 144,
   "metadata": {},
   "outputs": [],
   "source": [
    "# 使用s4.upper()方法將字串s4中的所有字元轉為大寫，並傳回新字串\n",
    "s6 = s4.upper()  # 傳回'MONDAY'"
   ]
  },
  {
   "cell_type": "code",
   "execution_count": 145,
   "metadata": {},
   "outputs": [],
   "source": [
    "# 使用s4.lower()方法將字串s4中的所有字元轉為小寫，並傳回新字串\n",
    "s7 = s4.lower()  # 傳回'monday'"
   ]
  },
  {
   "cell_type": "code",
   "execution_count": 146,
   "metadata": {},
   "outputs": [],
   "source": [
    "# 使用s5.replace()方法將字串s5中的\"mon\"取代為\"Fri\"，傳回新字串並賦值給s8\n",
    "s8 = s5.replace(\"mon\", \"Fri\")  # 傳回'Friday'"
   ]
  },
  {
   "cell_type": "code",
   "execution_count": 147,
   "metadata": {},
   "outputs": [
    {
     "data": {
      "text/plain": [
       "False"
      ]
     },
     "execution_count": 147,
     "metadata": {},
     "output_type": "execute_result"
    }
   ],
   "source": [
    "# 使用s4.isdigit()方法判斷字串s4是否只包含數字，若是則傳回True，否則傳回False\n",
    "s4.isdigit()  # 傳回False，因為s4內容為\"Monday\"，包含非數字字元"
   ]
  },
  {
   "cell_type": "code",
   "execution_count": 148,
   "metadata": {},
   "outputs": [
    {
     "data": {
      "text/plain": [
       "True"
      ]
     },
     "execution_count": 148,
     "metadata": {},
     "output_type": "execute_result"
    }
   ],
   "source": [
    "# 使用s4.endswith()方法判斷字串s4是否以\"day\"結尾，若是則傳回True，否則傳回False\n",
    "s4.endswith(\"day\")  # 傳回True，因為字串s4以\"day\"結尾"
   ]
  },
  {
   "cell_type": "code",
   "execution_count": 149,
   "metadata": {},
   "outputs": [
    {
     "data": {
      "text/plain": [
       "1"
      ]
     },
     "execution_count": 149,
     "metadata": {},
     "output_type": "execute_result"
    }
   ],
   "source": [
    "# 使用s4.find()方法找出字元'o'在字串s4中的最小索引位置，若找不到則傳回-1\n",
    "s4.find('o')  # 傳回1，因為字元'o'出現在索引1的位置"
   ]
  },
  {
   "cell_type": "code",
   "execution_count": 150,
   "metadata": {},
   "outputs": [
    {
     "data": {
      "text/plain": [
       "'123       '"
      ]
     },
     "execution_count": 150,
     "metadata": {},
     "output_type": "execute_result"
    }
   ],
   "source": [
    "# 使用format()函式將整數123格式化為欄位寬度10字元，靠左對齊並傳回新字串\n",
    "format(123, \"<10\")  # 傳回'123       '，字串右側有7個空白"
   ]
  },
  {
   "cell_type": "code",
   "execution_count": 151,
   "metadata": {},
   "outputs": [
    {
     "data": {
      "text/plain": [
       "'       123'"
      ]
     },
     "execution_count": 151,
     "metadata": {},
     "output_type": "execute_result"
    }
   ],
   "source": [
    "# 使用format()函式將整數123格式化為欄位寬度10字元，靠右對齊並傳回新字串\n",
    "format(123, \">10\")  # 傳回'       123'，字串左側有7個空白"
   ]
  },
  {
   "cell_type": "code",
   "execution_count": 152,
   "metadata": {},
   "outputs": [
    {
     "data": {
      "text/plain": [
       "'   123    '"
      ]
     },
     "execution_count": 152,
     "metadata": {},
     "output_type": "execute_result"
    }
   ],
   "source": [
    "# 使用format()函式將整數123格式化為欄位寬度10字元，置中對齊並傳回新字串\n",
    "format(123, \"^10\")  # 傳回'   123    '，字串左側有3個空白，右側有4個空白"
   ]
  },
  {
   "cell_type": "code",
   "execution_count": 153,
   "metadata": {},
   "outputs": [
    {
     "data": {
      "text/plain": [
       "'$$$123$$$$'"
      ]
     },
     "execution_count": 153,
     "metadata": {},
     "output_type": "execute_result"
    }
   ],
   "source": [
    "# 使用format()函式將整數123格式化為欄位寬度10字元，置中對齊，以'$'符號填滿空位，並傳回新字串\n",
    "format(123, \"$^10\")  # 傳回'$$$123$$$$'，字串左側有3個$符號，右側有4個$符號"
   ]
  },
  {
   "cell_type": "code",
   "execution_count": 154,
   "metadata": {},
   "outputs": [
    {
     "data": {
      "text/plain": [
       "'12,345,678'"
      ]
     },
     "execution_count": 154,
     "metadata": {},
     "output_type": "execute_result"
    }
   ],
   "source": [
    "# 使用format()函式將整數12345678格式化為加上千分位符號，並傳回新字串\n",
    "format(12345678, \",\")  # 傳回'12,345,678'"
   ]
  },
  {
   "cell_type": "code",
   "execution_count": 155,
   "metadata": {},
   "outputs": [
    {
     "data": {
      "text/plain": [
       "'0b1000001'"
      ]
     },
     "execution_count": 155,
     "metadata": {},
     "output_type": "execute_result"
    }
   ],
   "source": [
    "# 使用format()函式將整數65格式化為二進位字串表示法，前面加上0b，並傳回新字串\n",
    "format(65, \"#b\")  # 傳回'0b1000001'"
   ]
  },
  {
   "cell_type": "code",
   "execution_count": 156,
   "metadata": {},
   "outputs": [
    {
     "data": {
      "text/plain": [
       "'0o101'"
      ]
     },
     "execution_count": 156,
     "metadata": {},
     "output_type": "execute_result"
    }
   ],
   "source": [
    "# 使用format()函式將整數65格式化為八進位字串表示法，前面加上0o，並傳回新字串\n",
    "format(65, \"#o\")  # 傳回'0o101'"
   ]
  },
  {
   "cell_type": "code",
   "execution_count": 157,
   "metadata": {},
   "outputs": [
    {
     "data": {
      "text/plain": [
       "'0x41'"
      ]
     },
     "execution_count": 157,
     "metadata": {},
     "output_type": "execute_result"
    }
   ],
   "source": [
    "# 使用format()函式將整數65格式化為十六進位字串表示法，前面加上0x，並傳回新字串\n",
    "format(65, \"#x\")  # 傳回'0x41'"
   ]
  },
  {
   "cell_type": "code",
   "execution_count": 158,
   "metadata": {},
   "outputs": [
    {
     "data": {
      "text/plain": [
       "'+000000123'"
      ]
     },
     "execution_count": 158,
     "metadata": {},
     "output_type": "execute_result"
    }
   ],
   "source": [
    "# 使用format()函式將整數123格式化為欄位寬度10字元，包含正號，並在正負號與數字之間用0填滿剩餘空位，傳回新字串\n",
    "format(123, \"=+010\")  # 傳回'+000000123'"
   ]
  },
  {
   "cell_type": "code",
   "execution_count": 159,
   "metadata": {},
   "outputs": [
    {
     "data": {
      "text/plain": [
       "'   1234.57'"
      ]
     },
     "execution_count": 159,
     "metadata": {},
     "output_type": "execute_result"
    }
   ],
   "source": [
    "# 使用format()函式將浮點數1234.5678格式化為欄位寬度10字元，保留2位小數並傳回新字串\n",
    "format(1234.5678, \"10.2f\")  # 傳回'   1234.57'，字串左側有3個空白"
   ]
  },
  {
   "cell_type": "code",
   "execution_count": 160,
   "metadata": {},
   "outputs": [
    {
     "data": {
      "text/plain": [
       "'  1.23e+03'"
      ]
     },
     "execution_count": 160,
     "metadata": {},
     "output_type": "execute_result"
    }
   ],
   "source": [
    "# 使用format()函式將浮點數1234.5678格式化為欄位寬度10字元，保留2位小數，並以科學記號表示法傳回新字串\n",
    "format(1234.5678, \"10.2e\")  # 傳回' 1.23e+03'，字串左側有1個空白"
   ]
  },
  {
   "cell_type": "code",
   "execution_count": 161,
   "metadata": {},
   "outputs": [
    {
     "data": {
      "text/plain": [
       "'  1.20e+01'"
      ]
     },
     "execution_count": 161,
     "metadata": {},
     "output_type": "execute_result"
    }
   ],
   "source": [
    "# 使用format()函式將整數12格式化為欄位寬度10字元，保留2位小數，並以科學記號表示法傳回新字串\n",
    "format(12, \"10.2e\")  # 傳回'  1.20e+01'，字串左側有2個空白"
   ]
  },
  {
   "cell_type": "code",
   "execution_count": 162,
   "metadata": {},
   "outputs": [
    {
     "data": {
      "text/plain": [
       "'   800.00%'"
      ]
     },
     "execution_count": 162,
     "metadata": {},
     "output_type": "execute_result"
    }
   ],
   "source": [
    "# 使用format()函式將整數8格式化為欄位寬度10字元，保留2位小數，並以百分比表示法傳回新字串\n",
    "format(8, \"10.2%\")  # 傳回'  800.00%'，字串左側有2個空白"
   ]
  },
  {
   "cell_type": "code",
   "execution_count": 163,
   "metadata": {},
   "outputs": [
    {
     "data": {
      "text/plain": [
       "'7654.32        '"
      ]
     },
     "execution_count": 163,
     "metadata": {},
     "output_type": "execute_result"
    }
   ],
   "source": [
    "# 使用format()函式將浮點數7654.321格式化為欄位寬度15字元，靠左對齊，保留2位小數並傳回新字串\n",
    "format(7654.321, \"<15.2f\")  # 傳回'7654.32        '，字串右側有8個空白"
   ]
  },
  {
   "cell_type": "code",
   "execution_count": 164,
   "metadata": {},
   "outputs": [
    {
     "data": {
      "text/plain": [
       "'   7,654.32    '"
      ]
     },
     "execution_count": 164,
     "metadata": {},
     "output_type": "execute_result"
    }
   ],
   "source": [
    "# 使用format()函式將浮點數7654.321格式化為欄位寬度15字元，置中對齊，保留2位小數並加上千分位符號，傳回新字串\n",
    "format(7654.321, \"^15,.2f\")  # 傳回'  7,654.32     '，字串左側有2個空白，右側有4個空白"
   ]
  },
  {
   "cell_type": "code",
   "execution_count": 165,
   "metadata": {},
   "outputs": [
    {
     "data": {
      "text/plain": [
       "'Hi, Siri!           '"
      ]
     },
     "execution_count": 165,
     "metadata": {},
     "output_type": "execute_result"
    }
   ],
   "source": [
    "# 使用format()函式將字串\"Hi, Siri!\"格式化為欄位寬度20字元，靠左對齊，並傳回新字串\n",
    "format(\"Hi, Siri!\", \"<20\")  # 傳回'Hi, Siri!           '，字串右側有11個空白"
   ]
  },
  {
   "cell_type": "code",
   "execution_count": 166,
   "metadata": {},
   "outputs": [
    {
     "data": {
      "text/plain": [
       "'           Hi, Siri!'"
      ]
     },
     "execution_count": 166,
     "metadata": {},
     "output_type": "execute_result"
    }
   ],
   "source": [
    "# 使用format()函式將字串\"Hi, Siri!\"格式化為欄位寬度20字元，靠右對齊，並傳回新字串\n",
    "format(\"Hi, Siri!\", \">20\")  # 傳回'           Hi, Siri!'，字串左側有11個空白"
   ]
  },
  {
   "cell_type": "code",
   "execution_count": 167,
   "metadata": {},
   "outputs": [
    {
     "data": {
      "text/plain": [
       "'     Hi, Siri!      '"
      ]
     },
     "execution_count": 167,
     "metadata": {},
     "output_type": "execute_result"
    }
   ],
   "source": [
    "# 使用format()函式將字串\"Hi, Siri!\"格式化為欄位寬度20字元，置中對齊，並傳回新字串\n",
    "format(\"Hi, Siri!\", \"^20\")  # 傳回'     Hi, Siri!      '，字串左右兩側各有5個空白"
   ]
  },
  {
   "cell_type": "code",
   "execution_count": 168,
   "metadata": {},
   "outputs": [
    {
     "data": {
      "text/plain": [
       "'Hi Siri!'"
      ]
     },
     "execution_count": 168,
     "metadata": {},
     "output_type": "execute_result"
    }
   ],
   "source": [
    "# 使用format()函式將字串\"Hi Siri!\"格式化為欄位寬度5字元，靠左對齊\n",
    "# 但因為字串長度8大於欄寬5，故傳回原字串，不會被截斷\n",
    "format(\"Hi Siri!\", \"<5\")  # 傳回'Hi Siri!'"
   ]
  },
  {
   "cell_type": "code",
   "execution_count": 169,
   "metadata": {},
   "outputs": [
    {
     "name": "stdout",
     "output_type": "stream",
     "text": [
      "    年度       營業額       獲利率    \n",
      "    108      1,550,000      3.09%     \n",
      "    109      2,000,000      5.23%     \n",
      "    110      2,234,000      5.47%     \n"
     ]
    }
   ],
   "source": [
    "# 使用format()函式將字串\"年度\"、\"營業額\"、\"獲利率\"分別格式化為欄位寬度10字元，置中對齊，並傳回新字串\n",
    "print(\"{0:^10}{1:^10}{2:^10}\".format(\"年度\", \"營業額\", \"獲利率\"))\n",
    "\n",
    "# 使用format()函式將字串\"108\"格式化為欄位寬度12字元，置中對齊\n",
    "# 整數1550000格式化為欄位寬度12字元，置中對齊，並加上千分位符號\n",
    "# 浮點數0.0309格式化為欄位寬度14字元，置中對齊，並保留2位小數的百分比，最後傳回新字串\n",
    "\n",
    "print(\"{0:^12}{1:^12,}{2:^14.2%}\".format(\"108\", 1550000, 0.0309))\n",
    "\n",
    "# 使用format()函式將字串\"109\"格式化為欄位寬度12字元，置中對齊\n",
    "# 整數2000000格式化為欄位寬度12字元，置中對齊，並加上千分位符號\n",
    "# 浮點數0.0523格式化為欄位寬度14字元，置中對齊，並保留2位小數的百分比，最後傳回新字串\n",
    "\n",
    "print(\"{0:^12}{1:^12,}{2:^14.2%}\".format(\"109\", 2000000, 0.0523))\n",
    "\n",
    "# 使用format()函式將字串\"110\"格式化為欄位寬度12字元，置中對齊\n",
    "# 整數2234000格式化為欄位寬度12字元，置中對齊，並加上千分位符號\n",
    "# 浮點數0.0547格式化為欄位寬度14字元，置中對齊，並保留2位小數的百分比，最後傳回新字串\n",
    "\n",
    "print(\"{0:^12}{1:^12,}{2:^14.2%}\".format(\"110\", 2234000, 0.0547))"
   ]
  },
  {
   "cell_type": "code",
   "execution_count": 170,
   "metadata": {},
   "outputs": [
    {
     "name": "stdout",
     "output_type": "stream",
     "text": [
      "華氏溫度為     100.00\n",
      "攝氏溫度為      37.78\n"
     ]
    }
   ],
   "source": [
    "# 將華氏溫度設定為100，儲存在變數F中\n",
    "F = 100\n",
    "\n",
    "# 使用華氏轉攝氏公式計算攝氏溫度(華氏轉攝氏公式：(華氏溫度 - 32) × 5 ÷ 9)，並將結果儲存在變數C中\n",
    "C = (F - 32) * 5 / 9\n",
    "\n",
    "# 使用format()函式格式化輸出華氏溫度，欄位寬度為10字元，保留2位小數，並傳回新字串\n",
    "print(\"華氏溫度為\", format(F, \"10.2f\"))  # 傳回寬度為10，保留2位小數的浮點數字串\n",
    "\n",
    "# 使用format()函式格式化輸出攝氏溫度，欄位寬度為10字元，保留2位小數，並傳回新字串\n",
    "print(\"攝氏溫度為\", format(C, \"10.2f\"))  # 傳回寬度為10，保留2位小數的浮點數字串"
   ]
  },
  {
   "cell_type": "code",
   "execution_count": 171,
   "metadata": {},
   "outputs": [
    {
     "name": "stdout",
     "output_type": "stream",
     "text": [
      "攝氏溫度為     100.00\n",
      "華氏溫度為     212.00\n"
     ]
    }
   ],
   "source": [
    "# 將攝氏溫度設定為100，儲存在變數C中\n",
    "C = 100\n",
    "\n",
    "# 使用攝氏轉華氏公式計算華氏溫度(攝氏轉華氏公式：(攝氏溫度 × 9) ÷ 5 + 32)，並將結果儲存在變數F中\n",
    "F = C * 9 / 5 + 32\n",
    "\n",
    "# 使用format()函式格式化輸出攝氏溫度，欄位寬度為10字元，保留2位小數，並傳回新字串\n",
    "print(\"攝氏溫度為\", format(C, \"10.2f\"))  # 傳回寬度為10，保留2位小數的浮點數字串\n",
    "\n",
    "# 使用format()函式格式化輸出華氏溫度，欄位寬度為10字元，保留2位小數，並傳回新字串\n",
    "print(\"華氏溫度為\", format(F, \"10.2f\"))  # 傳回寬度為10，保留2位小數的浮點數字串"
   ]
  },
  {
   "cell_type": "code",
   "execution_count": 172,
   "metadata": {},
   "outputs": [
    {
     "data": {
      "text/plain": [
       "'I am John. I am 20 years old.'"
      ]
     },
     "execution_count": 172,
     "metadata": {},
     "output_type": "execute_result"
    }
   ],
   "source": [
    "# 將字串\"John\"指定給變數name\n",
    "name = \"John\"\n",
    "\n",
    "# 將整數20指定給變數age\n",
    "age = 20\n",
    "\n",
    "# 使用f-string格式化字串，將變數name與age的值插入字串中，並傳回格式化後的新字串\n",
    "f'I am {name}. I am {age} years old.'  # 傳回'I am John. I am 20 years old.'"
   ]
  },
  {
   "cell_type": "code",
   "execution_count": 173,
   "metadata": {},
   "outputs": [
    {
     "data": {
      "text/plain": [
       "\"I'm John. I'm 20 years old.\""
      ]
     },
     "execution_count": 173,
     "metadata": {},
     "output_type": "execute_result"
    }
   ],
   "source": [
    "# 使用f-string格式化字串，將變數name和age插入字串中，並傳回格式化後的新字串\n",
    "f\"I'm {name}. I'm {age} years old.\"  # 傳回\"I'm John. I'm 20 years old.\""
   ]
  },
  {
   "cell_type": "code",
   "execution_count": 174,
   "metadata": {},
   "outputs": [
    {
     "data": {
      "text/plain": [
       "'半徑是 10 的圓面積為 314.0'"
      ]
     },
     "execution_count": 174,
     "metadata": {},
     "output_type": "execute_result"
    }
   ],
   "source": [
    "# 使用f-string格式化字串，計算半徑為10的圓面積(圓面積公式：3.14 × 半徑的平方，即3.14 × 10 × 10)，並插入字串中，傳回格式化後的新字串\n",
    "f'半徑是 10 的圓面積為 {3.14 * 10 * 10}'  # 傳回'半徑是10的圓面積為314.0'"
   ]
  },
  {
   "cell_type": "code",
   "execution_count": 175,
   "metadata": {},
   "outputs": [
    {
     "data": {
      "text/plain": [
       "'我的名字是jean'"
      ]
     },
     "execution_count": 175,
     "metadata": {},
     "output_type": "execute_result"
    }
   ],
   "source": [
    "# 將字串\"JEAN\"指定給變數name\n",
    "name = \"JEAN\"\n",
    "\n",
    "# 使用f-string格式化字串，將變數name轉為小寫後插入字串中，並傳回格式化後的新字串\n",
    "f'我的名字是{name.lower()}'  # 傳回'我的名字是jean'"
   ]
  },
  {
   "cell_type": "code",
   "execution_count": 176,
   "metadata": {},
   "outputs": [
    {
     "data": {
      "text/plain": [
       "'12345.678      '"
      ]
     },
     "execution_count": 176,
     "metadata": {},
     "output_type": "execute_result"
    }
   ],
   "source": [
    "# 將浮點數12345.678指定給變數x\n",
    "x = 12345.678\n",
    "\n",
    "# 使用f-string格式化字串，欄位寬度為15字元，靠左對齊，並傳回格式化後的新字串\n",
    "f'{x:<15}'  # 傳回'12345.678      '，字串右側有6個空白"
   ]
  },
  {
   "cell_type": "code",
   "execution_count": 177,
   "metadata": {},
   "outputs": [
    {
     "data": {
      "text/plain": [
       "'      12345.678'"
      ]
     },
     "execution_count": 177,
     "metadata": {},
     "output_type": "execute_result"
    }
   ],
   "source": [
    "# 使用f-string格式化字串，欄位寬度為15字元，靠右對齊，並傳回格式化後的新字串\n",
    "f'{x:>15}'  # 傳回'      12345.678'，字串左側有6個空白"
   ]
  },
  {
   "cell_type": "code",
   "execution_count": 178,
   "metadata": {},
   "outputs": [
    {
     "data": {
      "text/plain": [
       "'   12345.678   '"
      ]
     },
     "execution_count": 178,
     "metadata": {},
     "output_type": "execute_result"
    }
   ],
   "source": [
    "# 使用f-string格式化字串，欄位寬度為15字元，置中對齊，並傳回格式化後的新字串\n",
    "f'{x:^15}'  # 傳回'   12345.678   '，字串左右兩側各有3個空白"
   ]
  },
  {
   "cell_type": "code",
   "execution_count": 179,
   "metadata": {},
   "outputs": [
    {
     "data": {
      "text/plain": [
       "'$$$12345.678$$$'"
      ]
     },
     "execution_count": 179,
     "metadata": {},
     "output_type": "execute_result"
    }
   ],
   "source": [
    "# 使用f-string格式化字串，欄位寬度為15字元，置中對齊，以$符號填滿空位，並傳回格式化後的新字串\n",
    "f'{x:$^15}'  # 傳回'$$$12345.678$$$'，字串左右兩側各有3個$符號"
   ]
  },
  {
   "cell_type": "code",
   "execution_count": 180,
   "metadata": {},
   "outputs": [
    {
     "data": {
      "text/plain": [
       "'  12345.68'"
      ]
     },
     "execution_count": 180,
     "metadata": {},
     "output_type": "execute_result"
    }
   ],
   "source": [
    "# 使用f-string格式化字串，欄位寬度為10字元，保留2位小數，並傳回格式化後的新字串\n",
    "f'{x:10.2f}'  # 傳回'  12345.68'，字串左側有2個空白"
   ]
  },
  {
   "cell_type": "code",
   "execution_count": 181,
   "metadata": {},
   "outputs": [
    {
     "data": {
      "text/plain": [
       "'  1.23e+04'"
      ]
     },
     "execution_count": 181,
     "metadata": {},
     "output_type": "execute_result"
    }
   ],
   "source": [
    "# 使用f-string格式化字串，欄位寬度為10字元，保留2位小數，並以科學記號表示法傳回格式化後的新字串\n",
    "f'{x:10.2e}'  # 傳回' 1.23e+04'，字串左側有2個空白"
   ]
  },
  {
   "cell_type": "code",
   "execution_count": 182,
   "metadata": {},
   "outputs": [
    {
     "data": {
      "text/plain": [
       "'1234567.80%'"
      ]
     },
     "execution_count": 182,
     "metadata": {},
     "output_type": "execute_result"
    }
   ],
   "source": [
    "# 使用f-string格式化字串，欄位寬度為10字元，保留2位小數，並以百分比表示法傳回格式化後的新字串\n",
    "f'{x:10.2%}'  # 傳回'1234567.80%'"
   ]
  },
  {
   "cell_type": "code",
   "execution_count": 183,
   "metadata": {},
   "outputs": [
    {
     "data": {
      "text/plain": [
       "'12,345,678'"
      ]
     },
     "execution_count": 183,
     "metadata": {},
     "output_type": "execute_result"
    }
   ],
   "source": [
    "# 使用f-string格式化字串，將數字12345678加上千分位符號，並傳回格式化後的新字串\n",
    "f'{12345678:,}'  # 傳回'12,345,678'"
   ]
  },
  {
   "cell_type": "code",
   "execution_count": 184,
   "metadata": {},
   "outputs": [
    {
     "data": {
      "text/plain": [
       "'0b1000001'"
      ]
     },
     "execution_count": 184,
     "metadata": {},
     "output_type": "execute_result"
    }
   ],
   "source": [
    "# 使用f-string格式化字串，將數字65轉成二進位表示法，前面加上0b，並傳回格式化後的新字串\n",
    "f'{65:#b}'  # 傳回'0b1000001'"
   ]
  },
  {
   "cell_type": "code",
   "execution_count": 185,
   "metadata": {},
   "outputs": [
    {
     "data": {
      "text/plain": [
       "'0o101'"
      ]
     },
     "execution_count": 185,
     "metadata": {},
     "output_type": "execute_result"
    }
   ],
   "source": [
    "# 使用f-string格式化字串，將數字65轉成八進位表示法，前面加上'0o'，並傳回格式化後的新字串\n",
    "f'{65:#o}'  # 傳回'0o101'"
   ]
  },
  {
   "cell_type": "code",
   "execution_count": 186,
   "metadata": {},
   "outputs": [
    {
     "data": {
      "text/plain": [
       "'0x41'"
      ]
     },
     "execution_count": 186,
     "metadata": {},
     "output_type": "execute_result"
    }
   ],
   "source": [
    "# 使用f-string格式化字串，將數字65轉成十六進位表示法，前面加上'0x'，並傳回格式化後的新字串\n",
    "f'{65:#x}'  # 傳回'0x41'"
   ]
  },
  {
   "cell_type": "code",
   "execution_count": 187,
   "metadata": {},
   "outputs": [
    {
     "data": {
      "text/plain": [
       "'+000000123'"
      ]
     },
     "execution_count": 187,
     "metadata": {},
     "output_type": "execute_result"
    }
   ],
   "source": [
    "# 使用f-string格式化字串，欄位寬度為10字元，包含正負號，並在正負號與數字之間用0填滿剩餘空位，傳回格式化後的新字串\n",
    "f'{123:=+010}'  # 傳回'+000000123'"
   ]
  },
  {
   "cell_type": "code",
   "execution_count": 188,
   "metadata": {},
   "outputs": [
    {
     "data": {
      "text/plain": [
       "58.47"
      ]
     },
     "execution_count": 188,
     "metadata": {},
     "output_type": "execute_result"
    }
   ],
   "source": [
    "# 使用abs()函式傳回浮點數-58.47的絕對值\n",
    "abs(-58.47)  # 傳回58.47"
   ]
  },
  {
   "cell_type": "code",
   "execution_count": 189,
   "metadata": {},
   "outputs": [
    {
     "data": {
      "text/plain": [
       "'11111111'"
      ]
     },
     "execution_count": 189,
     "metadata": {},
     "output_type": "execute_result"
    }
   ],
   "source": [
    "# 使用bin()函式傳回整數255的二進位字串，使用[2:]切片去除'0b'前綴，傳回純二進位數字字串\n",
    "bin(255)[2:]  # 傳回'11111111'"
   ]
  },
  {
   "cell_type": "code",
   "execution_count": 190,
   "metadata": {},
   "outputs": [
    {
     "data": {
      "text/plain": [
       "-58"
      ]
     },
     "execution_count": 190,
     "metadata": {},
     "output_type": "execute_result"
    }
   ],
   "source": [
    "# 使用int()函式將浮點數-58.47轉為整數(去除小數點部分，向零取整)\n",
    "int(-58.47)  # 傳回-58"
   ]
  },
  {
   "cell_type": "code",
   "execution_count": 191,
   "metadata": {},
   "outputs": [
    {
     "data": {
      "text/plain": [
       "-2048"
      ]
     },
     "execution_count": 191,
     "metadata": {},
     "output_type": "execute_result"
    }
   ],
   "source": [
    "# 使用pow()函式計算整數(-2)的11次方\n",
    "pow(-2, 11)  # 傳回-2048"
   ]
  },
  {
   "cell_type": "code",
   "execution_count": 192,
   "metadata": {},
   "outputs": [
    {
     "data": {
      "text/plain": [
       "32.0"
      ]
     },
     "execution_count": 192,
     "metadata": {},
     "output_type": "execute_result"
    }
   ],
   "source": [
    "# 匯入math模組，才能使用數學相關的常數與函式\n",
    "import math\n",
    "\n",
    "# 使用math.sqrt()函式傳回整數1024的平方根\n",
    "math.sqrt(1024)  # 傳回32.0"
   ]
  },
  {
   "cell_type": "code",
   "execution_count": 193,
   "metadata": {},
   "outputs": [
    {
     "data": {
      "text/plain": [
       "-60"
      ]
     },
     "execution_count": 193,
     "metadata": {},
     "output_type": "execute_result"
    }
   ],
   "source": [
    "# 使用math.floor()函式將-58.47減去1得到-59.47，然後向下取整(取最接近且小於等於的整數)\n",
    "math.floor(-58.47 - 1)  # 傳回-60"
   ]
  },
  {
   "cell_type": "code",
   "execution_count": 194,
   "metadata": {},
   "outputs": [
    {
     "data": {
      "text/plain": [
       "0.7071067811865476"
      ]
     },
     "execution_count": 194,
     "metadata": {},
     "output_type": "execute_result"
    }
   ],
   "source": [
    "# 使用math.sin()函式計算45度角的正弦值(將角度轉換為弧度後計算)\n",
    "math.sin(45 * math.pi / 180)  # 傳回0.7071067811865475"
   ]
  },
  {
   "cell_type": "code",
   "execution_count": 195,
   "metadata": {},
   "outputs": [
    {
     "data": {
      "text/plain": [
       "0.7071067811865476"
      ]
     },
     "execution_count": 195,
     "metadata": {},
     "output_type": "execute_result"
    }
   ],
   "source": [
    "# 使用math.radians()函式將45度角轉換為弧度，再用math.sin()函式計算該弧度的正弦值\n",
    "math.sin(math.radians(45))  # 傳回0.7071067811865475"
   ]
  },
  {
   "cell_type": "code",
   "execution_count": 196,
   "metadata": {},
   "outputs": [
    {
     "data": {
      "text/plain": [
       "0.7071067811865476"
      ]
     },
     "execution_count": 196,
     "metadata": {},
     "output_type": "execute_result"
    }
   ],
   "source": [
    "# 使用math.cos()函式計算45度角的餘弦值(將角度轉換為弧度後計算)\n",
    "math.cos(45 * math.pi / 180)  # 傳回0.7071067811865476"
   ]
  },
  {
   "cell_type": "code",
   "execution_count": 197,
   "metadata": {},
   "outputs": [
    {
     "data": {
      "text/plain": [
       "0.7071067811865476"
      ]
     },
     "execution_count": 197,
     "metadata": {},
     "output_type": "execute_result"
    }
   ],
   "source": [
    "# 使用math.radians()函式將45度角轉換為弧度，再用math.cos()函式計算該弧度的餘弦值\n",
    "math.cos(math.radians(45))  # 傳回0.7071067811865476"
   ]
  },
  {
   "cell_type": "code",
   "execution_count": 198,
   "metadata": {},
   "outputs": [
    {
     "data": {
      "text/plain": [
       "-58.7"
      ]
     },
     "execution_count": 198,
     "metadata": {},
     "output_type": "execute_result"
    }
   ],
   "source": [
    "# 使用round()函式將整數-58.74四捨五入到最接近的整數\n",
    "round(-58.74, 1)  # 傳回-58.7"
   ]
  },
  {
   "cell_type": "code",
   "execution_count": 199,
   "metadata": {},
   "outputs": [
    {
     "data": {
      "text/plain": [
       "112"
      ]
     },
     "execution_count": 199,
     "metadata": {},
     "output_type": "execute_result"
    }
   ],
   "source": [
    "# 使用ord()函式傳回字元'p'的Unicode編碼(十進位數字)\n",
    "ord('p')  # 傳回112"
   ]
  },
  {
   "cell_type": "code",
   "execution_count": 200,
   "metadata": {},
   "outputs": [
    {
     "data": {
      "text/plain": [
       "'d'"
      ]
     },
     "execution_count": 200,
     "metadata": {},
     "output_type": "execute_result"
    }
   ],
   "source": [
    "# 使用chr()函式傳回Unicode編碼100對應的字元\n",
    "chr(100)  # 傳回'd'"
   ]
  },
  {
   "cell_type": "code",
   "execution_count": 201,
   "metadata": {},
   "outputs": [
    {
     "name": "stdout",
     "output_type": "stream",
     "text": [
      "您輸入的第一個整數為 65\n",
      "您輸入的第二個整數為 225\n",
      "65 和 225 的最大公因數是 5\n"
     ]
    }
   ],
   "source": [
    "# 匯入math模組，才能使用數學相關的常數與函式\n",
    "import math\n",
    "\n",
    "# 使用int()函式提示使用者輸入兩個整數，並將結果儲存在變數num1和num2中\n",
    "num1 = int(input(\"請輸入第一個整數：\"))\n",
    "num2 = int(input(\"請輸入第二個整數：\"))\n",
    "\n",
    "# 顯示使用者輸入的兩個整數\n",
    "print(\"您輸入的第一個整數為\", num1)\n",
    "print(\"您輸入的第二個整數為\", num2)\n",
    "\n",
    "# 使用math.gcd()函式計算兩個整數的最大公因數，並將結果儲存在變數gcd中\n",
    "gcd = math.gcd(num1, num2)\n",
    "\n",
    "# 輸出兩個整數的最大公因數\n",
    "print(f\"{num1} 和 {num2} 的最大公因數是 {gcd}\")"
   ]
  },
  {
   "cell_type": "code",
   "execution_count": 202,
   "metadata": {},
   "outputs": [
    {
     "name": "stdout",
     "output_type": "stream",
     "text": [
      "您輸入的第一個整數為 80\n",
      "您輸入的第二個整數為 100\n",
      "80 和 100 的最大公因數是 20\n",
      "80 和 100 的最小公倍數是 400\n"
     ]
    }
   ],
   "source": [
    "# 匯入math模組，才能使用數學相關的常數與函式\n",
    "import math\n",
    "\n",
    "# 使用int()函式提示使用者輸入兩個整數，並將結果儲存在變數num1和num2中\n",
    "num1 = int(input(\"請輸入第一個整數：\"))\n",
    "num2 = int(input(\"請輸入第二個整數：\"))\n",
    "\n",
    "# 顯示使用者輸入的兩個整數\n",
    "print(\"您輸入的第一個整數為\", num1)\n",
    "print(\"您輸入的第二個整數為\", num2)\n",
    "\n",
    "# 使用math.gcd()函式計算兩個整數的最大公因數，並將結果儲存在變數gcd中\n",
    "gcd = math.gcd(num1, num2)\n",
    "\n",
    "# 使用math.lcm()函式計算兩個整數的最小公倍數，並將結果儲存在變數lcm中\n",
    "lcm = math.lcm(num1, num2)\n",
    "\n",
    "# 輸出兩個整數的最大公因數與最小公倍數\n",
    "print(f\"{num1} 和 {num2} 的最大公因數是 {gcd}\")\n",
    "print(f\"{num1} 和 {num2} 的最小公倍數是 {lcm}\")"
   ]
  },
  {
   "cell_type": "code",
   "execution_count": 203,
   "metadata": {},
   "outputs": [
    {
     "name": "stdout",
     "output_type": "stream",
     "text": [
      "True\n"
     ]
    }
   ],
   "source": [
    "# 定義一個字串s1，內容為\"Today is Friday.\"\n",
    "s1 = \"Today is Friday.\"\n",
    "\n",
    "# 使用in運算子判斷字串\"day\"是否包含在字串s1中，若是則傳回True，否則傳回False\n",
    "print(\"day\" in s1)  # 傳回True"
   ]
  },
  {
   "cell_type": "code",
   "execution_count": 204,
   "metadata": {},
   "outputs": [
    {
     "name": "stdout",
     "output_type": "stream",
     "text": [
      "2\n"
     ]
    }
   ],
   "source": [
    "# 使用s1.count()方法計算字串s1中\"day\"出現的次數，並傳回結果\n",
    "print(s1.count(\"day\"))  # 傳回2"
   ]
  },
  {
   "cell_type": "code",
   "execution_count": 205,
   "metadata": {},
   "outputs": [
    {
     "data": {
      "text/plain": [
       "2"
      ]
     },
     "execution_count": 205,
     "metadata": {},
     "output_type": "execute_result"
    }
   ],
   "source": [
    "# 使用s1.find()方法找出子字串\"day\"在字串s1中的最小索引位置，若找不到則傳回-1\n",
    "s1.find(\"day\")  # 傳回2，因為\"day\"首次出現在索引位置2(在\"Today\"中)"
   ]
  },
  {
   "cell_type": "code",
   "execution_count": 206,
   "metadata": {},
   "outputs": [
    {
     "data": {
      "text/plain": [
       "12"
      ]
     },
     "execution_count": 206,
     "metadata": {},
     "output_type": "execute_result"
    }
   ],
   "source": [
    "# 使用s1.rfind()方法找出子字串\"day\"在字串s1中的最大索引位置，若找不到則傳回-1\n",
    "s1.rfind(\"day\")  # 傳回12，因為最後一個\"day\"出現在索引位置12(在\"Friday\"中)"
   ]
  },
  {
   "cell_type": "code",
   "execution_count": 207,
   "metadata": {},
   "outputs": [
    {
     "data": {
      "text/plain": [
       "'Today is Saturday.'"
      ]
     },
     "execution_count": 207,
     "metadata": {},
     "output_type": "execute_result"
    }
   ],
   "source": [
    "# 使用s1.replace()方法將字串s1中的\"Friday\"替換為\"Saturday\"，並將結果存入新字串new1\n",
    "new1 = s1.replace(\"Friday\", \"Saturday\")  # 傳回新字串'Today is Saturday.'\n",
    "new1                                     # 輸出新字串new1的內容"
   ]
  },
  {
   "cell_type": "code",
   "execution_count": 208,
   "metadata": {},
   "outputs": [
    {
     "data": {
      "text/plain": [
       "'tODAY IS fRIDAY.'"
      ]
     },
     "execution_count": 208,
     "metadata": {},
     "output_type": "execute_result"
    }
   ],
   "source": [
    "# 使用s1.swapcase()方法將變數s1中的所有大寫字元轉為小寫，小寫字元轉為大寫，並將結果存入新字串new2\n",
    "new2 = s1.swapcase()  # 傳回新字串'tODAY IS fRIDAY.'\n",
    "new2                  # 輸出新字串new2的內容"
   ]
  },
  {
   "cell_type": "code",
   "execution_count": 209,
   "metadata": {},
   "outputs": [
    {
     "name": "stdout",
     "output_type": "stream",
     "text": [
      "False\n"
     ]
    }
   ],
   "source": [
    "# 使用s1.istitle()方法判斷字串s1是否為標題格式(即每個單字的第一個字母皆為大寫)，若是則傳回True，否則傳回False\n",
    "print(s1.istitle())  # 因為字串中的\"is\"為小寫開頭，不符合標題格式，傳回False"
   ]
  },
  {
   "cell_type": "code",
   "execution_count": 210,
   "metadata": {},
   "outputs": [
    {
     "data": {
      "text/plain": [
       "'    Today is Friday.'"
      ]
     },
     "execution_count": 210,
     "metadata": {},
     "output_type": "execute_result"
    }
   ],
   "source": [
    "# 使用s1.rjust(20)方法將字串靠右對齊，補足欄位寬度至20個字元(左側補空白)，並傳回新字串\n",
    "s1.rjust(20)  # 傳回'    Today is Friday.'"
   ]
  },
  {
   "cell_type": "code",
   "execution_count": 211,
   "metadata": {},
   "outputs": [
    {
     "data": {
      "text/plain": [
       "'y'"
      ]
     },
     "execution_count": 211,
     "metadata": {},
     "output_type": "execute_result"
    }
   ],
   "source": [
    "# 使用max(s1)函式取得字串s1中的最大字元(依Unicode編碼比較)\n",
    "max(s1)  # 傳回'y'"
   ]
  },
  {
   "cell_type": "code",
   "execution_count": 212,
   "metadata": {},
   "outputs": [
    {
     "data": {
      "text/plain": [
       "'oda'"
      ]
     },
     "execution_count": 212,
     "metadata": {},
     "output_type": "execute_result"
    }
   ],
   "source": [
    "# 取得字串s1中索引值1到3的字元(包含索引1，但不包含索引4)\n",
    "s1[1:4]  # 傳回'oda'"
   ]
  },
  {
   "cell_type": "code",
   "execution_count": 213,
   "metadata": {},
   "outputs": [
    {
     "name": "stdout",
     "output_type": "stream",
     "text": [
      "50.0 的平方根是：7.07107\n"
     ]
    }
   ],
   "source": [
    "# 匯入math模組，才能使用數學相關的常數與函式\n",
    "import math\n",
    "\n",
    "# 提示使用者輸入一個數字，並將輸入值轉換成浮點數後儲存在變數num中\n",
    "num = float(input(\"請輸入一個數字：\"))\n",
    "\n",
    "# 使用math.sqrt()函式計算數字num的平方根，並將結果儲存在變數sqrt_value中\n",
    "sqrt_value = math.sqrt(num)\n",
    "\n",
    "# 輸出數字num的平方根，結果格式化為小數點後5位\n",
    "print(f\"{num} 的平方根是：{sqrt_value:.5f}\")"
   ]
  },
  {
   "cell_type": "code",
   "execution_count": 214,
   "metadata": {},
   "outputs": [
    {
     "data": {
      "text/plain": [
       "'***168****'"
      ]
     },
     "execution_count": 214,
     "metadata": {},
     "output_type": "execute_result"
    }
   ],
   "source": [
    "# 使用format()函式將整數168格式化為欄位寬度10字元，置中對齊，以'*'符號填滿空位，並傳回新字串\n",
    "format(168, \"*^10\")  # 傳回'***168****'，字串左側有3個*符號，右側有4個*符號"
   ]
  },
  {
   "cell_type": "code",
   "execution_count": 215,
   "metadata": {},
   "outputs": [
    {
     "data": {
      "text/plain": [
       "'-000000168'"
      ]
     },
     "execution_count": 215,
     "metadata": {},
     "output_type": "execute_result"
    }
   ],
   "source": [
    "# 使用format()函式將整數-168格式化為欄位寬度10字元，包含負號，並在負號與數字之間用0填滿剩餘空位，傳回新字串\n",
    "format(-168, \"=010\")  # 傳回'-000000168'"
   ]
  },
  {
   "cell_type": "code",
   "execution_count": 216,
   "metadata": {},
   "outputs": [
    {
     "data": {
      "text/plain": [
       "'       76.56'"
      ]
     },
     "execution_count": 216,
     "metadata": {},
     "output_type": "execute_result"
    }
   ],
   "source": [
    "# 使用format()函式將浮點數76.5638格式化為欄位寬度12字元，保留2位小數並傳回新字串\n",
    "format(76.5638, \"12.2f\")  # 傳回'       76.56'，字串左側有7個空白"
   ]
  },
  {
   "cell_type": "code",
   "execution_count": 217,
   "metadata": {},
   "outputs": [
    {
     "data": {
      "text/plain": [
       "'      76.564'"
      ]
     },
     "execution_count": 217,
     "metadata": {},
     "output_type": "execute_result"
    }
   ],
   "source": [
    "# 使用format()函式將浮點數76.5638格式化為欄位寬度12字元，保留3位小數並傳回新字串\n",
    "format(76.5638, \"12.3f\")  # 傳回'      76.564'，字串左側有6個空白"
   ]
  },
  {
   "cell_type": "code",
   "execution_count": 218,
   "metadata": {},
   "outputs": [
    {
     "data": {
      "text/plain": [
       "'    7.66e+01'"
      ]
     },
     "execution_count": 218,
     "metadata": {},
     "output_type": "execute_result"
    }
   ],
   "source": [
    "# 使用format()函式將浮點數76.5638格式化為欄位寬度12字元，保留2位小數，並以科學記號表示法傳回新字串\n",
    "format(76.5638, \"12.2e\")  # 傳回'    7.66e+01'，字串左側有4個空白"
   ]
  },
  {
   "cell_type": "code",
   "execution_count": 219,
   "metadata": {},
   "outputs": [
    {
     "data": {
      "text/plain": [
       "'   7.656e+01'"
      ]
     },
     "execution_count": 219,
     "metadata": {},
     "output_type": "execute_result"
    }
   ],
   "source": [
    "# 使用format()函式將浮點數76.5638格式化為欄位寬度12字元，保留3位小數，並以科學記號表示法傳回新字串\n",
    "format(76.5638, \"12.3e\")  # 傳回'   7.656e+01'，字串左側有3個空白"
   ]
  },
  {
   "cell_type": "code",
   "execution_count": 220,
   "metadata": {},
   "outputs": [
    {
     "data": {
      "text/plain": [
       "'76.56       '"
      ]
     },
     "execution_count": 220,
     "metadata": {},
     "output_type": "execute_result"
    }
   ],
   "source": [
    "# 使用format()函式將浮點數76.5638格式化為欄位寬度12字元，靠左對齊，保留2位小數並傳回新字串\n",
    "format(76.5638, \"<12.2f\")  # 傳回'76.56       '，字串右側有7個空白"
   ]
  },
  {
   "cell_type": "code",
   "execution_count": 221,
   "metadata": {},
   "outputs": [
    {
     "data": {
      "text/plain": [
       "' 150.00%'"
      ]
     },
     "execution_count": 221,
     "metadata": {},
     "output_type": "execute_result"
    }
   ],
   "source": [
    "# 使用format()函式將浮點數1.5格式化為欄位寬度8字元，保留2位小數，並以百分比表示法傳回新字串\n",
    "format(1.5, \"8.2%\")  # 傳回' 150.00%'，字串左側有1個空白"
   ]
  },
  {
   "cell_type": "code",
   "execution_count": 222,
   "metadata": {},
   "outputs": [
    {
     "name": "stdout",
     "output_type": "stream",
     "text": [
      "小明今年 23 歲，薪資為 30,000 元\n"
     ]
    }
   ],
   "source": [
    "# 使用format()函式格式化字串，顯示小明的年齡與薪資，薪資加上千分位逗號\n",
    "print(\"小明今年 {0} 歲，薪資為 {1:,} 元\".format(23, 30000))  # 傳回'小明今年 23 歲，薪資為 30,000 元'"
   ]
  },
  {
   "cell_type": "code",
   "execution_count": 223,
   "metadata": {},
   "outputs": [
    {
     "name": "stdout",
     "output_type": "stream",
     "text": [
      "半徑為 10 的球體積為 4188.790\n"
     ]
    }
   ],
   "source": [
    "# 使用format()函式格式化字串，計算半徑為10的球體積，球體積公式：(4/3) × 10 × r³，並將結果格式化為小數點後3位\n",
    "print(\"半徑為 {0} 的球體積為 {1:.3f}\".format(10, 4/3 * math.pi * 10 ** 3))  # 傳回'半徑為 10 的球體積為 4188.790'"
   ]
  }
 ],
 "metadata": {
  "kernelspec": {
   "display_name": "base",
   "language": "python",
   "name": "python3"
  },
  "language_info": {
   "codemirror_mode": {
    "name": "ipython",
    "version": 3
   },
   "file_extension": ".py",
   "mimetype": "text/x-python",
   "name": "python",
   "nbconvert_exporter": "python",
   "pygments_lexer": "ipython3",
   "version": "3.12.7"
  }
 },
 "nbformat": 4,
 "nbformat_minor": 2
}
