{
 "cells": [
  {
   "cell_type": "markdown",
   "metadata": {},
   "source": [
    "# ch1 開始撰寫 Python 程式"
   ]
  },
  {
   "cell_type": "code",
   "execution_count": 1,
   "metadata": {},
   "outputs": [
    {
     "name": "stdout",
     "output_type": "stream",
     "text": [
      "Hello, World!\n"
     ]
    }
   ],
   "source": [
    "# 我的第一個Python程式\n",
    "print(\"Hello, World!\")  # 輸出Hello, World!"
   ]
  },
  {
   "cell_type": "code",
   "execution_count": 2,
   "metadata": {},
   "outputs": [
    {
     "name": "stdout",
     "output_type": "stream",
     "text": [
      "7\n",
      "3\n",
      "10\n",
      "2.5\n"
     ]
    }
   ],
   "source": [
    "# 加法運算：5加2\n",
    "print(5 + 2)  # 輸出7\n",
    "\n",
    "# 減法運算：5減2\n",
    "print(5 - 2)  # 輸出3\n",
    "\n",
    "# 乘法運算：5乘以2\n",
    "print(5 * 2)  # 輸出10\n",
    "\n",
    "# 除法運算：5除以2，結果會是浮點數\n",
    "print(5 / 2)  # 輸出2.5"
   ]
  },
  {
   "cell_type": "code",
   "execution_count": 3,
   "metadata": {},
   "outputs": [
    {
     "name": "stdout",
     "output_type": "stream",
     "text": [
      "1\n"
     ]
    }
   ],
   "source": [
    "# 將數字1指定給變數a\n",
    "a = 1\n",
    "\n",
    "# 輸出變數a的值，結果是1\n",
    "print(a)"
   ]
  },
  {
   "cell_type": "code",
   "execution_count": 4,
   "metadata": {},
   "outputs": [
    {
     "name": "stdout",
     "output_type": "stream",
     "text": [
      "圓柱體積為 1570.0\n"
     ]
    }
   ],
   "source": [
    "# 圓柱體積計算公式：π × r² × h\n",
    "# π 取近似值3.14，半徑 r = 10，高 h = 5\n",
    "\n",
    "print(\"圓柱體積為\", 3.14 * 10 * 10 * 5)  # 計算圓柱體積並輸出結果"
   ]
  },
  {
   "cell_type": "code",
   "execution_count": 5,
   "metadata": {},
   "outputs": [
    {
     "name": "stdout",
     "output_type": "stream",
     "text": [
      "圓柱表面積為 942.0\n"
     ]
    }
   ],
   "source": [
    "# 圓柱表面積計算公式：2 × π × r² + 2 × π × r × h\n",
    "# π 取近似值3.14，半徑 r = 10，高度 h = 5\n",
    "\n",
    "print(\"圓柱表面積為\", 3.14 * 10 * 10 * 2 + 2 * 3.14 * 10 * 5)  # 計算圓柱表面積並輸出結果"
   ]
  },
  {
   "cell_type": "code",
   "execution_count": 6,
   "metadata": {},
   "outputs": [
    {
     "name": "stdout",
     "output_type": "stream",
     "text": [
      "單利本利和為 1180000.0\n"
     ]
    }
   ],
   "source": [
    "# 單利本利和計算公式：本金 × (1 + 利率 × 年數)\n",
    "# 本金 = 1000000，利率 = 6% (0.06)，年數 = 3年\n",
    "\n",
    "print(\"單利本利和為\", 1000000 * (1 + 0.06 * 3))  # 計算單利本利和並輸出結果"
   ]
  },
  {
   "cell_type": "code",
   "execution_count": 7,
   "metadata": {},
   "outputs": [
    {
     "name": "stdout",
     "output_type": "stream",
     "text": [
      "複利本利和為 1191016.0\n"
     ]
    }
   ],
   "source": [
    "# 複利本利和計算公式：本金 × (1 + 利率) ^ 年數\n",
    "# 本金 = 1000000，利率 = 6% (0.06)，年數 = 3年\n",
    "\n",
    "print(\"複利本利和為\", 1000000 * (1 + 0.06) ** 3)  # 計算複利本利和並輸出結果"
   ]
  },
  {
   "cell_type": "code",
   "execution_count": 8,
   "metadata": {},
   "outputs": [
    {
     "name": "stdout",
     "output_type": "stream",
     "text": [
      "153\n"
     ]
    }
   ],
   "source": [
    "# n階乘(n!)計算公式：1 * 2 * ... * n\n",
    "print(1 + 1*2 + 1*2*3 + 1*2*3*4 + 1*2*3*4*5)  # 計算1! + 2! + 3! + 4! + 5!的總和並輸出結果"
   ]
  },
  {
   "cell_type": "code",
   "execution_count": 9,
   "metadata": {},
   "outputs": [
    {
     "name": "stdout",
     "output_type": "stream",
     "text": [
      "梯形面積為 45.0\n"
     ]
    }
   ],
   "source": [
    "# 梯形面積計算公式：(上底 + 下底) × 高 ÷ 2\n",
    "# 上底 = 5，下底 = 10，高 = 6\n",
    "\n",
    "print(\"梯形面積為\", (5 + 10) * 6 / 2)  # 計算梯形面積並輸出結果"
   ]
  },
  {
   "cell_type": "code",
   "execution_count": 10,
   "metadata": {},
   "outputs": [
    {
     "name": "stdout",
     "output_type": "stream",
     "text": [
      "55\n"
     ]
    }
   ],
   "source": [
    "print(1 + 2 + 3 + 4 + 5 + 6 + 7 + 8 + 9 + 10)  # 計算從1加到10的總和並輸出結果"
   ]
  },
  {
   "cell_type": "code",
   "execution_count": 11,
   "metadata": {},
   "outputs": [
    {
     "name": "stdout",
     "output_type": "stream",
     "text": [
      "25.6\n"
     ]
    }
   ],
   "source": [
    "print((5 + 3) * (18 - 2) / (15 - 10))  # 計算(5 + 3) * (18 - 2) / (15 - 10)並輸出結果"
   ]
  },
  {
   "cell_type": "code",
   "execution_count": 12,
   "metadata": {},
   "outputs": [
    {
     "name": "stdout",
     "output_type": "stream",
     "text": [
      "4200 秒\n"
     ]
    }
   ],
   "source": [
    "print(1 * 60 * 60 + 10 * 60, \"秒\")  # 計算1小時10分鐘的秒數並輸出結果"
   ]
  },
  {
   "cell_type": "code",
   "execution_count": 13,
   "metadata": {},
   "outputs": [
    {
     "name": "stdout",
     "output_type": "stream",
     "text": [
      "27.0\n"
     ]
    }
   ],
   "source": [
    "# 計算((2^5 * 3^5 * 4^3) * (2^2 * 3^4))除以((2^3 * 3^2) * (3^4 * 4^5))並輸出結果\n",
    "print(((2 ** 5 * 3 ** 5 * 4 ** 3) * (2 ** 2 * 3 ** 4)) / ((2 ** 3 * 3 ** 2) * (3 ** 4 * 4 ** 5)))"
   ]
  },
  {
   "cell_type": "code",
   "execution_count": 14,
   "metadata": {},
   "outputs": [
    {
     "name": "stdout",
     "output_type": "stream",
     "text": [
      "314.159\n"
     ]
    }
   ],
   "source": [
    "# 圓面積計算公式：π × r²\n",
    "# π 取近似值3.14159，半徑 r = 10\n",
    "\n",
    "print(3.14159 * 10 ** 2)  # 計算圓面積並輸出結果"
   ]
  },
  {
   "cell_type": "code",
   "execution_count": 15,
   "metadata": {},
   "outputs": [
    {
     "name": "stdout",
     "output_type": "stream",
     "text": [
      "4188.786666666666\n"
     ]
    }
   ],
   "source": [
    "# 球體積計算公式：(4/3) × π × r³\n",
    "# π 取近似值3.14159，半徑 r = 10\n",
    "\n",
    "print((4 / 3) * 3.14159 * 10 ** 3)  # 計算球體積並輸出結果"
   ]
  },
  {
   "cell_type": "code",
   "execution_count": 16,
   "metadata": {},
   "outputs": [
    {
     "name": "stdout",
     "output_type": "stream",
     "text": [
      "經過 500 天後，剩下的質量為 12.50 公克\n"
     ]
    }
   ],
   "source": [
    "# 半衰變後的質量計算公式：剩餘質量 = 初始質量 * (0.5) ^ (經過時間 / 半衰期)\n",
    "\n",
    "# 初始質量(公克)\n",
    "initial_mass = 400\n",
    "\n",
    "# 半衰期(天)\n",
    "half_life = 100\n",
    "\n",
    "# 經過的時間(天)\n",
    "time_passed = 500\n",
    "\n",
    "# 計算剩下的質量\n",
    "remaining_mass = initial_mass * (0.5) ** (time_passed / half_life)\n",
    "\n",
    "# 輸出結果(保留兩位小數)\n",
    "print(f\"經過 {time_passed} 天後，剩下的質量為 {remaining_mass:.2f} 公克\")"
   ]
  },
  {
   "cell_type": "code",
   "execution_count": 17,
   "metadata": {},
   "outputs": [
    {
     "name": "stdout",
     "output_type": "stream",
     "text": [
      "預估西元 2023 年的人口總數為：86.40 億人\n"
     ]
    }
   ],
   "source": [
    "# 計算人口總數(指數成長公式：P(t) = P0 * (1 + r) ^ t)\n",
    "\n",
    "# 初始資料\n",
    "P0 = 50  # 1987年人口(億)\n",
    "P1999 = 60  # 1999年人口(億)\n",
    "years_between = 1999 - 1987  # 成長期間年數\n",
    "\n",
    "# 計算年成長率\n",
    "growth_rate = (P1999 / P0) ** (1 / years_between) - 1\n",
    "\n",
    "# 要預測的年份\n",
    "target_year = 2023\n",
    "years_from_1987 = target_year - 1987\n",
    "\n",
    "# 使用指數成長公式計算人口\n",
    "P2023 = P0 * (1 + growth_rate) ** years_from_1987\n",
    "\n",
    "# 輸出結果(保留兩位小數)\n",
    "print(f\"預估西元 {target_year} 年的人口總數為：{P2023:.2f} 億人\")"
   ]
  },
  {
   "cell_type": "code",
   "execution_count": 18,
   "metadata": {},
   "outputs": [
    {
     "name": "stdout",
     "output_type": "stream",
     "text": [
      "Hello\n",
      "Good Lock!\n",
      "Happy Birthday!\n",
      "Merry Christmas!\n"
     ]
    }
   ],
   "source": [
    "print(\"Hello\")             # 輸出Hello\n",
    "print(\"Good Lock!\")        # 輸出Good Lock!\n",
    "print(\"Happy Birthday!\")   # 輸出Happy Birthday!\n",
    "print(\"Merry Christmas!\")  # 輸出Merry Christmas!"
   ]
  }
 ],
 "metadata": {
  "kernelspec": {
   "display_name": "base",
   "language": "python",
   "name": "python3"
  },
  "language_info": {
   "codemirror_mode": {
    "name": "ipython",
    "version": 3
   },
   "file_extension": ".py",
   "mimetype": "text/x-python",
   "name": "python",
   "nbconvert_exporter": "python",
   "pygments_lexer": "ipython3",
   "version": "3.12.7"
  }
 },
 "nbformat": 4,
 "nbformat_minor": 2
}
