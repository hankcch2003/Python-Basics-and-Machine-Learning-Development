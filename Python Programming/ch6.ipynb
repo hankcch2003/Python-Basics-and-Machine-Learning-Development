{
 "cells": [
  {
   "cell_type": "markdown",
   "metadata": {},
   "source": [
    "# ch6 list(串列)、tuple(序對)、set(集合)與dict(字典)"
   ]
  },
  {
   "cell_type": "code",
   "execution_count": 1,
   "metadata": {},
   "outputs": [
    {
     "data": {
      "text/plain": [
       "[1, 'Taipei', 2, 'Tokyo']"
      ]
     },
     "execution_count": 1,
     "metadata": {},
     "output_type": "execute_result"
    }
   ],
   "source": [
    "[1, \"Taipei\", 2, \"Tokyo\"]  # 一個包含4個元素的串列，元素包含整數與字串"
   ]
  },
  {
   "cell_type": "code",
   "execution_count": 2,
   "metadata": {},
   "outputs": [
    {
     "data": {
      "text/plain": [
       "[2, 'Tokyo', 1, 'Taipei']"
      ]
     },
     "execution_count": 2,
     "metadata": {},
     "output_type": "execute_result"
    }
   ],
   "source": [
    "[2, \"Tokyo\", 1, \"Taipei\"]  # 元素相同但順序不同，表示不同串列"
   ]
  },
  {
   "cell_type": "code",
   "execution_count": 3,
   "metadata": {},
   "outputs": [
    {
     "data": {
      "text/plain": [
       "[]"
      ]
     },
     "execution_count": 3,
     "metadata": {},
     "output_type": "execute_result"
    }
   ],
   "source": [
    "list1 = list()  # 建立一個空的串列list1\n",
    "list1"
   ]
  },
  {
   "cell_type": "code",
   "execution_count": 4,
   "metadata": {},
   "outputs": [
    {
     "data": {
      "text/plain": [
       "[]"
      ]
     },
     "execution_count": 4,
     "metadata": {},
     "output_type": "execute_result"
    }
   ],
   "source": [
    "list1 = []  # 建立一個空的串列list1\n",
    "list1"
   ]
  },
  {
   "cell_type": "code",
   "execution_count": 5,
   "metadata": {},
   "outputs": [
    {
     "data": {
      "text/plain": [
       "[1, 2, 3]"
      ]
     },
     "execution_count": 5,
     "metadata": {},
     "output_type": "execute_result"
    }
   ],
   "source": [
    "list2 = list([1, 2, 3])  # 建立一個包含1、2、3的串列list2\n",
    "list2"
   ]
  },
  {
   "cell_type": "code",
   "execution_count": 6,
   "metadata": {},
   "outputs": [
    {
     "data": {
      "text/plain": [
       "[1, 2, 3]"
      ]
     },
     "execution_count": 6,
     "metadata": {},
     "output_type": "execute_result"
    }
   ],
   "source": [
    "list2 = [1, 2, 3]  # 建立一個包含1、2、3的串列list2\n",
    "list2"
   ]
  },
  {
   "cell_type": "code",
   "execution_count": 7,
   "metadata": {},
   "outputs": [
    {
     "data": {
      "text/plain": [
       "['A', 'B', 'A']"
      ]
     },
     "execution_count": 7,
     "metadata": {},
     "output_type": "execute_result"
    }
   ],
   "source": [
    "list3 = list(\"ABA\")  # 從字串建立一個包含'A', 'B', 'A'的串列list3\n",
    "list3"
   ]
  },
  {
   "cell_type": "code",
   "execution_count": 8,
   "metadata": {},
   "outputs": [
    {
     "data": {
      "text/plain": [
       "['ABA']"
      ]
     },
     "execution_count": 8,
     "metadata": {},
     "output_type": "execute_result"
    }
   ],
   "source": [
    "list3 = [\"ABA\"]  # 建立一個串列list3，包含一個字串元素\"ABA\"\n",
    "list3"
   ]
  },
  {
   "cell_type": "code",
   "execution_count": 9,
   "metadata": {},
   "outputs": [
    {
     "data": {
      "text/plain": [
       "[0, 1, 2, 3, 4]"
      ]
     },
     "execution_count": 9,
     "metadata": {},
     "output_type": "execute_result"
    }
   ],
   "source": [
    "list4 = list(range(5))  # 從range物件建立一個包含0, 1, 2, 3, 4的串列list4\n",
    "list4"
   ]
  },
  {
   "cell_type": "code",
   "execution_count": 10,
   "metadata": {},
   "outputs": [
    {
     "data": {
      "text/plain": [
       "[8, 6, 4, 2]"
      ]
     },
     "execution_count": 10,
     "metadata": {},
     "output_type": "execute_result"
    }
   ],
   "source": [
    "list5 = list(range(8, 0, -2))  # 從range物件建立一個包含8, 6, 4, 2的串列list5\n",
    "list5"
   ]
  },
  {
   "cell_type": "code",
   "execution_count": 11,
   "metadata": {},
   "outputs": [
    {
     "data": {
      "text/plain": [
       "['1', '2', '3']"
      ]
     },
     "execution_count": 11,
     "metadata": {},
     "output_type": "execute_result"
    }
   ],
   "source": [
    "\"1 2 3\".split()  # 根據空白將字串分隔成串列"
   ]
  },
  {
   "cell_type": "code",
   "execution_count": 12,
   "metadata": {},
   "outputs": [
    {
     "data": {
      "text/plain": [
       "['1', '2', '', '3', '']"
      ]
     },
     "execution_count": 12,
     "metadata": {},
     "output_type": "execute_result"
    }
   ],
   "source": [
    "\"1,2,,3,\".split(',')  # 根據逗號將字串分隔成串列"
   ]
  },
  {
   "cell_type": "code",
   "execution_count": 13,
   "metadata": {},
   "outputs": [
    {
     "data": {
      "text/plain": [
       "5"
      ]
     },
     "execution_count": 13,
     "metadata": {},
     "output_type": "execute_result"
    }
   ],
   "source": [
    "len([1, 2, 3, 4, 5])  # 傳回串列的長度(元素個數)"
   ]
  },
  {
   "cell_type": "code",
   "execution_count": 14,
   "metadata": {},
   "outputs": [
    {
     "data": {
      "text/plain": [
       "5"
      ]
     },
     "execution_count": 14,
     "metadata": {},
     "output_type": "execute_result"
    }
   ],
   "source": [
    "max([1, 2, 3, 4, 5])  # 傳回串列中最大的元素"
   ]
  },
  {
   "cell_type": "code",
   "execution_count": 15,
   "metadata": {},
   "outputs": [
    {
     "data": {
      "text/plain": [
       "1"
      ]
     },
     "execution_count": 15,
     "metadata": {},
     "output_type": "execute_result"
    }
   ],
   "source": [
    "min([1, 2, 3, 4, 5])  # 傳回串列中最小的元素"
   ]
  },
  {
   "cell_type": "code",
   "execution_count": 16,
   "metadata": {},
   "outputs": [
    {
     "data": {
      "text/plain": [
       "15"
      ]
     },
     "execution_count": 16,
     "metadata": {},
     "output_type": "execute_result"
    }
   ],
   "source": [
    "sum([1, 2, 3, 4, 5])  # 傳回串列中元素的總和"
   ]
  },
  {
   "cell_type": "code",
   "execution_count": 17,
   "metadata": {},
   "outputs": [
    {
     "name": "stdout",
     "output_type": "stream",
     "text": [
      "[3, 4, 5, 1, 2]\n"
     ]
    }
   ],
   "source": [
    "# 引入random模組，用於產生隨機數相關功能\n",
    "import random\n",
    "\n",
    "# 建立一個包含數字1到5的串列\n",
    "L = [1, 2, 3, 4, 5]\n",
    "\n",
    "# 將串列中的元素隨機重排\n",
    "random.shuffle(L)\n",
    "\n",
    "# 顯示輸出結果\n",
    "print(L)"
   ]
  },
  {
   "cell_type": "code",
   "execution_count": 18,
   "metadata": {},
   "outputs": [
    {
     "name": "stdout",
     "output_type": "stream",
     "text": [
      "5\n"
     ]
    }
   ],
   "source": [
    "print(random.choice(L))  # 從串列中的元素隨機選擇一個"
   ]
  },
  {
   "cell_type": "code",
   "execution_count": 19,
   "metadata": {},
   "outputs": [
    {
     "name": "stdout",
     "output_type": "stream",
     "text": [
      "5\n"
     ]
    }
   ],
   "source": [
    "print(random.choice(L))  # 從串列中的元素隨機選擇一個"
   ]
  },
  {
   "cell_type": "code",
   "execution_count": 20,
   "metadata": {},
   "outputs": [
    {
     "data": {
      "text/plain": [
       "[1, 2, 3, 'Taipei', 'Tokyo', 'Vienna']"
      ]
     },
     "execution_count": 20,
     "metadata": {},
     "output_type": "execute_result"
    }
   ],
   "source": [
    "[1, 2, 3] + [\"Taipei\", \"Tokyo\", \"Vienna\"]  # 使用+運算子將兩個串列合併成一個新串列"
   ]
  },
  {
   "cell_type": "code",
   "execution_count": 21,
   "metadata": {},
   "outputs": [
    {
     "data": {
      "text/plain": [
       "[1, 2, 3, 1, 2, 3, 1, 2, 3]"
      ]
     },
     "execution_count": 21,
     "metadata": {},
     "output_type": "execute_result"
    }
   ],
   "source": [
    "3 * [1, 2, 3]  # 使用*運算子將串列[1, 2, 3]重複3次"
   ]
  },
  {
   "cell_type": "code",
   "execution_count": 22,
   "metadata": {},
   "outputs": [
    {
     "data": {
      "text/plain": [
       "[1, 2, 3, 1, 2, 3, 1, 2, 3]"
      ]
     },
     "execution_count": 22,
     "metadata": {},
     "output_type": "execute_result"
    }
   ],
   "source": [
    "[1, 2, 3] * 3  # 使用*運算子將串列[1, 2, 3]重複3次"
   ]
  },
  {
   "cell_type": "code",
   "execution_count": 23,
   "metadata": {},
   "outputs": [
    {
     "data": {
      "text/plain": [
       "False"
      ]
     },
     "execution_count": 23,
     "metadata": {},
     "output_type": "execute_result"
    }
   ],
   "source": [
    "[1, \"神隱少女\", \"宮崎駿\"] == [\"神隱少女\", \"宮崎駿\", 1]  # 比較兩個串列是否相等"
   ]
  },
  {
   "cell_type": "code",
   "execution_count": 24,
   "metadata": {},
   "outputs": [
    {
     "data": {
      "text/plain": [
       "True"
      ]
     },
     "execution_count": 24,
     "metadata": {},
     "output_type": "execute_result"
    }
   ],
   "source": [
    "[1, 2, 3] != [1, 2, 3, 4]  # 比較兩個串列是否不相等"
   ]
  },
  {
   "cell_type": "code",
   "execution_count": 25,
   "metadata": {},
   "outputs": [
    {
     "data": {
      "text/plain": [
       "True"
      ]
     },
     "execution_count": 25,
     "metadata": {},
     "output_type": "execute_result"
    }
   ],
   "source": [
    "['a', 'b', 'c', 'd', 'e'] > ['a', 'b', 'c', 'd', 'E']  # 比較兩個串列的大小"
   ]
  },
  {
   "cell_type": "code",
   "execution_count": 26,
   "metadata": {},
   "outputs": [
    {
     "data": {
      "text/plain": [
       "True"
      ]
     },
     "execution_count": 26,
     "metadata": {},
     "output_type": "execute_result"
    }
   ],
   "source": [
    "['我', '是', 'A'] < ['我', '是', 'B']  # 比較兩個串列的大小"
   ]
  },
  {
   "cell_type": "code",
   "execution_count": 27,
   "metadata": {},
   "outputs": [
    {
     "data": {
      "text/plain": [
       "True"
      ]
     },
     "execution_count": 27,
     "metadata": {},
     "output_type": "execute_result"
    }
   ],
   "source": [
    "\"Taipei\" in [1, \"Taipei\", 2, \"Tokyo\"]  # 檢查字串\"Taipei\"是否存在於串列中"
   ]
  },
  {
   "cell_type": "code",
   "execution_count": 28,
   "metadata": {},
   "outputs": [
    {
     "data": {
      "text/plain": [
       "False"
      ]
     },
     "execution_count": 28,
     "metadata": {},
     "output_type": "execute_result"
    }
   ],
   "source": [
    "\"Vienna\" in [1, \"Taipei\", 2, \"Tokyo\"]  # 檢查字串\"Vienna\"是否存在於串列中"
   ]
  },
  {
   "cell_type": "code",
   "execution_count": 29,
   "metadata": {},
   "outputs": [
    {
     "data": {
      "text/plain": [
       "False"
      ]
     },
     "execution_count": 29,
     "metadata": {},
     "output_type": "execute_result"
    }
   ],
   "source": [
    "\"Taipei\" not in [1, \"Taipei\", 2, \"Tokyo\"]  # 檢查字串\"Taipei\"是否不存在串列中"
   ]
  },
  {
   "cell_type": "code",
   "execution_count": 30,
   "metadata": {},
   "outputs": [
    {
     "data": {
      "text/plain": [
       "True"
      ]
     },
     "execution_count": 30,
     "metadata": {},
     "output_type": "execute_result"
    }
   ],
   "source": [
    "\"Vienna\" not in [1, \"Taipei\", 2, \"Tokyo\"]  # 檢查字串\"Vienna\"是否不存在於串列中"
   ]
  },
  {
   "cell_type": "code",
   "execution_count": 31,
   "metadata": {},
   "outputs": [
    {
     "name": "stdout",
     "output_type": "stream",
     "text": [
      "[15, 20, 25]\n",
      "[20, 25, 30, 35]\n",
      "[35, 40, 45]\n"
     ]
    }
   ],
   "source": [
    "# 建立一個包含10個整數的串列L\n",
    "L = [5, 10, 15, 20, 25, 30, 35, 40, 45, 50]\n",
    "\n",
    "print(L[2:5])   # 取得索引2到4的元素(包含索引2，不包含索引5)\n",
    "print(L[3:7])   # 取得索引3到6的元素(包含索引3，不包含索引7)\n",
    "print(L[6:-1])  # 取得索引6到倒數第2個元素(包含索引6，不包含索引-1)"
   ]
  },
  {
   "cell_type": "code",
   "execution_count": 32,
   "metadata": {},
   "outputs": [
    {
     "name": "stdout",
     "output_type": "stream",
     "text": [
      "[5, 10]\n",
      "[15, 20, 25, 30, 35, 40, 45, 50]\n"
     ]
    }
   ],
   "source": [
    "# 建立一個包含10個整數的串列L\n",
    "L = [5, 10, 15, 20, 25, 30, 35, 40, 45, 50]\n",
    "\n",
    "print(L[:2])   # 取得索引0到1的元素(包含索引0，不包含索引2)\n",
    "print(L[2:])   # 取得索引2到9的元素(包含索引2，不包含索引10)"
   ]
  },
  {
   "cell_type": "code",
   "execution_count": 33,
   "metadata": {},
   "outputs": [
    {
     "name": "stdout",
     "output_type": "stream",
     "text": [
      "275\n"
     ]
    }
   ],
   "source": [
    "# 建立一個包含10個整數的串列L\n",
    "L = [5, 10, 15, 20, 25, 30, 35, 40, 45, 50]\n",
    "\n",
    "sum = 0            # 初始化變數sum為0，用來累加串列中元素的總和\n",
    "for i in L:        # 逐一取出串列L中的每個元素i\n",
    "    sum = sum + i  # 將目前元素i加到sum中，累加總和\n",
    "print(sum)         # 印出串列L中所有元素的總和"
   ]
  },
  {
   "cell_type": "code",
   "execution_count": 34,
   "metadata": {},
   "outputs": [
    {
     "data": {
      "text/plain": [
       "5"
      ]
     },
     "execution_count": 34,
     "metadata": {},
     "output_type": "execute_result"
    }
   ],
   "source": [
    "list1 = [10, 20, 30, 40, 50]   # 建立第一個包含五個整數的串列list1\n",
    "list2 = [50, 40, 30, 20, 10]   # 建立第二個包含五個整數的串列list2\n",
    "len(list1)                     # 傳回串列list1的長度(元素個數)"
   ]
  },
  {
   "cell_type": "code",
   "execution_count": 35,
   "metadata": {},
   "outputs": [
    {
     "data": {
      "text/plain": [
       "False"
      ]
     },
     "execution_count": 35,
     "metadata": {},
     "output_type": "execute_result"
    }
   ],
   "source": [
    "list1 == list2  # 比較串列list1和list2是否相等"
   ]
  },
  {
   "cell_type": "code",
   "execution_count": 36,
   "metadata": {},
   "outputs": [
    {
     "data": {
      "text/plain": [
       "50"
      ]
     },
     "execution_count": 36,
     "metadata": {},
     "output_type": "execute_result"
    }
   ],
   "source": [
    "max(list1)  # 傳回串列list1中的最大值"
   ]
  },
  {
   "cell_type": "code",
   "execution_count": 37,
   "metadata": {},
   "outputs": [
    {
     "data": {
      "text/plain": [
       "[30, 40, 50]"
      ]
     },
     "execution_count": 37,
     "metadata": {},
     "output_type": "execute_result"
    }
   ],
   "source": [
    "list1[2:5]  # 取得串列list1中索引2到4的元素(包含索引2，不包含索引5)"
   ]
  },
  {
   "cell_type": "code",
   "execution_count": 38,
   "metadata": {},
   "outputs": [
    {
     "data": {
      "text/plain": [
       "[10, 20, 100, 40, 50]"
      ]
     },
     "execution_count": 38,
     "metadata": {},
     "output_type": "execute_result"
    }
   ],
   "source": [
    "list1[2] = 100  # 將串列list1中索引為2的元素改為100\n",
    "list1"
   ]
  },
  {
   "cell_type": "code",
   "execution_count": 39,
   "metadata": {},
   "outputs": [
    {
     "name": "stdout",
     "output_type": "stream",
     "text": [
      "您輸入的整數是 1\n",
      "ONE\n"
     ]
    }
   ],
   "source": [
    "# 串列變數EnglishNum用來存放1~5的英文\n",
    "EnglishNum = [\"ONE\", \"TWO\", \"THREE\", \"FOUR\", \"FIVE\"]\n",
    "\n",
    "# 使用者輸入一個整數\n",
    "num = eval(input(\"請輸入1~5的整數：\"))\n",
    "\n",
    "# 顯示使用者輸入的整數\n",
    "print(\"您輸入的整數是\", num)\n",
    "\n",
    "# 判斷輸入的數字是否在1到5範圍內(包含1和5)\n",
    "if num in range(1, 6):\n",
    "    # 如果在範圍內，根據輸入值印出對應的英文(索引從0開始，因此要減1)\n",
    "    print(EnglishNum[num - 1])\n",
    "else:\n",
    "    # 如果不在範圍內，則印出錯誤訊息\n",
    "    print(\"您輸入的資料超過範圍！\")"
   ]
  },
  {
   "cell_type": "code",
   "execution_count": 40,
   "metadata": {},
   "outputs": [
    {
     "name": "stdout",
     "output_type": "stream",
     "text": [
      "您輸入的整數是 2\n",
      "TWO\n"
     ]
    }
   ],
   "source": [
    "# 串列變數EnglishNum用來存放1~5的英文\n",
    "EnglishNum = [\"ONE\", \"TWO\", \"THREE\", \"FOUR\", \"FIVE\"]\n",
    "\n",
    "# 使用者輸入一個整數\n",
    "num = eval(input(\"請輸入1~5的整數：\"))\n",
    "\n",
    "# 顯示使用者輸入的整數\n",
    "print(\"您輸入的整數是\", num)\n",
    "\n",
    "# 判斷輸入的數字是否在1到5範圍內(包含1和5)\n",
    "if num in range(1, 6):\n",
    "    # 如果在範圍內，根據輸入值印出對應的英文(索引從0開始，因此要減1)\n",
    "    print(EnglishNum[num - 1])\n",
    "else:\n",
    "    # 如果不在範圍內，則印出錯誤訊息\n",
    "    print(\"您輸入的資料超過範圍！\")"
   ]
  },
  {
   "cell_type": "code",
   "execution_count": 41,
   "metadata": {},
   "outputs": [
    {
     "name": "stdout",
     "output_type": "stream",
     "text": [
      "您輸入的整數是 3\n",
      "THREE\n"
     ]
    }
   ],
   "source": [
    "# 串列變數EnglishNum用來存放1~5的英文\n",
    "EnglishNum = [\"ONE\", \"TWO\", \"THREE\", \"FOUR\", \"FIVE\"]\n",
    "\n",
    "# 使用者輸入一個整數\n",
    "num = eval(input(\"請輸入1~5的整數：\"))\n",
    "\n",
    "# 顯示使用者輸入的整數\n",
    "print(\"您輸入的整數是\", num)\n",
    "\n",
    "# 判斷輸入的數字是否在1到5範圍內(包含1和5)\n",
    "if num in range(1, 6):\n",
    "    # 如果在範圍內，根據輸入值印出對應的英文(索引從0開始，因此要減1)\n",
    "    print(EnglishNum[num - 1])\n",
    "else:\n",
    "    # 如果不在範圍內，則印出錯誤訊息\n",
    "    print(\"您輸入的資料超過範圍！\")"
   ]
  },
  {
   "cell_type": "code",
   "execution_count": 42,
   "metadata": {},
   "outputs": [
    {
     "name": "stdout",
     "output_type": "stream",
     "text": [
      "您輸入的整數是 4\n",
      "FOUR\n"
     ]
    }
   ],
   "source": [
    "# 串列變數EnglishNum用來存放1~5的英文\n",
    "EnglishNum = [\"ONE\", \"TWO\", \"THREE\", \"FOUR\", \"FIVE\"]\n",
    "\n",
    "# 使用者輸入一個整數\n",
    "num = eval(input(\"請輸入1~5的整數：\"))\n",
    "\n",
    "# 顯示使用者輸入的整數\n",
    "print(\"您輸入的整數是\", num)\n",
    "\n",
    "# 判斷輸入的數字是否在1到5範圍內(包含1和5)\n",
    "if num in range(1, 6):\n",
    "    # 如果在範圍內，根據輸入值印出對應的英文(索引從0開始，因此要減1)\n",
    "    print(EnglishNum[num - 1])\n",
    "else:\n",
    "    # 如果不在範圍內，則印出錯誤訊息\n",
    "    print(\"您輸入的資料超過範圍！\")"
   ]
  },
  {
   "cell_type": "code",
   "execution_count": 43,
   "metadata": {},
   "outputs": [
    {
     "name": "stdout",
     "output_type": "stream",
     "text": [
      "您輸入的整數是 5\n",
      "FIVE\n"
     ]
    }
   ],
   "source": [
    "# 串列變數EnglishNum用來存放1~5的英文\n",
    "EnglishNum = [\"ONE\", \"TWO\", \"THREE\", \"FOUR\", \"FIVE\"]\n",
    "\n",
    "# 使用者輸入一個整數\n",
    "num = eval(input(\"請輸入1~5的整數：\"))\n",
    "\n",
    "# 顯示使用者輸入的整數\n",
    "print(\"您輸入的整數是\", num)\n",
    "\n",
    "# 判斷輸入的數字是否在1到5範圍內(包含1和5)\n",
    "if num in range(1, 6):\n",
    "    # 如果在範圍內，根據輸入值印出對應的英文(索引從0開始，因此要減1)\n",
    "    print(EnglishNum[num - 1])\n",
    "else:\n",
    "    # 如果不在範圍內，則印出錯誤訊息\n",
    "    print(\"您輸入的資料超過範圍！\")"
   ]
  },
  {
   "cell_type": "code",
   "execution_count": 44,
   "metadata": {},
   "outputs": [
    {
     "name": "stdout",
     "output_type": "stream",
     "text": [
      "您輸入的整數是 6\n",
      "您輸入的資料超過範圍！\n"
     ]
    }
   ],
   "source": [
    "# 串列變數EnglishNum用來存放1~5的英文\n",
    "EnglishNum = [\"ONE\", \"TWO\", \"THREE\", \"FOUR\", \"FIVE\"]\n",
    "\n",
    "# 使用者輸入一個整數\n",
    "num = eval(input(\"請輸入1~5的整數：\"))\n",
    "\n",
    "# 顯示使用者輸入的整數\n",
    "print(\"您輸入的整數是\", num)\n",
    "\n",
    "# 判斷輸入的數字是否在1到5範圍內(包含1和5)\n",
    "if num in range(1, 6):\n",
    "    # 如果在範圍內，根據輸入值印出對應的英文(索引從0開始，因此要減1)\n",
    "    print(EnglishNum[num - 1])\n",
    "else:\n",
    "    # 如果不在範圍內，則印出錯誤訊息\n",
    "    print(\"您輸入的資料超過範圍！\")"
   ]
  },
  {
   "cell_type": "code",
   "execution_count": 45,
   "metadata": {},
   "outputs": [
    {
     "data": {
      "text/plain": [
       "[10, 20, 30, 40, 50, 60]"
      ]
     },
     "execution_count": 45,
     "metadata": {},
     "output_type": "execute_result"
    }
   ],
   "source": [
    "list1 = [10, 20, 30, 40, 50]  # 建立第一個串列list1，包含元素[10, 20, 30, 40, 50]\n",
    "list2 = [100, 200, 300]       # 建立第二個串列list2，包含元素[100, 200, 300]\n",
    "list1.append(60)              # 使用append()方法將元素60加入到list1串列的末端\n",
    "list1                         # 顯示修改後的list1串列"
   ]
  },
  {
   "cell_type": "code",
   "execution_count": 46,
   "metadata": {},
   "outputs": [
    {
     "data": {
      "text/plain": [
       "[10, 20, 30, 40, 50, 60, 100, 200, 300]"
      ]
     },
     "execution_count": 46,
     "metadata": {},
     "output_type": "execute_result"
    }
   ],
   "source": [
    "list1.extend(list2)  # 將list2串列中的所有元素依序加入list1的末端\n",
    "list1                # 顯示合併後的list1串列"
   ]
  },
  {
   "cell_type": "code",
   "execution_count": 47,
   "metadata": {},
   "outputs": [
    {
     "data": {
      "text/plain": [
       "[10, 1000, 20, 30, 40, 50, 60, 100, 200, 300]"
      ]
     },
     "execution_count": 47,
     "metadata": {},
     "output_type": "execute_result"
    }
   ],
   "source": [
    "list1.insert(1, 1000)  # 在索引位置1插入元素1000，其餘元素往後移動\n",
    "list1                  # 顯示插入後的list1串列"
   ]
  },
  {
   "cell_type": "code",
   "execution_count": 48,
   "metadata": {},
   "outputs": [
    {
     "data": {
      "text/plain": [
       "[10, 20, 30, 40, 50, 60, 100, 200, 300]"
      ]
     },
     "execution_count": 48,
     "metadata": {},
     "output_type": "execute_result"
    }
   ],
   "source": [
    "list1.remove(1000)  # 從list1串列中移除第一個出現的元素1000\n",
    "list1               # 顯示移除後的list1串列"
   ]
  },
  {
   "cell_type": "code",
   "execution_count": 49,
   "metadata": {},
   "outputs": [
    {
     "data": {
      "text/plain": [
       "300"
      ]
     },
     "execution_count": 49,
     "metadata": {},
     "output_type": "execute_result"
    }
   ],
   "source": [
    "list1.pop()  # 刪除list1串列最後一個元素並傳回該元素"
   ]
  },
  {
   "cell_type": "code",
   "execution_count": 50,
   "metadata": {},
   "outputs": [
    {
     "data": {
      "text/plain": [
       "[10, 20, 30, 40, 50, 60, 100, 200]"
      ]
     },
     "execution_count": 50,
     "metadata": {},
     "output_type": "execute_result"
    }
   ],
   "source": [
    "list1  # 移除最後一個元素後，顯示list1串列的最終結果"
   ]
  },
  {
   "cell_type": "code",
   "execution_count": 51,
   "metadata": {},
   "outputs": [
    {
     "data": {
      "text/plain": [
       "1"
      ]
     },
     "execution_count": 51,
     "metadata": {},
     "output_type": "execute_result"
    }
   ],
   "source": [
    "list1 = [50, 20, 40, 20, 30, 20, 10]  # 建立一個串列list1，包含多個整數元素\n",
    "list1.index(20)  # 回傳元素20在串列中第一次出現的索引位置"
   ]
  },
  {
   "cell_type": "code",
   "execution_count": 52,
   "metadata": {},
   "outputs": [
    {
     "data": {
      "text/plain": [
       "3"
      ]
     },
     "execution_count": 52,
     "metadata": {},
     "output_type": "execute_result"
    }
   ],
   "source": [
    "list1.count(20)  # 回傳元素20在串列中出現的次數"
   ]
  },
  {
   "cell_type": "code",
   "execution_count": 53,
   "metadata": {},
   "outputs": [
    {
     "data": {
      "text/plain": [
       "[10, 20, 20, 20, 30, 40, 50]"
      ]
     },
     "execution_count": 53,
     "metadata": {},
     "output_type": "execute_result"
    }
   ],
   "source": [
    "list1.sort()  # 將list1中的元素由小到大排序(遞增排序)\n",
    "list1"
   ]
  },
  {
   "cell_type": "code",
   "execution_count": 54,
   "metadata": {},
   "outputs": [
    {
     "data": {
      "text/plain": [
       "[50, 40, 30, 20, 20, 20, 10]"
      ]
     },
     "execution_count": 54,
     "metadata": {},
     "output_type": "execute_result"
    }
   ],
   "source": [
    "list1.reverse()  # 將list1中的元素反轉(例如變為由大到小)\n",
    "list1"
   ]
  },
  {
   "cell_type": "code",
   "execution_count": 55,
   "metadata": {},
   "outputs": [
    {
     "data": {
      "text/plain": [
       "[50, 40, 30, 20, 20, 20, 10]"
      ]
     },
     "execution_count": 55,
     "metadata": {},
     "output_type": "execute_result"
    }
   ],
   "source": [
    "list2 = list1.copy()  # 複製list1串列並指派給變數list2\n",
    "list2"
   ]
  },
  {
   "cell_type": "code",
   "execution_count": 56,
   "metadata": {},
   "outputs": [
    {
     "data": {
      "text/plain": [
       "[]"
      ]
     },
     "execution_count": 56,
     "metadata": {},
     "output_type": "execute_result"
    }
   ],
   "source": [
    "list2.clear()  # 刪除list2串列中的所有元素\n",
    "list2"
   ]
  },
  {
   "cell_type": "code",
   "execution_count": 57,
   "metadata": {},
   "outputs": [
    {
     "name": "stdout",
     "output_type": "stream",
     "text": [
      "第 1 位評審的分數為 88\n",
      "第 2 位評審的分數為 85\n",
      "第 3 位評審的分數為 90\n",
      "第 4 位評審的分數為 88\n",
      "第 5 位評審的分數為 84\n",
      "這位選手的總分為 435\n"
     ]
    }
   ],
   "source": [
    "# 如果sum被覆蓋，刪除自定義的sum變數，恢復內建的sum()函數\n",
    "del sum\n",
    "\n",
    "# 建立串列變數list1，用來存放5位評審給某位選手的分數，初始為空串列\n",
    "list1 = []\n",
    "\n",
    "# 使用for迴圈要求輸入5次分數，並將分數存入list1\n",
    "for i in range(1, 6):\n",
    "\n",
    "    # 使用者輸入第i位評審的分數\n",
    "    prompt = \"請輸入第\" + str(i) + \"位評審的分數：\"\n",
    "    \n",
    "    # 將使用者輸入的字串轉換為整數，並儲存為score變數\n",
    "    score = int(input(prompt))\n",
    "    \n",
    "    # 輸出第i位評審的分數\n",
    "    print(\"第\", i, \"位評審的分數為\", score)\n",
    "    \n",
    "    # 使用append()方法將評審分數(score)加入list1的尾端\n",
    "    list1.append(score)\n",
    "\n",
    "# 輸出選手的總分結果\n",
    "print(\"這位選手的總分為\", sum(list1))"
   ]
  },
  {
   "cell_type": "code",
   "execution_count": 58,
   "metadata": {},
   "outputs": [
    {
     "data": {
      "text/plain": [
       "[0, 1, 2, 3, 4, 5, 6, 7, 8, 9]"
      ]
     },
     "execution_count": 58,
     "metadata": {},
     "output_type": "execute_result"
    }
   ],
   "source": [
    "list1 = [i for i in range(10)]  # 使用串列生成式(for敘述)，建立包含0到9的串列list1\n",
    "list1"
   ]
  },
  {
   "cell_type": "code",
   "execution_count": 59,
   "metadata": {},
   "outputs": [
    {
     "data": {
      "text/plain": [
       "[0, 2, 4, 6, 8, 10, 12, 14, 16, 18]"
      ]
     },
     "execution_count": 59,
     "metadata": {},
     "output_type": "execute_result"
    }
   ],
   "source": [
    "list2 = [i * 2 for i in range(10)]  # 使用串列生成式(for敘述)，建立一個串列list2，元素是0到9的數字乘以2\n",
    "list2"
   ]
  },
  {
   "cell_type": "code",
   "execution_count": 60,
   "metadata": {},
   "outputs": [
    {
     "data": {
      "text/plain": [
       "[0, 1, 2, 3, 4, 5, 6, 7]"
      ]
     },
     "execution_count": 60,
     "metadata": {},
     "output_type": "execute_result"
    }
   ],
   "source": [
    "list3 = [i for i in range(10) if i < 8]  # 使用串列生成式(for敘述加條件篩選i < 8)，建立一個包含0到7的串列list3\n",
    "list3"
   ]
  },
  {
   "cell_type": "code",
   "execution_count": 61,
   "metadata": {},
   "outputs": [
    {
     "data": {
      "text/plain": [
       "[1.5, 2, 0, 2, 8]"
      ]
     },
     "execution_count": 61,
     "metadata": {},
     "output_type": "execute_result"
    }
   ],
   "source": [
    "list1 = [-1.5, -2, 0, 2, 8]      # 建立一個包含正負數和零的串列list1\n",
    "list2 = [abs(i) for i in list1]  # 使用串列生成式，將list1中每個元素取絕對值，建立新串列list2\n",
    "list2"
   ]
  },
  {
   "cell_type": "code",
   "execution_count": 62,
   "metadata": {},
   "outputs": [
    {
     "data": {
      "text/plain": [
       "[0, 2, 8]"
      ]
     },
     "execution_count": 62,
     "metadata": {},
     "output_type": "execute_result"
    }
   ],
   "source": [
    "list3 = [i for i in list1 if i >= 0]  # 使用串列生成式，從list1中篩選出所有大於或等於0的元素，建立新串列list3\n",
    "list3"
   ]
  },
  {
   "cell_type": "code",
   "execution_count": 63,
   "metadata": {},
   "outputs": [
    {
     "data": {
      "text/plain": [
       "[2.25, 4, 0, 4, 64]"
      ]
     },
     "execution_count": 63,
     "metadata": {},
     "output_type": "execute_result"
    }
   ],
   "source": [
    "list4 = [i ** 2 for i in list1]  # 使用串列生成式，將list1中每個元素平方後建立新串列list4\n",
    "list4"
   ]
  },
  {
   "cell_type": "code",
   "execution_count": 64,
   "metadata": {},
   "outputs": [
    {
     "name": "stdout",
     "output_type": "stream",
     "text": [
      "2.7083333333333335\n",
      "2.7182815255731922\n",
      "2.718281828459045\n",
      "2.718281828459045\n"
     ]
    }
   ],
   "source": [
    "# 引入math模組，用來計算階乘函數\n",
    "import math\n",
    "\n",
    "def e(n):\n",
    "    # 計算數學常數e的近似值，使用前n項的級數展開：\n",
    "    # e ≈ Σ (1 / i!)，i從0到n-1\n",
    "    return sum([1 / math.factorial(i) for i in range(n)])\n",
    "\n",
    "# 印出使用不同項數(5、10、100、1000)計算出的e近似值(利用階乘展開)\n",
    "print(e(5))\n",
    "print(e(10))\n",
    "print(e(100))\n",
    "print(e(1000))"
   ]
  },
  {
   "cell_type": "code",
   "execution_count": 65,
   "metadata": {},
   "outputs": [
    {
     "name": "stdout",
     "output_type": "stream",
     "text": [
      "[2, 27, 28, 40, 42, 45]\n"
     ]
    }
   ],
   "source": [
    "# 引入random模組，用來產生隨機數\n",
    "import random\n",
    "\n",
    "# 建立空串列lotto，用來存放隨機選出的樂透號碼\n",
    "lotto = []\n",
    "\n",
    "# 重複執行6次，從1到49的數字中隨機挑選不重複的整數加入lotto串列\n",
    "for i in range(6):\n",
    "    # 用串列生成式過濾掉已經在lotto中的數字，再從剩下的數字中隨機選一個加入\n",
    "    lotto.append(random.choice([x for x in range(1, 50) if x not in lotto]))\n",
    "\n",
    "# 將lotto串列中的數字由小到大排序\n",
    "lotto.sort()\n",
    "\n",
    "# 印出排序後的樂透號碼\n",
    "print(lotto)"
   ]
  },
  {
   "cell_type": "code",
   "execution_count": 66,
   "metadata": {},
   "outputs": [
    {
     "data": {
      "text/plain": [
       "[1.5, 66, 333, 333, 1234]"
      ]
     },
     "execution_count": 66,
     "metadata": {},
     "output_type": "execute_result"
    }
   ],
   "source": [
    "L = [-1, 1.5, 66, 333, 333, 1234]  # 建立一個包含各種數值的串列L\n",
    "del L[0]                           # 刪除索引為0的元素\n",
    "L"
   ]
  },
  {
   "cell_type": "code",
   "execution_count": 67,
   "metadata": {},
   "outputs": [
    {
     "data": {
      "text/plain": [
       "[1.5, 66]"
      ]
     },
     "execution_count": 67,
     "metadata": {},
     "output_type": "execute_result"
    }
   ],
   "source": [
    "del L[2:5]  # 刪除索引為2到4的元素\n",
    "L"
   ]
  },
  {
   "cell_type": "code",
   "execution_count": 68,
   "metadata": {},
   "outputs": [
    {
     "data": {
      "text/plain": [
       "[]"
      ]
     },
     "execution_count": 68,
     "metadata": {},
     "output_type": "execute_result"
    }
   ],
   "source": [
    "del L[:]  # 刪除串列L中的所有元素\n",
    "L"
   ]
  },
  {
   "cell_type": "code",
   "execution_count": 69,
   "metadata": {},
   "outputs": [],
   "source": [
    "del L  # 刪除變數L"
   ]
  },
  {
   "cell_type": "code",
   "execution_count": 70,
   "metadata": {},
   "outputs": [
    {
     "data": {
      "text/plain": [
       "[95, 100, 100]"
      ]
     },
     "execution_count": 70,
     "metadata": {},
     "output_type": "execute_result"
    }
   ],
   "source": [
    "# 顯示5位學生的三科成績\n",
    "grades = [[95, 100, 100], [86, 90, 75], [98, 98, 96], [78, 90, 80], [70, 68, 72]]\n",
    "\n",
    "# 取得第1位學生的成績\n",
    "grades[0]"
   ]
  },
  {
   "cell_type": "code",
   "execution_count": 71,
   "metadata": {},
   "outputs": [
    {
     "data": {
      "text/plain": [
       "[86, 90, 75]"
      ]
     },
     "execution_count": 71,
     "metadata": {},
     "output_type": "execute_result"
    }
   ],
   "source": [
    "# 取得第2位學生的成績\n",
    "grades[1]"
   ]
  },
  {
   "cell_type": "code",
   "execution_count": 72,
   "metadata": {},
   "outputs": [
    {
     "data": {
      "text/plain": [
       "[98, 98, 96]"
      ]
     },
     "execution_count": 72,
     "metadata": {},
     "output_type": "execute_result"
    }
   ],
   "source": [
    "# 取得第3位學生的成績\n",
    "grades[2]"
   ]
  },
  {
   "cell_type": "code",
   "execution_count": 73,
   "metadata": {},
   "outputs": [
    {
     "data": {
      "text/plain": [
       "95"
      ]
     },
     "execution_count": 73,
     "metadata": {},
     "output_type": "execute_result"
    }
   ],
   "source": [
    "# 取得第1位學生的第一科成績\n",
    "grades[0][0]"
   ]
  },
  {
   "cell_type": "code",
   "execution_count": 74,
   "metadata": {},
   "outputs": [
    {
     "data": {
      "text/plain": [
       "100"
      ]
     },
     "execution_count": 74,
     "metadata": {},
     "output_type": "execute_result"
    }
   ],
   "source": [
    "# 取得第1位學生的第二科成績\n",
    "grades[0][1]"
   ]
  },
  {
   "cell_type": "code",
   "execution_count": 75,
   "metadata": {},
   "outputs": [
    {
     "data": {
      "text/plain": [
       "100"
      ]
     },
     "execution_count": 75,
     "metadata": {},
     "output_type": "execute_result"
    }
   ],
   "source": [
    "# 取得第1位學生的第三科成績\n",
    "grades[0][2]"
   ]
  },
  {
   "cell_type": "code",
   "execution_count": 76,
   "metadata": {},
   "outputs": [
    {
     "data": {
      "text/plain": [
       "86"
      ]
     },
     "execution_count": 76,
     "metadata": {},
     "output_type": "execute_result"
    }
   ],
   "source": [
    "# 取得第2位學生的第一科成績\n",
    "grades[1][0]"
   ]
  },
  {
   "cell_type": "code",
   "execution_count": 77,
   "metadata": {},
   "outputs": [
    {
     "name": "stdout",
     "output_type": "stream",
     "text": [
      "學生 1 的總分為 295\n",
      "學生 2 的總分為 251\n",
      "學生 3 的總分為 292\n",
      "學生 4 的總分為 248\n",
      "學生 5 的總分為 210\n"
     ]
    }
   ],
   "source": [
    "# 建立二維串列grades，包含5位學生的三科成績\n",
    "grades = [[95, 100, 100], [86, 90, 75], [98, 98, 96], [78, 90, 80], [70, 68, 72]]\n",
    "\n",
    "# 使用外層for迴圈來計算並儲存每位學生的總分，索引範圍為0到4\n",
    "for i in range(5):\n",
    "    # 初始化subTotal變數，用來累計每位學生的總分\n",
    "    subTotal = 0\n",
    "\n",
    "    # 使用內層for迴圈將三科成績加總\n",
    "    for j in range(3):            # 內層迴圈用來計算每位學生三科的總分\n",
    "        subTotal += grades[i][j]  # 將每一科的成績累加到subTotal中\n",
    "    grades[i].append(subTotal)    # 將每位學生的總分加入該學生的成績列表，成為第4個元素\n",
    "\n",
    "# 使用另一個for迴圈輸出每位學生的總分\n",
    "for i in range(5):\n",
    "    # 輸出每位學生的總分，該總分位於成績列表的第4個位置(索引3)\n",
    "    print(\"學生\", i + 1, \"的總分為\", grades[i][3])"
   ]
  },
  {
   "cell_type": "code",
   "execution_count": 78,
   "metadata": {},
   "outputs": [],
   "source": [
    "# 定義一個二維串列(matrix)，包含4行，每行3個元素\n",
    "martix = [[1, 2, 3], [4, 5, 6], [7, 8, 9], [10, 11, 12]]"
   ]
  },
  {
   "cell_type": "code",
   "execution_count": 79,
   "metadata": {},
   "outputs": [
    {
     "name": "stdout",
     "output_type": "stream",
     "text": [
      "您輸入的矩陣為 [[1, 2, 3], [4, 5, 6], [7, 8, 9], [10, 11, 12]]\n"
     ]
    }
   ],
   "source": [
    "# 初始化空的二維串列，用來儲存矩陣\n",
    "matrix = []\n",
    "\n",
    "# 使用者輸入矩陣的列數\n",
    "rows = eval(input(\"請輸入矩陣的列數：\"))\n",
    "\n",
    "# 使用者輸入矩陣的行數\n",
    "cols = eval(input(\"請輸入矩陣的行數：\"))\n",
    "\n",
    "# 使用外層for迴圈對每一列進行操作(總共有rows列)\n",
    "for i in range(rows):\n",
    "    # 為每一列創建一個空的子串列，用來存儲該列的元素\n",
    "    matrix.append([])\n",
    "\n",
    "    # 使用內層for迴圈對每一列中的每個元素進行操作(總共有cols個元素)\n",
    "    for j in range(cols):\n",
    "        # 提示使用者輸入當前位置的元素值，並將輸入的字串轉換為相應的數值類型\n",
    "        element = eval(input(\"請輸入矩陣的元素(由上往下逐列輸入)：\"))\n",
    "        # 把輸入的元素加入到當前列(matrix[i])中\n",
    "        matrix[i].append(element)\n",
    "\n",
    "# 顯示填寫完成的矩陣\n",
    "print(\"您輸入的矩陣為\", matrix)"
   ]
  },
  {
   "cell_type": "code",
   "execution_count": 80,
   "metadata": {},
   "outputs": [
    {
     "name": "stdout",
     "output_type": "stream",
     "text": [
      "1\t2\t3\t\n",
      "4\t5\t6\t\n",
      "7\t8\t9\t\n",
      "10\t11\t12\t\n"
     ]
    }
   ],
   "source": [
    "matrix = [[1, 2, 3], [4, 5, 6], [7, 8, 9], [10, 11, 12]]\n",
    "\n",
    "# 定義printMatrix()函數，該函數用來印出矩陣\n",
    "def printMatrix(matrix):\n",
    "    # 使用外層for迴圈依序處理矩陣中的每一行\n",
    "    for i in range(len(matrix)):\n",
    "\n",
    "        # 使用內層for迴圈處理當前行中的每一個元素\n",
    "        for j in range(len(matrix[i])):\n",
    "            # 顯示當前元素，並使用水平跳格(tab)來分隔元素\n",
    "            print(matrix[i][j], end = '\\t')\n",
    "        # 每列顯示完後換行\n",
    "        print()\n",
    "\n",
    "# 呼叫printMatrix()函數，並傳入矩陣參數，印出矩陣\n",
    "printMatrix(matrix)"
   ]
  },
  {
   "cell_type": "code",
   "execution_count": 81,
   "metadata": {},
   "outputs": [
    {
     "name": "stdout",
     "output_type": "stream",
     "text": [
      "這兩個矩陣相加的結果如下：\n",
      "2\t4\t6\t\n",
      "8\t10\t12\t\n",
      "14\t16\t18\t\n",
      "20\t22\t24\t\n"
     ]
    }
   ],
   "source": [
    "# 定義matrixAdd()函數，該函數用來進行矩陣相加\n",
    "def matrixAdd(A, B):\n",
    "    # 初始化矩陣C為零矩陣，大小與A和B一致\n",
    "    C = []\n",
    "\n",
    "    # 根據矩陣A的行數，逐行初始化矩陣C，確保C的行數與A一致\n",
    "    for i in range(len(A)):  \n",
    "        # 為矩陣C新增空的子串列，以對應矩陣A的每一行\n",
    "        C.append([])\n",
    "\n",
    "        # 根據矩陣A的列數，初始化每行的元素為0\n",
    "        for j in range(len(A[i])):\n",
    "            C[i].append(0)\n",
    "\n",
    "    # 使用巢狀for迴圈將矩陣A與矩陣B的對應元素相加，並存入矩陣C\n",
    "    for i in range(len(A)):\n",
    "        for j in range(len(A[i])):\n",
    "            # 將矩陣A和矩陣B對應位置的元素相加並存入C\n",
    "            C[i][j] = A[i][j] + B[i][j]\n",
    "    # 回傳相加後的結果矩陣C\n",
    "    return C\n",
    "\n",
    "# 定義printMatrix()函數，用來輸出矩陣的內容\n",
    "def printMatrix(matrix):\n",
    "    # 逐行處理矩陣中的每一行\n",
    "    for i in range(len(matrix)):\n",
    "        # 逐個處理當前行中的每一個元素\n",
    "        for j in range(len(matrix[i])):\n",
    "            # 顯示當前元素，並使用水平跳格(tab)來分隔元素\n",
    "            print(matrix[i][j], end = '\\t')\n",
    "        # 每行結束後換行\n",
    "        print()\n",
    "\n",
    "# 定義矩陣A和B，並進行矩陣加法\n",
    "A = [[1, 2, 3], [4, 5, 6], [7, 8, 9], [10, 11, 12]]\n",
    "B = [[1, 2, 3], [4, 5, 6], [7, 8, 9], [10, 11, 12]]\n",
    "\n",
    "# 呼叫matrixAdd()函數將A和B相加，結果存入矩陣C\n",
    "C = matrixAdd(A, B)\n",
    "\n",
    "# 呼叫printMatrix()函數印出矩陣C的內容\n",
    "print(\"這兩個矩陣相加的結果如下：\")\n",
    "printMatrix(C)"
   ]
  },
  {
   "cell_type": "code",
   "execution_count": 82,
   "metadata": {},
   "outputs": [
    {
     "data": {
      "text/plain": [
       "(1, 'Taipei', 2, 'Tokyo')"
      ]
     },
     "execution_count": 82,
     "metadata": {},
     "output_type": "execute_result"
    }
   ],
   "source": [
    "(1, \"Taipei\", 2, \"Tokyo\")  # 一個包含4個元素的序對，元素包含整數與字串"
   ]
  },
  {
   "cell_type": "code",
   "execution_count": 83,
   "metadata": {},
   "outputs": [
    {
     "data": {
      "text/plain": [
       "(2, 'Tokyo', 1, 'Taipei')"
      ]
     },
     "execution_count": 83,
     "metadata": {},
     "output_type": "execute_result"
    }
   ],
   "source": [
    "(2, \"Tokyo\", 1, \"Taipei\")  # 元素相同但順序不同，表示不同序對"
   ]
  },
  {
   "cell_type": "code",
   "execution_count": 84,
   "metadata": {},
   "outputs": [
    {
     "data": {
      "text/plain": [
       "()"
      ]
     },
     "execution_count": 84,
     "metadata": {},
     "output_type": "execute_result"
    }
   ],
   "source": [
    "tuple1 = tuple()  # 建立一個空的序對tuple1\n",
    "tuple1"
   ]
  },
  {
   "cell_type": "code",
   "execution_count": 85,
   "metadata": {},
   "outputs": [
    {
     "data": {
      "text/plain": [
       "()"
      ]
     },
     "execution_count": 85,
     "metadata": {},
     "output_type": "execute_result"
    }
   ],
   "source": [
    "tuple1 = ()  # 建立一個空的序對tuple1\n",
    "tuple1"
   ]
  },
  {
   "cell_type": "code",
   "execution_count": 86,
   "metadata": {},
   "outputs": [
    {
     "data": {
      "text/plain": [
       "(1, 2, 3)"
      ]
     },
     "execution_count": 86,
     "metadata": {},
     "output_type": "execute_result"
    }
   ],
   "source": [
    "tuple2 = tuple((1, 2, 3))  # 建立一個包含1、2、3的序對tuple2\n",
    "tuple2"
   ]
  },
  {
   "cell_type": "code",
   "execution_count": 87,
   "metadata": {},
   "outputs": [
    {
     "data": {
      "text/plain": [
       "(1, 2, 3)"
      ]
     },
     "execution_count": 87,
     "metadata": {},
     "output_type": "execute_result"
    }
   ],
   "source": [
    "tuple2 = (1, 2, 3)  # 建立一個包含1、2、3的序對tuple2\n",
    "tuple2"
   ]
  },
  {
   "cell_type": "code",
   "execution_count": 88,
   "metadata": {},
   "outputs": [
    {
     "data": {
      "text/plain": [
       "('A', 'B', 'A')"
      ]
     },
     "execution_count": 88,
     "metadata": {},
     "output_type": "execute_result"
    }
   ],
   "source": [
    "tuple3 = tuple(\"ABA\")  # 從字串建立一個包含'A', 'B', 'A'的序對tuple3\n",
    "tuple3"
   ]
  },
  {
   "cell_type": "code",
   "execution_count": 89,
   "metadata": {},
   "outputs": [
    {
     "data": {
      "text/plain": [
       "(0, 1, 2, 3, 4)"
      ]
     },
     "execution_count": 89,
     "metadata": {},
     "output_type": "execute_result"
    }
   ],
   "source": [
    "tuple4 = tuple(range(5))  # 從range物件建立一個包含0, 1, 2, 3, 4的序對tuple4\n",
    "tuple4"
   ]
  },
  {
   "cell_type": "code",
   "execution_count": 90,
   "metadata": {},
   "outputs": [
    {
     "data": {
      "text/plain": [
       "(0, 2, 4)"
      ]
     },
     "execution_count": 90,
     "metadata": {},
     "output_type": "execute_result"
    }
   ],
   "source": [
    "tuple5 = tuple([i * 2 for i in range(3)])  # 使用生成式(for敘述)，建立一個序對tuple5，元素是0到2的數字乘以2\n",
    "tuple5"
   ]
  },
  {
   "cell_type": "code",
   "execution_count": 91,
   "metadata": {},
   "outputs": [
    {
     "data": {
      "text/plain": [
       "5"
      ]
     },
     "execution_count": 91,
     "metadata": {},
     "output_type": "execute_result"
    }
   ],
   "source": [
    "T = (1, 2, 3, 4, 5)  # 建立一個包含1、2、3、4、5的序對T\n",
    "len(T)               # 傳回序對的長度(元素個數)"
   ]
  },
  {
   "cell_type": "code",
   "execution_count": 92,
   "metadata": {},
   "outputs": [
    {
     "data": {
      "text/plain": [
       "5"
      ]
     },
     "execution_count": 92,
     "metadata": {},
     "output_type": "execute_result"
    }
   ],
   "source": [
    "max(T)  # 傳回序對中最大的元素"
   ]
  },
  {
   "cell_type": "code",
   "execution_count": 93,
   "metadata": {},
   "outputs": [
    {
     "data": {
      "text/plain": [
       "1"
      ]
     },
     "execution_count": 93,
     "metadata": {},
     "output_type": "execute_result"
    }
   ],
   "source": [
    "min(T)  # 傳回序對中最小的元素"
   ]
  },
  {
   "cell_type": "code",
   "execution_count": 94,
   "metadata": {},
   "outputs": [
    {
     "data": {
      "text/plain": [
       "15"
      ]
     },
     "execution_count": 94,
     "metadata": {},
     "output_type": "execute_result"
    }
   ],
   "source": [
    "sum(T)  # 傳回序對中元素的總和"
   ]
  },
  {
   "cell_type": "code",
   "execution_count": 95,
   "metadata": {},
   "outputs": [
    {
     "data": {
      "text/plain": [
       "(1, 2, 3, 'Taipei', 'Tokyo', 'Vienna')"
      ]
     },
     "execution_count": 95,
     "metadata": {},
     "output_type": "execute_result"
    }
   ],
   "source": [
    "(1, 2, 3) + (\"Taipei\", \"Tokyo\", \"Vienna\")  # 使用+運算子將兩個序對合併成一個新序對"
   ]
  },
  {
   "cell_type": "code",
   "execution_count": 96,
   "metadata": {},
   "outputs": [
    {
     "data": {
      "text/plain": [
       "(1, 2, 3, 1, 2, 3, 1, 2, 3)"
      ]
     },
     "execution_count": 96,
     "metadata": {},
     "output_type": "execute_result"
    }
   ],
   "source": [
    "3 * (1, 2, 3)  # 使用*運算子將序對(1, 2, 3)重複3次"
   ]
  },
  {
   "cell_type": "code",
   "execution_count": 97,
   "metadata": {},
   "outputs": [
    {
     "data": {
      "text/plain": [
       "(1, 2, 3, 1, 2, 3, 1, 2, 3)"
      ]
     },
     "execution_count": 97,
     "metadata": {},
     "output_type": "execute_result"
    }
   ],
   "source": [
    "(1, 2, 3) * 3  # 使用*運算子將序對(1, 2, 3)重複3次"
   ]
  },
  {
   "cell_type": "code",
   "execution_count": 98,
   "metadata": {},
   "outputs": [
    {
     "data": {
      "text/plain": [
       "False"
      ]
     },
     "execution_count": 98,
     "metadata": {},
     "output_type": "execute_result"
    }
   ],
   "source": [
    "(1, \"小美\", \"大明\") == (\"小美\", \"大明\", 1)  # 比較兩個序對是否相等"
   ]
  },
  {
   "cell_type": "code",
   "execution_count": 99,
   "metadata": {},
   "outputs": [
    {
     "data": {
      "text/plain": [
       "True"
      ]
     },
     "execution_count": 99,
     "metadata": {},
     "output_type": "execute_result"
    }
   ],
   "source": [
    "(1, 2, 3) != (1, 2, 3, 4)  # 比較兩個序對是否不相等"
   ]
  },
  {
   "cell_type": "code",
   "execution_count": 100,
   "metadata": {},
   "outputs": [
    {
     "data": {
      "text/plain": [
       "True"
      ]
     },
     "execution_count": 100,
     "metadata": {},
     "output_type": "execute_result"
    }
   ],
   "source": [
    "(1, 2, 3) < (1, 2, 3, 4)  # 比較兩個序對的大小"
   ]
  },
  {
   "cell_type": "code",
   "execution_count": 101,
   "metadata": {},
   "outputs": [
    {
     "data": {
      "text/plain": [
       "True"
      ]
     },
     "execution_count": 101,
     "metadata": {},
     "output_type": "execute_result"
    }
   ],
   "source": [
    "\"Taipei\" in (1, \"Taipei\", 2, \"Tokyo\")  # 檢查字串\"Taipei\"是否存在於序對中"
   ]
  },
  {
   "cell_type": "code",
   "execution_count": 102,
   "metadata": {},
   "outputs": [
    {
     "data": {
      "text/plain": [
       "False"
      ]
     },
     "execution_count": 102,
     "metadata": {},
     "output_type": "execute_result"
    }
   ],
   "source": [
    "\"Taipei\" not in (1, \"Taipei\", 2, \"Tokyo\")  # 檢查字串\"Taipei\"是否不存在於序對中"
   ]
  },
  {
   "cell_type": "code",
   "execution_count": 103,
   "metadata": {},
   "outputs": [
    {
     "name": "stdout",
     "output_type": "stream",
     "text": [
      "5\n",
      "(15, 20, 25)\n",
      "(35, 40, 45)\n"
     ]
    }
   ],
   "source": [
    "# 建立一個包含10個整數的序對T\n",
    "T = (5, 10, 15, 20, 25, 30, 35, 40, 45, 50)\n",
    "\n",
    "print(T[0])     # 取得索引0的元素\n",
    "print(T[2:5])   # 取得索引2到4的元素(包含索引2，不包含索引5)\n",
    "print(T[6:-1])  # 取得索引6到倒數第2個元素(包含索引6，不包含索引-1)"
   ]
  },
  {
   "cell_type": "code",
   "execution_count": 104,
   "metadata": {},
   "outputs": [
    {
     "data": {
      "text/plain": [
       "1"
      ]
     },
     "execution_count": 104,
     "metadata": {},
     "output_type": "execute_result"
    }
   ],
   "source": [
    "# 建立一個包含多個整數元素的序對T\n",
    "T = (50, 20, 40, 20, 30, 20, 10)\n",
    "T.index(20)  # 回傳元素20在序對中第一次出現的索引位置"
   ]
  },
  {
   "cell_type": "code",
   "execution_count": 105,
   "metadata": {},
   "outputs": [
    {
     "data": {
      "text/plain": [
       "3"
      ]
     },
     "execution_count": 105,
     "metadata": {},
     "output_type": "execute_result"
    }
   ],
   "source": [
    "T.count(20)  # 回傳元素20在序對中出現的次數"
   ]
  },
  {
   "cell_type": "code",
   "execution_count": 106,
   "metadata": {},
   "outputs": [
    {
     "name": "stdout",
     "output_type": "stream",
     "text": [
      "275\n"
     ]
    }
   ],
   "source": [
    "# 建立一個包含10個整數的序對T\n",
    "T = (5, 10, 15, 20, 25, 30, 35, 40, 45, 50)\n",
    "\n",
    "sum = 0            # 初始化變數sum為0，用來累加序對中元素的總和\n",
    "for i in T:        # 逐一取出序對T中的每個元素i\n",
    "    sum = sum + i  # 將目前元素i加到sum中，累加總和\n",
    "print(sum)         # 印出序對T中所有元素的總和"
   ]
  },
  {
   "cell_type": "code",
   "execution_count": 107,
   "metadata": {},
   "outputs": [
    {
     "data": {
      "text/plain": [
       "6"
      ]
     },
     "execution_count": 107,
     "metadata": {},
     "output_type": "execute_result"
    }
   ],
   "source": [
    "tuple1 = (2, 4, 6, 8, 10, 12)               # 建立一個包含2、4、6、8、10、12的序對tuple1\n",
    "tuple2 = tuple(i * 2 for i in range(1, 7))  # 使用生成式(for敘述)，建立一個序對tuple2，元素是1到6的數字乘以2\n",
    "len(tuple1)                                 # 傳回序對tuple1的長度(元素個數)"
   ]
  },
  {
   "cell_type": "code",
   "execution_count": 108,
   "metadata": {},
   "outputs": [
    {
     "data": {
      "text/plain": [
       "True"
      ]
     },
     "execution_count": 108,
     "metadata": {},
     "output_type": "execute_result"
    }
   ],
   "source": [
    "tuple1 == tuple2  # 比較序對tuple1和tuple2是否相等"
   ]
  },
  {
   "cell_type": "code",
   "execution_count": 109,
   "metadata": {},
   "outputs": [
    {
     "data": {
      "text/plain": [
       "(4, 6, 8, 10, 12)"
      ]
     },
     "execution_count": 109,
     "metadata": {},
     "output_type": "execute_result"
    }
   ],
   "source": [
    "tuple1[1:6]  # 取得序對tuple1中索引1到5的元素(包含索引1，不包含索引6)"
   ]
  },
  {
   "cell_type": "code",
   "execution_count": 110,
   "metadata": {},
   "outputs": [
    {
     "data": {
      "text/plain": [
       "3"
      ]
     },
     "execution_count": 110,
     "metadata": {},
     "output_type": "execute_result"
    }
   ],
   "source": [
    "tuple1.index(8)  # 回傳元素8在序對tuple1中第一次出現的索引位置"
   ]
  },
  {
   "cell_type": "code",
   "execution_count": 111,
   "metadata": {},
   "outputs": [
    {
     "data": {
      "text/plain": [
       "(4, 16, 36, 64, 100, 144)"
      ]
     },
     "execution_count": 111,
     "metadata": {},
     "output_type": "execute_result"
    }
   ],
   "source": [
    "tuple3 = tuple(i ** 2 for i in tuple1)  # 使用生成式(for敘述)，建立一個序對，元素是tuple1中每個數的平方\n",
    "tuple3"
   ]
  },
  {
   "cell_type": "code",
   "execution_count": 112,
   "metadata": {},
   "outputs": [
    {
     "data": {
      "text/plain": [
       "{1, 2, 'Taipei', 'Tokyo'}"
      ]
     },
     "execution_count": 112,
     "metadata": {},
     "output_type": "execute_result"
    }
   ],
   "source": [
    "{1, \"Taipei\", 2, \"Tokyo\"}  # 一個包含4個元素的集合，元素包含整數與字串"
   ]
  },
  {
   "cell_type": "code",
   "execution_count": 113,
   "metadata": {},
   "outputs": [
    {
     "data": {
      "text/plain": [
       "{1, 2, 'Taipei', 'Tokyo'}"
      ]
     },
     "execution_count": 113,
     "metadata": {},
     "output_type": "execute_result"
    }
   ],
   "source": [
    "{2, \"Tokyo\", 1, \"Taipei\"}  # 元素相同但順序不同，仍是相同集合"
   ]
  },
  {
   "cell_type": "code",
   "execution_count": 114,
   "metadata": {},
   "outputs": [
    {
     "data": {
      "text/plain": [
       "set()"
      ]
     },
     "execution_count": 114,
     "metadata": {},
     "output_type": "execute_result"
    }
   ],
   "source": [
    "set1 = set()  # 建立一個空的集合set1\n",
    "set1"
   ]
  },
  {
   "cell_type": "code",
   "execution_count": 115,
   "metadata": {},
   "outputs": [
    {
     "data": {
      "text/plain": [
       "{1, 2, 3}"
      ]
     },
     "execution_count": 115,
     "metadata": {},
     "output_type": "execute_result"
    }
   ],
   "source": [
    "set2 = set({1, 2, 3})  # 建立一個包含1、2、3的集合set2\n",
    "set2"
   ]
  },
  {
   "cell_type": "code",
   "execution_count": 116,
   "metadata": {},
   "outputs": [
    {
     "data": {
      "text/plain": [
       "{'台北', '紐約'}"
      ]
     },
     "execution_count": 116,
     "metadata": {},
     "output_type": "execute_result"
    }
   ],
   "source": [
    "set3 = {\"台北\", \"紐約\"}  # 建立一個包含\"台北\"、\"紐約\"的集合set3\n",
    "set3"
   ]
  },
  {
   "cell_type": "code",
   "execution_count": 117,
   "metadata": {},
   "outputs": [
    {
     "data": {
      "text/plain": [
       "{'A', 'B'}"
      ]
     },
     "execution_count": 117,
     "metadata": {},
     "output_type": "execute_result"
    }
   ],
   "source": [
    "set4 = set(\"ABA\")  # 從字串建立一個包含'A', 'B', 'A'的集合set4，但'A'不會重複出現\n",
    "set4"
   ]
  },
  {
   "cell_type": "code",
   "execution_count": 118,
   "metadata": {},
   "outputs": [
    {
     "data": {
      "text/plain": [
       "{0, 1, 2, 3, 4}"
      ]
     },
     "execution_count": 118,
     "metadata": {},
     "output_type": "execute_result"
    }
   ],
   "source": [
    "set5 = set(range(5))  # 從range物件建立一個包含0, 1, 2, 3, 4的集合set5\n",
    "set5"
   ]
  },
  {
   "cell_type": "code",
   "execution_count": 119,
   "metadata": {},
   "outputs": [
    {
     "data": {
      "text/plain": [
       "{0, 2, 4, 6, 8}"
      ]
     },
     "execution_count": 119,
     "metadata": {},
     "output_type": "execute_result"
    }
   ],
   "source": [
    "set6 = set([i * 2 for i in range(5)])  # 使用生成式(for敘述)，建立一個集合set6，元素是0到4的數字乘以2\n",
    "set6"
   ]
  },
  {
   "cell_type": "code",
   "execution_count": 120,
   "metadata": {},
   "outputs": [
    {
     "data": {
      "text/plain": [
       "5"
      ]
     },
     "execution_count": 120,
     "metadata": {},
     "output_type": "execute_result"
    }
   ],
   "source": [
    "S = {1, 2, 3, 4, 5}  # 建立一個包含1、2、3、4、5的集合S\n",
    "len(S)               # 傳回集合的長度(元素個數)"
   ]
  },
  {
   "cell_type": "code",
   "execution_count": 121,
   "metadata": {},
   "outputs": [
    {
     "data": {
      "text/plain": [
       "5"
      ]
     },
     "execution_count": 121,
     "metadata": {},
     "output_type": "execute_result"
    }
   ],
   "source": [
    "max(S)  # 傳回集合中最大的元素"
   ]
  },
  {
   "cell_type": "code",
   "execution_count": 122,
   "metadata": {},
   "outputs": [
    {
     "data": {
      "text/plain": [
       "1"
      ]
     },
     "execution_count": 122,
     "metadata": {},
     "output_type": "execute_result"
    }
   ],
   "source": [
    "min(S)  # 傳回集合中最小的元素"
   ]
  },
  {
   "cell_type": "code",
   "execution_count": 123,
   "metadata": {},
   "outputs": [
    {
     "data": {
      "text/plain": [
       "15"
      ]
     },
     "execution_count": 123,
     "metadata": {},
     "output_type": "execute_result"
    }
   ],
   "source": [
    "del sum              # 刪除這個變數，恢復內建的sum函數\n",
    "S = {1, 2, 3, 4, 5}  # 建立一個包含1、2、3、4、5的集合S\n",
    "sum(S)               # 傳回集合中元素的總和"
   ]
  },
  {
   "cell_type": "code",
   "execution_count": 124,
   "metadata": {},
   "outputs": [
    {
     "data": {
      "text/plain": [
       "True"
      ]
     },
     "execution_count": 124,
     "metadata": {},
     "output_type": "execute_result"
    }
   ],
   "source": [
    "\"Taipei\" in {1, \"Taipei\", 2, \"Tokyo\"}  # 檢查字串\"Taipei\"是否存在於集合中"
   ]
  },
  {
   "cell_type": "code",
   "execution_count": 125,
   "metadata": {},
   "outputs": [
    {
     "data": {
      "text/plain": [
       "False"
      ]
     },
     "execution_count": 125,
     "metadata": {},
     "output_type": "execute_result"
    }
   ],
   "source": [
    "\"Taipei\" not in {1, \"Taipei\", 2, \"Tokyo\"}  # 檢查字串\"Taipei\"是否不存在於集合中"
   ]
  },
  {
   "cell_type": "code",
   "execution_count": 126,
   "metadata": {},
   "outputs": [
    {
     "data": {
      "text/plain": [
       "True"
      ]
     },
     "execution_count": 126,
     "metadata": {},
     "output_type": "execute_result"
    }
   ],
   "source": [
    "S1 = {\"小丸子\", \"小玉\", \"花輪\"}          # 建立一個包含\"小丸子\"、\"小玉\"、\"花輪\"的集合S1\n",
    "S2 = {\"丸尾\", \"小丸子\", \"花輪\", \"小玉\"}  # 建立一個包含\"丸尾\"、\"小丸子\"、\"花輪\"、\"小玉\"的集合S2\n",
    "S3 = {\"花輪\", \"小丸子\", \"小玉\"}          # 建立一個包含\"花輪\"、\"小丸子\"、\"小玉\"的集合S3\n",
    "\n",
    "S1 == S3  # 比較集合S1和S3是否相等"
   ]
  },
  {
   "cell_type": "code",
   "execution_count": 127,
   "metadata": {},
   "outputs": [
    {
     "data": {
      "text/plain": [
       "True"
      ]
     },
     "execution_count": 127,
     "metadata": {},
     "output_type": "execute_result"
    }
   ],
   "source": [
    "S1 != S2  # 比較集合S1和S2是否不相等"
   ]
  },
  {
   "cell_type": "code",
   "execution_count": 128,
   "metadata": {},
   "outputs": [
    {
     "data": {
      "text/plain": [
       "True"
      ]
     },
     "execution_count": 128,
     "metadata": {},
     "output_type": "execute_result"
    }
   ],
   "source": [
    "S1 <= S2  # 判斷S1是否為S2的子集合(即S1中的所有元素是否都在S2中)"
   ]
  },
  {
   "cell_type": "code",
   "execution_count": 129,
   "metadata": {},
   "outputs": [
    {
     "data": {
      "text/plain": [
       "True"
      ]
     },
     "execution_count": 129,
     "metadata": {},
     "output_type": "execute_result"
    }
   ],
   "source": [
    "S1 < S2  # 判斷S1是否為S2的真子集合(即S1中的所有元素是否都在S2中，並且S1 ≠ S2)"
   ]
  },
  {
   "cell_type": "code",
   "execution_count": 130,
   "metadata": {},
   "outputs": [
    {
     "data": {
      "text/plain": [
       "False"
      ]
     },
     "execution_count": 130,
     "metadata": {},
     "output_type": "execute_result"
    }
   ],
   "source": [
    "S1 >= S2  # 判斷S1是否為S2的超集合(即S1包含S2中的所有元素，且可能有更多元素，或S1 == S2)"
   ]
  },
  {
   "cell_type": "code",
   "execution_count": 131,
   "metadata": {},
   "outputs": [
    {
     "data": {
      "text/plain": [
       "False"
      ]
     },
     "execution_count": 131,
     "metadata": {},
     "output_type": "execute_result"
    }
   ],
   "source": [
    "S1 > S2  # 判斷S1是否為S2的真超集合(即S1包含S2中的所有元素，並且S1必須包含更多元素)"
   ]
  },
  {
   "cell_type": "code",
   "execution_count": 132,
   "metadata": {},
   "outputs": [
    {
     "data": {
      "text/plain": [
       "True"
      ]
     },
     "execution_count": 132,
     "metadata": {},
     "output_type": "execute_result"
    }
   ],
   "source": [
    "S2 > S3  # 判斷S2是否為S3的真超集合(即S2包含S3中的所有元素，並且S2必須包含更多元素)"
   ]
  },
  {
   "cell_type": "code",
   "execution_count": 133,
   "metadata": {},
   "outputs": [
    {
     "data": {
      "text/plain": [
       "True"
      ]
     },
     "execution_count": 133,
     "metadata": {},
     "output_type": "execute_result"
    }
   ],
   "source": [
    "S2 >= S3  # 判斷S2是否為S3的超集合(即S2包含S3中的所有元素，且可能有更多元素，或S2 == S3)"
   ]
  },
  {
   "cell_type": "code",
   "execution_count": 134,
   "metadata": {},
   "outputs": [
    {
     "name": "stdout",
     "output_type": "stream",
     "text": [
      "275\n"
     ]
    }
   ],
   "source": [
    "# 建立一個包含10個整數的集合S\n",
    "S = {5, 10, 15, 20, 25, 30, 35, 40, 45, 50}\n",
    "\n",
    "sum = 0            # 初始化變數sum為0，用來累加集合S中元素的總和\n",
    "for i in S:        # 逐一取出集合S中的每個元素i\n",
    "    sum = sum + i  # 將目前元素i加到sum中，累加總和\n",
    "print(sum)         # 印出集合S中所有元素的總和"
   ]
  },
  {
   "cell_type": "code",
   "execution_count": 135,
   "metadata": {},
   "outputs": [
    {
     "data": {
      "text/plain": [
       "{10, 20, 30, 40, 50, 60}"
      ]
     },
     "execution_count": 135,
     "metadata": {},
     "output_type": "execute_result"
    }
   ],
   "source": [
    "S1 = {10, 20, 30, 40, 50}  # 建立一個包含10, 20, 30, 40, 50的集合S1\n",
    "S1.add(60)                 # 將元素60加入到集合S1中\n",
    "S1                         # 顯示加入60之後的集合S1"
   ]
  },
  {
   "cell_type": "code",
   "execution_count": 136,
   "metadata": {},
   "outputs": [
    {
     "data": {
      "text/plain": [
       "{10, 20, 40, 50, 60}"
      ]
     },
     "execution_count": 136,
     "metadata": {},
     "output_type": "execute_result"
    }
   ],
   "source": [
    "S1.remove(30)  # 從集合S1中移除元素30\n",
    "S1             # 顯示移除後的集合S1"
   ]
  },
  {
   "cell_type": "code",
   "execution_count": 137,
   "metadata": {},
   "outputs": [
    {
     "data": {
      "text/plain": [
       "50"
      ]
     },
     "execution_count": 137,
     "metadata": {},
     "output_type": "execute_result"
    }
   ],
   "source": [
    "S1.pop()  # 隨機刪除並傳回集合S1中的一個元素"
   ]
  },
  {
   "cell_type": "code",
   "execution_count": 138,
   "metadata": {},
   "outputs": [
    {
     "data": {
      "text/plain": [
       "{10, 20, 40, 60}"
      ]
     },
     "execution_count": 138,
     "metadata": {},
     "output_type": "execute_result"
    }
   ],
   "source": [
    "S1  # 顯示移除後的集合S1"
   ]
  },
  {
   "cell_type": "code",
   "execution_count": 139,
   "metadata": {},
   "outputs": [
    {
     "data": {
      "text/plain": [
       "{10, 20, 40, 60}"
      ]
     },
     "execution_count": 139,
     "metadata": {},
     "output_type": "execute_result"
    }
   ],
   "source": [
    "S2 = S1.copy()  # 複製集合S1並指派給變數S2\n",
    "S2"
   ]
  },
  {
   "cell_type": "code",
   "execution_count": 140,
   "metadata": {},
   "outputs": [
    {
     "data": {
      "text/plain": [
       "set()"
      ]
     },
     "execution_count": 140,
     "metadata": {},
     "output_type": "execute_result"
    }
   ],
   "source": [
    "S1.clear()  # 刪除集合S1中的所有元素\n",
    "S1"
   ]
  },
  {
   "cell_type": "code",
   "execution_count": 141,
   "metadata": {},
   "outputs": [
    {
     "data": {
      "text/plain": [
       "True"
      ]
     },
     "execution_count": 141,
     "metadata": {},
     "output_type": "execute_result"
    }
   ],
   "source": [
    "S1 = {\"小丸子\", \"小玉\", \"花輪\"}          # 建立一個包含\"小丸子\"、\"小玉\"、\"花輪\"的集合S1\n",
    "S2 = {\"丸尾\", \"小丸子\", \"花輪\", \"小玉\"}  # 建立一個包含\"丸尾\"、\"小丸子\"、\"花輪\"、\"小玉\"的集合S2\n",
    "\n",
    "S1.issubset(S2)  # 檢查集合S1是否為S2的子集合(即S1中的所有元素是否都在S2中)"
   ]
  },
  {
   "cell_type": "code",
   "execution_count": 142,
   "metadata": {},
   "outputs": [
    {
     "data": {
      "text/plain": [
       "False"
      ]
     },
     "execution_count": 142,
     "metadata": {},
     "output_type": "execute_result"
    }
   ],
   "source": [
    "S1.issuperset(S2)  # 檢查集合S1是否為S2的超集合(即S1中是否包含S2中的所有元素)"
   ]
  },
  {
   "cell_type": "code",
   "execution_count": 143,
   "metadata": {},
   "outputs": [
    {
     "data": {
      "text/plain": [
       "False"
      ]
     },
     "execution_count": 143,
     "metadata": {},
     "output_type": "execute_result"
    }
   ],
   "source": [
    "S2.issubset(S1)  # 檢查集合S2是否為S1的子集合(即S2中的所有元素是否都在S1中)"
   ]
  },
  {
   "cell_type": "code",
   "execution_count": 144,
   "metadata": {},
   "outputs": [
    {
     "data": {
      "text/plain": [
       "False"
      ]
     },
     "execution_count": 144,
     "metadata": {},
     "output_type": "execute_result"
    }
   ],
   "source": [
    "S1 = {1, 3, 5}     # 建立一個包含1, 3, 5的集合S1\n",
    "S2 = {3, 5, 7, 9}  # 建立一個包含3, 5, 7, 9的集合S2\n",
    "\n",
    "S1.isdisjoint(S2)  # 檢查集合S1和S2是否沒有共同的元素"
   ]
  },
  {
   "cell_type": "code",
   "execution_count": 145,
   "metadata": {},
   "outputs": [
    {
     "data": {
      "text/plain": [
       "{1, 3, 5}"
      ]
     },
     "execution_count": 145,
     "metadata": {},
     "output_type": "execute_result"
    }
   ],
   "source": [
    "S3 = S1.union(S2)  # 計算S1和S2的聯集，並將結果儲存在集合S3中\n",
    "S1                 # 輸出集合S1，S1的內容不會改變，仍然是{1, 3, 5}"
   ]
  },
  {
   "cell_type": "code",
   "execution_count": 146,
   "metadata": {},
   "outputs": [
    {
     "data": {
      "text/plain": [
       "{1, 3, 5, 7, 9}"
      ]
     },
     "execution_count": 146,
     "metadata": {},
     "output_type": "execute_result"
    }
   ],
   "source": [
    "S3  # 輸出集合S3，結果為S1和S2的聯集{1, 3, 5, 7, 9}"
   ]
  },
  {
   "cell_type": "code",
   "execution_count": 147,
   "metadata": {},
   "outputs": [
    {
     "data": {
      "text/plain": [
       "{1, 3, 5, 7, 9}"
      ]
     },
     "execution_count": 147,
     "metadata": {},
     "output_type": "execute_result"
    }
   ],
   "source": [
    "S1.update(S2)  # 將S1和S2進行聯集，並將結果更新到集合S1中\n",
    "S1             # 顯示更新後的集合S1，結果應該是S1和S2的聯集"
   ]
  },
  {
   "cell_type": "code",
   "execution_count": 148,
   "metadata": {},
   "outputs": [
    {
     "data": {
      "text/plain": [
       "{1, 3, 5}"
      ]
     },
     "execution_count": 148,
     "metadata": {},
     "output_type": "execute_result"
    }
   ],
   "source": [
    "S1 = {1, 3, 5}            # 建立一個包含1, 3, 5的集合S1\n",
    "S2 = {3, 5, 7, 9}         # 建立一個包含3, 5, 7, 9的集合S2\n",
    "\n",
    "S3 = S1.intersection(S2)  # 計算S1和S2的交集，並將結果儲存在S3中\n",
    "S1                        # 輸出集合S1，S1的內容不會改變，仍然是{1, 3, 5}"
   ]
  },
  {
   "cell_type": "code",
   "execution_count": 149,
   "metadata": {},
   "outputs": [
    {
     "data": {
      "text/plain": [
       "{3, 5}"
      ]
     },
     "execution_count": 149,
     "metadata": {},
     "output_type": "execute_result"
    }
   ],
   "source": [
    "S3  # 輸出集合S3，結果為S1和S2的交集{3, 5}"
   ]
  },
  {
   "cell_type": "code",
   "execution_count": 150,
   "metadata": {},
   "outputs": [
    {
     "data": {
      "text/plain": [
       "{3, 5}"
      ]
     },
     "execution_count": 150,
     "metadata": {},
     "output_type": "execute_result"
    }
   ],
   "source": [
    "S1.intersection_update(S2)  # 計算S1和S2的交集，並將結果直接更新到S1中\n",
    "S1                          # 顯示更新後的集合S1，結果應該是S1和S2的交集"
   ]
  },
  {
   "cell_type": "code",
   "execution_count": 151,
   "metadata": {},
   "outputs": [
    {
     "data": {
      "text/plain": [
       "{1, 3, 5}"
      ]
     },
     "execution_count": 151,
     "metadata": {},
     "output_type": "execute_result"
    }
   ],
   "source": [
    "S1 = {1, 3, 5}          # 建立一個包含1, 3, 5的集合S1\n",
    "S2 = {3, 5, 7, 9}       # 建立一個包含3, 5, 7, 9的集合S2\n",
    "\n",
    "S3 = S1.difference(S2)  # 計算S1和S2的差集，並將結果儲存在S3中\n",
    "S1                      # 輸出集合S1，S1的內容不會改變，仍然是{1, 3, 5}"
   ]
  },
  {
   "cell_type": "code",
   "execution_count": 152,
   "metadata": {},
   "outputs": [
    {
     "data": {
      "text/plain": [
       "{1}"
      ]
     },
     "execution_count": 152,
     "metadata": {},
     "output_type": "execute_result"
    }
   ],
   "source": [
    "S3  # 輸出集合S3，結果為S1和S2的差集{1}"
   ]
  },
  {
   "cell_type": "code",
   "execution_count": 153,
   "metadata": {},
   "outputs": [
    {
     "data": {
      "text/plain": [
       "{1}"
      ]
     },
     "execution_count": 153,
     "metadata": {},
     "output_type": "execute_result"
    }
   ],
   "source": [
    "S1.difference_update(S2)  # 計算S1和S2的差集，並將結果直接更新到S1中\n",
    "S1                        # 顯示更新後的集合S1，結果應該是S1和S2的差集"
   ]
  },
  {
   "cell_type": "code",
   "execution_count": 154,
   "metadata": {},
   "outputs": [
    {
     "data": {
      "text/plain": [
       "{1, 3, 5}"
      ]
     },
     "execution_count": 154,
     "metadata": {},
     "output_type": "execute_result"
    }
   ],
   "source": [
    "S1 = {1, 3, 5}                    # 建立一個包含1, 3, 5的集合S1\n",
    "S2 = {3, 5, 7, 9}                 # 建立一個包含3, 5, 7, 9的集合S2\n",
    "\n",
    "S3 = S1.symmetric_difference(S2)  # 計算S1和S2的對稱差集，並將結果儲存在S3中\n",
    "S1                                # 輸出集合S1，S1的內容不會改變，仍然是{1, 3, 5}"
   ]
  },
  {
   "cell_type": "code",
   "execution_count": 155,
   "metadata": {},
   "outputs": [
    {
     "data": {
      "text/plain": [
       "{1, 7, 9}"
      ]
     },
     "execution_count": 155,
     "metadata": {},
     "output_type": "execute_result"
    }
   ],
   "source": [
    "S3  # 輸出集合S3，結果為S1和S2的對稱差集{1, 7, 9}"
   ]
  },
  {
   "cell_type": "code",
   "execution_count": 156,
   "metadata": {},
   "outputs": [
    {
     "data": {
      "text/plain": [
       "{1, 7, 9}"
      ]
     },
     "execution_count": 156,
     "metadata": {},
     "output_type": "execute_result"
    }
   ],
   "source": [
    "S1.symmetric_difference_update(S2)  # 計算S1和S2的對稱差集，並將結果直接更新到S1中\n",
    "S1                                  # 顯示更新後的集合S1，結果應該是S1和S2的對稱差集"
   ]
  },
  {
   "cell_type": "code",
   "execution_count": 157,
   "metadata": {},
   "outputs": [
    {
     "data": {
      "text/plain": [
       "3"
      ]
     },
     "execution_count": 157,
     "metadata": {},
     "output_type": "execute_result"
    }
   ],
   "source": [
    "S1 = {'A', 'B', 'C'}            # 建立一個包含'A', 'B', 'C'的集合S1\n",
    "S2 = {'C', 'D', 'E', 'F', 'A'}  # 建立一個包含'C', 'D', 'E', 'F', 'A'的集合S2\n",
    "\n",
    "len(S1)  # 傳回集合S1的長度(元素個數)"
   ]
  },
  {
   "cell_type": "code",
   "execution_count": 158,
   "metadata": {},
   "outputs": [
    {
     "data": {
      "text/plain": [
       "False"
      ]
     },
     "execution_count": 158,
     "metadata": {},
     "output_type": "execute_result"
    }
   ],
   "source": [
    "S1.issubset(S2)  # 檢查集合S1是否為S2的子集合(即S1中的所有元素是否都在S2中)"
   ]
  },
  {
   "cell_type": "code",
   "execution_count": 159,
   "metadata": {},
   "outputs": [
    {
     "data": {
      "text/plain": [
       "{'A', 'B', 'C', 'D', 'E', 'F'}"
      ]
     },
     "execution_count": 159,
     "metadata": {},
     "output_type": "execute_result"
    }
   ],
   "source": [
    "S1 | S2  # 計算S1和S2的聯集(第一種寫法：使用 | 運算子計算S1和S2的聯集)"
   ]
  },
  {
   "cell_type": "code",
   "execution_count": 160,
   "metadata": {},
   "outputs": [
    {
     "data": {
      "text/plain": [
       "{'A', 'B', 'C', 'D', 'E', 'F'}"
      ]
     },
     "execution_count": 160,
     "metadata": {},
     "output_type": "execute_result"
    }
   ],
   "source": [
    "S1.union(S2)  # 計算S1和S2的聯集(第二種寫法：使用union()方法計算S1和S2的聯集)"
   ]
  },
  {
   "cell_type": "code",
   "execution_count": 161,
   "metadata": {},
   "outputs": [
    {
     "data": {
      "text/plain": [
       "{'A', 'C'}"
      ]
     },
     "execution_count": 161,
     "metadata": {},
     "output_type": "execute_result"
    }
   ],
   "source": [
    "S1 & S2  # 計算S1和S2的交集(第一種寫法：使用 & 運算子計算S1和S2的交集)"
   ]
  },
  {
   "cell_type": "code",
   "execution_count": 162,
   "metadata": {},
   "outputs": [
    {
     "data": {
      "text/plain": [
       "{'A', 'C'}"
      ]
     },
     "execution_count": 162,
     "metadata": {},
     "output_type": "execute_result"
    }
   ],
   "source": [
    "S1.intersection(S2)  # 計算S1和S2的交集(第二種寫法：使用intersection()方法計算S1和S2的交集)"
   ]
  },
  {
   "cell_type": "code",
   "execution_count": 163,
   "metadata": {},
   "outputs": [
    {
     "data": {
      "text/plain": [
       "{'B'}"
      ]
     },
     "execution_count": 163,
     "metadata": {},
     "output_type": "execute_result"
    }
   ],
   "source": [
    "S1 - S2  # 計算S1和S2的差集(第一種寫法：使用 - 運算子計算S1和S2的差集)"
   ]
  },
  {
   "cell_type": "code",
   "execution_count": 164,
   "metadata": {},
   "outputs": [
    {
     "data": {
      "text/plain": [
       "{'B'}"
      ]
     },
     "execution_count": 164,
     "metadata": {},
     "output_type": "execute_result"
    }
   ],
   "source": [
    "S1.difference(S2)  # 計算S1和S2的差集(第二種寫法：使用difference()方法計算S1和S2的差集)"
   ]
  },
  {
   "cell_type": "code",
   "execution_count": 165,
   "metadata": {},
   "outputs": [
    {
     "name": "stdout",
     "output_type": "stream",
     "text": [
      "三科均不及格的同學： {'阿丁', '大雄'}\n",
      "國文和英文及格，但數學不及格的同學： {'包包', '靜香', '小乖', '胖虎', '阿吉'}\n"
     ]
    }
   ],
   "source": [
    "# 集合S1:代表國文不及格的同學\n",
    "S1 = {\"鐵雄\", \"大明\", \"珍珍\", \"阿丁\", \"小凱\", \"阿美\", \"阿文\", \"大雄\"}\n",
    "\n",
    "# 集合S2:代表英文不及格的同學\n",
    "S2 = {\"大明\", \"珍珍\", \"阿丁\", \"大雄\"}\n",
    "\n",
    "# 集合S3:代表數學不及格的同學\n",
    "S3 = {\"阿吉\", \"胖虎\", \"大雄\", \"阿丁\", \"小凱\", \"阿美\", \"靜香\", \"小乖\", \"包包\"}\n",
    "\n",
    "# 輸出三科均不及格的同學：計算集合S1、S2、S3的交集(第一種寫法：使用 & 運算子計算S1、S2、S3的交集)\n",
    "print(\"三科均不及格的同學：\", S1 & S2 & S3)\n",
    "\n",
    "# 輸出國文和英文及格，但數學不及格的同學：從S3中移除S1和S2中的學生(第一種寫法：使用 - 運算子計算S1、S2、S3的差集)\n",
    "print(\"國文和英文及格，但數學不及格的同學：\", (S3 - S1) - S2)"
   ]
  },
  {
   "cell_type": "code",
   "execution_count": 166,
   "metadata": {},
   "outputs": [
    {
     "name": "stdout",
     "output_type": "stream",
     "text": [
      "三科均不及格的同學： {'阿丁', '大雄'}\n",
      "國文和英文及格，但數學不及格的同學： {'包包', '靜香', '小乖', '胖虎', '阿吉'}\n"
     ]
    }
   ],
   "source": [
    "# 集合S1: 代表國文不及格的同學\n",
    "S1 = {\"鐵雄\", \"大明\", \"珍珍\", \"阿丁\", \"小凱\", \"阿美\", \"阿文\", \"大雄\"}\n",
    "\n",
    "# 集合S2: 代表英文不及格的同學\n",
    "S2 = {\"大明\", \"珍珍\", \"阿丁\", \"大雄\"}\n",
    "\n",
    "# 集合S3: 代表數學不及格的同學\n",
    "S3 = {\"阿吉\", \"胖虎\", \"大雄\", \"阿丁\", \"小凱\", \"阿美\", \"靜香\", \"小乖\", \"包包\"}\n",
    "\n",
    "# 輸出三科均不及格的同學：計算集合S1、S2、S3的交集(第二種寫法：使用intersection()方法計算S1、S2、S3的交集)\n",
    "print(\"三科均不及格的同學：\", S1.intersection(S2).intersection(S3))\n",
    "\n",
    "# 輸出國文和英文及格，但數學不及格的同學：從S3中移除S1和S2中的學生(第二種寫法：使用difference()方法計算S1、S2、S3的差集)\n",
    "print(\"國文和英文及格，但數學不及格的同學：\", S3.difference(S1).difference(S2))"
   ]
  },
  {
   "cell_type": "code",
   "execution_count": 167,
   "metadata": {},
   "outputs": [
    {
     "name": "stdout",
     "output_type": "stream",
     "text": [
      "(10, 20, 30, 40, 50)\n",
      "{50, 20, 40, 10, 30}\n",
      "1\n",
      "50\n",
      "False\n",
      "True\n",
      "False\n",
      "True\n",
      "False\n",
      "False\n"
     ]
    }
   ],
   "source": [
    "T1 = (10, 20, 30, 40, 50)               # 建立一個包含(10, 20, 30, 40, 50)的序列T1\n",
    "S1 = {10, 20, 30, 40, 50}               # 建立一個包含10, 20, 30, 40, 50的集合S1\n",
    "S2 = {20, 40}                           # 建立一個包含20和40的集合S2\n",
    "S3 = {10, 20, 30, 40, 50, 60, 80, 100}  # 建立一個包含10, 20, 30, 40, 50, 60, 80, 100的集合S3\n",
    "\n",
    "# 輸出序對T1\n",
    "print(T1)\n",
    "\n",
    "# 輸出集合S1\n",
    "print(S1)\n",
    "\n",
    "# 輸出元素20在序對T1中第一次出現的索引位置\n",
    "print(T1.index(20))\n",
    "\n",
    "# 隨機刪除並輸出集合S1中的一個元素\n",
    "print(S1.pop())\n",
    "\n",
    "# 檢查集合S1是否為S2的子集合並輸出結果(即S1中的所有元素是否都在S2中)\n",
    "print(S1.issubset(S2))\n",
    "\n",
    "# 檢查集合S1是否為S2的超集合並輸出結果(即S1中是否包含S2中的所有元素)\n",
    "print(S1.issuperset(S2))\n",
    "\n",
    "# 檢查集合S1和S2是否沒有共同的元素並輸出結果\n",
    "print(S1.isdisjoint(S2))\n",
    "\n",
    "# 檢查集合S1是否為S3的子集合並輸出結果(即S1中的所有元素是否都在S3中)\n",
    "print(S1.issubset(S3))\n",
    "\n",
    "# 檢查集合S1是否為S3的超集合並輸出結果(即S1中是否包含S3中的所有元素)\n",
    "print(S1.issuperset(S3))\n",
    "\n",
    "# 檢查集合S1和S3是否沒有共同的元素並輸出結果\n",
    "print(S1.isdisjoint(S3))"
   ]
  },
  {
   "cell_type": "code",
   "execution_count": 168,
   "metadata": {},
   "outputs": [
    {
     "data": {
      "text/plain": [
       "{'ID', 'N1', 'name', '小美'}"
      ]
     },
     "execution_count": 168,
     "metadata": {},
     "output_type": "execute_result"
    }
   ],
   "source": [
    "{\"ID\", \"N1\", \"name\", \"小美\"}  # 建立一個字典，包含兩個鍵值對:\"ID\", \"N1\", \"name\"和對應的值"
   ]
  },
  {
   "cell_type": "code",
   "execution_count": 169,
   "metadata": {},
   "outputs": [
    {
     "data": {
      "text/plain": [
       "{'ID', 'N1', 'name', '小美'}"
      ]
     },
     "execution_count": 169,
     "metadata": {},
     "output_type": "execute_result"
    }
   ],
   "source": [
    "{\"name\", \"小美\", \"ID\", \"N1\"}  # 鍵:值對相同但順序不同，仍是相同字典"
   ]
  },
  {
   "cell_type": "code",
   "execution_count": 170,
   "metadata": {},
   "outputs": [
    {
     "data": {
      "text/plain": [
       "{'one': 1, 'two': 2, 'three': 3}"
      ]
     },
     "execution_count": 170,
     "metadata": {},
     "output_type": "execute_result"
    }
   ],
   "source": [
    "# 建立一個字典A，包含三個鍵值對:\"one\", \"two\", \"three\"和對應的值\n",
    "A = {\"one\": 1, \"two\": 2, \"three\": 3}\n",
    "\n",
    "# 建立一個字典B，使用dict()建立，鍵值對順序不同，但內容相同\n",
    "B = dict({\"three\": 3, \"one\": 1, \"two\": 2})\n",
    "\n",
    "# 建立一個字典C，使用關鍵字參數來建立，包含三個鍵值對:\"one\", \"two\", \"three\"和對應的值\n",
    "C = dict(one = 1, two = 2, three = 3)\n",
    "\n",
    "# 建立一個字典D，使用列表傳遞鍵值對來建立，包含三個鍵值對:\"two\", \"one\", \"three\"\n",
    "D = dict([(\"two\", 2), (\"one\", 1), (\"three\", 3)])\n",
    "\n",
    "# 輸出A字典的內容\n",
    "A"
   ]
  },
  {
   "cell_type": "code",
   "execution_count": 171,
   "metadata": {},
   "outputs": [
    {
     "data": {
      "text/plain": [
       "{}"
      ]
     },
     "execution_count": 171,
     "metadata": {},
     "output_type": "execute_result"
    }
   ],
   "source": [
    "# 建立一個空字典E\n",
    "E = {}\n",
    "\n",
    "# 輸出E字典的內容\n",
    "E"
   ]
  },
  {
   "cell_type": "code",
   "execution_count": 172,
   "metadata": {},
   "outputs": [
    {
     "data": {
      "text/plain": [
       "1"
      ]
     },
     "execution_count": 172,
     "metadata": {},
     "output_type": "execute_result"
    }
   ],
   "source": [
    "# 建立一個字典A，包含三個鍵值對:\"one\", \"two\", \"three\"和對應的值\n",
    "A = {\"one\": 1, \"two\": 2, \"three\": 3}\n",
    "\n",
    "# 從字典A中取出鍵\"one\"對應的值，並將其值給變數x\n",
    "x = A[\"one\"]\n",
    "\n",
    "# 輸出變數x的值\n",
    "x"
   ]
  },
  {
   "cell_type": "code",
   "execution_count": 173,
   "metadata": {},
   "outputs": [
    {
     "data": {
      "text/plain": [
       "{'one': 1, 'two': 2, 'three': 3, 'four': 4}"
      ]
     },
     "execution_count": 173,
     "metadata": {},
     "output_type": "execute_result"
    }
   ],
   "source": [
    "# 建立一個字典A，包含三個鍵值對:\"one\", \"two\", \"three\"和對應的值\n",
    "A = {\"one\": 1, \"two\": 2, \"three\": 3}\n",
    "\n",
    "# 新增一個鍵值對'four': 4到字典A中\n",
    "A[\"four\"] = 4\n",
    "\n",
    "# 輸出更新後的字典A\n",
    "A"
   ]
  },
  {
   "cell_type": "code",
   "execution_count": 174,
   "metadata": {},
   "outputs": [
    {
     "data": {
      "text/plain": [
       "{'one': 1, 'two': 2, 'three': 3, 'four': '四'}"
      ]
     },
     "execution_count": 174,
     "metadata": {},
     "output_type": "execute_result"
    }
   ],
   "source": [
    "A[\"four\"] = \"四\"  # 將鍵為\"four\"所對應的值變更為\"四\"\n",
    "A                 # 輸出更新後的字典A"
   ]
  },
  {
   "cell_type": "code",
   "execution_count": 175,
   "metadata": {},
   "outputs": [
    {
     "data": {
      "text/plain": [
       "{'one': 1, 'two': 2, 'three': 3}"
      ]
     },
     "execution_count": 175,
     "metadata": {},
     "output_type": "execute_result"
    }
   ],
   "source": [
    "del A[\"four\"]  # 刪除字典A中鍵為\"four\"的鍵值對\n",
    "A              # 輸出刪除後的字典A"
   ]
  },
  {
   "cell_type": "code",
   "execution_count": 176,
   "metadata": {},
   "outputs": [
    {
     "data": {
      "text/plain": [
       "3"
      ]
     },
     "execution_count": 176,
     "metadata": {},
     "output_type": "execute_result"
    }
   ],
   "source": [
    "A = {\"one\": 1, \"two\": 2, \"three\": 3}\n",
    "len(A)  # 傳回字典A的長度(即鍵值對的數量)"
   ]
  },
  {
   "cell_type": "code",
   "execution_count": 177,
   "metadata": {},
   "outputs": [
    {
     "data": {
      "text/plain": [
       "True"
      ]
     },
     "execution_count": 177,
     "metadata": {},
     "output_type": "execute_result"
    }
   ],
   "source": [
    "A = {\"one\": 1, \"two\": 2, \"three\": 3}\n",
    "\"one\" in A  # 檢查鍵\"one\"是否存在於字典A中"
   ]
  },
  {
   "cell_type": "code",
   "execution_count": 178,
   "metadata": {},
   "outputs": [
    {
     "data": {
      "text/plain": [
       "True"
      ]
     },
     "execution_count": 178,
     "metadata": {},
     "output_type": "execute_result"
    }
   ],
   "source": [
    "A = {\"one\": 1, \"two\": 2, \"three\": 3}\n",
    "\"ten\" not in A  # 檢查鍵\"ten\"是否不存在於字典A中"
   ]
  },
  {
   "cell_type": "code",
   "execution_count": 179,
   "metadata": {},
   "outputs": [
    {
     "data": {
      "text/plain": [
       "False"
      ]
     },
     "execution_count": 179,
     "metadata": {},
     "output_type": "execute_result"
    }
   ],
   "source": [
    "# 建立字典D1，包含三個鍵值對\n",
    "D1 = {\"user1\": \"小丸子\", \"user2\": \"小玉\", \"user3\": \"花輪\"}\n",
    "\n",
    "# 建立字典D2，包含四個鍵值對\n",
    "D2 = {\"user4\": \"丸尾\", \"user1\": \"小丸子\", \"user3\": \"花輪\", \"user2\": \"小玉\"}\n",
    "\n",
    "# 建立字典D3，包含與D1相同的鍵值對，但順序不同\n",
    "D3 = {\"user3\": \"花輪\", \"user1\": \"小丸子\", \"user2\": \"小玉\"}\n",
    "\n",
    "# 比較字典D1和D2是否相等，檢查鍵和值是否一致\n",
    "D1 == D2"
   ]
  },
  {
   "cell_type": "code",
   "execution_count": 180,
   "metadata": {},
   "outputs": [
    {
     "data": {
      "text/plain": [
       "True"
      ]
     },
     "execution_count": 180,
     "metadata": {},
     "output_type": "execute_result"
    }
   ],
   "source": [
    "D1 == D3  # 比較字典D1和D3是否相等，檢查鍵和值是否一致"
   ]
  },
  {
   "cell_type": "code",
   "execution_count": 181,
   "metadata": {},
   "outputs": [
    {
     "data": {
      "text/plain": [
       "True"
      ]
     },
     "execution_count": 181,
     "metadata": {},
     "output_type": "execute_result"
    }
   ],
   "source": [
    "D2 != D3  # 比較字典D2和D3是否不相等，檢查鍵和值是否不一致"
   ]
  },
  {
   "cell_type": "code",
   "execution_count": 182,
   "metadata": {},
   "outputs": [
    {
     "data": {
      "text/plain": [
       "False"
      ]
     },
     "execution_count": 182,
     "metadata": {},
     "output_type": "execute_result"
    }
   ],
   "source": [
    "D1 is D3  # 比較D1和D3是否是同一個字典對象"
   ]
  },
  {
   "cell_type": "code",
   "execution_count": 183,
   "metadata": {},
   "outputs": [
    {
     "name": "stdout",
     "output_type": "stream",
     "text": [
      "鍵為 user1 所對應的值為 小丸子\n",
      "鍵為 user2 所對應的值為 小玉\n",
      "鍵為 user3 所對應的值為 花輪\n"
     ]
    }
   ],
   "source": [
    "# 建立字典D1，包含三個鍵值對\n",
    "D1 = {\"user1\": \"小丸子\", \"user2\": \"小玉\", \"user3\": \"花輪\"}\n",
    "\n",
    "# 使用for迴圈逐一印出字典D1中的每一個鍵\n",
    "for key in D1:\n",
    "    # 印出當前鍵和對應的值\n",
    "    print(\"鍵為\", key, \"所對應的值為\", D1[key])"
   ]
  },
  {
   "cell_type": "code",
   "execution_count": 184,
   "metadata": {},
   "outputs": [
    {
     "data": {
      "text/plain": [
       "'小丸子'"
      ]
     },
     "execution_count": 184,
     "metadata": {},
     "output_type": "execute_result"
    }
   ],
   "source": [
    "# 建立字典D1，包含三個鍵值對\n",
    "D1 = {\"user1\": \"小丸子\", \"user2\": \"小玉\", \"user3\": \"花輪\"}\n",
    "\n",
    "# 傳回字典中鍵\"user1\"所對應的值\n",
    "D1.get(\"user1\")"
   ]
  },
  {
   "cell_type": "code",
   "execution_count": 185,
   "metadata": {},
   "outputs": [
    {
     "data": {
      "text/plain": [
       "'小玉'"
      ]
     },
     "execution_count": 185,
     "metadata": {},
     "output_type": "execute_result"
    }
   ],
   "source": [
    "D1.pop(\"user2\")  # 刪除並傳回鍵\"user2\"所對應的值"
   ]
  },
  {
   "cell_type": "code",
   "execution_count": 186,
   "metadata": {},
   "outputs": [
    {
     "data": {
      "text/plain": [
       "{'user1': '小丸子', 'user3': '花輪'}"
      ]
     },
     "execution_count": 186,
     "metadata": {},
     "output_type": "execute_result"
    }
   ],
   "source": [
    "D1  # 顯示刪除後的字典D1"
   ]
  },
  {
   "cell_type": "code",
   "execution_count": 187,
   "metadata": {},
   "outputs": [
    {
     "data": {
      "text/plain": [
       "('user3', '花輪')"
      ]
     },
     "execution_count": 187,
     "metadata": {},
     "output_type": "execute_result"
    }
   ],
   "source": [
    "D1.popitem()  # 隨機刪除並傳回字典D1中的一個鍵值對"
   ]
  },
  {
   "cell_type": "code",
   "execution_count": 188,
   "metadata": {},
   "outputs": [
    {
     "data": {
      "text/plain": [
       "{'user1': '小丸子'}"
      ]
     },
     "execution_count": 188,
     "metadata": {},
     "output_type": "execute_result"
    }
   ],
   "source": [
    "D1  # 顯示刪除後的字典D1"
   ]
  },
  {
   "cell_type": "code",
   "execution_count": 189,
   "metadata": {},
   "outputs": [
    {
     "data": {
      "text/plain": [
       "dict_keys(['user1', 'user2', 'user3'])"
      ]
     },
     "execution_count": 189,
     "metadata": {},
     "output_type": "execute_result"
    }
   ],
   "source": [
    "# 建立字典D1，包含三個鍵值對\n",
    "D1 = {\"user1\": \"小丸子\", \"user2\": \"小玉\", \"user3\": \"花輪\"}\n",
    "\n",
    "# 傳回字典D1中的所有鍵\n",
    "D1.keys()"
   ]
  },
  {
   "cell_type": "code",
   "execution_count": 190,
   "metadata": {},
   "outputs": [
    {
     "data": {
      "text/plain": [
       "('user1', 'user2', 'user3')"
      ]
     },
     "execution_count": 190,
     "metadata": {},
     "output_type": "execute_result"
    }
   ],
   "source": [
    "tuple(D1.keys())  # 傳回字典D1中的所有鍵，並轉換成序對"
   ]
  },
  {
   "cell_type": "code",
   "execution_count": 191,
   "metadata": {},
   "outputs": [
    {
     "data": {
      "text/plain": [
       "dict_values(['小丸子', '小玉', '花輪'])"
      ]
     },
     "execution_count": 191,
     "metadata": {},
     "output_type": "execute_result"
    }
   ],
   "source": [
    "D1.values()  # 傳回字典D1中的所有值"
   ]
  },
  {
   "cell_type": "code",
   "execution_count": 192,
   "metadata": {},
   "outputs": [
    {
     "data": {
      "text/plain": [
       "('小丸子', '小玉', '花輪')"
      ]
     },
     "execution_count": 192,
     "metadata": {},
     "output_type": "execute_result"
    }
   ],
   "source": [
    "tuple(D1.values())  # 傳回字典D1中的所有值，並轉換成序對"
   ]
  },
  {
   "cell_type": "code",
   "execution_count": 193,
   "metadata": {},
   "outputs": [
    {
     "data": {
      "text/plain": [
       "dict_items([('user1', '小丸子'), ('user2', '小玉'), ('user3', '花輪')])"
      ]
     },
     "execution_count": 193,
     "metadata": {},
     "output_type": "execute_result"
    }
   ],
   "source": [
    "D1.items()  # 傳回字典D1中的所有鍵:值對"
   ]
  },
  {
   "cell_type": "code",
   "execution_count": 194,
   "metadata": {},
   "outputs": [
    {
     "data": {
      "text/plain": [
       "(('user1', '小丸子'), ('user2', '小玉'), ('user3', '花輪'))"
      ]
     },
     "execution_count": 194,
     "metadata": {},
     "output_type": "execute_result"
    }
   ],
   "source": [
    "tuple(D1.items())  # 傳回字典D1中的所有鍵:值對，並轉換成序對"
   ]
  },
  {
   "cell_type": "code",
   "execution_count": 195,
   "metadata": {},
   "outputs": [
    {
     "data": {
      "text/plain": [
       "{'user1': '小丸子', 'user2': '小玉', 'user3': '花輪'}"
      ]
     },
     "execution_count": 195,
     "metadata": {},
     "output_type": "execute_result"
    }
   ],
   "source": [
    "# 建立字典D1，包含三個鍵值對\n",
    "D1 = {\"user1\": \"小丸子\", \"user2\": \"小玉\", \"user3\": \"花輪\"}\n",
    "\n",
    "# 複製D1字典的所有鍵值對到D2，這是「淺拷貝」操作\n",
    "D2 = D1.copy()\n",
    "\n",
    "# 顯示D2字典的內容\n",
    "D2"
   ]
  },
  {
   "cell_type": "code",
   "execution_count": 196,
   "metadata": {},
   "outputs": [
    {
     "data": {
      "text/plain": [
       "True"
      ]
     },
     "execution_count": 196,
     "metadata": {},
     "output_type": "execute_result"
    }
   ],
   "source": [
    "D2 == D1  # 比較字典D1和D2是否相等，檢查鍵和值是否一致"
   ]
  },
  {
   "cell_type": "code",
   "execution_count": 197,
   "metadata": {},
   "outputs": [
    {
     "data": {
      "text/plain": [
       "{}"
      ]
     },
     "execution_count": 197,
     "metadata": {},
     "output_type": "execute_result"
    }
   ],
   "source": [
    "D2.clear()  # 從字典D2中刪除所有鍵值對\n",
    "D2          # 顯示刪除後的字典D2，應該是空字典{}"
   ]
  },
  {
   "cell_type": "code",
   "execution_count": 198,
   "metadata": {},
   "outputs": [
    {
     "data": {
      "text/plain": [
       "{'user1': '丸尾', 'user2': '小玉', 'user3': '花輪', 'user4': '永澤'}"
      ]
     },
     "execution_count": 198,
     "metadata": {},
     "output_type": "execute_result"
    }
   ],
   "source": [
    "# 建立字典D1，包含三個鍵值對\n",
    "D1 = {\"user1\": \"小丸子\", \"user2\": \"小玉\", \"user3\": \"花輪\"}\n",
    "\n",
    "# 建立字典D2，包含三個鍵值對\n",
    "D2 = {\"user1\": \"丸尾\", \"user2\": \"小玉\", \"user4\": \"永澤\"}\n",
    "\n",
    "# 使用字典D2中的鍵值對來更新字典D1，若D1中已有相同鍵，則更新其對應的值；若D1中沒有該鍵，則將其新增\n",
    "D1.update(D2)\n",
    "\n",
    "# 顯示更新後的字典D1\n",
    "D1"
   ]
  },
  {
   "cell_type": "code",
   "execution_count": 199,
   "metadata": {},
   "outputs": [
    {
     "name": "stdout",
     "output_type": "stream",
     "text": [
      "{'i': 4, 'have': 4, 'a': 2, 'pen': 8, 'an': 1, 'apple': 4, 'pineapple': 4}\n"
     ]
    }
   ],
   "source": [
    "# 這個函式用來將字串中的特殊字元取代成空白\n",
    "def replaceSymbols(string):\n",
    "    # 使用for迴圈逐一檢查字串中的每個字元\n",
    "    for char in string:\n",
    "        # 如果字元是特殊符號，則將其替換為空白\n",
    "        if char in \"~!@#$%^&()[]{},+-*|/?<>'.;:\\\"\":\n",
    "            # 使用replace()方法替換特殊符號為空白\n",
    "            string = string.replace(char, ' ')\n",
    "    return string\n",
    "\n",
    "# 這個函式用來計算字串中每個單字的出現次數\n",
    "def counts(string):\n",
    "    # 使用split()方法將字串根據空白字符(空格、換行符、Tab鍵等)分隔成單字列表\n",
    "    wordlist = string.split()\n",
    "    # 使用for迴圈計算串列中每個單字的出現次數\n",
    "    for word in wordlist:\n",
    "        # 如果單字已經在result字典中，則將其出現次數加1\n",
    "        if word in result:\n",
    "            result[word] = result[word] + 1\n",
    "        else:\n",
    "            # 如果是第一次出現，則將其出現次數設為1\n",
    "            result[word] = 1\n",
    "\n",
    "# 顯示歌詞內容\n",
    "song = \"I have a pen. I have an apple, Apple pen. I have a pen. I have pineapple. \\\n",
    "    pineapple pen, Apple pen, Pineapple pen, Pen pineapple, apple pen.\"\n",
    "\n",
    "# 這個空字典用來儲存每個單字的出現次數\n",
    "result = {}\n",
    "\n",
    "# 將歌詞轉換成小寫，並將所有特殊字元替換成空白\n",
    "tmp = replaceSymbols(song.lower())\n",
    "\n",
    "# 呼叫counts()函式計算每個單字的出現次數\n",
    "counts(tmp)\n",
    "\n",
    "# 輸出計算結果，即每個單字的出現次數\n",
    "print(result)"
   ]
  },
  {
   "cell_type": "code",
   "execution_count": 200,
   "metadata": {},
   "outputs": [
    {
     "name": "stdout",
     "output_type": "stream",
     "text": [
      "水果字典中的水果名稱: ('蘋果', '鳳梨', '水蜜桃', '香蕉', '西瓜', '葡萄', '橘子', '番茄', '奇異果')\n",
      "請輸入要查詢英文的水果名稱(中文): 鳳梨\n",
      "pineapple\n"
     ]
    }
   ],
   "source": [
    "# 建立一個字典，包含中文水果名稱和對應的英文名稱\n",
    "fruits = {\"蘋果\": \"apple\", \"鳳梨\": \"pineapple\", \"水蜜桃\": \"peach\",           \n",
    "    \"香蕉\": \"banana\", \"西瓜\": \"watermelon\", \"葡萄\": \"grape\",  \n",
    "    \"橘子\": \"orange\", \"番茄\": \"tomato\", \"奇異果\": \"kiwifruit\"}\n",
    "\n",
    "# 顯示字典中的所有水果名稱(中文)，並將其轉換為序對形式\n",
    "print(\"水果字典中的水果名稱:\", tuple(fruits.keys()))\n",
    "\n",
    "# 使用者輸入要查詢英文的水果名稱(中文)\n",
    "Q = input(\"請輸入要查詢英文的水果名稱(中文)：\")\n",
    "\n",
    "# 顯示使用者輸入的要查詢英文的水果名稱(中文)\n",
    "print(\"請輸入要查詢英文的水果名稱(中文):\", Q)\n",
    "\n",
    "# 使用get()方法查詢字典中是否存在該水果名稱，若找不到則傳回預設訊息\n",
    "print(fruits.get(Q, \"水果字典中沒有這種水果\"))"
   ]
  },
  {
   "cell_type": "code",
   "execution_count": 201,
   "metadata": {},
   "outputs": [
    {
     "name": "stdout",
     "output_type": "stream",
     "text": [
      "水果字典中的水果名稱: ('蘋果', '鳳梨', '水蜜桃', '香蕉', '西瓜', '葡萄', '橘子', '番茄', '奇異果')\n",
      "請輸入要查詢英文的水果名稱(中文): 桃子\n",
      "水果字典中沒有這種水果\n"
     ]
    }
   ],
   "source": [
    "# 建立一個字典，包含中文水果名稱和對應的英文名稱\n",
    "fruits = {\"蘋果\": \"apple\", \"鳳梨\": \"pineapple\", \"水蜜桃\": \"peach\",           \n",
    "    \"香蕉\": \"banana\", \"西瓜\": \"watermelon\", \"葡萄\": \"grape\",  \n",
    "    \"橘子\": \"orange\", \"番茄\": \"tomato\", \"奇異果\": \"kiwifruit\"}\n",
    "\n",
    "# 顯示字典中的所有水果名稱(中文)，並將其轉換為序對形式\n",
    "print(\"水果字典中的水果名稱:\", tuple(fruits.keys()))\n",
    "\n",
    "# 使用者輸入要查詢英文的水果名稱(中文)\n",
    "Q = input(\"請輸入要查詢英文的水果名稱(中文)：\")\n",
    "\n",
    "# 顯示使用者輸入的要查詢英文的水果名稱(中文)\n",
    "print(\"請輸入要查詢英文的水果名稱(中文):\", Q)\n",
    "\n",
    "# 使用get()方法查詢字典中是否存在該水果名稱，若找不到則傳回預設訊息\n",
    "print(fruits.get(Q, \"水果字典中沒有這種水果\"))"
   ]
  },
  {
   "cell_type": "code",
   "execution_count": 202,
   "metadata": {},
   "outputs": [
    {
     "name": "stdout",
     "output_type": "stream",
     "text": [
      "{'name': '張美美', '國文': 90, '英文': 80, '數學': 100}\n"
     ]
    }
   ],
   "source": [
    "# 建立一個students學生字典，包含學號(ID)和姓名\n",
    "student1 = {\"ID\": \"01\", \"name\": \"王小明\"}\n",
    "\n",
    "# 修改字典中學生的姓名，將\"王小明\"改為\"張美美\"\n",
    "student1[\"name\"] = \"張美美\"\n",
    "\n",
    "# 新增學生的科目成績\n",
    "student1[\"國文\"] = 90   # 設定國文成績為90\n",
    "student1[\"英文\"] = 80   # 設定英文成績為80\n",
    "student1[\"數學\"] = 100  # 設定數學成績為100\n",
    "\n",
    "# 刪除學生字典中的學號(ID)項目\n",
    "del student1[\"ID\"]\n",
    "\n",
    "# 顯示字典student1的內容\n",
    "print(student1)"
   ]
  },
  {
   "cell_type": "code",
   "execution_count": 203,
   "metadata": {},
   "outputs": [
    {
     "name": "stdout",
     "output_type": "stream",
     "text": [
      "[5, 10, 15, 20, 5, 10, 15, 20]\n"
     ]
    }
   ],
   "source": [
    "list1 = [5, 10, 15, 20]  # 建立一個包含5, 10, 15, 20的串列list1\n",
    "list1 = list1 * 2        # 將串列list1的值重複2次\n",
    "print(list1)             # 輸出更新後的串列list1"
   ]
  },
  {
   "cell_type": "code",
   "execution_count": 204,
   "metadata": {},
   "outputs": [
    {
     "data": {
      "text/plain": [
       "False"
      ]
     },
     "execution_count": 204,
     "metadata": {},
     "output_type": "execute_result"
    }
   ],
   "source": [
    "100 in list1  # 檢查數字100是否存在於串列list1中"
   ]
  },
  {
   "cell_type": "code",
   "execution_count": 205,
   "metadata": {},
   "outputs": [
    {
     "data": {
      "text/plain": [
       "2"
      ]
     },
     "execution_count": 205,
     "metadata": {},
     "output_type": "execute_result"
    }
   ],
   "source": [
    "list1.index(15)  # 傳回元素15在串列list1中的索引位置"
   ]
  },
  {
   "cell_type": "code",
   "execution_count": 206,
   "metadata": {},
   "outputs": [
    {
     "name": "stdout",
     "output_type": "stream",
     "text": [
      "[25, 100, 225, 400]\n"
     ]
    }
   ],
   "source": [
    "list1 = [5, 10, 15, 20]          # 建立一個包含5, 10, 15, 20的串列list1\n",
    "list1 = [i ** 2 for i in list1]  # 使用串列生成式(for敘述)，將list1中的元素平方，建立新串列\n",
    "print(list1)                     # 輸出更新後的串列list1"
   ]
  },
  {
   "cell_type": "code",
   "execution_count": 207,
   "metadata": {},
   "outputs": [
    {
     "name": "stdout",
     "output_type": "stream",
     "text": [
      "[25, 50, 75]\n"
     ]
    }
   ],
   "source": [
    "list1 = [5, 10, 15, 20]                   # 建立一個包含5, 10, 15, 20的串列list1\n",
    "list1 = [i * 5 for i in list1 if i < 20]  # 使用串列生成式(for敘述)，將list1中的元素乘以5，且篩選出小於20的數字\n",
    "print(list1)                              # 輸出更新後的串列list1"
   ]
  },
  {
   "cell_type": "code",
   "execution_count": 208,
   "metadata": {},
   "outputs": [
    {
     "data": {
      "text/plain": [
       "[75, 50, 25]"
      ]
     },
     "execution_count": 208,
     "metadata": {},
     "output_type": "execute_result"
    }
   ],
   "source": [
    "list1.reverse()  # 反轉串列list1中的元素順序\n",
    "list1            # 輸出反轉後的list1"
   ]
  },
  {
   "cell_type": "code",
   "execution_count": 209,
   "metadata": {},
   "outputs": [
    {
     "name": "stdout",
     "output_type": "stream",
     "text": [
      "找到值等於22的資料，其索引為3\n"
     ]
    }
   ],
   "source": [
    "# 定義一個函式來執行循序搜尋\n",
    "def linear_search(lst, target):\n",
    "    # 逐一檢查串列中的每一個元素\n",
    "    for index, value in enumerate(lst):\n",
    "        # 如果當前元素等於目標，回傳該元素的索引位置\n",
    "        if value == target:\n",
    "            return index\n",
    "    # 如果搜尋整個串列都沒找到目標，則回傳-1，表示目標不在串列中\n",
    "    return -1\n",
    "\n",
    "# 定義一個包含數字[54, 2, 40, 22, 17, 22, 60, 35]的串列numbers\n",
    "numbers = [54, 2, 40, 22, 17, 22, 60, 35]\n",
    "\n",
    "# 呼叫linear_search函式，尋找數字22在串列numbers中的位置\n",
    "result = linear_search(numbers, 22)\n",
    "\n",
    "# 用if敘述檢查是否有找到數字22\n",
    "if result != -1:\n",
    "    # 如果找到22，顯示數字22的位置(索引)\n",
    "    print(f\"找到值等於22的資料，其索引為{result}\")\n",
    "else:\n",
    "    # 如果找不到22，顯示提示訊息\n",
    "    print(\"找不到值等於22的資料\")"
   ]
  },
  {
   "cell_type": "code",
   "execution_count": 210,
   "metadata": {},
   "outputs": [
    {
     "name": "stdout",
     "output_type": "stream",
     "text": [
      "您的矩陣內容為：\n",
      "[1, 2, 3]\n",
      "[4, 5, 6]\n",
      "[7, 8, 9]\n",
      "[10, 11, 12]\n",
      "\n",
      "矩陣中所有元素的總和等於 78\n"
     ]
    }
   ],
   "source": [
    "# 刪除變數sum\n",
    "del sum\n",
    "\n",
    "# 定義一個4x3矩陣matrix，包含元素1到12\n",
    "matrix = [[1, 2, 3],\n",
    "          [4, 5, 6],\n",
    "          [7, 8, 9],\n",
    "          [10, 11, 12]]\n",
    "\n",
    "# 顯示矩陣內容(逐列印出)\n",
    "print(\"您的矩陣內容為：\")\n",
    "for row in matrix:\n",
    "    print(row)\n",
    "\n",
    "# 計算矩陣所有元素的總和\n",
    "total_sum = sum(sum(row) for row in matrix)\n",
    "\n",
    "# 輸出所有矩陣元素的總和\n",
    "print(\"\\n矩陣中所有元素的總和等於\", total_sum)"
   ]
  },
  {
   "cell_type": "code",
   "execution_count": 211,
   "metadata": {},
   "outputs": [
    {
     "data": {
      "text/plain": [
       "5"
      ]
     },
     "execution_count": 211,
     "metadata": {},
     "output_type": "execute_result"
    }
   ],
   "source": [
    "S1 = {1, 8, 9, 7, 6}  # 建立一個包含1, 8, 9, 7, 6的集合S1\n",
    "S2 = {2, 5, 6, 8, 9}  # 建立一個包含2, 5, 6, 8, 9的集合S2\n",
    "\n",
    "len(S1)  # 傳回集合S1的長度(元素個數)"
   ]
  },
  {
   "cell_type": "code",
   "execution_count": 212,
   "metadata": {},
   "outputs": [
    {
     "data": {
      "text/plain": [
       "False"
      ]
     },
     "execution_count": 212,
     "metadata": {},
     "output_type": "execute_result"
    }
   ],
   "source": [
    "S1.issubset(S2)  # 檢查集合S1是否為S2的子集合(即S1中的所有元素是否都在S2中)"
   ]
  },
  {
   "cell_type": "code",
   "execution_count": 213,
   "metadata": {},
   "outputs": [
    {
     "data": {
      "text/plain": [
       "{1, 2, 5, 6, 7, 8, 9}"
      ]
     },
     "execution_count": 213,
     "metadata": {},
     "output_type": "execute_result"
    }
   ],
   "source": [
    "# 計算S1和S2的聯集(第一種寫法：使用 | 運算子計算S1和S2的聯集)\n",
    "S1 | S2  # 回傳{1, 2, 5, 6, 7, 8, 9}，包含所有不重複的元素"
   ]
  },
  {
   "cell_type": "code",
   "execution_count": 214,
   "metadata": {},
   "outputs": [
    {
     "data": {
      "text/plain": [
       "{1, 2, 5, 6, 7, 8, 9}"
      ]
     },
     "execution_count": 214,
     "metadata": {},
     "output_type": "execute_result"
    }
   ],
   "source": [
    "# 計算S1和S2的聯集(第二種寫法：使用union()方法計算S1和S2的聯集)\n",
    "S1.union(S2)  # 回傳{1, 2, 5, 6, 7, 8, 9}，包含所有不重複的元素"
   ]
  },
  {
   "cell_type": "code",
   "execution_count": 215,
   "metadata": {},
   "outputs": [
    {
     "data": {
      "text/plain": [
       "{6, 8, 9}"
      ]
     },
     "execution_count": 215,
     "metadata": {},
     "output_type": "execute_result"
    }
   ],
   "source": [
    "# 計算S1和S2的交集(第一種寫法：使用 & 運算子計算S1和S2的交集)\n",
    "S1 & S2  # 回傳{6, 8, 9}，包含同時存在於S1與S2的元素"
   ]
  },
  {
   "cell_type": "code",
   "execution_count": 216,
   "metadata": {},
   "outputs": [
    {
     "data": {
      "text/plain": [
       "{6, 8, 9}"
      ]
     },
     "execution_count": 216,
     "metadata": {},
     "output_type": "execute_result"
    }
   ],
   "source": [
    "# 計算S1和S2的交集(第二種寫法：使用intersection()方法計算S1和S2的交集)\n",
    "S1.intersection(S2)  # 回傳{6, 8, 9}，包含同時存在於S1與S2的元素"
   ]
  },
  {
   "cell_type": "code",
   "execution_count": 217,
   "metadata": {},
   "outputs": [
    {
     "data": {
      "text/plain": [
       "{1, 7}"
      ]
     },
     "execution_count": 217,
     "metadata": {},
     "output_type": "execute_result"
    }
   ],
   "source": [
    "# 計算S1和S2的差集(第一種寫法：使用 - 運算子計算S1和S2的差集)\n",
    "S1 - S2  # 回傳{1, 7}，包含在S1中但不在S2中的元素"
   ]
  },
  {
   "cell_type": "code",
   "execution_count": 218,
   "metadata": {},
   "outputs": [
    {
     "data": {
      "text/plain": [
       "{1, 7}"
      ]
     },
     "execution_count": 218,
     "metadata": {},
     "output_type": "execute_result"
    }
   ],
   "source": [
    "# 計算S1和S2的差集(第二種寫法：使用difference()方法計算S1和S2的差集)\n",
    "S1.difference(S2)  # 回傳{1, 7}，包含在S1中但不在S2中的元素"
   ]
  },
  {
   "cell_type": "code",
   "execution_count": 219,
   "metadata": {},
   "outputs": [
    {
     "data": {
      "text/plain": [
       "31"
      ]
     },
     "execution_count": 219,
     "metadata": {},
     "output_type": "execute_result"
    }
   ],
   "source": [
    "sum(S1)  # 回傳集合S1中所有元素的總和"
   ]
  },
  {
   "cell_type": "code",
   "execution_count": 220,
   "metadata": {},
   "outputs": [
    {
     "name": "stdout",
     "output_type": "stream",
     "text": [
      "您輸入的英文單字是 firefighter\n",
      "反轉後的英文單字字串是\n",
      "r\n",
      "e\n",
      "t\n",
      "h\n",
      "g\n",
      "i\n",
      "f\n",
      "e\n",
      "r\n",
      "i\n",
      "f\n"
     ]
    }
   ],
   "source": [
    "# 使用者輸入一個英文單字\n",
    "word = input(\"請輸入一個英文單字：\")\n",
    "\n",
    "# 輸出使用者輸入的英文單字\n",
    "print(\"您輸入的英文單字是\", word)\n",
    "\n",
    "# 將使用者輸入的英文單字反轉\n",
    "reversed_word = word[::-1]\n",
    "\n",
    "# 將反轉字串的每個字母分別換行印出\n",
    "print(\"反轉後的英文單字字串是\")\n",
    "for char in reversed_word:\n",
    "    print(char)"
   ]
  }
 ],
 "metadata": {
  "kernelspec": {
   "display_name": "base",
   "language": "python",
   "name": "python3"
  },
  "language_info": {
   "codemirror_mode": {
    "name": "ipython",
    "version": 3
   },
   "file_extension": ".py",
   "mimetype": "text/x-python",
   "name": "python",
   "nbconvert_exporter": "python",
   "pygments_lexer": "ipython3",
   "version": "3.12.7"
  }
 },
 "nbformat": 4,
 "nbformat_minor": 2
}
